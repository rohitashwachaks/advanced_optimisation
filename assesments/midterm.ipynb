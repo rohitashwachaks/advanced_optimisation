{
 "cells": [
  {
   "cell_type": "code",
   "execution_count": 1,
   "metadata": {},
   "outputs": [],
   "source": [
    "import gurobi as gb"
   ]
  },
  {
   "cell_type": "code",
   "execution_count": 2,
   "metadata": {},
   "outputs": [],
   "source": [
    "import numpy as np\n",
    "import gurobi as gb\n",
    "import matplotlib.pyplot as plt\n",
    "import pandas as pd\n",
    "import seaborn as sns\n",
    "from tqdm import tqdm\n",
    "from numpy.random import normal, randint\n",
    "# import tensorflow as tf\n",
    "\n",
    "\n",
    "GUROBI_TIMEOUT = 5 # in second\n",
    "\n",
    "%matplotlib inline\n"
   ]
  },
  {
   "cell_type": "markdown",
   "metadata": {},
   "source": [
    "# Helper Function"
   ]
  },
  {
   "cell_type": "code",
   "execution_count": 3,
   "metadata": {},
   "outputs": [],
   "source": [
    "# Helper Functions to solve Gurobi Models\n",
    "\n",
    "class Gurobi_Model():\n",
    "    '''\n",
    "        Class Method I made to help me encapsulate the whole Gurobi model creation, \n",
    "        Finding Slack Variable and perform sensitivity analysis\n",
    "    '''\n",
    "    \n",
    "    def __init__(self, obj_linear, cons, sense, b, variable_types = 'C',\n",
    "                lower_bound = None, upper_bound = None,\n",
    "                optimisation_type = gb.GRB.MAXIMIZE, obj_quadratic = None) -> None:\n",
    "        '''\n",
    "            Initialising the Model\n",
    "        '''\n",
    "        if (obj_quadratic is None) and (obj_linear is None):\n",
    "            raise Exception(\"No objective defined\")\n",
    "\n",
    "        constraints, variables = cons.shape\n",
    "\n",
    "        ## Optimisation Model at work (Maximise)\n",
    "        try:\n",
    "            self.model = gb.Model()\n",
    "            self.model_X = self.model.addMVar(variables,\n",
    "                                        vtype=variable_types,\n",
    "                                        lb= lower_bound, ub= upper_bound)\n",
    "\n",
    "            self.model_constraints = self.model.addMConstr(cons, self.model_X, sense, b)\n",
    "            self.model.setMObjective(obj_quadratic, obj_linear, 0, sense=optimisation_type)\n",
    "            self.model.Params.OutputFlag = 0\n",
    "            self.model.Params.TimeLimit = GUROBI_TIMEOUT\n",
    "\n",
    "            self.model.optimize()\n",
    "\n",
    "        except Exception:\n",
    "            print(\"Error in optimising\")\n",
    "            raise Exception\n",
    "        \n",
    "        ## Assigning stuff for other use cases\n",
    "        try:\n",
    "            self.obj_q = obj_quadratic\n",
    "            self.obj = obj_linear\n",
    "            self.constraint = cons\n",
    "            self.sense = sense\n",
    "            self.b = b\n",
    "        except Exception:\n",
    "            print(\"Error in Storing equations\")\n",
    "            raise Exception\n",
    "        return\n",
    "\n",
    "    @property\n",
    "    def optimal_obj(self): return self.model.objVal\n",
    "\n",
    "    @property\n",
    "    def optimal_x(self): return self.model_X.x\n",
    "\n",
    "    @property\n",
    "    def output(self):\n",
    "        return {'objVal': self.optimal_obj,\n",
    "                'x': self.optimal_x}"
   ]
  },
  {
   "cell_type": "markdown",
   "metadata": {},
   "source": [
    "# Q1 Neural Nets"
   ]
  },
  {
   "cell_type": "code",
   "execution_count": null,
   "metadata": {},
   "outputs": [],
   "source": [
    "# problem 1\n",
    "\n",
    "(x_train, y_train),(x_test, y_test) = tf.keras.datasets.cifar10.load_data()\n",
    "x_train, x_test = x_train / 255.0, x_test / 255.0 #normalize the data, 8bit pixel representation to currently between 0 to 255\n",
    "\n",
    "ndata_train = x_train.shape[0]\n",
    "ndata_test = x_test.shape[0]\n",
    "\n",
    "print(x_train.shape, x_test.shape, y_test.shape, y_train.shape, ndata_train, ndata_test) \n",
    "\n",
    "xshape = x_train.shape[1:4]\n",
    "xshape"
   ]
  },
  {
   "cell_type": "code",
   "execution_count": null,
   "metadata": {},
   "outputs": [],
   "source": [
    "NNmodel = tf.keras.models.Sequential([\n",
    "        tf.keras.layers.Conv2D(filters=5,kernel_size=(5,5), activation= 'relu',input_shape=xshape),\n",
    "        tf.keras.layers.MaxPooling2D(pool_size = (2,2),strides=2),\n",
    "        tf.keras.layers.Conv2D(filters=10,kernel_size=(6,6),activation=tf.nn.relu),\n",
    "        tf.keras.layers.MaxPooling2D(pool_size = (2,2),strides=2),\n",
    "        tf.keras.layers.Flatten(),\n",
    "        tf.keras.layers.Dense(128,activation=tf.nn.relu, kernel_regularizer = tf.keras.regularizers.l1(0.005)),\n",
    "        tf.keras.layers.Dense(32,activation=tf.nn.relu),\n",
    "        tf.keras.layers.Dropout(0.15),\n",
    "        tf.keras.layers.Dense(10,activation=tf.nn.softmax)\n",
    "        ])"
   ]
  },
  {
   "cell_type": "code",
   "execution_count": null,
   "metadata": {},
   "outputs": [],
   "source": [
    "NNmodel.compile(optimizer='adam',\n",
    "              loss='sparse_categorical_crossentropy',\n",
    "              metrics=['accuracy'])\n",
    "\n",
    "NNmodel.summary()"
   ]
  },
  {
   "cell_type": "code",
   "execution_count": null,
   "metadata": {},
   "outputs": [],
   "source": [
    "NNmodel.fit(x_train,y_train,epochs=5,validation_split=0.4,batch_size=200)"
   ]
  },
  {
   "cell_type": "code",
   "execution_count": null,
   "metadata": {},
   "outputs": [],
   "source": [
    "pred_probs = NNmodel.predict(x_test)\n",
    "pred = np.argmax(pred_probs, axis=1)\n",
    "print(np.mean(pred==y_test))"
   ]
  },
  {
   "cell_type": "markdown",
   "metadata": {},
   "source": [
    "## Answers\n",
    "\n",
    "- a) Number of nodes in the preceeding layer: 160\n",
    "- b) Total number of trainable parameters: 27256\n",
    "- c) Number of Gradient descent calculations: (Number of batches per epoc * Number of epocs) 1250\n",
    "- d) Test Set Accuracy: 0.1"
   ]
  },
  {
   "cell_type": "markdown",
   "metadata": {},
   "source": [
    "# Q2 Newsvendor Problem"
   ]
  },
  {
   "cell_type": "markdown",
   "metadata": {},
   "source": [
    "$$\\max_{q} \\text{ Profit}_i = \\frac{1}{N}\\sum_{i=1}^{N} {(pD_i - qc - g(D_i - q)^+ - t(q - D_i)^+)}$$\n",
    "\n",
    "where:\n",
    "- $(x)^+ = \\max (x,0)$\n",
    "- $D_i$ is the demand on Day _i_\n",
    "- $q$ is the **Quantity** produced initially\n",
    "- $p$ is the **Price** (Sale Price)\n",
    "- $c$ is the **Cost** of production (Cost Price)\n",
    "- $g$ is the **Expedited Cost** of production\n",
    "- $t$ is the **Disposal** Cost\n",
    "\n",
    "Thus the NLP can be reformulated as an LP in the following way:\n",
    "\n",
    "$$\\max_{q,h_1, h_2, ..., h_N} \\text{ Profit}_i = \\frac{1}{N}\\sum_{i=1}^{N} {h_i}$$\n",
    "subject to:\n",
    "$$\n",
    "h < {(pD_i - cq - g(D_i - q))} \\\\\n",
    "h < {(pD_i - cq - t(q - D_i))} \\\\\n",
    "h > -\\infty \\\\\n",
    "q > 0\n",
    "$$\n",
    "\n",
    "upon rewriting, we get:\n",
    "\n",
    "$$\\max_{q,h_1, h_2, ..., h_N} \\text{ Profit}_i = \\frac{1}{N}\\sum_{i=1}^{N} {h_i}$$\n",
    "subject to:\n",
    "$$\n",
    "h + (c-g)q < (p-g)D_i \\\\\n",
    "h + (c+t)q < (p+t)D_i \\\\\n",
    "h > -\\infty \\\\\n",
    "q > 0\n",
    "$$\n",
    "\n",
    "\n",
    "\n",
    "<!--Here Quantity, Cost and sale price are all vectors $\\epsilon\\text{  } \\R^{5x1}$-->"
   ]
  },
  {
   "cell_type": "code",
   "execution_count": 4,
   "metadata": {},
   "outputs": [],
   "source": [
    "cost = 2.0\n",
    "g =  3.0\n",
    "\n",
    "price = 3.75\n",
    "t = 0 #0.15   -No disposal cost"
   ]
  },
  {
   "cell_type": "code",
   "execution_count": 5,
   "metadata": {},
   "outputs": [
    {
     "name": "stdout",
     "output_type": "stream",
     "text": [
      "(100, 2)\n"
     ]
    },
    {
     "data": {
      "text/html": [
       "<div>\n",
       "<style scoped>\n",
       "    .dataframe tbody tr th:only-of-type {\n",
       "        vertical-align: middle;\n",
       "    }\n",
       "\n",
       "    .dataframe tbody tr th {\n",
       "        vertical-align: top;\n",
       "    }\n",
       "\n",
       "    .dataframe thead th {\n",
       "        text-align: right;\n",
       "    }\n",
       "</style>\n",
       "<table border=\"1\" class=\"dataframe\">\n",
       "  <thead>\n",
       "    <tr style=\"text-align: right;\">\n",
       "      <th></th>\n",
       "      <th>data_point</th>\n",
       "      <th>demand</th>\n",
       "    </tr>\n",
       "  </thead>\n",
       "  <tbody>\n",
       "    <tr>\n",
       "      <th>0</th>\n",
       "      <td>1</td>\n",
       "      <td>1209</td>\n",
       "    </tr>\n",
       "    <tr>\n",
       "      <th>1</th>\n",
       "      <td>2</td>\n",
       "      <td>1230</td>\n",
       "    </tr>\n",
       "    <tr>\n",
       "      <th>2</th>\n",
       "      <td>3</td>\n",
       "      <td>1157</td>\n",
       "    </tr>\n",
       "    <tr>\n",
       "      <th>3</th>\n",
       "      <td>4</td>\n",
       "      <td>1177</td>\n",
       "    </tr>\n",
       "    <tr>\n",
       "      <th>4</th>\n",
       "      <td>5</td>\n",
       "      <td>1213</td>\n",
       "    </tr>\n",
       "  </tbody>\n",
       "</table>\n",
       "</div>"
      ],
      "text/plain": [
       "   data_point  demand\n",
       "0           1    1209\n",
       "1           2    1230\n",
       "2           3    1157\n",
       "3           4    1177\n",
       "4           5    1213"
      ]
     },
     "execution_count": 5,
     "metadata": {},
     "output_type": "execute_result"
    }
   ],
   "source": [
    "demand = pd.read_csv('demand130.csv')[['data_point','demand']]\n",
    "\n",
    "num_days = demand.shape[0]\n",
    "print(demand.shape)\n",
    "demand.head()"
   ]
  },
  {
   "cell_type": "code",
   "execution_count": 6,
   "metadata": {},
   "outputs": [],
   "source": [
    "# decision variables are (q, h1, h2, ..., h_num_days)\n",
    "obj = np.zeros(num_days+1)\n",
    "obj[1:] = 1.0/num_days\n",
    "\n",
    "lb = np.zeros(num_days+1)\n",
    "lb[1:] = -np.inf # quantity printed needs to be non-negative, but profit on a given day could possibly be negative\n",
    "\n",
    "rhs = np.zeros(2*num_days)\n",
    "\n",
    "direction = np.array(['<']*(2*num_days))\n",
    "\n",
    "var_type = np.array(['I']+['C']*num_days)"
   ]
  },
  {
   "cell_type": "code",
   "execution_count": 7,
   "metadata": {},
   "outputs": [
    {
     "data": {
      "text/plain": [
       "(200, 101)"
      ]
     },
     "execution_count": 7,
     "metadata": {},
     "output_type": "execute_result"
    }
   ],
   "source": [
    "A = np.zeros((2*num_days,num_days+1))\n",
    "\n",
    "for r in range(num_days):\n",
    "    A[2*r ,[0,r+1]] = [cost - g,1] # location 0 is q, location r+1 is this h\n",
    "    rhs[2*r] = (price - g)*demand.demand.iloc[r]\n",
    "\n",
    "    A[2*r+1 ,[0,r+1]] = [cost + t,1]\n",
    "    rhs[2*r+1] = (price + t)*demand.demand.iloc[r]\n",
    "A.shape"
   ]
  },
  {
   "cell_type": "code",
   "execution_count": 8,
   "metadata": {},
   "outputs": [
    {
     "name": "stdout",
     "output_type": "stream",
     "text": [
      "Set parameter Username\n",
      "Academic license - for non-commercial use only - expires 2022-08-25\n"
     ]
    },
    {
     "data": {
      "text/plain": [
       "{'objVal': 2065.0950000000003,\n",
       " 'x': array([1191.  , 2097.75, 2113.5 , 1956.75, 2031.75, 2100.75, 2103.  ,\n",
       "        2089.5 , 2130.  , 2100.  , 2121.  , 2112.  , 2100.  , 2091.  ,\n",
       "        2093.25, 2100.  , 1934.25, 2090.25, 2151.  , 2100.  , 1998.  ,\n",
       "        2106.75, 2001.75, 2091.75, 2088.75, 2088.  , 2073.  , 1859.25,\n",
       "        2129.25, 2099.25, 2139.  , 2102.25, 2050.5 , 2097.  , 2103.  ,\n",
       "        2112.  , 2112.  , 2104.5 , 2091.  , 2089.5 , 2138.25, 2088.75,\n",
       "        2087.25, 2125.5 , 2092.5 , 1915.5 , 2124.75, 2035.5 , 1915.5 ,\n",
       "        2101.5 , 1964.25, 2114.25, 1926.75, 2103.  , 1975.5 , 2085.  ,\n",
       "        2128.5 , 2043.  , 1941.75, 1844.25, 1998.  , 2098.5 , 2115.  ,\n",
       "        2091.  , 2058.  , 2097.75, 2097.  , 1979.25, 2144.25, 2091.  ,\n",
       "        2061.75, 2100.  , 2145.  , 2087.25, 1990.5 , 2103.75, 2061.75,\n",
       "        2097.75, 2009.25, 2099.25, 2095.5 , 1986.75, 2116.5 , 2094.  ,\n",
       "        2094.  , 2005.5 , 1761.75, 2121.  , 2013.  , 2054.25, 2100.  ,\n",
       "        2084.25, 2039.25, 2094.  , 2100.  , 2005.5 , 1964.25, 2020.5 ,\n",
       "        2098.5 , 2089.5 , 2142.  ])}"
      ]
     },
     "execution_count": 8,
     "metadata": {},
     "output_type": "execute_result"
    }
   ],
   "source": [
    "newsvendor_model = Gurobi_Model(obj_linear= obj, \n",
    "                        cons= A, \n",
    "                        sense= direction, \n",
    "                        b= rhs,\n",
    "                        lower_bound= lb,\n",
    "                        variable_types= var_type\n",
    "                    )\n",
    "newsvendor_model.output"
   ]
  },
  {
   "cell_type": "code",
   "execution_count": 9,
   "metadata": {},
   "outputs": [
    {
     "name": "stdout",
     "output_type": "stream",
     "text": [
      "Number of Newspapers to print: 1191.0\n"
     ]
    }
   ],
   "source": [
    "print(f'Number of Newspapers to print: {newsvendor_model.optimal_x[0]}')"
   ]
  },
  {
   "cell_type": "markdown",
   "metadata": {},
   "source": [
    "##  Answers\n",
    "\n",
    "a) total constraints : 200\n",
    "\n",
    "b) decision variables : 101\n",
    "\n",
    "c) Number of decision variables with lower bound of 0 : 1\n",
    "\n",
    "d) Number of Newspapers to print : 1191\n",
    "\n",
    "* Max profit at : $ 2065.095"
   ]
  },
  {
   "cell_type": "markdown",
   "metadata": {},
   "source": [
    "# Q3 - Simulation"
   ]
  },
  {
   "cell_type": "code",
   "execution_count": 10,
   "metadata": {},
   "outputs": [],
   "source": [
    "def concert_admission():\n",
    "    people_in_line = 517\n",
    "    time_left = 3600 # 1 hour left (in seconds)\n",
    "    while (people_in_line > 0):\n",
    "        # check one person\n",
    "        security_time = np.random.choice([6,7,8])\n",
    "        time_left -= security_time\n",
    "        people_in_line -= 1\n",
    "        if time_left <=0:\n",
    "            break\n",
    "    return people_in_line"
   ]
  },
  {
   "cell_type": "code",
   "execution_count": 11,
   "metadata": {},
   "outputs": [
    {
     "name": "stderr",
     "output_type": "stream",
     "text": [
      "100%|██████████| 10000/10000 [00:44<00:00, 224.15it/s]\n"
     ]
    },
    {
     "data": {
      "text/plain": [
       "array([0., 2., 1., ..., 1., 7., 2.])"
      ]
     },
     "execution_count": 11,
     "metadata": {},
     "output_type": "execute_result"
    }
   ],
   "source": [
    "nsim = 10000\n",
    "people_left = np.zeros(nsim)\n",
    "for simulation in tqdm(range(nsim)):\n",
    "    people_left[simulation] = concert_admission()\n",
    "people_left"
   ]
  },
  {
   "cell_type": "code",
   "execution_count": 12,
   "metadata": {},
   "outputs": [
    {
     "name": "stdout",
     "output_type": "stream",
     "text": [
      "P( At least one person is turned away: 0.75\n"
     ]
    }
   ],
   "source": [
    "print(f'P( At least one person is turned away: {np.round(np.mean(people_left > 0), 2)}')"
   ]
  },
  {
   "cell_type": "markdown",
   "metadata": {},
   "source": [
    "## Answers\n",
    "\n",
    "a) choice 3, 4 \n",
    "  - np.random.choice([6,7,8])\n",
    "  - np.random.choice(3) + 6\n",
    "\n",
    "b) 2 - Fewer (because Probability security check takes more time is higher)\n",
    "\n",
    "c) around 0.75\n"
   ]
  }
 ],
 "metadata": {
  "interpreter": {
   "hash": "8bc5f0ab7253157a95fbe4d5d2614bd1d73b94539cbf0ce31d70a0d97640c06a"
  },
  "kernelspec": {
   "display_name": "Python 3.8.12 ('advanced_optimisation')",
   "language": "python",
   "name": "python3"
  },
  "language_info": {
   "codemirror_mode": {
    "name": "ipython",
    "version": 3
   },
   "file_extension": ".py",
   "mimetype": "text/x-python",
   "name": "python",
   "nbconvert_exporter": "python",
   "pygments_lexer": "ipython3",
   "version": "3.8.12"
  },
  "orig_nbformat": 4
 },
 "nbformat": 4,
 "nbformat_minor": 2
}
