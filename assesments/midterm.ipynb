{
 "cells": [
  {
   "cell_type": "code",
   "execution_count": 2,
   "metadata": {},
   "outputs": [],
   "source": [
    "import numpy as np\n",
    "import gurobi \n",
    "# as gb\n",
    "import matplotlib.pyplot as plt\n",
    "import pandas as pd\n",
    "import seaborn as sns\n",
    "from tqdm import tqdm\n",
    "from numpy.random import normal, randint\n",
    "import tensorflow as tf\n",
    "\n",
    "\n",
    "GUROBI_TIMEOUT = 5 # in second\n",
    "\n",
    "%matplotlib inline\n"
   ]
  },
  {
   "cell_type": "markdown",
   "metadata": {},
   "source": [
    "# Helper Function"
   ]
  },
  {
   "cell_type": "code",
   "execution_count": 1,
   "metadata": {},
   "outputs": [
    {
     "ename": "NameError",
     "evalue": "name 'gurobi' is not defined",
     "output_type": "error",
     "traceback": [
      "\u001b[0;31m---------------------------------------------------------------------------\u001b[0m",
      "\u001b[0;31mNameError\u001b[0m                                 Traceback (most recent call last)",
      "\u001b[1;32m/Users/rchaks/Code/GitHub/advanced_optimisation/assesments/midterm.ipynb Cell 1'\u001b[0m in \u001b[0;36m<module>\u001b[0;34m\u001b[0m\n\u001b[1;32m      <a href='vscode-notebook-cell:/Users/rchaks/Code/GitHub/advanced_optimisation/assesments/midterm.ipynb#ch0000000?line=0'>1</a>\u001b[0m \u001b[39m# Helper Functions to solve Gurobi Models\u001b[39;00m\n\u001b[0;32m----> <a href='vscode-notebook-cell:/Users/rchaks/Code/GitHub/advanced_optimisation/assesments/midterm.ipynb#ch0000000?line=2'>3</a>\u001b[0m \u001b[39mclass\u001b[39;00m \u001b[39mGurobi_Model\u001b[39;00m():\n\u001b[1;32m      <a href='vscode-notebook-cell:/Users/rchaks/Code/GitHub/advanced_optimisation/assesments/midterm.ipynb#ch0000000?line=3'>4</a>\u001b[0m     \u001b[39m'''\u001b[39;00m\n\u001b[1;32m      <a href='vscode-notebook-cell:/Users/rchaks/Code/GitHub/advanced_optimisation/assesments/midterm.ipynb#ch0000000?line=4'>5</a>\u001b[0m \u001b[39m        Class Method I made to help me encapsulate the whole Gurobi model creation, \u001b[39;00m\n\u001b[1;32m      <a href='vscode-notebook-cell:/Users/rchaks/Code/GitHub/advanced_optimisation/assesments/midterm.ipynb#ch0000000?line=5'>6</a>\u001b[0m \u001b[39m        Finding Slack Variable and perform sensitivity analysis\u001b[39;00m\n\u001b[1;32m      <a href='vscode-notebook-cell:/Users/rchaks/Code/GitHub/advanced_optimisation/assesments/midterm.ipynb#ch0000000?line=6'>7</a>\u001b[0m \u001b[39m    '''\u001b[39;00m\n\u001b[1;32m      <a href='vscode-notebook-cell:/Users/rchaks/Code/GitHub/advanced_optimisation/assesments/midterm.ipynb#ch0000000?line=8'>9</a>\u001b[0m     \u001b[39mdef\u001b[39;00m \u001b[39m__init__\u001b[39m(\u001b[39mself\u001b[39m, obj_linear, cons, sense, b, variable_types \u001b[39m=\u001b[39m \u001b[39m'\u001b[39m\u001b[39mC\u001b[39m\u001b[39m'\u001b[39m,\n\u001b[1;32m     <a href='vscode-notebook-cell:/Users/rchaks/Code/GitHub/advanced_optimisation/assesments/midterm.ipynb#ch0000000?line=9'>10</a>\u001b[0m                 lower_bound \u001b[39m=\u001b[39m \u001b[39mNone\u001b[39;00m, upper_bound \u001b[39m=\u001b[39m \u001b[39mNone\u001b[39;00m,\n\u001b[1;32m     <a href='vscode-notebook-cell:/Users/rchaks/Code/GitHub/advanced_optimisation/assesments/midterm.ipynb#ch0000000?line=10'>11</a>\u001b[0m                 optimisation_type \u001b[39m=\u001b[39m gurobi\u001b[39m.\u001b[39mGRB\u001b[39m.\u001b[39mMAXIMIZE, obj_quadratic \u001b[39m=\u001b[39m \u001b[39mNone\u001b[39;00m) \u001b[39m-\u001b[39m\u001b[39m>\u001b[39m \u001b[39mNone\u001b[39;00m:\n",
      "\u001b[1;32m/Users/rchaks/Code/GitHub/advanced_optimisation/assesments/midterm.ipynb Cell 1'\u001b[0m in \u001b[0;36mGurobi_Model\u001b[0;34m()\u001b[0m\n\u001b[1;32m      <a href='vscode-notebook-cell:/Users/rchaks/Code/GitHub/advanced_optimisation/assesments/midterm.ipynb#ch0000000?line=2'>3</a>\u001b[0m \u001b[39mclass\u001b[39;00m \u001b[39mGurobi_Model\u001b[39;00m():\n\u001b[1;32m      <a href='vscode-notebook-cell:/Users/rchaks/Code/GitHub/advanced_optimisation/assesments/midterm.ipynb#ch0000000?line=3'>4</a>\u001b[0m     \u001b[39m'''\u001b[39;00m\n\u001b[1;32m      <a href='vscode-notebook-cell:/Users/rchaks/Code/GitHub/advanced_optimisation/assesments/midterm.ipynb#ch0000000?line=4'>5</a>\u001b[0m \u001b[39m        Class Method I made to help me encapsulate the whole Gurobi model creation, \u001b[39;00m\n\u001b[1;32m      <a href='vscode-notebook-cell:/Users/rchaks/Code/GitHub/advanced_optimisation/assesments/midterm.ipynb#ch0000000?line=5'>6</a>\u001b[0m \u001b[39m        Finding Slack Variable and perform sensitivity analysis\u001b[39;00m\n\u001b[1;32m      <a href='vscode-notebook-cell:/Users/rchaks/Code/GitHub/advanced_optimisation/assesments/midterm.ipynb#ch0000000?line=6'>7</a>\u001b[0m \u001b[39m    '''\u001b[39;00m\n\u001b[1;32m      <a href='vscode-notebook-cell:/Users/rchaks/Code/GitHub/advanced_optimisation/assesments/midterm.ipynb#ch0000000?line=8'>9</a>\u001b[0m     \u001b[39mdef\u001b[39;00m \u001b[39m__init__\u001b[39m(\u001b[39mself\u001b[39m, obj_linear, cons, sense, b, variable_types \u001b[39m=\u001b[39m \u001b[39m'\u001b[39m\u001b[39mC\u001b[39m\u001b[39m'\u001b[39m,\n\u001b[1;32m     <a href='vscode-notebook-cell:/Users/rchaks/Code/GitHub/advanced_optimisation/assesments/midterm.ipynb#ch0000000?line=9'>10</a>\u001b[0m                 lower_bound \u001b[39m=\u001b[39m \u001b[39mNone\u001b[39;00m, upper_bound \u001b[39m=\u001b[39m \u001b[39mNone\u001b[39;00m,\n\u001b[0;32m---> <a href='vscode-notebook-cell:/Users/rchaks/Code/GitHub/advanced_optimisation/assesments/midterm.ipynb#ch0000000?line=10'>11</a>\u001b[0m                 optimisation_type \u001b[39m=\u001b[39m gurobi\u001b[39m.\u001b[39mGRB\u001b[39m.\u001b[39mMAXIMIZE, obj_quadratic \u001b[39m=\u001b[39m \u001b[39mNone\u001b[39;00m) \u001b[39m-\u001b[39m\u001b[39m>\u001b[39m \u001b[39mNone\u001b[39;00m:\n\u001b[1;32m     <a href='vscode-notebook-cell:/Users/rchaks/Code/GitHub/advanced_optimisation/assesments/midterm.ipynb#ch0000000?line=11'>12</a>\u001b[0m         \u001b[39m'''\u001b[39;00m\n\u001b[1;32m     <a href='vscode-notebook-cell:/Users/rchaks/Code/GitHub/advanced_optimisation/assesments/midterm.ipynb#ch0000000?line=12'>13</a>\u001b[0m \u001b[39m            Initialising the Model\u001b[39;00m\n\u001b[1;32m     <a href='vscode-notebook-cell:/Users/rchaks/Code/GitHub/advanced_optimisation/assesments/midterm.ipynb#ch0000000?line=13'>14</a>\u001b[0m \u001b[39m        '''\u001b[39;00m\n\u001b[1;32m     <a href='vscode-notebook-cell:/Users/rchaks/Code/GitHub/advanced_optimisation/assesments/midterm.ipynb#ch0000000?line=14'>15</a>\u001b[0m         \u001b[39mif\u001b[39;00m (obj_quadratic \u001b[39mis\u001b[39;00m \u001b[39mNone\u001b[39;00m) \u001b[39mand\u001b[39;00m (obj_linear \u001b[39mis\u001b[39;00m \u001b[39mNone\u001b[39;00m):\n",
      "\u001b[0;31mNameError\u001b[0m: name 'gurobi' is not defined"
     ]
    }
   ],
   "source": [
    "# Helper Functions to solve Gurobi Models\n",
    "\n",
    "class Gurobi_Model():\n",
    "    '''\n",
    "        Class Method I made to help me encapsulate the whole Gurobi model creation, \n",
    "        Finding Slack Variable and perform sensitivity analysis\n",
    "    '''\n",
    "    \n",
    "    def __init__(self, obj_linear, cons, sense, b, variable_types = 'C',\n",
    "                lower_bound = None, upper_bound = None,\n",
    "                optimisation_type = gurobi.GRB.MAXIMIZE, obj_quadratic = None) -> None:\n",
    "        '''\n",
    "            Initialising the Model\n",
    "        '''\n",
    "        if (obj_quadratic is None) and (obj_linear is None):\n",
    "            raise Exception(\"No objective defined\")\n",
    "\n",
    "        constraints, variables = cons.shape\n",
    "\n",
    "        ## Optimisation Model at work (Maximise)\n",
    "        try:\n",
    "            self.model = gb.Model()\n",
    "            self.model_X = self.model.addMVar(variables,\n",
    "                                        vtype=variable_types,\n",
    "                                        lb= lower_bound, ub= upper_bound)\n",
    "\n",
    "            self.model_constraints = self.model.addMConstr(cons, self.model_X, sense, b)\n",
    "            self.model.setMObjective(obj_quadratic, obj_linear, 0, sense=optimisation_type)\n",
    "            self.model.Params.OutputFlag = 0\n",
    "            self.model.Params.TimeLimit = GUROBI_TIMEOUT\n",
    "\n",
    "            self.model.optimize()\n",
    "\n",
    "        except Exception:\n",
    "            print(\"Error in optimising\")\n",
    "            raise Exception\n",
    "        \n",
    "        ## Assigning stuff for other use cases\n",
    "        try:\n",
    "            self.obj_q = obj_quadratic\n",
    "            self.obj = obj_linear\n",
    "            self.constraint = cons\n",
    "            self.sense = sense\n",
    "            self.b = b\n",
    "        except Exception:\n",
    "            print(\"Error in Storing equations\")\n",
    "            raise Exception\n",
    "        return\n",
    "\n",
    "    @property\n",
    "    def optimal_obj(self): return self.model.objVal\n",
    "\n",
    "    @property\n",
    "    def optimal_x(self): return self.model_X.x\n",
    "\n",
    "    @property\n",
    "    def output(self):\n",
    "        return {'objVal': self.optimal_obj,\n",
    "                'x': self.optimal_x}"
   ]
  },
  {
   "cell_type": "markdown",
   "metadata": {},
   "source": [
    "# Q1 Neural Nets"
   ]
  },
  {
   "cell_type": "code",
   "execution_count": null,
   "metadata": {},
   "outputs": [],
   "source": [
    "# problem 1\n",
    "\n",
    "(x_train, y_train),(x_test, y_test) = tf.keras.datasets.cifar10.load_data()\n",
    "x_train, x_test = x_train / 255.0, x_test / 255.0 #normalize the data, 8bit pixel representation to currently between 0 to 255\n",
    "\n",
    "ndata_train = x_train.shape[0]\n",
    "ndata_test = x_test.shape[0]\n",
    "\n",
    "print(x_train.shape, x_test.shape, y_test.shape, y_train.shape, ndata_train, ndata_test) \n",
    "\n",
    "xshape = x_train.shape[1:4]\n",
    "xshape"
   ]
  },
  {
   "cell_type": "code",
   "execution_count": null,
   "metadata": {},
   "outputs": [],
   "source": [
    "NNmodel = tf.keras.models.Sequential([\n",
    "        tf.keras.layers.Conv2D(filters=5,kernel_size=(5,5), activation= 'relu',input_shape=xshape),\n",
    "        tf.keras.layers.MaxPooling2D(pool_size = (2,2),strides=2),\n",
    "        tf.keras.layers.Conv2D(filters=10,kernel_size=(6,6),activation=tf.nn.relu),\n",
    "        tf.keras.layers.MaxPooling2D(pool_size = (2,2),strides=2),\n",
    "        tf.keras.layers.Flatten(),\n",
    "        tf.keras.layers.Dense(128,activation=tf.nn.relu, kernel_regularizer = tf.keras.regularizers.l1(0.005)),\n",
    "        tf.keras.layers.Dense(32,activation=tf.nn.relu),\n",
    "        tf.keras.layers.Dropout(0.15),\n",
    "        tf.keras.layers.Dense(10,activation=tf.nn.softmax)\n",
    "        ])"
   ]
  },
  {
   "cell_type": "code",
   "execution_count": null,
   "metadata": {},
   "outputs": [],
   "source": [
    "NNmodel.compile(optimizer='adam',\n",
    "              loss='sparse_categorical_crossentropy',\n",
    "              metrics=['accuracy'])\n",
    "\n",
    "NNmodel.summary()"
   ]
  },
  {
   "cell_type": "code",
   "execution_count": null,
   "metadata": {},
   "outputs": [],
   "source": [
    "NNmodel.fit(x_train,y_train,epochs=5,validation_split=0.4,batch_size=200)"
   ]
  },
  {
   "cell_type": "code",
   "execution_count": null,
   "metadata": {},
   "outputs": [],
   "source": [
    "pred_probs = NNmodel.predict(x_test)\n",
    "pred = np.argmax(pred_probs, axis=1)\n",
    "print(np.mean(pred==y_test))"
   ]
  },
  {
   "cell_type": "markdown",
   "metadata": {},
   "source": [
    "## Answers\n",
    "\n",
    "- a) Number of nodes in the preceeding layer: 160\n",
    "- b) Total number of trainable parameters: 27256\n",
    "- c) Number of Gradient descent calculations: (Number of batches per epoc * Number of epocs) 1250\n",
    "- d) Test Set Accuracy: 0.1"
   ]
  },
  {
   "cell_type": "markdown",
   "metadata": {},
   "source": [
    "# Q2 Newsvendor Problem"
   ]
  },
  {
   "cell_type": "markdown",
   "metadata": {},
   "source": [
    "$$\\max_{q} \\text{ Profit}_i = \\frac{1}{N}\\sum_{i=1}^{N} {(pD_i - qc - g(D_i - q)^+ - t(q - D_i)^+)}$$\n",
    "\n",
    "where:\n",
    "- $(x)^+ = \\max (x,0)$\n",
    "- $D_i$ is the demand on Day _i_\n",
    "- $q$ is the **Quantity** produced initially\n",
    "- $p$ is the **Price** (Sale Price)\n",
    "- $c$ is the **Cost** of production (Cost Price)\n",
    "- $g$ is the **Expedited Cost** of production\n",
    "- $t$ is the **Disposal** Cost\n",
    "\n",
    "Thus the NLP can be reformulated as an LP in the following way:\n",
    "\n",
    "$$\\max_{q,h_1, h_2, ..., h_N} \\text{ Profit}_i = \\frac{1}{N}\\sum_{i=1}^{N} {h_i}$$\n",
    "subject to:\n",
    "$$\n",
    "h < {(pD_i - cq - g(D_i - q))} \\\\\n",
    "h < {(pD_i - cq - t(q - D_i))} \\\\\n",
    "h > -\\infty \\\\\n",
    "q > 0\n",
    "$$\n",
    "\n",
    "upon rewriting, we get:\n",
    "\n",
    "$$\\max_{q,h_1, h_2, ..., h_N} \\text{ Profit}_i = \\frac{1}{N}\\sum_{i=1}^{N} {h_i}$$\n",
    "subject to:\n",
    "$$\n",
    "h + (c-g)q < (p-g)D_i \\\\\n",
    "h + (c+t)q < (p+t)D_i \\\\\n",
    "h > -\\infty \\\\\n",
    "q > 0\n",
    "$$\n",
    "\n",
    "\n",
    "\n",
    "<!--Here Quantity, Cost and sale price are all vectors $\\epsilon\\text{  } \\R^{5x1}$-->"
   ]
  },
  {
   "cell_type": "code",
   "execution_count": 2,
   "metadata": {},
   "outputs": [],
   "source": [
    "cost = 2.0\n",
    "g =  3.0\n",
    "\n",
    "price = 3.75\n",
    "t = 0 #0.15   -No disposal cost"
   ]
  },
  {
   "cell_type": "code",
   "execution_count": 3,
   "metadata": {},
   "outputs": [
    {
     "ename": "NameError",
     "evalue": "name 'pd' is not defined",
     "output_type": "error",
     "traceback": [
      "\u001b[0;31m---------------------------------------------------------------------------\u001b[0m",
      "\u001b[0;31mNameError\u001b[0m                                 Traceback (most recent call last)",
      "\u001b[1;32m/Users/rchaks/Code/GitHub/advanced_optimisation/assesments/midterm.ipynb Cell 11'\u001b[0m in \u001b[0;36m<module>\u001b[0;34m\u001b[0m\n\u001b[0;32m----> <a href='vscode-notebook-cell:/Users/rchaks/Code/GitHub/advanced_optimisation/assesments/midterm.ipynb#ch0000007?line=0'>1</a>\u001b[0m demand \u001b[39m=\u001b[39m pd\u001b[39m.\u001b[39mread_csv(\u001b[39m'\u001b[39m\u001b[39mdemand130.csv\u001b[39m\u001b[39m'\u001b[39m)[[\u001b[39m'\u001b[39m\u001b[39mdata_point\u001b[39m\u001b[39m'\u001b[39m,\u001b[39m'\u001b[39m\u001b[39mdemand\u001b[39m\u001b[39m'\u001b[39m]]\n\u001b[1;32m      <a href='vscode-notebook-cell:/Users/rchaks/Code/GitHub/advanced_optimisation/assesments/midterm.ipynb#ch0000007?line=2'>3</a>\u001b[0m num_days \u001b[39m=\u001b[39m demand\u001b[39m.\u001b[39mshape[\u001b[39m0\u001b[39m]\n\u001b[1;32m      <a href='vscode-notebook-cell:/Users/rchaks/Code/GitHub/advanced_optimisation/assesments/midterm.ipynb#ch0000007?line=3'>4</a>\u001b[0m \u001b[39mprint\u001b[39m(demand\u001b[39m.\u001b[39mshape)\n",
      "\u001b[0;31mNameError\u001b[0m: name 'pd' is not defined"
     ]
    }
   ],
   "source": [
    "demand = pd.read_csv('demand130.csv')[['data_point','demand']]\n",
    "\n",
    "num_days = demand.shape[0]\n",
    "print(demand.shape)\n",
    "demand.head()"
   ]
  },
  {
   "cell_type": "code",
   "execution_count": 1,
   "metadata": {},
   "outputs": [
    {
     "ename": "NameError",
     "evalue": "name 'np' is not defined",
     "output_type": "error",
     "traceback": [
      "\u001b[0;31m---------------------------------------------------------------------------\u001b[0m",
      "\u001b[0;31mNameError\u001b[0m                                 Traceback (most recent call last)",
      "\u001b[1;32m/Users/rchaks/Code/GitHub/advanced_optimisation/assesments/midterm.ipynb Cell 1'\u001b[0m in \u001b[0;36m<module>\u001b[0;34m\u001b[0m\n\u001b[1;32m      <a href='vscode-notebook-cell:/Users/rchaks/Code/GitHub/advanced_optimisation/assesments/midterm.ipynb#ch0000000?line=0'>1</a>\u001b[0m \u001b[39m# decision variables are (q, h1, h2, ..., h_num_days)\u001b[39;00m\n\u001b[0;32m----> <a href='vscode-notebook-cell:/Users/rchaks/Code/GitHub/advanced_optimisation/assesments/midterm.ipynb#ch0000000?line=1'>2</a>\u001b[0m obj \u001b[39m=\u001b[39m np\u001b[39m.\u001b[39mzeros(num_days\u001b[39m+\u001b[39m\u001b[39m1\u001b[39m)\n\u001b[1;32m      <a href='vscode-notebook-cell:/Users/rchaks/Code/GitHub/advanced_optimisation/assesments/midterm.ipynb#ch0000000?line=2'>3</a>\u001b[0m obj[\u001b[39m1\u001b[39m:] \u001b[39m=\u001b[39m \u001b[39m1.0\u001b[39m\u001b[39m/\u001b[39mnum_days\n\u001b[1;32m      <a href='vscode-notebook-cell:/Users/rchaks/Code/GitHub/advanced_optimisation/assesments/midterm.ipynb#ch0000000?line=4'>5</a>\u001b[0m lb \u001b[39m=\u001b[39m np\u001b[39m.\u001b[39mzeros(num_days\u001b[39m+\u001b[39m\u001b[39m1\u001b[39m)\n",
      "\u001b[0;31mNameError\u001b[0m: name 'np' is not defined"
     ]
    }
   ],
   "source": [
    "# decision variables are (q, h1, h2, ..., h_num_days)\n",
    "obj = np.zeros(num_days+1)\n",
    "obj[1:] = 1.0/num_days\n",
    "\n",
    "lb = np.zeros(num_days+1)\n",
    "lb[1:] = -np.inf # quantity printed needs to be non-negative, but profit on a given day could possibly be negative\n",
    "\n",
    "rhs = np.zeros(2*num_days)\n",
    "\n",
    "direction = np.array(['<']*(2*num_days))\n",
    "\n",
    "var_type = np.array(['I']+['C']*num_days)"
   ]
  },
  {
   "cell_type": "code",
   "execution_count": null,
   "metadata": {},
   "outputs": [
    {
     "data": {
      "text/plain": [
       "(200, 101)"
      ]
     },
     "execution_count": 12,
     "metadata": {},
     "output_type": "execute_result"
    }
   ],
   "source": [
    "A = np.zeros((2*num_days,num_days+1))\n",
    "\n",
    "for r in range(num_days):\n",
    "    A[2*r ,[0,r+1]] = [cost - g,1] # location 0 is q, location r+1 is this h\n",
    "    rhs[2*r] = (price - g)*demand.demand.iloc[r]\n",
    "\n",
    "    A[2*r+1 ,[0,r+1]] = [cost + t,1]\n",
    "    rhs[2*r+1] = (price + t)*demand.demand.iloc[r]\n",
    "A.shape"
   ]
  },
  {
   "cell_type": "code",
   "execution_count": 2,
   "metadata": {},
   "outputs": [
    {
     "ename": "NameError",
     "evalue": "name 'Gurobi_Model' is not defined",
     "output_type": "error",
     "traceback": [
      "\u001b[0;31m---------------------------------------------------------------------------\u001b[0m",
      "\u001b[0;31mNameError\u001b[0m                                 Traceback (most recent call last)",
      "\u001b[1;32m/Users/rchaks/Code/GitHub/advanced_optimisation/assesments/midterm.ipynb Cell 18'\u001b[0m in \u001b[0;36m<module>\u001b[0;34m\u001b[0m\n\u001b[0;32m----> <a href='vscode-notebook-cell:/Users/rchaks/Code/GitHub/advanced_optimisation/assesments/midterm.ipynb#ch0000014?line=0'>1</a>\u001b[0m newsvendor_model \u001b[39m=\u001b[39m Gurobi_Model(obj_linear\u001b[39m=\u001b[39m obj, \n\u001b[1;32m      <a href='vscode-notebook-cell:/Users/rchaks/Code/GitHub/advanced_optimisation/assesments/midterm.ipynb#ch0000014?line=1'>2</a>\u001b[0m                         cons\u001b[39m=\u001b[39m A, \n\u001b[1;32m      <a href='vscode-notebook-cell:/Users/rchaks/Code/GitHub/advanced_optimisation/assesments/midterm.ipynb#ch0000014?line=2'>3</a>\u001b[0m                         sense\u001b[39m=\u001b[39m direction, \n\u001b[1;32m      <a href='vscode-notebook-cell:/Users/rchaks/Code/GitHub/advanced_optimisation/assesments/midterm.ipynb#ch0000014?line=3'>4</a>\u001b[0m                         b\u001b[39m=\u001b[39m rhs,\n\u001b[1;32m      <a href='vscode-notebook-cell:/Users/rchaks/Code/GitHub/advanced_optimisation/assesments/midterm.ipynb#ch0000014?line=4'>5</a>\u001b[0m                         lower_bound\u001b[39m=\u001b[39m lb,\n\u001b[1;32m      <a href='vscode-notebook-cell:/Users/rchaks/Code/GitHub/advanced_optimisation/assesments/midterm.ipynb#ch0000014?line=5'>6</a>\u001b[0m                         variable_types\u001b[39m=\u001b[39m var_type\n\u001b[1;32m      <a href='vscode-notebook-cell:/Users/rchaks/Code/GitHub/advanced_optimisation/assesments/midterm.ipynb#ch0000014?line=6'>7</a>\u001b[0m                     )\n\u001b[1;32m      <a href='vscode-notebook-cell:/Users/rchaks/Code/GitHub/advanced_optimisation/assesments/midterm.ipynb#ch0000014?line=7'>8</a>\u001b[0m newsvendor_model\u001b[39m.\u001b[39moutput\n",
      "\u001b[0;31mNameError\u001b[0m: name 'Gurobi_Model' is not defined"
     ]
    }
   ],
   "source": [
    "newsvendor_model = Gurobi_Model(obj_linear= obj, \n",
    "                        cons= A, \n",
    "                        sense= direction, \n",
    "                        b= rhs,\n",
    "                        lower_bound= lb,\n",
    "                        variable_types= var_type\n",
    "                    )\n",
    "newsvendor_model.output"
   ]
  },
  {
   "cell_type": "code",
   "execution_count": null,
   "metadata": {},
   "outputs": [],
   "source": [
    "print(f'Number of Newspapers to print: {newsvendor_model.optimal_x[0]}')"
   ]
  },
  {
   "cell_type": "markdown",
   "metadata": {},
   "source": [
    "##  Answers\n",
    "\n",
    "a) total constraints : 200\n",
    "\n",
    "b) decision variables : 101\n",
    "\n",
    "c) Number of decision variables with lower bound of 0 : 1\n",
    "\n",
    "d) Number of Newspapers to print : 1191\n",
    "\n",
    "* Max profit at : $ 2065.095"
   ]
  },
  {
   "cell_type": "markdown",
   "metadata": {},
   "source": [
    "# Q3 - Simulation"
   ]
  },
  {
   "cell_type": "code",
   "execution_count": 2,
   "metadata": {},
   "outputs": [],
   "source": [
    "def concert_admission():\n",
    "    people_in_line = 517\n",
    "    time_left = 3600 # 1 hour left (in seconds)\n",
    "    while (people_in_line > 0):\n",
    "        # check one person\n",
    "        security_time = np.random.choice([6,7,8])\n",
    "        time_left -= security_time\n",
    "        people_in_line -= 1\n",
    "        if time_left <=0:\n",
    "            break\n",
    "    return people_in_line"
   ]
  },
  {
   "cell_type": "code",
   "execution_count": 6,
   "metadata": {},
   "outputs": [
    {
     "name": "stderr",
     "output_type": "stream",
     "text": [
      "100%|██████████| 10000/10000 [00:47<00:00, 212.20it/s]\n"
     ]
    },
    {
     "data": {
      "text/plain": [
       "array([3., 2., 5., ..., 6., 6., 0.])"
      ]
     },
     "execution_count": 6,
     "metadata": {},
     "output_type": "execute_result"
    }
   ],
   "source": [
    "nsim = 10000\n",
    "people_left = np.zeros(nsim)\n",
    "for simulation in tqdm(range(nsim)):\n",
    "    people_left[simulation] = concert_admission()\n",
    "people_left"
   ]
  },
  {
   "cell_type": "code",
   "execution_count": 7,
   "metadata": {},
   "outputs": [
    {
     "name": "stdout",
     "output_type": "stream",
     "text": [
      "P( At least one person is turned away: 0.76\n"
     ]
    }
   ],
   "source": [
    "print(f'P( At least one person is turned away: {np.round(np.mean(people_left > 0), 2)}')"
   ]
  },
  {
   "cell_type": "markdown",
   "metadata": {},
   "source": [
    "## Answers\n",
    "\n",
    "a) choice 3, 4 \n",
    "  - np.random.choice([6,7,8])\n",
    "  - np.random.choice(3) + 6\n",
    "\n",
    "b) 2 - Fewer (because Probability security check takes more time is higher)\n",
    "\n",
    "c) around 0.75\n"
   ]
  }
 ],
 "metadata": {
  "interpreter": {
   "hash": "8bc5f0ab7253157a95fbe4d5d2614bd1d73b94539cbf0ce31d70a0d97640c06a"
  },
  "kernelspec": {
   "display_name": "Python 3.8.12 ('advanced_optimisation')",
   "language": "python",
   "name": "python3"
  },
  "language_info": {
   "codemirror_mode": {
    "name": "ipython",
    "version": 3
   },
   "file_extension": ".py",
   "mimetype": "text/x-python",
   "name": "python",
   "nbconvert_exporter": "python",
   "pygments_lexer": "ipython3",
   "version": "3.8.12"
  },
  "orig_nbformat": 4
 },
 "nbformat": 4,
 "nbformat_minor": 2
}
