{
  "cells": [
    {
      "cell_type": "markdown",
      "source": [
        "# Optimisation - Final Exam\n",
        "\n",
        "rc47878"
      ],
      "metadata": {
        "id": "7uB2hW7racx7"
      }
    },
    {
      "cell_type": "code",
      "source": [
        "!pip install gurobipy"
      ],
      "metadata": {
        "colab": {
          "base_uri": "https://localhost:8080/"
        },
        "id": "e_-nDxgrOrJc",
        "outputId": "05f940c8-8020-46f3-ced9-79be1cbd0a3f"
      },
      "execution_count": 1,
      "outputs": [
        {
          "output_type": "stream",
          "name": "stdout",
          "text": [
            "Requirement already satisfied: gurobipy in /usr/local/lib/python3.7/dist-packages (9.5.1)\n"
          ]
        }
      ]
    },
    {
      "cell_type": "code",
      "execution_count": 2,
      "metadata": {
        "id": "7vxeAnJqOpGN"
      },
      "outputs": [],
      "source": [
        "import numpy as np\n",
        "import matplotlib.pyplot as plt\n",
        "import pandas as pd\n",
        "import gurobipy as gb\n",
        "\n",
        "import tensorflow as tf\n",
        "from tqdm import tqdm\n",
        "\n",
        "from scipy.interpolate import CubicSpline\n",
        "from scipy.optimize import minimize\n",
        "\n",
        "GUROBI_TIMEOUT = 5 # in second\n",
        "\n",
        "%matplotlib inline"
      ]
    },
    {
      "cell_type": "markdown",
      "metadata": {
        "id": "QIJsddStOpGQ"
      },
      "source": [
        "# CNN\n",
        "\n",
        "(Q2 - Q5)"
      ]
    },
    {
      "cell_type": "code",
      "execution_count": 3,
      "metadata": {
        "id": "EUfdSIuoOpGR",
        "colab": {
          "base_uri": "https://localhost:8080/"
        },
        "outputId": "328b006d-37cd-4092-fedc-982bd3d8034d"
      },
      "outputs": [
        {
          "output_type": "stream",
          "name": "stdout",
          "text": [
            "(50000, 32, 32, 3) (10000, 32, 32, 3) (10000, 1) (50000, 1) 50000 10000\n",
            "Model: \"sequential\"\n",
            "_________________________________________________________________\n",
            " Layer (type)                Output Shape              Param #   \n",
            "=================================================================\n",
            " conv2d (Conv2D)             (None, 30, 30, 15)        420       \n",
            "                                                                 \n",
            " conv2d_1 (Conv2D)           (None, 28, 28, 20)        2720      \n",
            "                                                                 \n",
            " conv2d_2 (Conv2D)           (None, 26, 26, 25)        4525      \n",
            "                                                                 \n",
            " conv2d_3 (Conv2D)           (None, 24, 24, 30)        6780      \n",
            "                                                                 \n",
            " max_pooling2d (MaxPooling2D  (None, 12, 12, 30)       0         \n",
            " )                                                               \n",
            "                                                                 \n",
            " conv2d_4 (Conv2D)           (None, 9, 9, 20)          9620      \n",
            "                                                                 \n",
            " flatten (Flatten)           (None, 1620)              0         \n",
            "                                                                 \n",
            " dropout (Dropout)           (None, 1620)              0         \n",
            "                                                                 \n",
            " dense (Dense)               (None, 512)               829952    \n",
            "                                                                 \n",
            " dropout_1 (Dropout)         (None, 512)               0         \n",
            "                                                                 \n",
            " dense_1 (Dense)             (None, 128)               65664     \n",
            "                                                                 \n",
            " dropout_2 (Dropout)         (None, 128)               0         \n",
            "                                                                 \n",
            " dense_2 (Dense)             (None, 32)                4128      \n",
            "                                                                 \n",
            " dense_3 (Dense)             (None, 10)                330       \n",
            "                                                                 \n",
            "=================================================================\n",
            "Total params: 924,139\n",
            "Trainable params: 924,139\n",
            "Non-trainable params: 0\n",
            "_________________________________________________________________\n",
            "Epoch 1/15\n",
            "391/391 [==============================] - 180s 457ms/step - loss: 1.7271 - accuracy: 0.3672\n",
            "Epoch 2/15\n",
            "391/391 [==============================] - 168s 431ms/step - loss: 1.3453 - accuracy: 0.5125\n",
            "Epoch 3/15\n",
            "391/391 [==============================] - 170s 436ms/step - loss: 1.1533 - accuracy: 0.5890\n",
            "Epoch 4/15\n",
            "391/391 [==============================] - 164s 418ms/step - loss: 1.0095 - accuracy: 0.6445\n",
            "Epoch 5/15\n",
            "391/391 [==============================] - 163s 416ms/step - loss: 0.8979 - accuracy: 0.6841\n",
            "Epoch 6/15\n",
            "391/391 [==============================] - 162s 415ms/step - loss: 0.8128 - accuracy: 0.7153\n",
            "Epoch 7/15\n",
            "391/391 [==============================] - 162s 414ms/step - loss: 0.7122 - accuracy: 0.7499\n",
            "Epoch 8/15\n",
            "391/391 [==============================] - 162s 415ms/step - loss: 0.6285 - accuracy: 0.7797\n",
            "Epoch 9/15\n",
            "391/391 [==============================] - 162s 414ms/step - loss: 0.5509 - accuracy: 0.8035\n",
            "Epoch 10/15\n",
            "391/391 [==============================] - 162s 414ms/step - loss: 0.4788 - accuracy: 0.8302\n",
            "Epoch 11/15\n",
            "391/391 [==============================] - 162s 413ms/step - loss: 0.4194 - accuracy: 0.8525\n",
            "Epoch 12/15\n",
            "391/391 [==============================] - 162s 413ms/step - loss: 0.3508 - accuracy: 0.8766\n",
            "Epoch 13/15\n",
            "391/391 [==============================] - 162s 413ms/step - loss: 0.3110 - accuracy: 0.8904\n",
            "Epoch 14/15\n",
            "391/391 [==============================] - 171s 438ms/step - loss: 0.2698 - accuracy: 0.9054\n",
            "Epoch 15/15\n",
            "391/391 [==============================] - 162s 414ms/step - loss: 0.2308 - accuracy: 0.9191\n",
            "0.1\n"
          ]
        }
      ],
      "source": [
        "# problem 1\n",
        "\n",
        "# Read the data\n",
        "(x_train, y_train),(x_test, y_test) = tf.keras.datasets.cifar10.load_data()\n",
        "#normalize the data\n",
        "x_train, x_test = x_train / 255.0, x_test / 255.0 \n",
        "\n",
        "ndata_train = x_train.shape[0]\n",
        "ndata_test = x_test.shape[0]\n",
        "\n",
        "print(x_train.shape, x_test.shape, y_test.shape, y_train.shape, ndata_train, ndata_test) \n",
        "\n",
        "# Initialize the model architecture\n",
        "NNmodel = tf.keras.models.Sequential([\n",
        "        tf.keras.layers.Conv2D(filters=15,kernel_size=(3,3), activation=tf.nn.relu, input_shape=x_train.shape[1:]),\n",
        "        tf.keras.layers.Conv2D(filters=20,kernel_size=(3,3), activation=tf.nn.relu),\n",
        "        tf.keras.layers.Conv2D(filters=25,kernel_size=(3,3), activation=tf.nn.relu),\n",
        "        tf.keras.layers.Conv2D(filters=30,kernel_size=(3,3), activation=tf.nn.relu),      \n",
        "        tf.keras.layers.MaxPooling2D(pool_size = (2,2),strides=2),\n",
        "        tf.keras.layers.Conv2D(filters=20,kernel_size=(4,4),activation=tf.nn.relu),\n",
        "        tf.keras.layers.Flatten(),\n",
        "        tf.keras.layers.Dropout(0.05),\n",
        "        tf.keras.layers.Dense(512,activation=tf.nn.relu),\n",
        "        tf.keras.layers.Dropout(0.05),\n",
        "        tf.keras.layers.Dense(128,activation=tf.nn.relu),\n",
        "        tf.keras.layers.Dropout(0.05),\n",
        "        tf.keras.layers.Dense(32,activation=tf.nn.relu),\n",
        "        tf.keras.layers.Dense(10,activation=tf.nn.softmax),\n",
        "        ])\n",
        "\n",
        "# Compile the model\n",
        "NNmodel.compile(optimizer='adam',\n",
        "              loss='sparse_categorical_crossentropy',\n",
        "              metrics=['accuracy'])\n",
        "\n",
        "NNmodel.summary()\n",
        "\n",
        "\n",
        "NNmodel.fit(x_train,y_train,epochs=15,batch_size=128)\n",
        "\n",
        "pred_probs = NNmodel.predict(x_test)\n",
        "pred = np.argmax(pred_probs, axis=1)\n",
        "print(np.mean(pred==y_test))"
      ]
    },
    {
      "cell_type": "code",
      "source": [
        "## Predict the class of test data and calculate accuracy\n",
        "pred_probs = NNmodel.predict(x_test)\n",
        "mask = np.argmax(pred_probs, axis=1)==y_test.flatten()\n",
        "print('Accuracy: ', round(np.count_nonzero(mask == True)/len(x_test),3))"
      ],
      "metadata": {
        "colab": {
          "base_uri": "https://localhost:8080/"
        },
        "id": "QsGyUt2CjE1e",
        "outputId": "f241c1ee-1500-4967-cf68-42d951f84c0b"
      },
      "execution_count": 17,
      "outputs": [
        {
          "output_type": "stream",
          "name": "stdout",
          "text": [
            "Accuracy:  0.685\n"
          ]
        }
      ]
    },
    {
      "cell_type": "code",
      "source": [
        "# thus 0.69"
      ],
      "metadata": {
        "id": "Q_x-aI1ikfKt"
      },
      "execution_count": null,
      "outputs": []
    },
    {
      "cell_type": "markdown",
      "metadata": {
        "id": "UL9ekScKOpGS"
      },
      "source": [
        "# Die Roll\n",
        "\n",
        "( Q10 - Q13 )"
      ]
    },
    {
      "cell_type": "code",
      "source": [
        "def die_simulation(stop_limit: int, ngames:int = 100000)->np.array:\n",
        "  scores= []\n",
        "  for i in range(100000):\n",
        "    sc = 0\n",
        "    while sc <= stop_limit:\n",
        "      sc += np.random.randint(1,7)\n",
        "    if sc > 7:\n",
        "      sc = 0\n",
        "    scores.append(sc)\n",
        "  return np.array(scores)"
      ],
      "metadata": {
        "id": "18z-r7TdPJA-"
      },
      "execution_count": 5,
      "outputs": []
    },
    {
      "cell_type": "code",
      "source": [
        "# Keep throwing dice as long as score is >= 4\n",
        "np.round(np.mean(die_simulation(stop_limit= 4)), 1)"
      ],
      "metadata": {
        "colab": {
          "base_uri": "https://localhost:8080/"
        },
        "id": "J09fbWYXPpjn",
        "outputId": "3552ee05-2f4d-4df6-d153-d84f8397a011"
      },
      "execution_count": 6,
      "outputs": [
        {
          "output_type": "execute_result",
          "data": {
            "text/plain": [
              "4.4"
            ]
          },
          "metadata": {},
          "execution_count": 6
        }
      ]
    },
    {
      "cell_type": "code",
      "execution_count": 7,
      "metadata": {
        "id": "dKZoJcJ_OpGS",
        "outputId": "b7adcb07-a966-43de-e19a-03d20bebd54a",
        "colab": {
          "base_uri": "https://localhost:8080/"
        }
      },
      "outputs": [
        {
          "output_type": "stream",
          "name": "stdout",
          "text": [
            "Stopping if score >=3: 4.5\n",
            "Stopping if score >=4: 4.7\n",
            "Stopping if score >=5: 4.4\n",
            "Stopping if score >=6: 3.5\n"
          ]
        }
      ],
      "source": [
        "for stop_limit in range(2,6):\n",
        "  print(f'Stopping if score >={stop_limit+1}:', np.round(np.mean(die_simulation(stop_limit= stop_limit)), 1))"
      ]
    },
    {
      "cell_type": "code",
      "execution_count": 8,
      "metadata": {
        "id": "EBuJ9p5kOpGT",
        "outputId": "4b3807a1-a98a-4476-8fed-162e1ae9733f",
        "colab": {
          "base_uri": "https://localhost:8080/",
          "height": 761
        }
      },
      "outputs": [
        {
          "output_type": "display_data",
          "data": {
            "text/plain": [
              "<Figure size 432x288 with 1 Axes>"
            ],
            "image/png": "[encoded data removed]"
          },
          "metadata": {
            "needs_background": "light"
          }
        },
        {
          "output_type": "display_data",
          "data": {
            "text/plain": [
              "<Figure size 432x288 with 1 Axes>"
            ],
            "image/png": "[encoded data removed]"
          },
          "metadata": {
            "needs_background": "light"
          }
        },
        {
          "output_type": "display_data",
          "data": {
            "text/plain": [
              "<Figure size 432x288 with 1 Axes>"
            ],
            "image/png": "[encoded data removed]"
          },
          "metadata": {
            "needs_background": "light"
          }
        }
      ],
      "source": [
        "plt.hist([np.random.choice(6)+1 for i in range(1000)])\n",
        "plt.show()\n",
        "\n",
        "plt.hist([np.random.choice(range(1,7)) for i in range(1000)])\n",
        "plt.show()\n",
        "\n",
        "plt.hist([np.random.choice([1,2,3,4,5,6]) for i in range(1000)])\n",
        "plt.show()"
      ]
    },
    {
      "cell_type": "markdown",
      "metadata": {
        "id": "ae6UFDe1OpGV"
      },
      "source": [
        "# Mining\n",
        "\n",
        "( Q17 - Q18 )"
      ]
    },
    {
      "cell_type": "code",
      "execution_count": 9,
      "metadata": {
        "id": "SfcGWkByOpGV"
      },
      "outputs": [],
      "source": [
        "def fun(x):\n",
        "    return -(price*x - np.exp(x/4)/np.sqrt(1+s) + delta*cs(s-x))"
      ]
    },
    {
      "cell_type": "code",
      "execution_count": 10,
      "metadata": {
        "id": "FrNBqJdrOpGW"
      },
      "outputs": [],
      "source": [
        "from scipy.interpolate import CubicSpline\n",
        "from scipy.optimize import minimize\n",
        "price = 5 # price per ton sold\n",
        "M = 150 # current tons in mine\n",
        "delta = 0.94 # discount rate\n",
        "T = 25 # years with a lease\n",
        "\n",
        "sValues = np.arange(M+1) # all possible levels of ore in mine\n",
        "tValues = np.arange(T+1) # get to mine in years 0-14, in year 15 mine shuts down\n",
        "\n",
        "sN = len(sValues) # how many s and t values are there?\n",
        "tN = len(tValues)\n",
        "\n",
        "V = np.zeros((sN,tN)) # value function\n",
        "U = np.zeros((sN,tN)) # place to store optimal number of tons to mine\n",
        "\n",
        "V[:,tN-1] = 0 # terminal condition value function.. this is a bit redundant because of lines above, but it's worth repeating!\n",
        "U[:,tN-1] = 0 # terminal tons of ore to mine\n",
        "\n",
        "for ti in reversed(range(tN-1)): # loop backwards in time\n",
        "    # create a cubic spline for tomorrow's value function\n",
        "    cs = CubicSpline(sValues,V[:,ti+1])\n",
        "    for si in range(sN): # loop over all possible tons of ore in mine\n",
        "        t=tValues[ti] # what is the actual time and tons in the mine\n",
        "        s=sValues[si] \n",
        "        \n",
        "        # do some NLP to get the optimal x\n",
        "        opt = minimize(fun,[s/2.0], method='L-BFGS-B', bounds=[(0,s)], tol=1e-8)\n",
        "        V[si,ti] = -opt.fun[0] # pick the one that maximizes that value\n",
        "        U[si,ti] = opt.x[0]"
      ]
    },
    {
      "cell_type": "code",
      "execution_count": 11,
      "metadata": {
        "id": "VA1rPjq1OpGW",
        "outputId": "13a0cde4-4bf9-44c6-e754-383f363b1b51",
        "colab": {
          "base_uri": "https://localhost:8080/"
        }
      },
      "outputs": [
        {
          "output_type": "stream",
          "name": "stdout",
          "text": [
            "Year: 0, Ore remaining: 150; Mined: 18.6\n",
            "Year: 1, Ore remaining: 131.4; Mined: 18.0\n",
            "Year: 2, Ore remaining: 113.4; Mined: 17.4\n",
            "Year: 3, Ore remaining: 96.0; Mined: 16.7\n",
            "Year: 4, Ore remaining: 79.3; Mined: 15.8\n",
            "Year: 5, Ore remaining: 63.5; Mined: 14.8\n",
            "Year: 6, Ore remaining: 48.7; Mined: 13.6\n",
            "Year: 7, Ore remaining: 35.1; Mined: 12.2\n",
            "Year: 8, Ore remaining: 22.9; Mined: 10.1\n",
            "Year: 9, Ore remaining: 12.8; Mined: 7.5\n",
            "Year: 10, Ore remaining: 5.2; Mined: 4.0\n",
            "Year: 11, Ore remaining: 1.3; Mined: 0.4\n",
            "Year: 12, Ore remaining: 0.9; Mined: 0.0\n",
            "Year: 13, Ore remaining: 0.9; Mined: 0.0\n",
            "Year: 14, Ore remaining: 0.9; Mined: 0.0\n",
            "Year: 15, Ore remaining: 0.9; Mined: 0.0\n",
            "Year: 16, Ore remaining: 0.9; Mined: 0.0\n",
            "Year: 17, Ore remaining: 0.9; Mined: 0.0\n",
            "Year: 18, Ore remaining: 0.9; Mined: 0.0\n",
            "Year: 19, Ore remaining: 0.9; Mined: 0.0\n",
            "Year: 20, Ore remaining: 0.9; Mined: 0.0\n",
            "Year: 21, Ore remaining: 0.9; Mined: 0.0\n",
            "Year: 22, Ore remaining: 0.9; Mined: 0.0\n",
            "Year: 23, Ore remaining: 0.9; Mined: 0.0\n",
            "Year: 24, Ore remaining: 0.9; Mined: 0.0\n"
          ]
        }
      ],
      "source": [
        "s=M # at the initial time there are 100 tons of ore\n",
        "for t in range(T):\n",
        "    si= int(s)\n",
        "    print(f\"Year: {t}, Ore remaining: {round(s,1)}; Mined: {round(U[si,t], 1)}\")\n",
        "    s -= U[si,t] # remove this amount from the mine\n"
      ]
    },
    {
      "cell_type": "markdown",
      "metadata": {
        "id": "dY72xKaKOpGW"
      },
      "source": [
        "# cVar\n",
        "\n",
        "( Q6 - Q9 )"
      ]
    },
    {
      "cell_type": "code",
      "execution_count": 12,
      "metadata": {
        "id": "Q9BxsW8GOpGX"
      },
      "outputs": [],
      "source": [
        "# Helper Functions\n",
        "\n",
        "class Gurobi_Model():\n",
        "    '''\n",
        "        Class Method I made to help me encapsulate the whole Gurobi model creation, \n",
        "        Finding Slack Variable and perform sensitivity analysis\n",
        "    '''\n",
        "    \n",
        "    def __init__(self, obj_linear, cons, sense, b, variable_types = 'C',\n",
        "                lower_bound = None, upper_bound = None,\n",
        "                optimisation_type = gb.GRB.MAXIMIZE, obj_quadratic = None) -> None:\n",
        "        '''\n",
        "            Initialising the Model\n",
        "        '''\n",
        "        if (obj_quadratic is None) and (obj_linear is None):\n",
        "            raise Exception(\"No objective defined\")\n",
        "\n",
        "        constraints, variables = cons.shape\n",
        "\n",
        "        ## Optimisation Model at work (Maximise)\n",
        "        try:\n",
        "            self.model = gb.Model()\n",
        "            self.model_X = self.model.addMVar(variables,\n",
        "                                        vtype=variable_types,\n",
        "                                        lb= lower_bound, ub= upper_bound)\n",
        "\n",
        "            self.model_constraints = self.model.addMConstr(cons, self.model_X, sense, b)\n",
        "            self.model.setMObjective(obj_quadratic, obj_linear, 0, sense=optimisation_type)\n",
        "            self.model.Params.OutputFlag = 0\n",
        "            self.model.Params.TimeLimit = GUROBI_TIMEOUT\n",
        "\n",
        "            self.model.optimize()\n",
        "\n",
        "        except Exception:\n",
        "            print(\"Error in optimising\")\n",
        "            raise Exception\n",
        "        \n",
        "        ## Assigning stuff for other use cases\n",
        "        try:\n",
        "            self.obj_q = obj_quadratic\n",
        "            self.obj = obj_linear\n",
        "            self.constraint = cons\n",
        "            self.sense = sense\n",
        "            self.b = b\n",
        "        except Exception:\n",
        "            print(\"Error in Storing equations\")\n",
        "            raise Exception\n",
        "        return\n",
        "\n",
        "    @property\n",
        "    def optimal_obj(self): return self.model.objVal\n",
        "\n",
        "    @property\n",
        "    def optimal_x(self): return self.model_X.x\n",
        "\n",
        "    @property\n",
        "    def output(self):\n",
        "        return {'objVal': self.optimal_obj,\n",
        "                'x': self.optimal_x}\n",
        "\n",
        "    def print_equations(self)->None:\n",
        "        '''\n",
        "            Print Objective Functions and Constraint Equations\n",
        "        '''\n",
        "        char = \"a\"\n",
        "        print(\"Optimise System of equations:\")\n",
        "        for item in self.obj:\n",
        "            print(str(item)+char,end=\" + \")\n",
        "            char = chr(ord(char) + 1)\n",
        "        print(\"\\b\\b\")\n",
        "        print(\"Subject to:\")#, end=\" \")\n",
        "        for i in range(self.constraint.shape[0]):\n",
        "            char = \"a\"\n",
        "            print(\"\\t\"+str(i)+\")\",end=\" \")\n",
        "            for j in range(self.constraint.shape[1]):\n",
        "                print(str(self.constraint[i,j])+char,end=\" + \")\n",
        "                char = chr(ord(char) + 1)\n",
        "            print(\"\\b\\b \"+self.sense[i]+\"= \"+str(self.b[i]))\n",
        "        return\n"
      ]
    },
    {
      "cell_type": "code",
      "execution_count": 13,
      "metadata": {
        "id": "uvyNgxFlOpGY",
        "outputId": "bf794a8e-a8e9-4dd6-8eb0-d3ec6dcfb06c",
        "colab": {
          "base_uri": "https://localhost:8080/",
          "height": 424
        }
      },
      "outputs": [
        {
          "output_type": "execute_result",
          "data": {
            "text/plain": [
              "    Stock1  Stock2  Stock3  Stock4  Stock5  Stock6  Stock7  Stock8  Stock9  \\\n",
              "0  -0.0115 -0.0319 -0.0055  0.0299 -0.0009 -0.0196  0.0466  0.0393 -0.0147   \n",
              "1   0.0018  0.0294  0.0080 -0.0093 -0.0022 -0.0039  0.0327 -0.0059  0.0074   \n",
              "2   0.0163 -0.0027  0.0166  0.0117 -0.0027 -0.0149  0.0055  0.0143 -0.0078   \n",
              "3   0.0191 -0.0089  0.0020  0.0355 -0.0059 -0.0049  0.0323  0.0332  0.0174   \n",
              "4   0.0100  0.0201  0.0039 -0.0253 -0.0049  0.0167  0.0188  0.0478  0.0076   \n",
              "..     ...     ...     ...     ...     ...     ...     ...     ...     ...   \n",
              "95 -0.0078  0.0217 -0.0089  0.0135 -0.0090 -0.0238  0.0342 -0.0070  0.0117   \n",
              "96  0.0176 -0.0003  0.0000  0.0070  0.0226  0.0232 -0.0036 -0.0005 -0.0060   \n",
              "97 -0.0247 -0.0128 -0.0221 -0.0059 -0.0111 -0.0049 -0.0231  0.0008 -0.0080   \n",
              "98 -0.0157  0.0103  0.0152 -0.0252  0.0182 -0.0115 -0.0012  0.0253 -0.0147   \n",
              "99 -0.0134  0.0127 -0.0198 -0.0114 -0.0196 -0.0012  0.0134  0.0169  0.0047   \n",
              "\n",
              "    Stock10  \n",
              "0    0.0233  \n",
              "1   -0.0362  \n",
              "2    0.0078  \n",
              "3    0.0314  \n",
              "4   -0.0186  \n",
              "..      ...  \n",
              "95  -0.0188  \n",
              "96  -0.0224  \n",
              "97   0.0150  \n",
              "98  -0.0333  \n",
              "99  -0.0076  \n",
              "\n",
              "[100 rows x 10 columns]"
            ],
            "text/html": [
              "\n",
              "  <div id=\"df-66482ea8-114d-46f0-82b4-60d3a87e5562\">\n",
              "    <div class=\"colab-df-container\">\n",
              "      <div>\n",
              "<style scoped>\n",
              "    .dataframe tbody tr th:only-of-type {\n",
              "        vertical-align: middle;\n",
              "    }\n",
              "\n",
              "    .dataframe tbody tr th {\n",
              "        vertical-align: top;\n",
              "    }\n",
              "\n",
              "    .dataframe thead th {\n",
              "        text-align: right;\n",
              "    }\n",
              "</style>\n",
              "<table border=\"1\" class=\"dataframe\">\n",
              "  <thead>\n",
              "    <tr style=\"text-align: right;\">\n",
              "      <th></th>\n",
              "      <th>Stock1</th>\n",
              "      <th>Stock2</th>\n",
              "      <th>Stock3</th>\n",
              "      <th>Stock4</th>\n",
              "      <th>Stock5</th>\n",
              "      <th>Stock6</th>\n",
              "      <th>Stock7</th>\n",
              "      <th>Stock8</th>\n",
              "      <th>Stock9</th>\n",
              "      <th>Stock10</th>\n",
              "    </tr>\n",
              "  </thead>\n",
              "  <tbody>\n",
              "    <tr>\n",
              "      <th>0</th>\n",
              "      <td>-0.0115</td>\n",
              "      <td>-0.0319</td>\n",
              "      <td>-0.0055</td>\n",
              "      <td>0.0299</td>\n",
              "      <td>-0.0009</td>\n",
              "      <td>-0.0196</td>\n",
              "      <td>0.0466</td>\n",
              "      <td>0.0393</td>\n",
              "      <td>-0.0147</td>\n",
              "      <td>0.0233</td>\n",
              "    </tr>\n",
              "    <tr>\n",
              "      <th>1</th>\n",
              "      <td>0.0018</td>\n",
              "      <td>0.0294</td>\n",
              "      <td>0.0080</td>\n",
              "      <td>-0.0093</td>\n",
              "      <td>-0.0022</td>\n",
              "      <td>-0.0039</td>\n",
              "      <td>0.0327</td>\n",
              "      <td>-0.0059</td>\n",
              "      <td>0.0074</td>\n",
              "      <td>-0.0362</td>\n",
              "    </tr>\n",
              "    <tr>\n",
              "      <th>2</th>\n",
              "      <td>0.0163</td>\n",
              "      <td>-0.0027</td>\n",
              "      <td>0.0166</td>\n",
              "      <td>0.0117</td>\n",
              "      <td>-0.0027</td>\n",
              "      <td>-0.0149</td>\n",
              "      <td>0.0055</td>\n",
              "      <td>0.0143</td>\n",
              "      <td>-0.0078</td>\n",
              "      <td>0.0078</td>\n",
              "    </tr>\n",
              "    <tr>\n",
              "      <th>3</th>\n",
              "      <td>0.0191</td>\n",
              "      <td>-0.0089</td>\n",
              "      <td>0.0020</td>\n",
              "      <td>0.0355</td>\n",
              "      <td>-0.0059</td>\n",
              "      <td>-0.0049</td>\n",
              "      <td>0.0323</td>\n",
              "      <td>0.0332</td>\n",
              "      <td>0.0174</td>\n",
              "      <td>0.0314</td>\n",
              "    </tr>\n",
              "    <tr>\n",
              "      <th>4</th>\n",
              "      <td>0.0100</td>\n",
              "      <td>0.0201</td>\n",
              "      <td>0.0039</td>\n",
              "      <td>-0.0253</td>\n",
              "      <td>-0.0049</td>\n",
              "      <td>0.0167</td>\n",
              "      <td>0.0188</td>\n",
              "      <td>0.0478</td>\n",
              "      <td>0.0076</td>\n",
              "      <td>-0.0186</td>\n",
              "    </tr>\n",
              "    <tr>\n",
              "      <th>...</th>\n",
              "      <td>...</td>\n",
              "      <td>...</td>\n",
              "      <td>...</td>\n",
              "      <td>...</td>\n",
              "      <td>...</td>\n",
              "      <td>...</td>\n",
              "      <td>...</td>\n",
              "      <td>...</td>\n",
              "      <td>...</td>\n",
              "      <td>...</td>\n",
              "    </tr>\n",
              "    <tr>\n",
              "      <th>95</th>\n",
              "      <td>-0.0078</td>\n",
              "      <td>0.0217</td>\n",
              "      <td>-0.0089</td>\n",
              "      <td>0.0135</td>\n",
              "      <td>-0.0090</td>\n",
              "      <td>-0.0238</td>\n",
              "      <td>0.0342</td>\n",
              "      <td>-0.0070</td>\n",
              "      <td>0.0117</td>\n",
              "      <td>-0.0188</td>\n",
              "    </tr>\n",
              "    <tr>\n",
              "      <th>96</th>\n",
              "      <td>0.0176</td>\n",
              "      <td>-0.0003</td>\n",
              "      <td>0.0000</td>\n",
              "      <td>0.0070</td>\n",
              "      <td>0.0226</td>\n",
              "      <td>0.0232</td>\n",
              "      <td>-0.0036</td>\n",
              "      <td>-0.0005</td>\n",
              "      <td>-0.0060</td>\n",
              "      <td>-0.0224</td>\n",
              "    </tr>\n",
              "    <tr>\n",
              "      <th>97</th>\n",
              "      <td>-0.0247</td>\n",
              "      <td>-0.0128</td>\n",
              "      <td>-0.0221</td>\n",
              "      <td>-0.0059</td>\n",
              "      <td>-0.0111</td>\n",
              "      <td>-0.0049</td>\n",
              "      <td>-0.0231</td>\n",
              "      <td>0.0008</td>\n",
              "      <td>-0.0080</td>\n",
              "      <td>0.0150</td>\n",
              "    </tr>\n",
              "    <tr>\n",
              "      <th>98</th>\n",
              "      <td>-0.0157</td>\n",
              "      <td>0.0103</td>\n",
              "      <td>0.0152</td>\n",
              "      <td>-0.0252</td>\n",
              "      <td>0.0182</td>\n",
              "      <td>-0.0115</td>\n",
              "      <td>-0.0012</td>\n",
              "      <td>0.0253</td>\n",
              "      <td>-0.0147</td>\n",
              "      <td>-0.0333</td>\n",
              "    </tr>\n",
              "    <tr>\n",
              "      <th>99</th>\n",
              "      <td>-0.0134</td>\n",
              "      <td>0.0127</td>\n",
              "      <td>-0.0198</td>\n",
              "      <td>-0.0114</td>\n",
              "      <td>-0.0196</td>\n",
              "      <td>-0.0012</td>\n",
              "      <td>0.0134</td>\n",
              "      <td>0.0169</td>\n",
              "      <td>0.0047</td>\n",
              "      <td>-0.0076</td>\n",
              "    </tr>\n",
              "  </tbody>\n",
              "</table>\n",
              "<p>100 rows × 10 columns</p>\n",
              "</div>\n",
              "      <button class=\"colab-df-convert\" onclick=\"convertToInteractive('df-66482ea8-114d-46f0-82b4-60d3a87e5562')\"\n",
              "              title=\"Convert this dataframe to an interactive table.\"\n",
              "              style=\"display:none;\">\n",
              "        \n",
              "  <svg xmlns=\"http://www.w3.org/2000/svg\" height=\"24px\"viewBox=\"0 0 24 24\"\n",
              "       width=\"24px\">\n",
              "    <path d=\"M0 0h24v24H0V0z\" fill=\"none\"/>\n",
              "    <path d=\"M18.56 5.44l.94 2.06.94-2.06 2.06-.94-2.06-.94-.94-2.06-.94 2.06-2.06.94zm-11 1L8.5 8.5l.94-2.06 2.06-.94-2.06-.94L8.5 2.5l-.94 2.06-2.06.94zm10 10l.94 2.06.94-2.06 2.06-.94-2.06-.94-.94-2.06-.94 2.06-2.06.94z\"/><path d=\"M17.41 7.96l-1.37-1.37c-.4-.4-.92-.59-1.43-.59-.52 0-1.04.2-1.43.59L10.3 9.45l-7.72 7.72c-.78.78-.78 2.05 0 2.83L4 21.41c.39.39.9.59 1.41.59.51 0 1.02-.2 1.41-.59l7.78-7.78 2.81-2.81c.8-.78.8-2.07 0-2.86zM5.41 20L4 18.59l7.72-7.72 1.47 1.35L5.41 20z\"/>\n",
              "  </svg>\n",
              "      </button>\n",
              "      \n",
              "  <style>\n",
              "    .colab-df-container {\n",
              "      display:flex;\n",
              "      flex-wrap:wrap;\n",
              "      gap: 12px;\n",
              "    }\n",
              "\n",
              "    .colab-df-convert {\n",
              "      background-color: #E8F0FE;\n",
              "      border: none;\n",
              "      border-radius: 50%;\n",
              "      cursor: pointer;\n",
              "      display: none;\n",
              "      fill: #1967D2;\n",
              "      height: 32px;\n",
              "      padding: 0 0 0 0;\n",
              "      width: 32px;\n",
              "    }\n",
              "\n",
              "    .colab-df-convert:hover {\n",
              "      background-color: #E2EBFA;\n",
              "      box-shadow: 0px 1px 2px rgba(60, 64, 67, 0.3), 0px 1px 3px 1px rgba(60, 64, 67, 0.15);\n",
              "      fill: #174EA6;\n",
              "    }\n",
              "\n",
              "    [theme=dark] .colab-df-convert {\n",
              "      background-color: #3B4455;\n",
              "      fill: #D2E3FC;\n",
              "    }\n",
              "\n",
              "    [theme=dark] .colab-df-convert:hover {\n",
              "      background-color: #434B5C;\n",
              "      box-shadow: 0px 1px 3px 1px rgba(0, 0, 0, 0.15);\n",
              "      filter: drop-shadow(0px 1px 2px rgba(0, 0, 0, 0.3));\n",
              "      fill: #FFFFFF;\n",
              "    }\n",
              "  </style>\n",
              "\n",
              "      <script>\n",
              "        const buttonEl =\n",
              "          document.querySelector('#df-66482ea8-114d-46f0-82b4-60d3a87e5562 button.colab-df-convert');\n",
              "        buttonEl.style.display =\n",
              "          google.colab.kernel.accessAllowed ? 'block' : 'none';\n",
              "\n",
              "        async function convertToInteractive(key) {\n",
              "          const element = document.querySelector('#df-66482ea8-114d-46f0-82b4-60d3a87e5562');\n",
              "          const dataTable =\n",
              "            await google.colab.kernel.invokeFunction('convertToInteractive',\n",
              "                                                     [key], {});\n",
              "          if (!dataTable) return;\n",
              "\n",
              "          const docLinkHtml = 'Like what you see? Visit the ' +\n",
              "            '<a target=\"_blank\" href=https://colab.research.google.com/notebooks/data_table.ipynb>data table notebook</a>'\n",
              "            + ' to learn more about interactive tables.';\n",
              "          element.innerHTML = '';\n",
              "          dataTable['output_type'] = 'display_data';\n",
              "          await google.colab.output.renderOutput(dataTable, element);\n",
              "          const docLink = document.createElement('div');\n",
              "          docLink.innerHTML = docLinkHtml;\n",
              "          element.appendChild(docLink);\n",
              "        }\n",
              "      </script>\n",
              "    </div>\n",
              "  </div>\n",
              "  "
            ]
          },
          "metadata": {},
          "execution_count": 13
        }
      ],
      "source": [
        "beta = 0.05\n",
        "stocks = pd.read_csv('stock_data.csv')\n",
        "stocks\n"
      ]
    },
    {
      "cell_type": "code",
      "execution_count": 14,
      "metadata": {
        "id": "BGCgnwNQOpGZ",
        "outputId": "3c90eab1-7486-4707-ba73-2b26ff56abdf",
        "colab": {
          "base_uri": "https://localhost:8080/"
        }
      },
      "outputs": [
        {
          "output_type": "execute_result",
          "data": {
            "text/plain": [
              "((101, 111), (101,), (101,))"
            ]
          },
          "metadata": {},
          "execution_count": 14
        }
      ],
      "source": [
        "num_days, num_stocks = stocks.shape\n",
        "\n",
        "obj = np.array([1] + [1/(num_days*beta)]*(num_days) + [0]*(num_stocks))\n",
        "variables = obj.shape[0]\n",
        "constraints = num_days + 1 # +1 cause sum of w's = 1\n",
        "\n",
        "A = np.zeros((constraints, variables))\n",
        "b = np.zeros(constraints)\n",
        "sense = np.array(['>']*(constraints-1)+['='])\n",
        "\n",
        "lb = np.array([-np.inf] + [0]*(variables-1))\n",
        "\n",
        "for day in range(0,num_days):\n",
        "    A[day, 0] = 1 # alpha\n",
        "    A[day, day+1] = 1 # h\n",
        "    A[day, num_days+1:] =  stocks.loc[day]# r\n",
        "    b[day] = 0\n",
        "\n",
        "A[-1,-num_stocks:] = 1\n",
        "b[-1] = 1\n",
        "\n",
        "A.shape, b.shape, sense.shape\n",
        "# A"
      ]
    },
    {
      "cell_type": "code",
      "execution_count": 15,
      "metadata": {
        "id": "PnGIqBOxOpGZ",
        "outputId": "a26eba50-404a-444f-b645-89321254ee57",
        "colab": {
          "base_uri": "https://localhost:8080/"
        }
      },
      "outputs": [
        {
          "output_type": "stream",
          "name": "stdout",
          "text": [
            "Restricted license - for non-production use only - expires 2023-10-25\n",
            "Opimal cVar: 0.007\n"
          ]
        }
      ],
      "source": [
        "model_1 = Gurobi_Model(obj_linear= obj,\n",
        "                        cons= A,\n",
        "                        sense= sense,\n",
        "                        b = b,\n",
        "                        lower_bound= lb,\n",
        "                        variable_types=['C']*variables,\n",
        "                        optimisation_type= gb.GRB.MINIMIZE)\n",
        "# model_1.print_equations()\n",
        "print(f'Opimal cVar: {round(model_1.optimal_obj, 3)}')\n"
      ]
    },
    {
      "cell_type": "code",
      "source": [
        ""
      ],
      "metadata": {
        "id": "TWef0ELAZRw4"
      },
      "execution_count": 15,
      "outputs": []
    }
  ],
  "metadata": {
    "interpreter": {
      "hash": "8bc5f0ab7253157a95fbe4d5d2614bd1d73b94539cbf0ce31d70a0d97640c06a"
    },
    "kernelspec": {
      "display_name": "Python 3.8.12",
      "language": "python",
      "name": "python3"
    },
    "language_info": {
      "codemirror_mode": {
        "name": "ipython",
        "version": 3
      },
      "file_extension": ".py",
      "mimetype": "text/x-python",
      "name": "python",
      "nbconvert_exporter": "python",
      "pygments_lexer": "ipython3",
      "version": "3.8.12"
    },
    "orig_nbformat": 4,
    "colab": {
      "name": "finals.ipynb",
      "provenance": [],
      "collapsed_sections": []
    }
  },
  "nbformat": 4,
  "nbformat_minor": 0
}