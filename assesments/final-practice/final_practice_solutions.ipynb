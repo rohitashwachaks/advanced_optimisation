{
  "cells": [
    {
      "cell_type": "code",
      "execution_count": 3,
      "metadata": {
        "id": "c_4ICmLp2HMo"
      },
      "outputs": [],
      "source": [
        "import numpy as np\n",
        "import pandas as pd\n",
        "import tensorflow as tf\n",
        "from tensorflow.keras.models import Model\n",
        "from tensorflow.keras.layers import Dense, Flatten, Dropout, Conv2D, Input\n",
        "import gurobipy as gp"
      ]
    },
    {
      "cell_type": "code",
      "execution_count": 8,
      "metadata": {
        "colab": {
          "base_uri": "https://localhost:8080/"
        },
        "id": "PNC5I-Jx240T",
        "outputId": "b8650523-8357-44ca-b685-dcf1645e2414"
      },
      "outputs": [
        {
          "name": "stdout",
          "output_type": "stream",
          "text": [
            "Mounted at /content/drive\n"
          ]
        }
      ],
      "source": [
        "from google.colab import drive\n",
        "drive.mount('/content/drive')"
      ]
    },
    {
      "cell_type": "markdown",
      "metadata": {
        "id": "L7uUrWAW0Vqq"
      },
      "source": [
        "## problem 1\n",
        "\n",
        "state: (s,t), where s is oil in ground and t is time\n",
        "\n",
        "dynamics: \n",
        "\n",
        "          (s,t) -> (s,t+1) if no pumping\n",
        "\n",
        "          (s,t) -> (0.8s,t+1) if normal pumping\n",
        "\n",
        "          (s,t) -> (0.64s,t+1) if enhanced pumping\n",
        "\n",
        "value function: v(s,t) = max sum all future discounted profits\n",
        "\n",
        "bellman:\n",
        "\n",
        "v(s,t) = max(0+$\\delta$\\*v(s,t+1), 10\\*0.2\\*s - 50k + $\\delta$\\*v(0.8s,t+1), 10\\*0.36\\*s - 120k + $\\delta$\\*v(0.64s,t+1)\n",
        "\n",
        "Terminal: v(s,T) = 0\n",
        "          "
      ]
    },
    {
      "cell_type": "markdown",
      "metadata": {
        "id": "RxOtySwG1tqy"
      },
      "source": [
        "## problem 2"
      ]
    },
    {
      "cell_type": "code",
      "execution_count": null,
      "metadata": {
        "id": "j4FioSjbz-XY"
      },
      "outputs": [],
      "source": []
    },
    {
      "cell_type": "code",
      "execution_count": 6,
      "metadata": {
        "id": "U0Un7qvO1xij"
      },
      "outputs": [],
      "source": [
        "oil = pd.read_csv('./oil_produced.csv', index_col= 0)"
      ]
    },
    {
      "cell_type": "code",
      "execution_count": 7,
      "metadata": {
        "colab": {
          "base_uri": "https://localhost:8080/",
          "height": 206
        },
        "id": "4kJIhPFt1xmI",
        "outputId": "0084e2d9-c9ff-4e43-cb41-0809367f52cb"
      },
      "outputs": [
        {
          "data": {
            "text/html": [
              "<div>\n",
              "<style scoped>\n",
              "    .dataframe tbody tr th:only-of-type {\n",
              "        vertical-align: middle;\n",
              "    }\n",
              "\n",
              "    .dataframe tbody tr th {\n",
              "        vertical-align: top;\n",
              "    }\n",
              "\n",
              "    .dataframe thead th {\n",
              "        text-align: right;\n",
              "    }\n",
              "</style>\n",
              "<table border=\"1\" class=\"dataframe\">\n",
              "  <thead>\n",
              "    <tr style=\"text-align: right;\">\n",
              "      <th></th>\n",
              "      <th>oil_produced</th>\n",
              "    </tr>\n",
              "    <tr>\n",
              "      <th>day</th>\n",
              "      <th></th>\n",
              "    </tr>\n",
              "  </thead>\n",
              "  <tbody>\n",
              "    <tr>\n",
              "      <th>1</th>\n",
              "      <td>491</td>\n",
              "    </tr>\n",
              "    <tr>\n",
              "      <th>2</th>\n",
              "      <td>464</td>\n",
              "    </tr>\n",
              "    <tr>\n",
              "      <th>3</th>\n",
              "      <td>490</td>\n",
              "    </tr>\n",
              "    <tr>\n",
              "      <th>4</th>\n",
              "      <td>512</td>\n",
              "    </tr>\n",
              "    <tr>\n",
              "      <th>5</th>\n",
              "      <td>497</td>\n",
              "    </tr>\n",
              "  </tbody>\n",
              "</table>\n",
              "</div>"
            ],
            "text/plain": [
              "     oil_produced\n",
              "day              \n",
              "1             491\n",
              "2             464\n",
              "3             490\n",
              "4             512\n",
              "5             497"
            ]
          },
          "execution_count": 7,
          "metadata": {},
          "output_type": "execute_result"
        }
      ],
      "source": [
        "oil.head()"
      ]
    },
    {
      "cell_type": "code",
      "execution_count": 8,
      "metadata": {
        "colab": {
          "base_uri": "https://localhost:8080/"
        },
        "id": "4qbcv6wR1xoL",
        "outputId": "c71851d9-6168-4067-9b34-6d553f121c10"
      },
      "outputs": [
        {
          "data": {
            "text/plain": [
              "100"
            ]
          },
          "execution_count": 8,
          "metadata": {},
          "output_type": "execute_result"
        }
      ],
      "source": [
        "ndays = oil.shape[0]\n",
        "ndays"
      ]
    },
    {
      "cell_type": "code",
      "execution_count": 13,
      "metadata": {
        "id": "u2p3OZdT1yJa"
      },
      "outputs": [],
      "source": [
        "# decision variables: T, h1, h2, h3, ..., hn\n",
        "obj = np.zeros(ndays+1)\n",
        "obj[0] = 1000\n",
        "obj[1:] = 1/ndays\n",
        "\n",
        "A = np.zeros((ndays,ndays+1))\n",
        "rhs = np.zeros(ndays)\n",
        "dir = np.array(['>']*ndays)\n",
        "vtype = ['I']+['C']*ndays\n",
        "\n",
        "for day in range(ndays):\n",
        "    A[day,0] = 2000\n",
        "    A[day,day+1] = 1\n",
        "    rhs[day] = 20*oil.oil_produced.loc[day+1]"
      ]
    },
    {
      "cell_type": "code",
      "execution_count": 15,
      "metadata": {
        "colab": {
          "base_uri": "https://localhost:8080/"
        },
        "id": "-mNXlx3y4EVj",
        "outputId": "ba778f52-172f-4e98-890e-4a4ab0467bf8"
      },
      "outputs": [
        {
          "name": "stdout",
          "output_type": "stream",
          "text": [
            "Set parameter Username\n",
            "Academic license - for non-commercial use only - expires 2022-08-25\n"
          ]
        }
      ],
      "source": [
        "spMod = gp.Model()\n",
        "spMod_x = spMod.addMVar(len(obj),vtype=vtype) # tell the model how many variables there are\n",
        "# must define the variables before adding constraints because variables go into the constraints\n",
        "spMod_con = spMod.addMConstrs(A, spMod_x, dir, rhs) # NAME THE CONSTRAINTS!!! so we can get information about them later!\n",
        "spMod.setMObjective(None,obj,0,sense=gp.GRB.MINIMIZE) # add the objective to the model...we'll talk about the None and the 0\n",
        "\n",
        "spMod.Params.OutputFlag = 0 # tell gurobi to shut up!!\n",
        "spMod.optimize()"
      ]
    },
    {
      "cell_type": "code",
      "execution_count": 16,
      "metadata": {
        "colab": {
          "base_uri": "https://localhost:8080/"
        },
        "id": "WRblD6a04rTQ",
        "outputId": "8ca1f08e-4e9e-4228-e172-52c9ea63c4d7"
      },
      "outputs": [
        {
          "data": {
            "text/plain": [
              "5.0"
            ]
          },
          "execution_count": 16,
          "metadata": {},
          "output_type": "execute_result"
        }
      ],
      "source": [
        "# this is how many trucks to get...\n",
        "spMod_x.x[0]"
      ]
    },
    {
      "cell_type": "code",
      "execution_count": 17,
      "metadata": {
        "colab": {
          "base_uri": "https://localhost:8080/"
        },
        "id": "3uk7fIvW44_P",
        "outputId": "51b45b5e-5c7f-4853-d302-3a00b271f93f"
      },
      "outputs": [
        {
          "data": {
            "text/plain": [
              "5176.199999999996"
            ]
          },
          "execution_count": 17,
          "metadata": {},
          "output_type": "execute_result"
        }
      ],
      "source": [
        "spMod.objval"
      ]
    },
    {
      "cell_type": "code",
      "execution_count": 18,
      "metadata": {
        "colab": {
          "base_uri": "https://localhost:8080/"
        },
        "id": "jdgzKPYn47Cg",
        "outputId": "77b6a385-63bf-44b0-f4ee-d729c49411e6"
      },
      "outputs": [
        {
          "data": {
            "text/plain": [
              "5176.2"
            ]
          },
          "execution_count": 18,
          "metadata": {},
          "output_type": "execute_result"
        }
      ],
      "source": [
        "# does the objval correspond to our definition of the cost of transporting the oil?\n",
        "1000*spMod_x.x[0] + np.mean(20*np.maximum(oil.oil_produced - 100*spMod_x.x[0],0))"
      ]
    },
    {
      "cell_type": "markdown",
      "metadata": {
        "id": "vBLs-ij51zPK"
      },
      "source": [
        "## problem 3"
      ]
    },
    {
      "cell_type": "code",
      "execution_count": 20,
      "metadata": {
        "id": "h8ESjQjY11Aj"
      },
      "outputs": [],
      "source": [
        "def create_model(height,width,channels):\n",
        "    # we cannot simply have 3 output nodes because we want to put a weight on each node's impact to the objective\n",
        "    # that is different for each data point.  the only way to achieve this is to have 3 output layers, each having 1 node\n",
        "    # the effect is the same, just the way TF/keras handles weights is different\n",
        "    imp = Input(shape=(height,width,channels))\n",
        "    mid = Conv2D(16,(8,8),strides=4,activation='relu')(imp)\n",
        "    mid = Conv2D(32,(4,4),strides=2,activation='relu')(mid)\n",
        "    mid = Flatten()(mid)\n",
        "    mid = Dense(256,activation='relu')(mid)\n",
        "    out0 = Dense(1,activation='linear',name='out0')(mid)\n",
        "    out1 = Dense(1,activation='linear',name='out1')(mid)\n",
        "    out2 = Dense(1,activation='linear',name='out2')(mid)\n",
        "    out3 = Dense(1,activation='linear',name='out3')(mid)\n",
        "    out4 = Dense(1,activation='linear',name='out4')(mid)\n",
        "    out5 = Dense(1,activation='linear',name='out5')(mid)\n",
        "    model = Model(imp,[out0,out1,out2,out3,out4,out5]) \n",
        "    \n",
        "    model.compile(optimizer=tf.keras.optimizers.Adam(learning_rate=1e-4),loss='mean_squared_error')\n",
        "    \n",
        "    return model"
      ]
    },
    {
      "cell_type": "code",
      "execution_count": 21,
      "metadata": {
        "colab": {
          "base_uri": "https://localhost:8080/"
        },
        "id": "4_iM7ZUa2DEJ",
        "outputId": "66fa0b46-bc9c-4854-a56c-9c3ca61583b1"
      },
      "outputs": [
        {
          "name": "stdout",
          "output_type": "stream",
          "text": [
            "Model: \"model\"\n",
            "__________________________________________________________________________________________________\n",
            " Layer (type)                   Output Shape         Param #     Connected to                     \n",
            "==================================================================================================\n",
            " input_1 (InputLayer)           [(None, 80, 80, 4)]  0           []                               \n",
            "                                                                                                  \n",
            " conv2d (Conv2D)                (None, 19, 19, 16)   4112        ['input_1[0][0]']                \n",
            "                                                                                                  \n",
            " conv2d_1 (Conv2D)              (None, 8, 8, 32)     8224        ['conv2d[0][0]']                 \n",
            "                                                                                                  \n",
            " flatten (Flatten)              (None, 2048)         0           ['conv2d_1[0][0]']               \n",
            "                                                                                                  \n",
            " dense (Dense)                  (None, 256)          524544      ['flatten[0][0]']                \n",
            "                                                                                                  \n",
            " out0 (Dense)                   (None, 1)            257         ['dense[0][0]']                  \n",
            "                                                                                                  \n",
            " out1 (Dense)                   (None, 1)            257         ['dense[0][0]']                  \n",
            "                                                                                                  \n",
            " out2 (Dense)                   (None, 1)            257         ['dense[0][0]']                  \n",
            "                                                                                                  \n",
            " out3 (Dense)                   (None, 1)            257         ['dense[0][0]']                  \n",
            "                                                                                                  \n",
            " out4 (Dense)                   (None, 1)            257         ['dense[0][0]']                  \n",
            "                                                                                                  \n",
            " out5 (Dense)                   (None, 1)            257         ['dense[0][0]']                  \n",
            "                                                                                                  \n",
            "==================================================================================================\n",
            "Total params: 538,422\n",
            "Trainable params: 538,422\n",
            "Non-trainable params: 0\n",
            "__________________________________________________________________________________________________\n"
          ]
        },
        {
          "data": {
            "image/png": "[encoded data removed]",
            "text/plain": [
              "<IPython.core.display.Image object>"
            ]
          },
          "execution_count": 21,
          "metadata": {},
          "output_type": "execute_result"
        }
      ],
      "source": [
        "mod = create_model(80,80,4)\n",
        "mod.summary()\n",
        "\n",
        "tf.keras.utils.plot_model(mod)"
      ]
    },
    {
      "cell_type": "code",
      "execution_count": null,
      "metadata": {
        "id": "qARXo4xE2Q7v"
      },
      "outputs": [],
      "source": []
    }
  ],
  "metadata": {
    "colab": {
      "collapsed_sections": [],
      "name": "final_practice_solutions.ipynb",
      "provenance": []
    },
    "interpreter": {
      "hash": "4ca15500fd69896edc545525a4a2a4d971ed498e96102458b4c19ff6d44db726"
    },
    "kernelspec": {
      "display_name": "Python 3.9.12 ('m1_tf')",
      "language": "python",
      "name": "python3"
    },
    "language_info": {
      "codemirror_mode": {
        "name": "ipython",
        "version": 3
      },
      "file_extension": ".py",
      "mimetype": "text/x-python",
      "name": "python",
      "nbconvert_exporter": "python",
      "pygments_lexer": "ipython3",
      "version": "3.9.12"
    }
  },
  "nbformat": 4,
  "nbformat_minor": 0
}
