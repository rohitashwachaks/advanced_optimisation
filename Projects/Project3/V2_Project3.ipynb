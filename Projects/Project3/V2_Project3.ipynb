{
  "cells": [
    {
      "cell_type": "markdown",
      "id": "506c4707",
      "metadata": {
        "id": "506c4707"
      },
      "source": [
        "# Optimization II Project 3"
      ]
    },
    {
      "cell_type": "markdown",
      "source": [
        "## Importing  Libraries"
      ],
      "metadata": {
        "id": "IEvDUatP9ARu"
      },
      "id": "IEvDUatP9ARu"
    },
    {
      "cell_type": "code",
      "execution_count": null,
      "id": "bcf38d18",
      "metadata": {
        "id": "bcf38d18"
      },
      "outputs": [],
      "source": [
        "import numpy as np\n",
        "import gym\n",
        "import tensorflow as tf\n",
        "import time\n",
        "from tensorflow.keras.models import Model\n",
        "from tensorflow.keras.layers import Dense, Flatten, Dropout, Conv2D, Input, MaxPool2D, MaxPool1D\n",
        "from tensorflow import keras\n",
        "from tqdm import tqdm\n",
        "\n",
        "import matplotlib.pyplot as plt\n",
        "\n",
        "tf.compat.v1.logging.set_verbosity(tf.compat.v1.logging.ERROR) # stop displaying warnings that mean nothing!!!\n",
        "\n",
        "PATH = ''"
      ]
    },
    {
      "cell_type": "markdown",
      "source": [
        "#### Initialising Tensorboard"
      ],
      "metadata": {
        "id": "JlkLeaQn9EOd"
      },
      "id": "JlkLeaQn9EOd"
    },
    {
      "cell_type": "code",
      "execution_count": null,
      "id": "001f080c",
      "metadata": {
        "id": "001f080c"
      },
      "outputs": [],
      "source": [
        "# %load_ext tensorboard\n",
        "# %tensorboard --logdir logs/fit\n",
        "# # %tensorboard --logdir=data/ --host localhost --port 8888"
      ]
    },
    {
      "cell_type": "markdown",
      "id": "39e73fe3",
      "metadata": {
        "id": "39e73fe3"
      },
      "source": [
        "## Run on Google Colab"
      ]
    },
    {
      "cell_type": "code",
      "execution_count": null,
      "id": "c73783bc",
      "metadata": {
        "id": "c73783bc"
      },
      "outputs": [],
      "source": [
        "PATH = 'drive/MyDrive/MS/Opti/Project3/'"
      ]
    },
    {
      "cell_type": "code",
      "source": [
        "from google.colab import drive\n",
        "drive.mount('/content/drive')"
      ],
      "metadata": {
        "colab": {
          "base_uri": "https://localhost:8080/"
        },
        "id": "Al9wQxGp9bU_",
        "outputId": "f2101f62-6b29-4317-aed6-dab66ccbc65b"
      },
      "id": "Al9wQxGp9bU_",
      "execution_count": null,
      "outputs": [
        {
          "output_type": "stream",
          "name": "stdout",
          "text": [
            "Drive already mounted at /content/drive; to attempt to forcibly remount, call drive.mount(\"/content/drive\", force_remount=True).\n"
          ]
        }
      ]
    },
    {
      "cell_type": "code",
      "source": [
        "# !python -m atari_py.import_roms /content/drive/MyDrive/MS/Opti/Roms/"
      ],
      "metadata": {
        "colab": {
          "base_uri": "https://localhost:8080/"
        },
        "id": "DBRDOHnJ7BMG",
        "outputId": "cf2a355b-a6a0-4f20-86ac-29d6d2e91b2e"
      },
      "id": "DBRDOHnJ7BMG",
      "execution_count": null,
      "outputs": [
        {
          "output_type": "stream",
          "name": "stdout",
          "text": [
            "copying atlantis.bin from /content/drive/MyDrive/MS/Opti/Roms/HC ROMS/BY ALPHABET/A-G/Atlantis.bin to /usr/local/lib/python3.7/dist-packages/atari_py/atari_roms/atlantis.bin\n",
            "copying chopper_command.bin from /content/drive/MyDrive/MS/Opti/Roms/HC ROMS/BY ALPHABET/A-G/Chopper Command.bin to /usr/local/lib/python3.7/dist-packages/atari_py/atari_roms/chopper_command.bin\n",
            "copying breakout.bin from /content/drive/MyDrive/MS/Opti/Roms/HC ROMS/BY ALPHABET/A-G/Breakout - Breakaway IV.bin to /usr/local/lib/python3.7/dist-packages/atari_py/atari_roms/breakout.bin\n",
            "copying boxing.bin from /content/drive/MyDrive/MS/Opti/Roms/HC ROMS/BY ALPHABET/A-G/Boxing.bin to /usr/local/lib/python3.7/dist-packages/atari_py/atari_roms/boxing.bin\n",
            "copying freeway.bin from /content/drive/MyDrive/MS/Opti/Roms/HC ROMS/BY ALPHABET/A-G/Freeway.bin to /usr/local/lib/python3.7/dist-packages/atari_py/atari_roms/freeway.bin\n",
            "copying bank_heist.bin from /content/drive/MyDrive/MS/Opti/Roms/HC ROMS/BY ALPHABET/A-G/Bank Heist.bin to /usr/local/lib/python3.7/dist-packages/atari_py/atari_roms/bank_heist.bin\n",
            "copying demon_attack.bin from /content/drive/MyDrive/MS/Opti/Roms/HC ROMS/BY ALPHABET/A-G/Demon Attack.bin to /usr/local/lib/python3.7/dist-packages/atari_py/atari_roms/demon_attack.bin\n",
            "copying air_raid.bin from /content/drive/MyDrive/MS/Opti/Roms/HC ROMS/BY ALPHABET/A-G/Air Raid (PAL).bin to /usr/local/lib/python3.7/dist-packages/atari_py/atari_roms/air_raid.bin\n",
            "copying amidar.bin from /content/drive/MyDrive/MS/Opti/Roms/HC ROMS/BY ALPHABET/A-G/Amidar.bin to /usr/local/lib/python3.7/dist-packages/atari_py/atari_roms/amidar.bin\n",
            "copying asteroids.bin from /content/drive/MyDrive/MS/Opti/Roms/HC ROMS/BY ALPHABET/A-G/Asteroids [no copyright].bin to /usr/local/lib/python3.7/dist-packages/atari_py/atari_roms/asteroids.bin\n",
            "copying alien.bin from /content/drive/MyDrive/MS/Opti/Roms/HC ROMS/BY ALPHABET/A-G/Alien.bin to /usr/local/lib/python3.7/dist-packages/atari_py/atari_roms/alien.bin\n",
            "copying bowling.bin from /content/drive/MyDrive/MS/Opti/Roms/HC ROMS/BY ALPHABET/A-G/Bowling.bin to /usr/local/lib/python3.7/dist-packages/atari_py/atari_roms/bowling.bin\n",
            "copying berzerk.bin from /content/drive/MyDrive/MS/Opti/Roms/HC ROMS/BY ALPHABET/A-G/Berzerk.bin to /usr/local/lib/python3.7/dist-packages/atari_py/atari_roms/berzerk.bin\n",
            "copying beam_rider.bin from /content/drive/MyDrive/MS/Opti/Roms/HC ROMS/BY ALPHABET/A-G/Beamrider.bin to /usr/local/lib/python3.7/dist-packages/atari_py/atari_roms/beam_rider.bin\n",
            "copying battle_zone.bin from /content/drive/MyDrive/MS/Opti/Roms/HC ROMS/BY ALPHABET/A-G/Battlezone.bin to /usr/local/lib/python3.7/dist-packages/atari_py/atari_roms/battle_zone.bin\n",
            "copying carnival.bin from /content/drive/MyDrive/MS/Opti/Roms/HC ROMS/BY ALPHABET/A-G/Carnival.bin to /usr/local/lib/python3.7/dist-packages/atari_py/atari_roms/carnival.bin\n",
            "copying centipede.bin from /content/drive/MyDrive/MS/Opti/Roms/HC ROMS/BY ALPHABET/A-G/Centipede.bin to /usr/local/lib/python3.7/dist-packages/atari_py/atari_roms/centipede.bin\n",
            "copying crazy_climber.bin from /content/drive/MyDrive/MS/Opti/Roms/HC ROMS/BY ALPHABET/A-G/Crazy Climber.bin to /usr/local/lib/python3.7/dist-packages/atari_py/atari_roms/crazy_climber.bin\n",
            "copying donkey_kong.bin from /content/drive/MyDrive/MS/Opti/Roms/HC ROMS/BY ALPHABET/A-G/Donkey Kong.bin to /usr/local/lib/python3.7/dist-packages/atari_py/atari_roms/donkey_kong.bin\n",
            "copying defender.bin from /content/drive/MyDrive/MS/Opti/Roms/HC ROMS/BY ALPHABET/A-G/Defender.bin to /usr/local/lib/python3.7/dist-packages/atari_py/atari_roms/defender.bin\n",
            "copying double_dunk.bin from /content/drive/MyDrive/MS/Opti/Roms/HC ROMS/BY ALPHABET/A-G/Double Dunk.bin to /usr/local/lib/python3.7/dist-packages/atari_py/atari_roms/double_dunk.bin\n",
            "copying enduro.bin from /content/drive/MyDrive/MS/Opti/Roms/HC ROMS/BY ALPHABET/A-G/Enduro.bin to /usr/local/lib/python3.7/dist-packages/atari_py/atari_roms/enduro.bin\n",
            "copying frogger.bin from /content/drive/MyDrive/MS/Opti/Roms/HC ROMS/BY ALPHABET/A-G/Frogger.bin to /usr/local/lib/python3.7/dist-packages/atari_py/atari_roms/frogger.bin\n",
            "copying frostbite.bin from /content/drive/MyDrive/MS/Opti/Roms/HC ROMS/BY ALPHABET/A-G/Frostbite.bin to /usr/local/lib/python3.7/dist-packages/atari_py/atari_roms/frostbite.bin\n",
            "copying fishing_derby.bin from /content/drive/MyDrive/MS/Opti/Roms/HC ROMS/BY ALPHABET/A-G/Fishing Derby.bin to /usr/local/lib/python3.7/dist-packages/atari_py/atari_roms/fishing_derby.bin\n",
            "copying gravitar.bin from /content/drive/MyDrive/MS/Opti/Roms/HC ROMS/BY ALPHABET/A-G/Gravitar.bin to /usr/local/lib/python3.7/dist-packages/atari_py/atari_roms/gravitar.bin\n",
            "copying gopher.bin from /content/drive/MyDrive/MS/Opti/Roms/HC ROMS/BY ALPHABET/A-G/Gopher.bin to /usr/local/lib/python3.7/dist-packages/atari_py/atari_roms/gopher.bin\n",
            "copying galaxian.bin from /content/drive/MyDrive/MS/Opti/Roms/HC ROMS/BY ALPHABET/A-G/Galaxian.bin to /usr/local/lib/python3.7/dist-packages/atari_py/atari_roms/galaxian.bin\n",
            "copying elevator_action.bin from /content/drive/MyDrive/MS/Opti/Roms/HC ROMS/BY ALPHABET/A-G/Elevator Action (Prototype).bin to /usr/local/lib/python3.7/dist-packages/atari_py/atari_roms/elevator_action.bin\n",
            "copying ms_pacman.bin from /content/drive/MyDrive/MS/Opti/Roms/HC ROMS/BY ALPHABET/H-R/Ms. Pac-Man.bin to /usr/local/lib/python3.7/dist-packages/atari_py/atari_roms/ms_pacman.bin\n",
            "copying kung_fu_master.bin from /content/drive/MyDrive/MS/Opti/Roms/HC ROMS/BY ALPHABET/H-R/Kung-Fu Master.bin to /usr/local/lib/python3.7/dist-packages/atari_py/atari_roms/kung_fu_master.bin\n",
            "copying pitfall.bin from /content/drive/MyDrive/MS/Opti/Roms/HC ROMS/BY ALPHABET/H-R/Pitfall! - Pitfall Harry's Jungle Adventure.bin to /usr/local/lib/python3.7/dist-packages/atari_py/atari_roms/pitfall.bin\n",
            "copying ice_hockey.bin from /content/drive/MyDrive/MS/Opti/Roms/HC ROMS/BY ALPHABET/H-R/Ice Hockey.bin to /usr/local/lib/python3.7/dist-packages/atari_py/atari_roms/ice_hockey.bin\n",
            "copying kaboom.bin from /content/drive/MyDrive/MS/Opti/Roms/HC ROMS/BY ALPHABET/H-R/Kaboom!.bin to /usr/local/lib/python3.7/dist-packages/atari_py/atari_roms/kaboom.bin\n",
            "copying koolaid.bin from /content/drive/MyDrive/MS/Opti/Roms/HC ROMS/BY ALPHABET/H-R/Kool-Aid Man.bin to /usr/local/lib/python3.7/dist-packages/atari_py/atari_roms/koolaid.bin\n",
            "copying robotank.bin from /content/drive/MyDrive/MS/Opti/Roms/HC ROMS/BY ALPHABET/H-R/Robot Tank.bin to /usr/local/lib/python3.7/dist-packages/atari_py/atari_roms/robotank.bin\n",
            "copying hero.bin from /content/drive/MyDrive/MS/Opti/Roms/HC ROMS/BY ALPHABET/H-R/H.E.R.O..bin to /usr/local/lib/python3.7/dist-packages/atari_py/atari_roms/hero.bin\n",
            "copying montezuma_revenge.bin from /content/drive/MyDrive/MS/Opti/Roms/HC ROMS/BY ALPHABET/H-R/Montezuma's Revenge - Featuring Panama Joe.bin to /usr/local/lib/python3.7/dist-packages/atari_py/atari_roms/montezuma_revenge.bin\n",
            "copying krull.bin from /content/drive/MyDrive/MS/Opti/Roms/HC ROMS/BY ALPHABET/H-R/Krull.bin to /usr/local/lib/python3.7/dist-packages/atari_py/atari_roms/krull.bin\n",
            "copying kangaroo.bin from /content/drive/MyDrive/MS/Opti/Roms/HC ROMS/BY ALPHABET/H-R/Kangaroo.bin to /usr/local/lib/python3.7/dist-packages/atari_py/atari_roms/kangaroo.bin\n",
            "copying journey_escape.bin from /content/drive/MyDrive/MS/Opti/Roms/HC ROMS/BY ALPHABET/H-R/Journey Escape.bin to /usr/local/lib/python3.7/dist-packages/atari_py/atari_roms/journey_escape.bin\n",
            "copying name_this_game.bin from /content/drive/MyDrive/MS/Opti/Roms/HC ROMS/BY ALPHABET/H-R/Name This Game.bin to /usr/local/lib/python3.7/dist-packages/atari_py/atari_roms/name_this_game.bin\n",
            "copying private_eye.bin from /content/drive/MyDrive/MS/Opti/Roms/HC ROMS/BY ALPHABET/H-R/Private Eye.bin to /usr/local/lib/python3.7/dist-packages/atari_py/atari_roms/private_eye.bin\n",
            "copying phoenix.bin from /content/drive/MyDrive/MS/Opti/Roms/HC ROMS/BY ALPHABET/H-R/Phoenix.bin to /usr/local/lib/python3.7/dist-packages/atari_py/atari_roms/phoenix.bin\n",
            "copying qbert.bin from /content/drive/MyDrive/MS/Opti/Roms/HC ROMS/BY ALPHABET/H-R/Q-bert.bin to /usr/local/lib/python3.7/dist-packages/atari_py/atari_roms/qbert.bin\n",
            "copying pooyan.bin from /content/drive/MyDrive/MS/Opti/Roms/HC ROMS/BY ALPHABET/H-R/Pooyan.bin to /usr/local/lib/python3.7/dist-packages/atari_py/atari_roms/pooyan.bin\n",
            "copying jamesbond.bin from /content/drive/MyDrive/MS/Opti/Roms/HC ROMS/BY ALPHABET/H-R/James Bond 007.bin to /usr/local/lib/python3.7/dist-packages/atari_py/atari_roms/jamesbond.bin\n",
            "copying lost_luggage.bin from /content/drive/MyDrive/MS/Opti/Roms/HC ROMS/BY ALPHABET/H-R/Lost Luggage [no opening scene].bin to /usr/local/lib/python3.7/dist-packages/atari_py/atari_roms/lost_luggage.bin\n",
            "copying riverraid.bin from /content/drive/MyDrive/MS/Opti/Roms/HC ROMS/BY ALPHABET/H-R/River Raid.bin to /usr/local/lib/python3.7/dist-packages/atari_py/atari_roms/riverraid.bin\n",
            "copying road_runner.bin from patched version of /content/drive/MyDrive/MS/Opti/Roms/HC ROMS/BY ALPHABET/H-R/Road Runner.bin to /usr/local/lib/python3.7/dist-packages/atari_py/atari_roms/road_runner.bin\n",
            "copying up_n_down.bin from /content/drive/MyDrive/MS/Opti/Roms/HC ROMS/BY ALPHABET/S-Z/Up 'n Down.bin to /usr/local/lib/python3.7/dist-packages/atari_py/atari_roms/up_n_down.bin\n",
            "copying skiing.bin from /content/drive/MyDrive/MS/Opti/Roms/HC ROMS/BY ALPHABET/S-Z/Skiing.bin to /usr/local/lib/python3.7/dist-packages/atari_py/atari_roms/skiing.bin\n",
            "copying tennis.bin from /content/drive/MyDrive/MS/Opti/Roms/HC ROMS/BY ALPHABET/S-Z/Tennis.bin to /usr/local/lib/python3.7/dist-packages/atari_py/atari_roms/tennis.bin\n",
            "copying star_gunner.bin from /content/drive/MyDrive/MS/Opti/Roms/HC ROMS/BY ALPHABET/S-Z/Stargunner.bin to /usr/local/lib/python3.7/dist-packages/atari_py/atari_roms/star_gunner.bin\n",
            "copying trondead.bin from /content/drive/MyDrive/MS/Opti/Roms/HC ROMS/BY ALPHABET/S-Z/TRON - Deadly Discs.bin to /usr/local/lib/python3.7/dist-packages/atari_py/atari_roms/trondead.bin\n",
            "copying space_invaders.bin from /content/drive/MyDrive/MS/Opti/Roms/HC ROMS/BY ALPHABET/S-Z/Space Invaders.bin to /usr/local/lib/python3.7/dist-packages/atari_py/atari_roms/space_invaders.bin\n",
            "copying video_pinball.bin from /content/drive/MyDrive/MS/Opti/Roms/HC ROMS/BY ALPHABET/S-Z/Video Pinball - Arcade Pinball.bin to /usr/local/lib/python3.7/dist-packages/atari_py/atari_roms/video_pinball.bin\n",
            "copying surround.bin from /content/drive/MyDrive/MS/Opti/Roms/HC ROMS/BY ALPHABET/S-Z/Surround - Chase.bin to /usr/local/lib/python3.7/dist-packages/atari_py/atari_roms/surround.bin\n",
            "copying seaquest.bin from /content/drive/MyDrive/MS/Opti/Roms/HC ROMS/BY ALPHABET/S-Z/Seaquest.bin to /usr/local/lib/python3.7/dist-packages/atari_py/atari_roms/seaquest.bin\n",
            "copying solaris.bin from /content/drive/MyDrive/MS/Opti/Roms/HC ROMS/BY ALPHABET/S-Z/Solaris.bin to /usr/local/lib/python3.7/dist-packages/atari_py/atari_roms/solaris.bin\n",
            "copying pong.bin from /content/drive/MyDrive/MS/Opti/Roms/HC ROMS/BY ALPHABET/S-Z/Video Olympics - Pong Sports.bin to /usr/local/lib/python3.7/dist-packages/atari_py/atari_roms/pong.bin\n",
            "copying wizard_of_wor.bin from /content/drive/MyDrive/MS/Opti/Roms/HC ROMS/BY ALPHABET/S-Z/Wizard of Wor.bin to /usr/local/lib/python3.7/dist-packages/atari_py/atari_roms/wizard_of_wor.bin\n",
            "copying venture.bin from /content/drive/MyDrive/MS/Opti/Roms/HC ROMS/BY ALPHABET/S-Z/Venture.bin to /usr/local/lib/python3.7/dist-packages/atari_py/atari_roms/venture.bin\n",
            "copying yars_revenge.bin from /content/drive/MyDrive/MS/Opti/Roms/HC ROMS/BY ALPHABET/S-Z/Yars' Revenge.bin to /usr/local/lib/python3.7/dist-packages/atari_py/atari_roms/yars_revenge.bin\n",
            "copying tutankham.bin from /content/drive/MyDrive/MS/Opti/Roms/HC ROMS/BY ALPHABET/S-Z/Tutankham.bin to /usr/local/lib/python3.7/dist-packages/atari_py/atari_roms/tutankham.bin\n",
            "copying zaxxon.bin from /content/drive/MyDrive/MS/Opti/Roms/HC ROMS/BY ALPHABET/S-Z/Zaxxon.bin to /usr/local/lib/python3.7/dist-packages/atari_py/atari_roms/zaxxon.bin\n",
            "copying time_pilot.bin from /content/drive/MyDrive/MS/Opti/Roms/HC ROMS/BY ALPHABET/S-Z/Time Pilot.bin to /usr/local/lib/python3.7/dist-packages/atari_py/atari_roms/time_pilot.bin\n",
            "copying adventure.bin from /content/drive/MyDrive/MS/Opti/Roms/HC ROMS/BY ALPHABET (PAL)/A-G/Adventure (PAL).bin to /usr/local/lib/python3.7/dist-packages/atari_py/atari_roms/adventure.bin\n",
            "copying sir_lancelot.bin from /content/drive/MyDrive/MS/Opti/Roms/HC ROMS/BY ALPHABET (PAL)/S-Z/Sir Lancelot (PAL).bin to /usr/local/lib/python3.7/dist-packages/atari_py/atari_roms/sir_lancelot.bin\n",
            "copying pacman.bin from /content/drive/MyDrive/MS/Opti/Roms/HC ROMS/BY ALPHABET (PAL)/H-R/Pac-Man (PAL).bin to /usr/local/lib/python3.7/dist-packages/atari_py/atari_roms/pacman.bin\n",
            "copying keystone_kapers.bin from /content/drive/MyDrive/MS/Opti/Roms/HC ROMS/BY ALPHABET (PAL)/H-R/Keystone Kapers (PAL).bin to /usr/local/lib/python3.7/dist-packages/atari_py/atari_roms/keystone_kapers.bin\n",
            "copying king_kong.bin from /content/drive/MyDrive/MS/Opti/Roms/HC ROMS/BY ALPHABET (PAL)/H-R/King Kong (PAL).bin to /usr/local/lib/python3.7/dist-packages/atari_py/atari_roms/king_kong.bin\n",
            "copying laser_gates.bin from /content/drive/MyDrive/MS/Opti/Roms/HC ROMS/BY ALPHABET (PAL)/H-R/Laser Gates (PAL).bin to /usr/local/lib/python3.7/dist-packages/atari_py/atari_roms/laser_gates.bin\n",
            "copying mr_do.bin from /content/drive/MyDrive/MS/Opti/Roms/HC ROMS/BY ALPHABET (PAL)/H-R/Mr. Do! (PAL).bin to /usr/local/lib/python3.7/dist-packages/atari_py/atari_roms/mr_do.bin\n",
            "copying assault.bin from /content/drive/MyDrive/MS/Opti/Roms/HC ROMS/NTSC VERSIONS OF PAL ORIGINALS/Assault (AKA Sky Alien) (1983) (Bomb - Onbase) (CA281).bin to /usr/local/lib/python3.7/dist-packages/atari_py/atari_roms/assault.bin\n",
            "copying asterix.bin from /content/drive/MyDrive/MS/Opti/Roms/ROMS/Asterix (AKA Taz) (1984) (Atari, Jerome Domurat, Steve Woita) (CX2696).bin to /usr/local/lib/python3.7/dist-packages/atari_py/atari_roms/asterix.bin\n",
            "Traceback (most recent call last):\n",
            "  File \"/usr/lib/python3.7/runpy.py\", line 193, in _run_module_as_main\n",
            "    \"__main__\", mod_spec)\n",
            "  File \"/usr/lib/python3.7/runpy.py\", line 85, in _run_code\n",
            "    exec(code, run_globals)\n",
            "  File \"/usr/local/lib/python3.7/dist-packages/atari_py/import_roms.py\", line 93, in <module>\n",
            "    main()\n",
            "  File \"/usr/local/lib/python3.7/dist-packages/atari_py/import_roms.py\", line 89, in main\n",
            "    import_roms(args.dirpath)\n",
            "  File \"/usr/local/lib/python3.7/dist-packages/atari_py/import_roms.py\", line 82, in import_roms\n",
            "    save_if_matches(f)\n",
            "  File \"/usr/local/lib/python3.7/dist-packages/atari_py/import_roms.py\", line 48, in save_if_matches\n",
            "    hexdigest = _calc_md5(f)\n",
            "  File \"/usr/local/lib/python3.7/dist-packages/atari_py/import_roms.py\", line 29, in _calc_md5\n",
            "    chunk = f.read(MD5_CHUNK_SIZE)\n",
            "KeyboardInterrupt\n"
          ]
        }
      ]
    },
    {
      "cell_type": "markdown",
      "source": [
        "## Initialising Environment"
      ],
      "metadata": {
        "id": "0eLBkp4H9KRK"
      },
      "id": "0eLBkp4H9KRK"
    },
    {
      "cell_type": "markdown",
      "source": [
        "#### Pre-Processing Environment"
      ],
      "metadata": {
        "id": "UVLI6n9c-6R_"
      },
      "id": "UVLI6n9c-6R_"
    },
    {
      "cell_type": "code",
      "execution_count": null,
      "id": "b8cc65f7",
      "metadata": {
        "id": "b8cc65f7"
      },
      "outputs": [],
      "source": [
        "def prepro(I):\n",
        "    I = I[::2,:,0].copy() # downsample by factor of 2\n",
        "    dim = I.shape\n",
        "    I = I.reshape(dim[0], dim[1])   # convert to a 2D array\n",
        "    I = I[10:,::] # remove the top 10 rows of pixels : Score\n",
        "\n",
        "    I[I != 0] = 1 # everything else (paddles, ball) just set to 1\n",
        "    I = np.any( np.array(np.array_split(I, I.shape[1]//2, axis=1)) == 1, axis = 2).T\n",
        " \n",
        "    return np.array(I)\n",
        "\n",
        "\n",
        "def segment_env(I):\n",
        "    '''\n",
        "        segment the environment into 4 parts\n",
        "        returns a list of 4 images\n",
        "        Mothership, spawns, spaceship, lives, gun_heat\n",
        "    '''\n",
        "    I = I.copy()\n",
        "    I = prepro(I)\n",
        "    row_count, col_count = I.shape\n",
        "    # Mothership\n",
        "    I_mothership = I[:10, :]\n",
        "    I_mothership = np.any(I_mothership == 1, axis=0).reshape(1, col_count)\n",
        "    \n",
        "    # Spawns\n",
        "    I_spawns = I[10:row_count - 16, :]\n",
        "    I_spawns = np.array([np.any(x == 1, axis=0) for x in np.array_split(I_spawns, I_spawns.shape[0]//2, axis=0)])\n",
        "\n",
        "    # Spaceship\n",
        "    I_spaceship = I[row_count-16:row_count-12, :]\n",
        "    I_spaceship = np.any(I_spaceship == 1, axis=0).reshape(1, col_count)\n",
        "    \n",
        "    # Lets not bother about this now\n",
        "    # Lives\n",
        "    I_lives = I[row_count-10:row_count-5, :col_count//2]\n",
        "    I_lives = np.any(I_lives == 1, axis=0).reshape(1, col_count//2)\n",
        "    split = np.array(np.array_split(I_lives[:, 4:], 4, axis = 1))\n",
        "    num_lives = np.any(split == 1, axis = 2).sum() + 1\n",
        "    # print('Num Lives',num_lives)\n",
        "    \n",
        "    # gun_heat\n",
        "    I_gun_heat = I[row_count-10:row_count-5, col_count//2:]\n",
        "    I_gun_heat = np.any(I_gun_heat == 1, axis=0).reshape(1, col_count//2)\n",
        "    \n",
        "    heat_gun_padding = 8\n",
        "    percent_heat = I_gun_heat[:, heat_gun_padding:].sum() / I_gun_heat[:, heat_gun_padding:].shape[1]\n",
        "    # print('Percent Heat', percent_heat)\n",
        "\n",
        "    I_health = np.concatenate((I_lives, I_gun_heat), axis=1)\n",
        "\n",
        "    segment_list = [I_mothership, I_spawns, I_spaceship]#, I_health]\n",
        "    # return segment_list\n",
        "    return np.concatenate(segment_list, axis=0), num_lives, percent_heat\n"
      ]
    },
    {
      "cell_type": "code",
      "source": [
        "\n",
        "def plot_environment(I):\n",
        "    fig, ax = plt.subplots(1, 2, figsize=(10, 10), sharex= False, sharey= False)\n",
        "    ax[0].imshow(I)\n",
        "\n",
        "    prep_im, _, _ = segment_env(I)\n",
        "    ax[1].imshow(prep_im, cmap='gray')\n",
        "    plt.show()"
      ],
      "metadata": {
        "id": "V5NMqKYuIPGC"
      },
      "id": "V5NMqKYuIPGC",
      "execution_count": null,
      "outputs": []
    },
    {
      "cell_type": "markdown",
      "source": [
        "#### Initialising Environment Variables"
      ],
      "metadata": {
        "id": "4QSjxjST-_ka"
      },
      "id": "4QSjxjST-_ka"
    },
    {
      "cell_type": "code",
      "execution_count": null,
      "id": "dba62112",
      "metadata": {
        "id": "dba62112"
      },
      "outputs": [],
      "source": [
        "frames_to_net = 1\n",
        "frames_this_game = 0\n",
        "\n",
        "env = gym.make(\"Assault-v0\")\n",
        "\n",
        "pix = env.reset()\n",
        "for i in range(15):\n",
        "    pix, reward, done, info = env.step(env.action_space.sample()) # take a random action\n",
        "\n",
        "board_dimensions = segment_env(pix)[0].shape\n",
        "\n",
        "env.reset()\n",
        "env.close()\n",
        "\n",
        "print(board_dimensions)\n",
        "\n",
        "action_space = env.action_space.n\n",
        "print(env.unwrapped.get_action_meanings())\n",
        "del env"
      ]
    },
    {
      "cell_type": "markdown",
      "id": "3abc1325",
      "metadata": {
        "id": "3abc1325"
      },
      "source": [
        "## Policy Gradient with linear annealing, memory buffer, and same action for 4 consecutive frames"
      ]
    },
    {
      "cell_type": "code",
      "execution_count": null,
      "id": "7dcb1d2f",
      "metadata": {
        "id": "7dcb1d2f"
      },
      "outputs": [],
      "source": [
        "def discount_rewards(r):\n",
        "    delt = 0.99 # discount factor\n",
        "    nr = len(r)\n",
        "    # we want to change all those zeros into discounted values of the next reward (this is the value function!)\n",
        "    discounted_r = [0.0]*nr\n",
        "    \n",
        "    for t in range(nr):\n",
        "        # start at the end\n",
        "        if r[nr-t-1] > 0: # if you won a point in this frame we want a good reward\n",
        "            discounted_r[nr-t-1] = 1\n",
        "        elif r[nr-t-1] < 0: # if we lost the point we want a bad reward\n",
        "            discounted_r[nr-t-1] = -1\n",
        "        elif t==0: # this is just for error catching...at t==0 r[nr-t-1] should have already been + or -...\n",
        "            discounted_r[nr-t-1] = 0\n",
        "        elif discounted_r[nr-t-1] == 0: # otherwise you want to look at the next reward value and discount it\n",
        "            discounted_r[nr-t-1] = delt*discounted_r[nr-t]\n",
        "    return discounted_r"
      ]
    },
    {
      "cell_type": "code",
      "execution_count": null,
      "id": "5bcc648e",
      "metadata": {
        "id": "5bcc648e"
      },
      "outputs": [],
      "source": [
        "frames_to_net = 4              # how many previous frames will we feed the NN\n",
        "possible_actions = [x for x in range(5)] # the possible actions we can take"
      ]
    },
    {
      "cell_type": "markdown",
      "id": "8948100c",
      "metadata": {
        "id": "8948100c"
      },
      "source": [
        "## Play a game"
      ]
    },
    {
      "cell_type": "code",
      "source": [
        "def play1game(model, ep = 0, render=False, slow= 0.01):\n",
        "    env0 = gym.make(\"Assault-v0\")\n",
        "    pix = env0.reset()\n",
        "    pix, num_lives, percent_heat = segment_env(pix)\n",
        "\n",
        "    num_bombs = -1 # at least 1 object in this line...my bot\n",
        "    for i in range(1,pix.shape[1],3):\n",
        "        if pix[-1,i] == 1 and pix[-1,i-1] == 1:\n",
        "            num_bombs += 1\n",
        "    \n",
        "    health = np.array([num_lives, percent_heat]).reshape((1,2))\n",
        "    dimensions = pix.shape\n",
        "\n",
        "    action_space = env0.unwrapped.action_space.n -2# the -2 is because we don't want to fire left or right\n",
        "    \n",
        "    frames_this_game = 0\n",
        "    feed = np.zeros((1, dimensions[0], dimensions[1],frames_to_net))\n",
        "    feed[0,:,:,0] = pix.copy()\n",
        "    \n",
        "    health_feed = np.zeros((1,1,2, frames_to_net))\n",
        "    health_feed[0,:,:,0] = health.copy()\n",
        "    \n",
        "    \n",
        "    frame_array = []\n",
        "    health_array = []\n",
        "    action_array = []\n",
        "    reward_array = []\n",
        "    \n",
        "    score = 0\n",
        "    action = 0\n",
        "    done = False\n",
        "    try:\n",
        "        while not done:\n",
        "            if render == True: # do you actually want to visualize the playing?\n",
        "                env0.render()\n",
        "                time.sleep(slow)\n",
        "            \n",
        "            # skipping every 4 frames\n",
        "            if frames_this_game%4 == 0:\n",
        "                # epsilon-greedy\n",
        "                if np.random.random() < ep:\n",
        "                    action = np.random.choice(action_space)\n",
        "                else:\n",
        "                    vf = model([feed, health_feed ],training=False).numpy()[0]\n",
        "                    action = np.random.choice(action_space,p=vf)\n",
        "\n",
        "            if num_bombs > 0: # if we have a bomb, we want to fire left/right\n",
        "                action = np.random.choice([0,1], p=[0.5, 0.5]) + action_space\n",
        "            \n",
        "            pix_new, reward, done, info = env0.step(action)\n",
        "            pix, num_lives, percent_heat = segment_env(pix_new)\n",
        "            health = np.array([num_lives, percent_heat]).reshape((1,2))\n",
        "\n",
        "            frame_array.append(pix)\n",
        "            action_array.append(action)\n",
        "            reward_array.append(reward)\n",
        "            health_array.append(health)\n",
        "            frames_this_game += 1\n",
        "\n",
        "            for f in range(1,frames_to_net):\n",
        "                feed[0,:,:,frames_to_net-f] = feed[0,:,:,frames_to_net-f-1].copy()\n",
        "            feed[0,:,:,0] = pix.copy()\n",
        "            score += reward\n",
        "\n",
        "            if frames_this_game > 50000:#5000000:\n",
        "                print(\"Game is taking too long, breaking\")\n",
        "                done = True\n",
        "                break\n",
        "    \n",
        "    except Exception as e:\n",
        "        print(e)\n",
        "    except KeyboardInterrupt:\n",
        "        print('KeyboardInterrupt')\n",
        "    finally:\n",
        "        env0.reset()\n",
        "        env0.close()\n",
        "        \n",
        "    return frame_array, health_array, action_array, reward_array, score"
      ],
      "metadata": {
        "id": "SMGNzXq87ukS"
      },
      "id": "SMGNzXq87ukS",
      "execution_count": null,
      "outputs": []
    },
    {
      "cell_type": "markdown",
      "id": "d9099c3c",
      "metadata": {
        "id": "d9099c3c"
      },
      "source": [
        "## Creating CNN"
      ]
    },
    {
      "cell_type": "markdown",
      "source": [
        "#### Define a Neural Network"
      ],
      "metadata": {
        "id": "nC1Uugug-TEK"
      },
      "id": "nC1Uugug-TEK"
    },
    {
      "cell_type": "code",
      "source": [
        "# def create_model(height,width,channels, action_space):\n",
        "#     # we cannot simply have 3 output nodes because we want to put a weight on each node's impact to the objective\n",
        "#     # that is different for each data point.  the only way to achieve this is to have 3 output layers, each having 1 node\n",
        "#     # the effect is the same, just the way TF/keras handles weights is different\n",
        "#     imp = Input(shape=(height,width,channels))\n",
        "#     mid = Conv2D(32,(4,4),strides=2,activation='relu')(imp)\n",
        "#     mid = Conv2D(16,(5,5),strides=4,activation='relu')(mid)\n",
        "#     mid = Flatten()(mid)\n",
        "#     mid = Dense(256,activation='relu')(mid)\n",
        "#     out0 = Dense(action_space,activation='softmax')(mid)\n",
        "#     model = Model(imp,out0) \n",
        "    \n",
        "#     model.compile(optimizer=tf.keras.optimizers.Adam(learning_rate=1e-6),loss='sparse_categorical_crossentropy')\n",
        "    \n",
        "#     return model\n",
        "\n",
        "# # def create_model(height,width,channels, action_space):\n",
        "# #     # we cannot simply have 3 output nodes because we want to put a weight on each node's impact to the objective\n",
        "# #     # that is different for each data point.  the only way to achieve this is to have 3 output layers, each having 1 node\n",
        "# #     # the effect is the same, just the way TF/keras handles weights is different\n",
        "# #     imp = Input(shape=(height,width,channels))\n",
        "# #     mid = Conv2D(32,(2,2),strides=4,activation='relu')(imp)\n",
        "# #     mid = MaxPool2D(pool_size = (2,2))(mid)\n",
        "    \n",
        "# #     mid = Conv2D(64,(2,2),strides=2,activation='relu')(mid)\n",
        "# #     mid = MaxPool2D(pool_size = (2,2))(mid)\n",
        "    \n",
        "# #     # mid = Conv2D(64,(2,2),strides=1,activation='relu')(mid)\n",
        "# #     # mid = MaxPool2D(pool_size = (2,2))(mid)\n",
        "    \n",
        "# #     mid = Flatten()(mid)\n",
        "    \n",
        "# #     mid = Dense(64,activation='relu')(mid)\n",
        "# #     mid = Dense(32,activation='relu')(mid)\n",
        "# #     out0 = Dense(action_space,activation='softmax')(mid)\n",
        "# #     model = Model(imp,out0) \n",
        "    \n",
        "# #     model.compile(optimizer=tf.keras.optimizers.Adam(learning_rate=1e-6),loss='sparse_categorical_crossentropy')\n",
        "    \n",
        "# #     return model"
      ],
      "metadata": {
        "id": "B1SKNa6ID16u"
      },
      "id": "B1SKNa6ID16u",
      "execution_count": null,
      "outputs": []
    },
    {
      "cell_type": "code",
      "source": [
        "# mod = create_model(\n",
        "#                 height = board_dimensions[0],\n",
        "#                 width = board_dimensions[1],\n",
        "#                 channels = frames_to_net, \n",
        "#                 action_space = env.unwrapped.action_space.n - 2 # the -2 is because we don't want to fire left or right\n",
        "#             )\n",
        "# mod.call = tf.function(mod.call,experimental_relax_shapes=True)\n",
        "\n",
        "# mod.summary()"
      ],
      "metadata": {
        "id": "II1Eh2lTE0O-"
      },
      "id": "II1Eh2lTE0O-",
      "execution_count": null,
      "outputs": []
    },
    {
      "cell_type": "markdown",
      "source": [
        "#### Load pre-trained model from file"
      ],
      "metadata": {
        "id": "CfxvhmwT-En7"
      },
      "id": "CfxvhmwT-En7"
    },
    {
      "cell_type": "code",
      "source": [
        "model_name = 'assault_final'"
      ],
      "metadata": {
        "id": "vNZGsBt6FI0L"
      },
      "id": "vNZGsBt6FI0L",
      "execution_count": null,
      "outputs": []
    },
    {
      "cell_type": "code",
      "source": [
        "mod = tf.keras.models.load_model(PATH+f'weights/{model_name}.h5')\n",
        "mod.call = tf.function(mod.call,experimental_relax_shapes=True)\n",
        "\n",
        "mod.summary()\n",
        "\n",
        "model_name = 'assault_final'"
      ],
      "metadata": {
        "colab": {
          "base_uri": "https://localhost:8080/"
        },
        "id": "lZUd70WT_NiP",
        "outputId": "3b6e4ffd-1e2a-498b-9735-0ff1af49fbfd"
      },
      "id": "lZUd70WT_NiP",
      "execution_count": null,
      "outputs": [
        {
          "output_type": "stream",
          "name": "stdout",
          "text": [
            "Model: \"dual_input_model\"\n",
            "__________________________________________________________________________________________________\n",
            " Layer (type)                   Output Shape         Param #     Connected to                     \n",
            "==================================================================================================\n",
            " board_input (InputLayer)       [(None, 36, 80, 4)]  0           []                               \n",
            "                                                                                                  \n",
            " conv1 (Conv2D)                 (None, 17, 39, 32)   2080        ['board_input[0][0]']            \n",
            "                                                                                                  \n",
            " health_input (InputLayer)      [(None, 1, 2, 4)]    0           []                               \n",
            "                                                                                                  \n",
            " conv2 (Conv2D)                 (None, 4, 9, 16)     12816       ['conv1[0][0]']                  \n",
            "                                                                                                  \n",
            " health_conv1 (Conv2D)          (None, 1, 2, 5)      25          ['health_input[0][0]']           \n",
            "                                                                                                  \n",
            " flatten (Flatten)              (None, 576)          0           ['conv2[0][0]']                  \n",
            "                                                                                                  \n",
            " flatten_1 (Flatten)            (None, 10)           0           ['health_conv1[0][0]']           \n",
            "                                                                                                  \n",
            " tf.concat (TFOpLambda)         (None, 586)          0           ['flatten[0][0]',                \n",
            "                                                                  'flatten_1[0][0]']              \n",
            "                                                                                                  \n",
            " dense1 (Dense)                 (None, 256)          150272      ['tf.concat[0][0]']              \n",
            "                                                                                                  \n",
            " output (Dense)                 (None, 5)            1285        ['dense1[0][0]']                 \n",
            "                                                                                                  \n",
            "==================================================================================================\n",
            "Total params: 166,478\n",
            "Trainable params: 166,478\n",
            "Non-trainable params: 0\n",
            "__________________________________________________________________________________________________\n"
          ]
        }
      ]
    },
    {
      "cell_type": "markdown",
      "source": [
        "## Training"
      ],
      "metadata": {
        "id": "AVSCgfmh93MJ"
      },
      "id": "AVSCgfmh93MJ"
    },
    {
      "cell_type": "code",
      "execution_count": null,
      "id": "c4a09d3d",
      "metadata": {
        "id": "c4a09d3d"
      },
      "outputs": [],
      "source": [
        "tgames = 10000 # training games\n",
        "epsvec = np.linspace(1,0.05,tgames)\n",
        "tgames = 5000\n",
        "ngames = 200 # games played after training\n",
        "nbatch = 10\n",
        "buffn = 200000\n",
        "warmupgames = 5\n",
        "len_buff = 0\n",
        "buffer = {'frames':[], 'healths':[],'actions':[],'rewards':[]}"
      ]
    },
    {
      "cell_type": "code",
      "source": [
        "game = 0\n",
        "scores = []"
      ],
      "metadata": {
        "id": "d84D_OT-Icu2"
      },
      "id": "d84D_OT-Icu2",
      "execution_count": null,
      "outputs": []
    },
    {
      "cell_type": "code",
      "source": [
        "import sys\n",
        "pbar = tqdm(total=tgames)\n",
        "\n",
        "with open(PATH+f'scores_{model_name}.csv','a') as out_file:\n",
        "    # out_file.write('game,score, train_time, len_buff, timestamp\\n')\n",
        "\n",
        "    while True:\n",
        "        pbar.update(1)\n",
        "        start = time.time()\n",
        "        g = min(game, tgames-1)\n",
        "        frames, healths, actions, rewards, score = play1game(mod, epsvec[g])\n",
        "\n",
        "        rewards = discount_rewards(rewards.copy())\n",
        "        # memory buffer\n",
        "        buffer['frames'] += frames.copy()\n",
        "        buffer['healths'] += healths.copy()\n",
        "        buffer['actions'] += actions.copy()\n",
        "        buffer['rewards'] += rewards.copy()\n",
        "        len_buff += len(actions)\n",
        "\n",
        "        if len_buff > buffn:\n",
        "            excess = len_buff - buffn\n",
        "            buffer['frames'] = buffer['frames'][excess:].copy()\n",
        "            buffer['healths'] = buffer['healths'][excess:].copy()\n",
        "            buffer['actions'] = buffer['actions'][excess:].copy()\n",
        "            buffer['rewards'] = buffer['rewards'][excess:].copy()\n",
        "            len_buff = len(buffer['actions'])\n",
        "        rewards = np.array(rewards)\n",
        "        actions = np.array(actions)\n",
        "        nframes = len(frames)\n",
        "\n",
        "        current_frames = np.zeros((nframes, board_dimensions[0], board_dimensions[1],frames_to_net))\n",
        "        current_health = np.zeros((nframes, 1, 2, frames_to_net))\n",
        "        \n",
        "        if game >= warmupgames:\n",
        "            prob = np.ones(len_buff)\n",
        "            prob[np.array(buffer['rewards']) > 0] = 5.0\n",
        "            \n",
        "            prob /= np.sum(prob)\n",
        "            which_choose = np.random.choice(len_buff,size=nframes,replace=False,p=prob)\n",
        "        \n",
        "            for grab in range(nframes):\n",
        "                rewards[grab] = buffer['rewards'][which_choose[grab]]\n",
        "                actions[grab] = buffer['actions'][which_choose[grab]]\n",
        "                for f in range(frames_to_net):\n",
        "                    if grab-f > 0:\n",
        "                        current_frames[grab,:,:,f] = buffer['frames'][which_choose[grab]-f].copy()\n",
        "                        current_health[grab,:,:,f] = buffer['healths'][which_choose[grab]-f].copy()\n",
        "            \n",
        "            history = mod.fit([current_frames, current_health],actions,epochs=1,steps_per_epoch=nbatch,verbose=0,sample_weight=rewards,use_multiprocessing=True)\n",
        "        stop = time.time()\n",
        "        \n",
        "        game += 1\n",
        "        # too many games to train on, hard stop\n",
        "        if game >= tgames:\n",
        "            break\n",
        "        # append consecutive positive scores\n",
        "        if score > 0:\n",
        "            scores.append(score)\n",
        "        elif len(scores) > 0:\n",
        "            scores.pop(0)\n",
        "        else:\n",
        "            pass\n",
        "        t = time.localtime()\n",
        "        out_file.write(str(game)+','+str(score)+','+str(round(stop-start, 4))+','+str(len_buff)+'\\n')\n",
        "        out_file.flush()\n",
        "\n",
        "\n",
        "        mod.save(PATH+f'/weights/{model_name}.h5')\n",
        "        \n",
        "        if (game)%100 == 1:\n",
        "          time.sleep(0.01) # allow changes to reflect on drive\n",
        "        sys.stdout.flush()\n",
        "        if len(scores) > tgames:\n",
        "            break"
      ],
      "metadata": {
        "id": "TUjBMfeEBD96",
        "colab": {
          "base_uri": "https://localhost:8080/"
        },
        "outputId": "5e4a0d84-5bf7-41fa-8f83-13b9b1473d4f"
      },
      "id": "TUjBMfeEBD96",
      "execution_count": null,
      "outputs": [
        {
          "output_type": "stream",
          "name": "stderr",
          "text": [
            " 26%|██▌       | 1306/5000 [2:43:36<6:32:56,  6.38s/it]"
          ]
        }
      ]
    },
    {
      "cell_type": "markdown",
      "source": [
        "## Analysis of Training"
      ],
      "metadata": {
        "id": "F8s4YojE_9vb"
      },
      "id": "F8s4YojE_9vb"
    },
    {
      "cell_type": "code",
      "source": [
        "import pandas as pd\n",
        "\n",
        "df = pd.read_csv(PATH+'scores_assault_final.csv')[['score','train_time']].iloc[:1600,:]\n",
        "df"
      ],
      "metadata": {
        "id": "igyDeqP-AAGM",
        "colab": {
          "base_uri": "https://localhost:8080/",
          "height": 423
        },
        "outputId": "8d5adc87-a0e6-47a5-cdbb-e3389ae9e69e"
      },
      "id": "igyDeqP-AAGM",
      "execution_count": null,
      "outputs": [
        {
          "output_type": "execute_result",
          "data": {
            "text/plain": [
              "      score  train_time\n",
              "0     630.0      6.9340\n",
              "1     378.0      3.8974\n",
              "2     630.0      3.9321\n",
              "3     546.0      4.2368\n",
              "4     567.0      4.8606\n",
              "...     ...         ...\n",
              "1595  609.0      9.9145\n",
              "1596  231.0      2.9064\n",
              "1597  420.0      7.3681\n",
              "1598  399.0      6.2608\n",
              "1599  630.0      9.7673\n",
              "\n",
              "[1600 rows x 2 columns]"
            ],
            "text/html": [
              "\n",
              "  <div id=\"df-924a1c46-89de-4ecf-9a5f-9047cf0c3030\">\n",
              "    <div class=\"colab-df-container\">\n",
              "      <div>\n",
              "<style scoped>\n",
              "    .dataframe tbody tr th:only-of-type {\n",
              "        vertical-align: middle;\n",
              "    }\n",
              "\n",
              "    .dataframe tbody tr th {\n",
              "        vertical-align: top;\n",
              "    }\n",
              "\n",
              "    .dataframe thead th {\n",
              "        text-align: right;\n",
              "    }\n",
              "</style>\n",
              "<table border=\"1\" class=\"dataframe\">\n",
              "  <thead>\n",
              "    <tr style=\"text-align: right;\">\n",
              "      <th></th>\n",
              "      <th>score</th>\n",
              "      <th>train_time</th>\n",
              "    </tr>\n",
              "  </thead>\n",
              "  <tbody>\n",
              "    <tr>\n",
              "      <th>0</th>\n",
              "      <td>630.0</td>\n",
              "      <td>6.9340</td>\n",
              "    </tr>\n",
              "    <tr>\n",
              "      <th>1</th>\n",
              "      <td>378.0</td>\n",
              "      <td>3.8974</td>\n",
              "    </tr>\n",
              "    <tr>\n",
              "      <th>2</th>\n",
              "      <td>630.0</td>\n",
              "      <td>3.9321</td>\n",
              "    </tr>\n",
              "    <tr>\n",
              "      <th>3</th>\n",
              "      <td>546.0</td>\n",
              "      <td>4.2368</td>\n",
              "    </tr>\n",
              "    <tr>\n",
              "      <th>4</th>\n",
              "      <td>567.0</td>\n",
              "      <td>4.8606</td>\n",
              "    </tr>\n",
              "    <tr>\n",
              "      <th>...</th>\n",
              "      <td>...</td>\n",
              "      <td>...</td>\n",
              "    </tr>\n",
              "    <tr>\n",
              "      <th>1595</th>\n",
              "      <td>609.0</td>\n",
              "      <td>9.9145</td>\n",
              "    </tr>\n",
              "    <tr>\n",
              "      <th>1596</th>\n",
              "      <td>231.0</td>\n",
              "      <td>2.9064</td>\n",
              "    </tr>\n",
              "    <tr>\n",
              "      <th>1597</th>\n",
              "      <td>420.0</td>\n",
              "      <td>7.3681</td>\n",
              "    </tr>\n",
              "    <tr>\n",
              "      <th>1598</th>\n",
              "      <td>399.0</td>\n",
              "      <td>6.2608</td>\n",
              "    </tr>\n",
              "    <tr>\n",
              "      <th>1599</th>\n",
              "      <td>630.0</td>\n",
              "      <td>9.7673</td>\n",
              "    </tr>\n",
              "  </tbody>\n",
              "</table>\n",
              "<p>1600 rows × 2 columns</p>\n",
              "</div>\n",
              "      <button class=\"colab-df-convert\" onclick=\"convertToInteractive('df-924a1c46-89de-4ecf-9a5f-9047cf0c3030')\"\n",
              "              title=\"Convert this dataframe to an interactive table.\"\n",
              "              style=\"display:none;\">\n",
              "        \n",
              "  <svg xmlns=\"http://www.w3.org/2000/svg\" height=\"24px\"viewBox=\"0 0 24 24\"\n",
              "       width=\"24px\">\n",
              "    <path d=\"M0 0h24v24H0V0z\" fill=\"none\"/>\n",
              "    <path d=\"M18.56 5.44l.94 2.06.94-2.06 2.06-.94-2.06-.94-.94-2.06-.94 2.06-2.06.94zm-11 1L8.5 8.5l.94-2.06 2.06-.94-2.06-.94L8.5 2.5l-.94 2.06-2.06.94zm10 10l.94 2.06.94-2.06 2.06-.94-2.06-.94-.94-2.06-.94 2.06-2.06.94z\"/><path d=\"M17.41 7.96l-1.37-1.37c-.4-.4-.92-.59-1.43-.59-.52 0-1.04.2-1.43.59L10.3 9.45l-7.72 7.72c-.78.78-.78 2.05 0 2.83L4 21.41c.39.39.9.59 1.41.59.51 0 1.02-.2 1.41-.59l7.78-7.78 2.81-2.81c.8-.78.8-2.07 0-2.86zM5.41 20L4 18.59l7.72-7.72 1.47 1.35L5.41 20z\"/>\n",
              "  </svg>\n",
              "      </button>\n",
              "      \n",
              "  <style>\n",
              "    .colab-df-container {\n",
              "      display:flex;\n",
              "      flex-wrap:wrap;\n",
              "      gap: 12px;\n",
              "    }\n",
              "\n",
              "    .colab-df-convert {\n",
              "      background-color: #E8F0FE;\n",
              "      border: none;\n",
              "      border-radius: 50%;\n",
              "      cursor: pointer;\n",
              "      display: none;\n",
              "      fill: #1967D2;\n",
              "      height: 32px;\n",
              "      padding: 0 0 0 0;\n",
              "      width: 32px;\n",
              "    }\n",
              "\n",
              "    .colab-df-convert:hover {\n",
              "      background-color: #E2EBFA;\n",
              "      box-shadow: 0px 1px 2px rgba(60, 64, 67, 0.3), 0px 1px 3px 1px rgba(60, 64, 67, 0.15);\n",
              "      fill: #174EA6;\n",
              "    }\n",
              "\n",
              "    [theme=dark] .colab-df-convert {\n",
              "      background-color: #3B4455;\n",
              "      fill: #D2E3FC;\n",
              "    }\n",
              "\n",
              "    [theme=dark] .colab-df-convert:hover {\n",
              "      background-color: #434B5C;\n",
              "      box-shadow: 0px 1px 3px 1px rgba(0, 0, 0, 0.15);\n",
              "      filter: drop-shadow(0px 1px 2px rgba(0, 0, 0, 0.3));\n",
              "      fill: #FFFFFF;\n",
              "    }\n",
              "  </style>\n",
              "\n",
              "      <script>\n",
              "        const buttonEl =\n",
              "          document.querySelector('#df-924a1c46-89de-4ecf-9a5f-9047cf0c3030 button.colab-df-convert');\n",
              "        buttonEl.style.display =\n",
              "          google.colab.kernel.accessAllowed ? 'block' : 'none';\n",
              "\n",
              "        async function convertToInteractive(key) {\n",
              "          const element = document.querySelector('#df-924a1c46-89de-4ecf-9a5f-9047cf0c3030');\n",
              "          const dataTable =\n",
              "            await google.colab.kernel.invokeFunction('convertToInteractive',\n",
              "                                                     [key], {});\n",
              "          if (!dataTable) return;\n",
              "\n",
              "          const docLinkHtml = 'Like what you see? Visit the ' +\n",
              "            '<a target=\"_blank\" href=https://colab.research.google.com/notebooks/data_table.ipynb>data table notebook</a>'\n",
              "            + ' to learn more about interactive tables.';\n",
              "          element.innerHTML = '';\n",
              "          dataTable['output_type'] = 'display_data';\n",
              "          await google.colab.output.renderOutput(dataTable, element);\n",
              "          const docLink = document.createElement('div');\n",
              "          docLink.innerHTML = docLinkHtml;\n",
              "          element.appendChild(docLink);\n",
              "        }\n",
              "      </script>\n",
              "    </div>\n",
              "  </div>\n",
              "  "
            ]
          },
          "metadata": {},
          "execution_count": 70
        }
      ]
    },
    {
      "cell_type": "code",
      "source": [
        "from matplotlib import pyplot as plt\n",
        "\n",
        "plt.scatter(df['score'], df['train_time'])\n",
        "plt.ylabel('Training Time (s)')\n",
        "plt.xlabel('Score')\n",
        "plt.title('Scores vs Training Time')\n",
        "plt.show()"
      ],
      "metadata": {
        "id": "MutKKGi5AQuT",
        "colab": {
          "base_uri": "https://localhost:8080/",
          "height": 295
        },
        "outputId": "d1769432-fc05-4ae7-c277-d02dd63d5968"
      },
      "id": "MutKKGi5AQuT",
      "execution_count": null,
      "outputs": [
        {
          "output_type": "display_data",
          "data": {
            "text/plain": [
              "<Figure size 432x288 with 1 Axes>"
            ],
            "image/png": "[encoded data removed]"
          },
          "metadata": {
            "needs_background": "light"
          }
        }
      ]
    },
    {
      "cell_type": "code",
      "source": [
        "window = 150\n",
        "min_periods = 20\n",
        "plt.figure(figsize=(20, 6))\n",
        "# df['score'][min_periods:].plot(alpha = 0.3)\n",
        "x = df['score'].rolling(window= window, min_periods = min_periods).mean().dropna()\n",
        "x.plot()\n",
        "line = np.linspace(0, x.shape[0], x.shape[0])\n",
        "plt.plot(np.log10(line)*25+450, linestyle = 'dotted', linewidth = '0.7', label = 'learning curve', color = 'red')\n",
        "plt.ylabel('Score')\n",
        "plt.xlabel('#games')\n",
        "plt.title('Training Metrics')\n",
        "plt.legend()"
      ],
      "metadata": {
        "id": "chgcM_pqAWAV",
        "colab": {
          "base_uri": "https://localhost:8080/",
          "height": 463
        },
        "outputId": "5afc5d6b-e221-47cb-c6ed-b72bc7bc46b7"
      },
      "id": "chgcM_pqAWAV",
      "execution_count": null,
      "outputs": [
        {
          "output_type": "stream",
          "name": "stderr",
          "text": [
            "/usr/local/lib/python3.7/dist-packages/ipykernel_launcher.py:8: RuntimeWarning: divide by zero encountered in log10\n",
            "  \n"
          ]
        },
        {
          "output_type": "execute_result",
          "data": {
            "text/plain": [
              "<matplotlib.legend.Legend at 0x7f6c31092f50>"
            ]
          },
          "metadata": {},
          "execution_count": 72
        },
        {
          "output_type": "display_data",
          "data": {
            "text/plain": [
              "<Figure size 1440x432 with 1 Axes>"
            ],
            "image/png": "[encoded data removed]"
          },
          "metadata": {
            "needs_background": "light"
          }
        }
      ]
    },
    {
      "cell_type": "markdown",
      "id": "f14d1900",
      "metadata": {
        "id": "f14d1900"
      },
      "source": [
        "## Visualise the game after training"
      ]
    },
    {
      "cell_type": "markdown",
      "source": [
        "#### Loading the game"
      ],
      "metadata": {
        "id": "pMqkNFdM9qXU"
      },
      "id": "pMqkNFdM9qXU"
    },
    {
      "cell_type": "code",
      "execution_count": null,
      "id": "4b459737",
      "metadata": {
        "id": "4b459737",
        "colab": {
          "base_uri": "https://localhost:8080/"
        },
        "outputId": "5198624f-db8f-4d4b-f09c-4c84c4f82370"
      },
      "outputs": [
        {
          "output_type": "stream",
          "name": "stdout",
          "text": [
            "Model: \"dual_input_model\"\n",
            "__________________________________________________________________________________________________\n",
            " Layer (type)                   Output Shape         Param #     Connected to                     \n",
            "==================================================================================================\n",
            " board_input (InputLayer)       [(None, 36, 80, 4)]  0           []                               \n",
            "                                                                                                  \n",
            " conv1 (Conv2D)                 (None, 17, 39, 32)   2080        ['board_input[0][0]']            \n",
            "                                                                                                  \n",
            " health_input (InputLayer)      [(None, 1, 2, 4)]    0           []                               \n",
            "                                                                                                  \n",
            " conv2 (Conv2D)                 (None, 4, 9, 16)     12816       ['conv1[0][0]']                  \n",
            "                                                                                                  \n",
            " health_conv1 (Conv2D)          (None, 1, 2, 5)      25          ['health_input[0][0]']           \n",
            "                                                                                                  \n",
            " flatten (Flatten)              (None, 576)          0           ['conv2[0][0]']                  \n",
            "                                                                                                  \n",
            " flatten_1 (Flatten)            (None, 10)           0           ['health_conv1[0][0]']           \n",
            "                                                                                                  \n",
            " tf.concat (TFOpLambda)         (None, 586)          0           ['flatten[0][0]',                \n",
            "                                                                  'flatten_1[0][0]']              \n",
            "                                                                                                  \n",
            " dense1 (Dense)                 (None, 256)          150272      ['tf.concat[0][0]']              \n",
            "                                                                                                  \n",
            " output (Dense)                 (None, 5)            1285        ['dense1[0][0]']                 \n",
            "                                                                                                  \n",
            "==================================================================================================\n",
            "Total params: 166,478\n",
            "Trainable params: 166,478\n",
            "Non-trainable params: 0\n",
            "__________________________________________________________________________________________________\n"
          ]
        }
      ],
      "source": [
        "mod2 = tf.keras.models.load_model(PATH+f'weights/{model_name}.h5')\n",
        "mod2.call = tf.function(mod2.call,experimental_relax_shapes=True)\n",
        "\n",
        "mod2.summary()"
      ]
    },
    {
      "cell_type": "code",
      "execution_count": null,
      "id": "aecb0bda",
      "metadata": {
        "id": "aecb0bda",
        "colab": {
          "base_uri": "https://localhost:8080/"
        },
        "outputId": "46109c19-0859-4479-d499-9eae32969f41"
      },
      "outputs": [
        {
          "output_type": "stream",
          "name": "stdout",
          "text": [
            "567.0\n"
          ]
        },
        {
          "output_type": "display_data",
          "data": {
            "text/plain": [
              "<Figure size 432x288 with 1 Axes>"
            ],
            "image/png": "[encoded data removed]"
          },
          "metadata": {
            "needs_background": "light"
          }
        }
      ],
      "source": [
        "frame_array, health_array, action_array, reward_array, score = play1game(mod2)\n",
        "\n",
        "plt.imshow(frame_array[-1])\n",
        "print(score)"
      ]
    },
    {
      "cell_type": "markdown",
      "source": [
        "#### Simulations"
      ],
      "metadata": {
        "id": "oIm621Q99d4M"
      },
      "id": "oIm621Q99d4M"
    },
    {
      "cell_type": "code",
      "execution_count": null,
      "id": "943e05a2",
      "metadata": {
        "id": "943e05a2",
        "colab": {
          "base_uri": "https://localhost:8080/"
        },
        "outputId": "3940c618-9f72-413a-db60-c9112408359e"
      },
      "outputs": [
        {
          "output_type": "stream",
          "name": "stderr",
          "text": [
            "100%|██████████| 500/500 [50:22<00:00,  6.05s/it]\n"
          ]
        },
        {
          "output_type": "execute_result",
          "data": {
            "text/plain": [
              "526.26"
            ]
          },
          "metadata": {},
          "execution_count": 51
        }
      ],
      "source": [
        "ngames = 500\n",
        "scores = np.zeros(ngames)\n",
        "\n",
        "with open(PATH+'game_scores.csv','a') as f:\n",
        "  for game in tqdm(range(ngames)):\n",
        "      frames, health, actions, rewards, score = play1game(mod2, 0)\n",
        "      scores[game] = score\n",
        "      f.write(str(score)+'\\n')\n",
        "      f.flush()\n",
        "np.mean(scores)"
      ]
    },
    {
      "cell_type": "markdown",
      "source": [
        "#### Visualising model Performance"
      ],
      "metadata": {
        "id": "IUuRLjiX9aEn"
      },
      "id": "IUuRLjiX9aEn"
    },
    {
      "cell_type": "code",
      "source": [
        "import pandas as pd\n",
        "\n",
        "scores = pd.read_csv(PATH+'game_scores.csv')['game']\n",
        "scores"
      ],
      "metadata": {
        "colab": {
          "base_uri": "https://localhost:8080/"
        },
        "id": "sEsrHW1M6Ap1",
        "outputId": "4b7cb961-948c-433e-9bb4-f2013ac42355"
      },
      "id": "sEsrHW1M6Ap1",
      "execution_count": null,
      "outputs": [
        {
          "output_type": "execute_result",
          "data": {
            "text/plain": [
              "0      630.0\n",
              "1      336.0\n",
              "2      672.0\n",
              "3      441.0\n",
              "4      483.0\n",
              "       ...  \n",
              "995    420.0\n",
              "996    357.0\n",
              "997    567.0\n",
              "998    651.0\n",
              "999    735.0\n",
              "Name: game, Length: 1000, dtype: float64"
            ]
          },
          "metadata": {},
          "execution_count": 54
        }
      ]
    },
    {
      "cell_type": "code",
      "source": [
        "print('Mean:', scores.mean())\n",
        "print('Mode:', scores.mode()[0])\n",
        "print('Median:', scores.median())\n",
        "print('Std Dev:', round(scores.std(),2))\n",
        "print('Skew:', round(scores.skew(),2))"
      ],
      "metadata": {
        "colab": {
          "base_uri": "https://localhost:8080/"
        },
        "id": "IvwUXTpHH_10",
        "outputId": "8b5e5b83-2f97-461e-8802-4c686bdb7667"
      },
      "id": "IvwUXTpHH_10",
      "execution_count": null,
      "outputs": [
        {
          "output_type": "stream",
          "name": "stdout",
          "text": [
            "Mean: 534.933\n",
            "Mode: 651.0\n",
            "Median: 588.0\n",
            "Std Dev: 137.83\n",
            "Skew: -0.87\n"
          ]
        }
      ]
    },
    {
      "cell_type": "code",
      "execution_count": null,
      "id": "e2ff2927",
      "metadata": {
        "id": "e2ff2927",
        "colab": {
          "base_uri": "https://localhost:8080/",
          "height": 423
        },
        "outputId": "aeb99a98-1ac3-4d7e-eb0d-85398d249461"
      },
      "outputs": [
        {
          "output_type": "execute_result",
          "data": {
            "text/plain": [
              "<matplotlib.legend.Legend at 0x7f718c2d79d0>"
            ]
          },
          "metadata": {},
          "execution_count": 59
        },
        {
          "output_type": "display_data",
          "data": {
            "text/plain": [
              "<Figure size 720x432 with 1 Axes>"
            ],
            "image/png": "[encoded data removed]"
          },
          "metadata": {
            "needs_background": "light"
          }
        }
      ],
      "source": [
        "import pandas as pd\n",
        "plt.figure(figsize = (10,6))\n",
        "plt.hist(scores, bins = 20, density = True)\n",
        "plt.axvline(x=scores.mean(), linewidth = 0.7, linestyle = 'dotted', color = 'red', label = f'E(Score) = {np.round(scores.mean(),2)}')\n",
        "plt.xlabel('Game Score')\n",
        "plt.ylabel('Probability')\n",
        "plt.title('Probability distribution of scores (P(scores))')\n",
        "plt.legend()"
      ]
    },
    {
      "cell_type": "markdown",
      "source": [
        "***\n"
      ],
      "metadata": {
        "id": "GqrypuxQ9Vmk"
      },
      "id": "GqrypuxQ9Vmk"
    }
  ],
  "metadata": {
    "kernelspec": {
      "display_name": "Python 3",
      "language": "python",
      "name": "python3"
    },
    "language_info": {
      "codemirror_mode": {
        "name": "ipython",
        "version": 3
      },
      "file_extension": ".py",
      "mimetype": "text/x-python",
      "name": "python",
      "nbconvert_exporter": "python",
      "pygments_lexer": "ipython3",
      "version": "3.9.12"
    },
    "colab": {
      "name": "V2_Project3.ipynb",
      "provenance": [],
      "collapsed_sections": [
        "IEvDUatP9ARu",
        "39e73fe3"
      ]
    },
    "accelerator": "GPU"
  },
  "nbformat": 4,
  "nbformat_minor": 5
}