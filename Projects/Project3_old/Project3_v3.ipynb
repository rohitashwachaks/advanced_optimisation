{
 "cells": [
  {
   "cell_type": "markdown",
   "id": "506c4707",
   "metadata": {},
   "source": [
    "# Optimization II Project 3"
   ]
  },
  {
   "cell_type": "code",
   "execution_count": 1,
   "id": "bcf38d18",
   "metadata": {},
   "outputs": [],
   "source": [
    "import numpy as np\n",
    "import gym\n",
    "import tensorflow as tf\n",
    "import time\n",
    "from tensorflow.keras.models import Model\n",
    "from tensorflow.keras.layers import Dense, Flatten, Dropout, Conv2D, Input, MaxPool2D, MaxPool1D\n",
    "from tensorflow import keras\n",
    "from tqdm import tqdm\n",
    "\n",
    "import matplotlib.pyplot as plt\n",
    "\n",
    "tf.compat.v1.logging.set_verbosity(tf.compat.v1.logging.ERROR) # stop displaying warnings that mean nothing!!!"
   ]
  },
  {
   "cell_type": "code",
   "execution_count": 2,
   "id": "001f080c",
   "metadata": {},
   "outputs": [],
   "source": [
    "# %load_ext tensorboard\n",
    "# %tensorboard --logdir logs/fit\n",
    "# # %tensorboard --logdir=data/ --host localhost --port 8888"
   ]
  },
  {
   "cell_type": "markdown",
   "id": "d0d2e3f2",
   "metadata": {},
   "source": [
    "## I: Pong (Till we win)"
   ]
  },
  {
   "cell_type": "code",
   "execution_count": 3,
   "id": "b8cc65f7",
   "metadata": {},
   "outputs": [],
   "source": [
    "def prepro(I):\n",
    "    # preprocess each frame for learning\n",
    "    # save some memory and computation\n",
    "    # pre-process the image from a 210x160x3 uint8 frame into an (80x80) float array )\n",
    "    # print(I.shape)\n",
    "    I = I[::2,:,0].copy() # downsample by factor of 2\n",
    "    # print(I.shape)\n",
    "    # print(I.shape)\n",
    "    dim = I.shape\n",
    "    I = I.reshape(dim[0], dim[1])   # convert to a 2D array\n",
    "    I = I[10:,::] # remove the top 7 rows of pixels : Score\n",
    "\n",
    "    # I[I == 144] = 0 # erase background (background type 1)\n",
    "    # I[I == 109] = 0 # erase background (background type 2)\n",
    "    I[I != 0] = 1 # everything else (paddles, ball) just set to 1\n",
    "    I = np.any( np.array(np.array_split(I, I.shape[1]//2, axis=1)) == 1, axis = 2).T\n",
    " \n",
    "    return np.array(I)\n",
    "\n",
    "\n",
    "def segment_env(I):\n",
    "    '''\n",
    "        segment the environment into 4 parts\n",
    "        returns a list of 4 images\n",
    "        Mothership, spawns, spaceship, lives, gun_heat\n",
    "    '''\n",
    "    I = I.copy()\n",
    "    I = prepro(I)\n",
    "    row_count, col_count = I.shape\n",
    "    # Mothership\n",
    "    I_mothership = I[:10, :]\n",
    "    I_mothership = np.any(I_mothership == 1, axis=0).reshape(1, col_count)\n",
    "    \n",
    "    # Spawns\n",
    "    I_spawns = I[10:row_count - 16, :]\n",
    "    I_spawns = np.array([np.any(x == 1, axis=0) for x in np.array_split(I_spawns, I_spawns.shape[0]//2, axis=0)])\n",
    "\n",
    "    # Spaceship\n",
    "    I_spaceship = I[row_count-16:row_count-12, :]\n",
    "    I_spaceship = np.any(I_spaceship == 1, axis=0).reshape(1, col_count)\n",
    "    \n",
    "    # Lets not bother about this now\n",
    "    # Lives\n",
    "    I_lives = I[row_count-10:row_count-5, :col_count//2]\n",
    "    I_lives = np.any(I_lives == 1, axis=0).reshape(1, col_count//2)\n",
    "    split = np.array(np.array_split(I_lives[:, 4:], 4, axis = 1))\n",
    "    num_lives = np.any(split == 1, axis = 2).sum() + 1\n",
    "    # print('Num Lives',num_lives)\n",
    "    \n",
    "    # gun_heat\n",
    "    I_gun_heat = I[row_count-10:row_count-5, col_count//2:]\n",
    "    I_gun_heat = np.any(I_gun_heat == 1, axis=0).reshape(1, col_count//2)\n",
    "    \n",
    "    heat_gun_padding = 8\n",
    "    percent_heat = I_gun_heat[:, heat_gun_padding:].sum() / I_gun_heat[:, heat_gun_padding:].shape[1]\n",
    "    # print('Percent Heat', percent_heat)\n",
    "\n",
    "    I_health = np.concatenate((I_lives, I_gun_heat), axis=1)\n",
    "\n",
    "    segment_list = [I_mothership, I_spawns, I_spaceship]#, I_health]\n",
    "    # return segment_list\n",
    "    return np.concatenate(segment_list, axis=0), num_lives, percent_heat"
   ]
  },
  {
   "cell_type": "code",
   "execution_count": 4,
   "id": "dba62112",
   "metadata": {},
   "outputs": [],
   "source": [
    "def plot_environment(I):\n",
    "    fig, ax = plt.subplots(1, 2, figsize=(10, 10), sharex= False, sharey= False)\n",
    "    ax[0].imshow(I)\n",
    "    # segment_list = segment_env(I)\n",
    "    # prep_im = np.concatenate(segment_list, axis=0)\n",
    "    prep_im, _, _ = segment_env(I)\n",
    "    ax[1].imshow(prep_im, cmap='gray')\n",
    "    plt.show()"
   ]
  },
  {
   "cell_type": "code",
   "execution_count": 5,
   "id": "e4c5adc3",
   "metadata": {},
   "outputs": [
    {
     "data": {
      "image/png": "[encoded data removed]",
      "text/plain": [
       "<Figure size 720x720 with 2 Axes>"
      ]
     },
     "metadata": {
      "needs_background": "light"
     },
     "output_type": "display_data"
    },
    {
     "name": "stdout",
     "output_type": "stream",
     "text": [
      "(36, 80)\n"
     ]
    }
   ],
   "source": [
    "frames_to_net = 1\n",
    "frames_this_game = 0\n",
    "\n",
    "env = gym.make(\"Assault-v0\")\n",
    "\n",
    "pix = env.reset()\n",
    "for i in range(15):\n",
    "    pix, reward, done, info = env.step(env.action_space.sample()) # take a random action\n",
    "plot_environment(pix)\n",
    "board_dimensions = segment_env(pix)[0].shape\n",
    "\n",
    "# pix = prepro(pix)\n",
    "# dimensions = pix.shape\n",
    "\n",
    "\n",
    "env.reset()\n",
    "env.close()\n",
    "\n",
    "print(board_dimensions)"
   ]
  },
  {
   "cell_type": "code",
   "execution_count": 6,
   "id": "03c2a29e",
   "metadata": {},
   "outputs": [
    {
     "data": {
      "text/plain": [
       "['NOOP', 'FIRE', 'UP', 'RIGHT', 'LEFT', 'RIGHTFIRE', 'LEFTFIRE']"
      ]
     },
     "execution_count": 6,
     "metadata": {},
     "output_type": "execute_result"
    }
   ],
   "source": [
    "env.unwrapped.get_action_meanings()"
   ]
  },
  {
   "cell_type": "markdown",
   "id": "432eacb1",
   "metadata": {},
   "source": [
    "## Random Play"
   ]
  },
  {
   "cell_type": "code",
   "execution_count": 7,
   "id": "dbfee197",
   "metadata": {},
   "outputs": [],
   "source": [
    "# render = True\n",
    "# slow = True\n",
    "# score = 0\n",
    "# frame_history = []\n",
    "# action_history = []\n",
    "# reward_history = []\n",
    "# done = False # done gets returned from the environment to tell you if this game (first to 21 points) is over\n",
    "# raw_pixels = env.reset()\n",
    "# raw_pixels, reward, done, info = env.step(1)\n",
    "# pixels = segment_env(raw_pixels)\n",
    "# while not done:\n",
    "#     action = np.random.choice(env.unwrapped.action_space.n-2) # we'll eventually pick the action from a NN\n",
    "#     if render == True: # do you actually want to visualize the playing?\n",
    "#         env.render()\n",
    "#         if slow == True: # do you want to slow it down so you can see the game better?\n",
    "#             time.sleep(0.01)\n",
    "#     raw_pixels, reward, done, info = env.step(action)\n",
    "#     frame_history.append(pixels)\n",
    "#     action_history.append(action) # these are the action and reward when you saw the last frame\n",
    "#     reward_history.append(reward)\n",
    "#     pixels = segment_env(raw_pixels) # now this is the new frame\n",
    "#     score += reward\n",
    "\n",
    "# # after a game, with all that we saved we'll do a little optimization on the NN"
   ]
  },
  {
   "cell_type": "markdown",
   "id": "3abc1325",
   "metadata": {},
   "source": [
    "### Policy Gradient with linear annealing, memory buffer, and same action for 4 consecutive frames"
   ]
  },
  {
   "cell_type": "code",
   "execution_count": 8,
   "id": "7dcb1d2f",
   "metadata": {},
   "outputs": [],
   "source": [
    "def discount_rewards(r):\n",
    "    # take 1D float array of rewards and compute discounted reward\n",
    "    # gym returns a reward with every single frame.  most of those rewards are 0\n",
    "    # sometimes they're 1 or -1 if we win or lose a point in that specific frame\n",
    "    # we want non-0 rewards for every frame. \n",
    "    # so take each frame, figure out if we eventually won the corresponding point or not\n",
    "    # if so make the reward positive, if not negative\n",
    "    # but more recent actions (relative to the frame where the point is awarded) are more \n",
    "    # impactful to the score that frames a long time ago, so discount rewards...\n",
    "    \n",
    "    delt = 0.99 # discount factor\n",
    "    nr = len(r)\n",
    "    # we want to change all those zeros into discounted values of the next reward (this is the value function!)\n",
    "    discounted_r = [0.0]*nr\n",
    "    \n",
    "    for t in range(nr):\n",
    "        # start at the end\n",
    "        if r[nr-t-1] > 0: # if you won a point in this frame we want a good reward\n",
    "            discounted_r[nr-t-1] = 1\n",
    "        elif r[nr-t-1] < 0: # if we lost the point we want a bad reward\n",
    "            discounted_r[nr-t-1] = -1\n",
    "        elif t==0: # this is just for error catching...at t==0 r[nr-t-1] should have already been + or -...\n",
    "            discounted_r[nr-t-1] = 0\n",
    "        elif discounted_r[nr-t-1] == 0: # otherwise you want to look at the next reward value and discount it\n",
    "            discounted_r[nr-t-1] = delt*discounted_r[nr-t]\n",
    "    return discounted_r"
   ]
  },
  {
   "cell_type": "code",
   "execution_count": 9,
   "id": "5bcc648e",
   "metadata": {},
   "outputs": [],
   "source": [
    "frames_to_net = 4              # how many previous frames will we feed the NN\n",
    "possible_actions = [x for x in range(env.unwrapped.action_space.n)] # the possible actions we can take"
   ]
  },
  {
   "cell_type": "markdown",
   "id": "d9099c3c",
   "metadata": {},
   "source": [
    "# Training the NN"
   ]
  },
  {
   "cell_type": "code",
   "execution_count": 11,
   "id": "ededeb39",
   "metadata": {},
   "outputs": [],
   "source": [
    "def create_model(height,width,channels, action_space):\n",
    "    # we cannot simply have 3 output nodes because we want to put a weight on each node's impact to the objective\n",
    "    # that is different for each data point.  the only way to achieve this is to have 3 output layers, each having 1 node\n",
    "    # the effect is the same, just the way TF/keras handles weights is different\n",
    "    imp = Input(shape=(height,width,channels), name= 'board_input')\n",
    "    mid = Conv2D(32,(5,5),strides=2,activation='relu', name = 'conv1')(imp)\n",
    "    mid = MaxPool2D(pool_size = (2,2))(mid)\n",
    "    mid = Conv2D(16,(4,4),strides=4,activation='relu', name = 'conv2')(mid)\n",
    "    mid = MaxPool2D(pool_size = (2,2))(mid)\n",
    "    mid = Flatten()(mid)\n",
    "\n",
    "    feature_vector = Input(shape = (1,2,channels), name='health_input')\n",
    "    feature_mid = Conv2D(1,(1,1),strides=1,activation='relu', name = 'health_conv1')(feature_vector)\n",
    "    feature_mid = Flatten()(feature_mid)\n",
    "    conc = tf.concat(values=[mid, feature_mid], axis=1, name='concat')\n",
    "    \n",
    "    mid = Dense(256,activation='relu', name='dense1')(conc)\n",
    "    mid = Dense(128,activation='relu', name='dense2')(mid)\n",
    "    out0 = Dense(action_space,activation='softmax', name= 'output')(mid)\n",
    "    model = Model([imp,feature_vector],out0, name='dual_input_model') \n",
    "    \n",
    "    model.compile(optimizer=tf.keras.optimizers.Adam(learning_rate=1e-6),loss='sparse_categorical_crossentropy')\n",
    "    \n",
    "    return model"
   ]
  },
  {
   "cell_type": "code",
   "execution_count": 13,
   "id": "932ad4ff",
   "metadata": {},
   "outputs": [
    {
     "name": "stdout",
     "output_type": "stream",
     "text": [
      "Model: \"dual_input_model\"\n",
      "__________________________________________________________________________________________________\n",
      " Layer (type)                   Output Shape         Param #     Connected to                     \n",
      "==================================================================================================\n",
      " board_input (InputLayer)       [(None, 36, 80, 4)]  0           []                               \n",
      "                                                                                                  \n",
      " conv1 (Conv2D)                 (None, 16, 38, 32)   3232        ['board_input[0][0]']            \n",
      "                                                                                                  \n",
      " max_pooling2d_2 (MaxPooling2D)  (None, 8, 19, 32)   0           ['conv1[0][0]']                  \n",
      "                                                                                                  \n",
      " conv2 (Conv2D)                 (None, 2, 4, 16)     8208        ['max_pooling2d_2[0][0]']        \n",
      "                                                                                                  \n",
      " health_input (InputLayer)      [(None, 1, 2, 4)]    0           []                               \n",
      "                                                                                                  \n",
      " max_pooling2d_3 (MaxPooling2D)  (None, 1, 2, 16)    0           ['conv2[0][0]']                  \n",
      "                                                                                                  \n",
      " health_conv1 (Conv2D)          (None, 1, 2, 1)      5           ['health_input[0][0]']           \n",
      "                                                                                                  \n",
      " flatten_2 (Flatten)            (None, 32)           0           ['max_pooling2d_3[0][0]']        \n",
      "                                                                                                  \n",
      " flatten_3 (Flatten)            (None, 2)            0           ['health_conv1[0][0]']           \n",
      "                                                                                                  \n",
      " tf.concat_1 (TFOpLambda)       (None, 34)           0           ['flatten_2[0][0]',              \n",
      "                                                                  'flatten_3[0][0]']              \n",
      "                                                                                                  \n",
      " dense1 (Dense)                 (None, 256)          8960        ['tf.concat_1[0][0]']            \n",
      "                                                                                                  \n",
      " dense2 (Dense)                 (None, 128)          32896       ['dense1[0][0]']                 \n",
      "                                                                                                  \n",
      " output (Dense)                 (None, 5)            645         ['dense2[0][0]']                 \n",
      "                                                                                                  \n",
      "==================================================================================================\n",
      "Total params: 53,946\n",
      "Trainable params: 53,946\n",
      "Non-trainable params: 0\n",
      "__________________________________________________________________________________________________\n"
     ]
    }
   ],
   "source": [
    "mod = create_model(\n",
    "                height = board_dimensions[0],\n",
    "                width = board_dimensions[1],\n",
    "                channels = frames_to_net, \n",
    "                action_space = env.unwrapped.action_space.n -2# the -2 is because we don't want to fire left or right\n",
    "            )\n",
    "mod.call = tf.function(mod.call,experimental_relax_shapes=True)\n",
    "\n",
    "mod.summary()"
   ]
  },
  {
   "cell_type": "markdown",
   "id": "8948100c",
   "metadata": {},
   "source": [
    "## Play the game"
   ]
  },
  {
   "cell_type": "code",
   "execution_count": 10,
   "id": "0af28be0",
   "metadata": {},
   "outputs": [],
   "source": [
    "def play1game(model, ep = 0, render=False, slow= 0.01):\n",
    "    env0 = gym.make(\"Assault-v0\")\n",
    "    pix = env0.reset()\n",
    "    pix, num_lives, percent_heat = segment_env(pix)\n",
    "\n",
    "    num_bombs = -1 # at least 1 object in this line...my bot\n",
    "    for i in range(1,pix.shape[1],3):\n",
    "        if pix[-1,i] == 1 and pix[-1,i-1] == 1:\n",
    "            num_bombs += 1\n",
    "    \n",
    "    health = np.array([num_lives, percent_heat]).reshape((1,2))\n",
    "    dimensions = pix.shape\n",
    "\n",
    "    action_space = env0.unwrapped.action_space.n -2# the -2 is because we don't want to fire left or right\n",
    "    possible_actions = np.array([i for i in range(action_space)])\n",
    "    \n",
    "    frames_this_game = 0\n",
    "    feed = np.zeros((1, dimensions[0], dimensions[1],frames_to_net))\n",
    "    feed[0,:,:,0] = pix.copy()\n",
    "    \n",
    "    health_feed = np.zeros((1,1,2, frames_to_net))\n",
    "    health_feed[0,:,:,0] = health.copy()\n",
    "    \n",
    "    \n",
    "    frame_array = []\n",
    "    health_array = []\n",
    "    action_array = []\n",
    "    reward_array = []\n",
    "    \n",
    "    score = 0\n",
    "    action = 0\n",
    "    done = False\n",
    "    try:\n",
    "        while not done:\n",
    "            if render == True: # do you actually want to visualize the playing?\n",
    "                env0.render()\n",
    "                time.sleep(slow)\n",
    "            \n",
    "            # skipping every 4 frames\n",
    "            if frames_this_game%4 == 0:\n",
    "                vf = model([feed, health_feed ],training=False).numpy()[0]\n",
    "                    # epsilon-greedy\n",
    "                if np.random.random() < ep:\n",
    "                    action = np.random.choice(action_space)\n",
    "                else:\n",
    "                    action = np.random.choice(action_space,p=vf)\n",
    "\n",
    "            if num_bombs > 0: # if we have a bomb, we want to fire left/right\n",
    "                action = np.random.choice([0,1], p=[0.5, 0.5]) + action_space\n",
    "            \n",
    "            pix_new, reward, done, info = env0.step(action)\n",
    "            pix, num_lives, percent_heat = segment_env(pix_new)\n",
    "            health = np.array([num_lives, percent_heat]).reshape((1,2))\n",
    "\n",
    "            frame_array.append(pix)\n",
    "            action_array.append(action)\n",
    "            reward_array.append(reward)\n",
    "            health_array.append(health)\n",
    "            frames_this_game += 1\n",
    "\n",
    "            for f in range(1,frames_to_net):\n",
    "                feed[0,:,:,frames_to_net-f] = feed[0,:,:,frames_to_net-f-1].copy()\n",
    "            feed[0,:,:,0] = pix.copy()\n",
    "            score += reward\n",
    "\n",
    "            if frames_this_game > 5000:#5000000:\n",
    "                print(\"Game is taking too long, breaking\")\n",
    "                done = True\n",
    "    \n",
    "    except Exception as e:\n",
    "        print(e)\n",
    "    except KeyboardInterrupt:\n",
    "        print('KeyboardInterrupt')\n",
    "    finally:\n",
    "        env.reset()\n",
    "        env.close()\n",
    "    return frame_array, health_array, action_array, reward_array, score"
   ]
  },
  {
   "cell_type": "code",
   "execution_count": 21,
   "id": "c4a09d3d",
   "metadata": {},
   "outputs": [],
   "source": [
    "tgames = 10000 # training games\n",
    "epsvec = np.linspace(1,0.05,tgames)\n",
    "tgames = 5000 \n",
    "ngames = 200 # games played after training\n",
    "nbatch = 10\n",
    "buffn = 200000\n",
    "warmupgames = 2\n",
    "len_buff = 0\n",
    "buffer = {'frames':[], 'healths':[],'actions':[],'rewards':[]}"
   ]
  },
  {
   "cell_type": "code",
   "execution_count": 22,
   "id": "fbbf1202",
   "metadata": {},
   "outputs": [
    {
     "name": "stderr",
     "output_type": "stream",
     "text": [
      "100%|██████████| 5/5 [06:33<00:00, 78.65s/it]\n"
     ]
    },
    {
     "ename": "KeyboardInterrupt",
     "evalue": "",
     "output_type": "error",
     "traceback": [
      "\u001b[0;31m---------------------------------------------------------------------------\u001b[0m",
      "\u001b[0;31mKeyboardInterrupt\u001b[0m                         Traceback (most recent call last)",
      "\u001b[1;32m/Users/rchaks/Code/GitHub/advanced_optimisation/Projects/Project3/Project3_v3.ipynb Cell 20'\u001b[0m in \u001b[0;36m<cell line: 7>\u001b[0;34m()\u001b[0m\n\u001b[1;32m     <a href='vscode-notebook-cell:/Users/rchaks/Code/GitHub/advanced_optimisation/Projects/Project3/Project3_v3.ipynb#ch0000019?line=49'>50</a>\u001b[0m                 current_frames[grab,:,:,f] \u001b[39m=\u001b[39m buffer[\u001b[39m'\u001b[39m\u001b[39mframes\u001b[39m\u001b[39m'\u001b[39m][which_choose[grab]\u001b[39m-\u001b[39mf]\u001b[39m.\u001b[39mcopy()\n\u001b[1;32m     <a href='vscode-notebook-cell:/Users/rchaks/Code/GitHub/advanced_optimisation/Projects/Project3/Project3_v3.ipynb#ch0000019?line=50'>51</a>\u001b[0m                 current_health[grab,:,:,f] \u001b[39m=\u001b[39m buffer[\u001b[39m'\u001b[39m\u001b[39mhealths\u001b[39m\u001b[39m'\u001b[39m][which_choose[grab]\u001b[39m-\u001b[39mf]\u001b[39m.\u001b[39mcopy()\n\u001b[0;32m---> <a href='vscode-notebook-cell:/Users/rchaks/Code/GitHub/advanced_optimisation/Projects/Project3/Project3_v3.ipynb#ch0000019?line=52'>53</a>\u001b[0m     history \u001b[39m=\u001b[39m mod\u001b[39m.\u001b[39;49mfit([current_frames, current_health],actions,epochs\u001b[39m=\u001b[39;49m\u001b[39m1\u001b[39;49m,steps_per_epoch\u001b[39m=\u001b[39;49mnbatch,verbose\u001b[39m=\u001b[39;49m\u001b[39m0\u001b[39;49m,sample_weight\u001b[39m=\u001b[39;49mrewards,use_multiprocessing\u001b[39m=\u001b[39;49m\u001b[39mTrue\u001b[39;49;00m)\n\u001b[1;32m     <a href='vscode-notebook-cell:/Users/rchaks/Code/GitHub/advanced_optimisation/Projects/Project3/Project3_v3.ipynb#ch0000019?line=53'>54</a>\u001b[0m stop \u001b[39m=\u001b[39m time\u001b[39m.\u001b[39mtime()\n\u001b[1;32m     <a href='vscode-notebook-cell:/Users/rchaks/Code/GitHub/advanced_optimisation/Projects/Project3/Project3_v3.ipynb#ch0000019?line=55'>56</a>\u001b[0m game \u001b[39m+\u001b[39m\u001b[39m=\u001b[39m \u001b[39m1\u001b[39m\n",
      "File \u001b[0;32m~/opt/miniforge3/envs/m1_tf/lib/python3.9/site-packages/keras/utils/traceback_utils.py:64\u001b[0m, in \u001b[0;36mfilter_traceback.<locals>.error_handler\u001b[0;34m(*args, **kwargs)\u001b[0m\n\u001b[1;32m     <a href='file:///Users/rchaks/opt/miniforge3/envs/m1_tf/lib/python3.9/site-packages/keras/utils/traceback_utils.py?line=61'>62</a>\u001b[0m filtered_tb \u001b[39m=\u001b[39m \u001b[39mNone\u001b[39;00m\n\u001b[1;32m     <a href='file:///Users/rchaks/opt/miniforge3/envs/m1_tf/lib/python3.9/site-packages/keras/utils/traceback_utils.py?line=62'>63</a>\u001b[0m \u001b[39mtry\u001b[39;00m:\n\u001b[0;32m---> <a href='file:///Users/rchaks/opt/miniforge3/envs/m1_tf/lib/python3.9/site-packages/keras/utils/traceback_utils.py?line=63'>64</a>\u001b[0m   \u001b[39mreturn\u001b[39;00m fn(\u001b[39m*\u001b[39;49margs, \u001b[39m*\u001b[39;49m\u001b[39m*\u001b[39;49mkwargs)\n\u001b[1;32m     <a href='file:///Users/rchaks/opt/miniforge3/envs/m1_tf/lib/python3.9/site-packages/keras/utils/traceback_utils.py?line=64'>65</a>\u001b[0m \u001b[39mexcept\u001b[39;00m \u001b[39mException\u001b[39;00m \u001b[39mas\u001b[39;00m e:  \u001b[39m# pylint: disable=broad-except\u001b[39;00m\n\u001b[1;32m     <a href='file:///Users/rchaks/opt/miniforge3/envs/m1_tf/lib/python3.9/site-packages/keras/utils/traceback_utils.py?line=65'>66</a>\u001b[0m   filtered_tb \u001b[39m=\u001b[39m _process_traceback_frames(e\u001b[39m.\u001b[39m__traceback__)\n",
      "File \u001b[0;32m~/opt/miniforge3/envs/m1_tf/lib/python3.9/site-packages/keras/engine/training.py:1334\u001b[0m, in \u001b[0;36mModel.fit\u001b[0;34m(self, x, y, batch_size, epochs, verbose, callbacks, validation_split, validation_data, shuffle, class_weight, sample_weight, initial_epoch, steps_per_epoch, validation_steps, validation_batch_size, validation_freq, max_queue_size, workers, use_multiprocessing)\u001b[0m\n\u001b[1;32m   <a href='file:///Users/rchaks/opt/miniforge3/envs/m1_tf/lib/python3.9/site-packages/keras/engine/training.py?line=1327'>1328</a>\u001b[0m   \u001b[39mself\u001b[39m\u001b[39m.\u001b[39m_cluster_coordinator \u001b[39m=\u001b[39m tf\u001b[39m.\u001b[39mdistribute\u001b[39m.\u001b[39mexperimental\u001b[39m.\u001b[39mcoordinator\u001b[39m.\u001b[39mClusterCoordinator(\n\u001b[1;32m   <a href='file:///Users/rchaks/opt/miniforge3/envs/m1_tf/lib/python3.9/site-packages/keras/engine/training.py?line=1328'>1329</a>\u001b[0m       \u001b[39mself\u001b[39m\u001b[39m.\u001b[39mdistribute_strategy)\n\u001b[1;32m   <a href='file:///Users/rchaks/opt/miniforge3/envs/m1_tf/lib/python3.9/site-packages/keras/engine/training.py?line=1330'>1331</a>\u001b[0m \u001b[39mwith\u001b[39;00m \u001b[39mself\u001b[39m\u001b[39m.\u001b[39mdistribute_strategy\u001b[39m.\u001b[39mscope(), \\\n\u001b[1;32m   <a href='file:///Users/rchaks/opt/miniforge3/envs/m1_tf/lib/python3.9/site-packages/keras/engine/training.py?line=1331'>1332</a>\u001b[0m      training_utils\u001b[39m.\u001b[39mRespectCompiledTrainableState(\u001b[39mself\u001b[39m):\n\u001b[1;32m   <a href='file:///Users/rchaks/opt/miniforge3/envs/m1_tf/lib/python3.9/site-packages/keras/engine/training.py?line=1332'>1333</a>\u001b[0m   \u001b[39m# Creates a `tf.data.Dataset` and handles batch and epoch iteration.\u001b[39;00m\n\u001b[0;32m-> <a href='file:///Users/rchaks/opt/miniforge3/envs/m1_tf/lib/python3.9/site-packages/keras/engine/training.py?line=1333'>1334</a>\u001b[0m   data_handler \u001b[39m=\u001b[39m data_adapter\u001b[39m.\u001b[39;49mget_data_handler(\n\u001b[1;32m   <a href='file:///Users/rchaks/opt/miniforge3/envs/m1_tf/lib/python3.9/site-packages/keras/engine/training.py?line=1334'>1335</a>\u001b[0m       x\u001b[39m=\u001b[39;49mx,\n\u001b[1;32m   <a href='file:///Users/rchaks/opt/miniforge3/envs/m1_tf/lib/python3.9/site-packages/keras/engine/training.py?line=1335'>1336</a>\u001b[0m       y\u001b[39m=\u001b[39;49my,\n\u001b[1;32m   <a href='file:///Users/rchaks/opt/miniforge3/envs/m1_tf/lib/python3.9/site-packages/keras/engine/training.py?line=1336'>1337</a>\u001b[0m       sample_weight\u001b[39m=\u001b[39;49msample_weight,\n\u001b[1;32m   <a href='file:///Users/rchaks/opt/miniforge3/envs/m1_tf/lib/python3.9/site-packages/keras/engine/training.py?line=1337'>1338</a>\u001b[0m       batch_size\u001b[39m=\u001b[39;49mbatch_size,\n\u001b[1;32m   <a href='file:///Users/rchaks/opt/miniforge3/envs/m1_tf/lib/python3.9/site-packages/keras/engine/training.py?line=1338'>1339</a>\u001b[0m       steps_per_epoch\u001b[39m=\u001b[39;49msteps_per_epoch,\n\u001b[1;32m   <a href='file:///Users/rchaks/opt/miniforge3/envs/m1_tf/lib/python3.9/site-packages/keras/engine/training.py?line=1339'>1340</a>\u001b[0m       initial_epoch\u001b[39m=\u001b[39;49minitial_epoch,\n\u001b[1;32m   <a href='file:///Users/rchaks/opt/miniforge3/envs/m1_tf/lib/python3.9/site-packages/keras/engine/training.py?line=1340'>1341</a>\u001b[0m       epochs\u001b[39m=\u001b[39;49mepochs,\n\u001b[1;32m   <a href='file:///Users/rchaks/opt/miniforge3/envs/m1_tf/lib/python3.9/site-packages/keras/engine/training.py?line=1341'>1342</a>\u001b[0m       shuffle\u001b[39m=\u001b[39;49mshuffle,\n\u001b[1;32m   <a href='file:///Users/rchaks/opt/miniforge3/envs/m1_tf/lib/python3.9/site-packages/keras/engine/training.py?line=1342'>1343</a>\u001b[0m       class_weight\u001b[39m=\u001b[39;49mclass_weight,\n\u001b[1;32m   <a href='file:///Users/rchaks/opt/miniforge3/envs/m1_tf/lib/python3.9/site-packages/keras/engine/training.py?line=1343'>1344</a>\u001b[0m       max_queue_size\u001b[39m=\u001b[39;49mmax_queue_size,\n\u001b[1;32m   <a href='file:///Users/rchaks/opt/miniforge3/envs/m1_tf/lib/python3.9/site-packages/keras/engine/training.py?line=1344'>1345</a>\u001b[0m       workers\u001b[39m=\u001b[39;49mworkers,\n\u001b[1;32m   <a href='file:///Users/rchaks/opt/miniforge3/envs/m1_tf/lib/python3.9/site-packages/keras/engine/training.py?line=1345'>1346</a>\u001b[0m       use_multiprocessing\u001b[39m=\u001b[39;49muse_multiprocessing,\n\u001b[1;32m   <a href='file:///Users/rchaks/opt/miniforge3/envs/m1_tf/lib/python3.9/site-packages/keras/engine/training.py?line=1346'>1347</a>\u001b[0m       model\u001b[39m=\u001b[39;49m\u001b[39mself\u001b[39;49m,\n\u001b[1;32m   <a href='file:///Users/rchaks/opt/miniforge3/envs/m1_tf/lib/python3.9/site-packages/keras/engine/training.py?line=1347'>1348</a>\u001b[0m       steps_per_execution\u001b[39m=\u001b[39;49m\u001b[39mself\u001b[39;49m\u001b[39m.\u001b[39;49m_steps_per_execution)\n\u001b[1;32m   <a href='file:///Users/rchaks/opt/miniforge3/envs/m1_tf/lib/python3.9/site-packages/keras/engine/training.py?line=1349'>1350</a>\u001b[0m   \u001b[39m# Container that configures and calls `tf.keras.Callback`s.\u001b[39;00m\n\u001b[1;32m   <a href='file:///Users/rchaks/opt/miniforge3/envs/m1_tf/lib/python3.9/site-packages/keras/engine/training.py?line=1350'>1351</a>\u001b[0m   \u001b[39mif\u001b[39;00m \u001b[39mnot\u001b[39;00m \u001b[39misinstance\u001b[39m(callbacks, callbacks_module\u001b[39m.\u001b[39mCallbackList):\n",
      "File \u001b[0;32m~/opt/miniforge3/envs/m1_tf/lib/python3.9/site-packages/keras/engine/data_adapter.py:1399\u001b[0m, in \u001b[0;36mget_data_handler\u001b[0;34m(*args, **kwargs)\u001b[0m\n\u001b[1;32m   <a href='file:///Users/rchaks/opt/miniforge3/envs/m1_tf/lib/python3.9/site-packages/keras/engine/data_adapter.py?line=1396'>1397</a>\u001b[0m \u001b[39mif\u001b[39;00m \u001b[39mgetattr\u001b[39m(kwargs[\u001b[39m\"\u001b[39m\u001b[39mmodel\u001b[39m\u001b[39m\"\u001b[39m], \u001b[39m\"\u001b[39m\u001b[39m_cluster_coordinator\u001b[39m\u001b[39m\"\u001b[39m, \u001b[39mNone\u001b[39;00m):\n\u001b[1;32m   <a href='file:///Users/rchaks/opt/miniforge3/envs/m1_tf/lib/python3.9/site-packages/keras/engine/data_adapter.py?line=1397'>1398</a>\u001b[0m   \u001b[39mreturn\u001b[39;00m _ClusterCoordinatorDataHandler(\u001b[39m*\u001b[39margs, \u001b[39m*\u001b[39m\u001b[39m*\u001b[39mkwargs)\n\u001b[0;32m-> <a href='file:///Users/rchaks/opt/miniforge3/envs/m1_tf/lib/python3.9/site-packages/keras/engine/data_adapter.py?line=1398'>1399</a>\u001b[0m \u001b[39mreturn\u001b[39;00m DataHandler(\u001b[39m*\u001b[39;49margs, \u001b[39m*\u001b[39;49m\u001b[39m*\u001b[39;49mkwargs)\n",
      "File \u001b[0;32m~/opt/miniforge3/envs/m1_tf/lib/python3.9/site-packages/keras/engine/data_adapter.py:1149\u001b[0m, in \u001b[0;36mDataHandler.__init__\u001b[0;34m(self, x, y, sample_weight, batch_size, steps_per_epoch, initial_epoch, epochs, shuffle, class_weight, max_queue_size, workers, use_multiprocessing, model, steps_per_execution, distribute)\u001b[0m\n\u001b[1;32m   <a href='file:///Users/rchaks/opt/miniforge3/envs/m1_tf/lib/python3.9/site-packages/keras/engine/data_adapter.py?line=1145'>1146</a>\u001b[0m   \u001b[39mself\u001b[39m\u001b[39m.\u001b[39m_steps_per_execution \u001b[39m=\u001b[39m steps_per_execution\n\u001b[1;32m   <a href='file:///Users/rchaks/opt/miniforge3/envs/m1_tf/lib/python3.9/site-packages/keras/engine/data_adapter.py?line=1147'>1148</a>\u001b[0m adapter_cls \u001b[39m=\u001b[39m select_data_adapter(x, y)\n\u001b[0;32m-> <a href='file:///Users/rchaks/opt/miniforge3/envs/m1_tf/lib/python3.9/site-packages/keras/engine/data_adapter.py?line=1148'>1149</a>\u001b[0m \u001b[39mself\u001b[39m\u001b[39m.\u001b[39m_adapter \u001b[39m=\u001b[39m adapter_cls(\n\u001b[1;32m   <a href='file:///Users/rchaks/opt/miniforge3/envs/m1_tf/lib/python3.9/site-packages/keras/engine/data_adapter.py?line=1149'>1150</a>\u001b[0m     x,\n\u001b[1;32m   <a href='file:///Users/rchaks/opt/miniforge3/envs/m1_tf/lib/python3.9/site-packages/keras/engine/data_adapter.py?line=1150'>1151</a>\u001b[0m     y,\n\u001b[1;32m   <a href='file:///Users/rchaks/opt/miniforge3/envs/m1_tf/lib/python3.9/site-packages/keras/engine/data_adapter.py?line=1151'>1152</a>\u001b[0m     batch_size\u001b[39m=\u001b[39;49mbatch_size,\n\u001b[1;32m   <a href='file:///Users/rchaks/opt/miniforge3/envs/m1_tf/lib/python3.9/site-packages/keras/engine/data_adapter.py?line=1152'>1153</a>\u001b[0m     steps\u001b[39m=\u001b[39;49msteps_per_epoch,\n\u001b[1;32m   <a href='file:///Users/rchaks/opt/miniforge3/envs/m1_tf/lib/python3.9/site-packages/keras/engine/data_adapter.py?line=1153'>1154</a>\u001b[0m     epochs\u001b[39m=\u001b[39;49mepochs \u001b[39m-\u001b[39;49m initial_epoch,\n\u001b[1;32m   <a href='file:///Users/rchaks/opt/miniforge3/envs/m1_tf/lib/python3.9/site-packages/keras/engine/data_adapter.py?line=1154'>1155</a>\u001b[0m     sample_weights\u001b[39m=\u001b[39;49msample_weight,\n\u001b[1;32m   <a href='file:///Users/rchaks/opt/miniforge3/envs/m1_tf/lib/python3.9/site-packages/keras/engine/data_adapter.py?line=1155'>1156</a>\u001b[0m     shuffle\u001b[39m=\u001b[39;49mshuffle,\n\u001b[1;32m   <a href='file:///Users/rchaks/opt/miniforge3/envs/m1_tf/lib/python3.9/site-packages/keras/engine/data_adapter.py?line=1156'>1157</a>\u001b[0m     max_queue_size\u001b[39m=\u001b[39;49mmax_queue_size,\n\u001b[1;32m   <a href='file:///Users/rchaks/opt/miniforge3/envs/m1_tf/lib/python3.9/site-packages/keras/engine/data_adapter.py?line=1157'>1158</a>\u001b[0m     workers\u001b[39m=\u001b[39;49mworkers,\n\u001b[1;32m   <a href='file:///Users/rchaks/opt/miniforge3/envs/m1_tf/lib/python3.9/site-packages/keras/engine/data_adapter.py?line=1158'>1159</a>\u001b[0m     use_multiprocessing\u001b[39m=\u001b[39;49muse_multiprocessing,\n\u001b[1;32m   <a href='file:///Users/rchaks/opt/miniforge3/envs/m1_tf/lib/python3.9/site-packages/keras/engine/data_adapter.py?line=1159'>1160</a>\u001b[0m     distribution_strategy\u001b[39m=\u001b[39;49mtf\u001b[39m.\u001b[39;49mdistribute\u001b[39m.\u001b[39;49mget_strategy(),\n\u001b[1;32m   <a href='file:///Users/rchaks/opt/miniforge3/envs/m1_tf/lib/python3.9/site-packages/keras/engine/data_adapter.py?line=1160'>1161</a>\u001b[0m     model\u001b[39m=\u001b[39;49mmodel)\n\u001b[1;32m   <a href='file:///Users/rchaks/opt/miniforge3/envs/m1_tf/lib/python3.9/site-packages/keras/engine/data_adapter.py?line=1162'>1163</a>\u001b[0m strategy \u001b[39m=\u001b[39m tf\u001b[39m.\u001b[39mdistribute\u001b[39m.\u001b[39mget_strategy()\n\u001b[1;32m   <a href='file:///Users/rchaks/opt/miniforge3/envs/m1_tf/lib/python3.9/site-packages/keras/engine/data_adapter.py?line=1164'>1165</a>\u001b[0m \u001b[39mself\u001b[39m\u001b[39m.\u001b[39m_current_step \u001b[39m=\u001b[39m \u001b[39m0\u001b[39m\n",
      "File \u001b[0;32m~/opt/miniforge3/envs/m1_tf/lib/python3.9/site-packages/keras/engine/data_adapter.py:241\u001b[0m, in \u001b[0;36mTensorLikeDataAdapter.__init__\u001b[0;34m(self, x, y, sample_weights, sample_weight_modes, batch_size, epochs, steps, shuffle, **kwargs)\u001b[0m\n\u001b[1;32m    <a href='file:///Users/rchaks/opt/miniforge3/envs/m1_tf/lib/python3.9/site-packages/keras/engine/data_adapter.py?line=236'>237</a>\u001b[0m sample_weight_modes \u001b[39m=\u001b[39m broadcast_sample_weight_modes(\n\u001b[1;32m    <a href='file:///Users/rchaks/opt/miniforge3/envs/m1_tf/lib/python3.9/site-packages/keras/engine/data_adapter.py?line=237'>238</a>\u001b[0m     sample_weights, sample_weight_modes)\n\u001b[1;32m    <a href='file:///Users/rchaks/opt/miniforge3/envs/m1_tf/lib/python3.9/site-packages/keras/engine/data_adapter.py?line=239'>240</a>\u001b[0m \u001b[39m# If sample_weights are not specified for an output use 1.0 as weights.\u001b[39;00m\n\u001b[0;32m--> <a href='file:///Users/rchaks/opt/miniforge3/envs/m1_tf/lib/python3.9/site-packages/keras/engine/data_adapter.py?line=240'>241</a>\u001b[0m (sample_weights, _, _) \u001b[39m=\u001b[39m training_utils\u001b[39m.\u001b[39;49mhandle_partial_sample_weights(\n\u001b[1;32m    <a href='file:///Users/rchaks/opt/miniforge3/envs/m1_tf/lib/python3.9/site-packages/keras/engine/data_adapter.py?line=241'>242</a>\u001b[0m     y, sample_weights, sample_weight_modes, check_all_flat\u001b[39m=\u001b[39;49m\u001b[39mTrue\u001b[39;49;00m)\n\u001b[1;32m    <a href='file:///Users/rchaks/opt/miniforge3/envs/m1_tf/lib/python3.9/site-packages/keras/engine/data_adapter.py?line=243'>244</a>\u001b[0m inputs \u001b[39m=\u001b[39m pack_x_y_sample_weight(x, y, sample_weights)\n\u001b[1;32m    <a href='file:///Users/rchaks/opt/miniforge3/envs/m1_tf/lib/python3.9/site-packages/keras/engine/data_adapter.py?line=245'>246</a>\u001b[0m num_samples \u001b[39m=\u001b[39m \u001b[39mset\u001b[39m(\u001b[39mint\u001b[39m(i\u001b[39m.\u001b[39mshape[\u001b[39m0\u001b[39m]) \u001b[39mfor\u001b[39;00m i \u001b[39min\u001b[39;00m tf\u001b[39m.\u001b[39mnest\u001b[39m.\u001b[39mflatten(inputs))\u001b[39m.\u001b[39mpop()\n",
      "File \u001b[0;32m~/opt/miniforge3/envs/m1_tf/lib/python3.9/site-packages/keras/engine/training_utils.py:76\u001b[0m, in \u001b[0;36mhandle_partial_sample_weights\u001b[0;34m(outputs, sample_weights, sample_weight_modes, check_all_flat)\u001b[0m\n\u001b[1;32m     <a href='file:///Users/rchaks/opt/miniforge3/envs/m1_tf/lib/python3.9/site-packages/keras/engine/training_utils.py?line=60'>61</a>\u001b[0m \u001b[39m\"\"\"Adds 1.0 as sample weights for the outputs for which there is no weight.\u001b[39;00m\n\u001b[1;32m     <a href='file:///Users/rchaks/opt/miniforge3/envs/m1_tf/lib/python3.9/site-packages/keras/engine/training_utils.py?line=61'>62</a>\u001b[0m \n\u001b[1;32m     <a href='file:///Users/rchaks/opt/miniforge3/envs/m1_tf/lib/python3.9/site-packages/keras/engine/training_utils.py?line=62'>63</a>\u001b[0m \u001b[39mArgs:\u001b[39;00m\n\u001b[0;32m   (...)\u001b[0m\n\u001b[1;32m     <a href='file:///Users/rchaks/opt/miniforge3/envs/m1_tf/lib/python3.9/site-packages/keras/engine/training_utils.py?line=71'>72</a>\u001b[0m \u001b[39m  describing the raw sample weights.\u001b[39;00m\n\u001b[1;32m     <a href='file:///Users/rchaks/opt/miniforge3/envs/m1_tf/lib/python3.9/site-packages/keras/engine/training_utils.py?line=72'>73</a>\u001b[0m \u001b[39m\"\"\"\u001b[39;00m\n\u001b[1;32m     <a href='file:///Users/rchaks/opt/miniforge3/envs/m1_tf/lib/python3.9/site-packages/keras/engine/training_utils.py?line=73'>74</a>\u001b[0m any_sample_weight \u001b[39m=\u001b[39m sample_weights \u001b[39mis\u001b[39;00m \u001b[39mnot\u001b[39;00m \u001b[39mNone\u001b[39;00m \u001b[39mand\u001b[39;00m \u001b[39many\u001b[39m(\n\u001b[1;32m     <a href='file:///Users/rchaks/opt/miniforge3/envs/m1_tf/lib/python3.9/site-packages/keras/engine/training_utils.py?line=74'>75</a>\u001b[0m     w \u001b[39mis\u001b[39;00m \u001b[39mnot\u001b[39;00m \u001b[39mNone\u001b[39;00m \u001b[39mfor\u001b[39;00m w \u001b[39min\u001b[39;00m sample_weights)\n\u001b[0;32m---> <a href='file:///Users/rchaks/opt/miniforge3/envs/m1_tf/lib/python3.9/site-packages/keras/engine/training_utils.py?line=75'>76</a>\u001b[0m partial_sample_weight \u001b[39m=\u001b[39m any_sample_weight \u001b[39mand\u001b[39;00m \u001b[39many\u001b[39;49m(\n\u001b[1;32m     <a href='file:///Users/rchaks/opt/miniforge3/envs/m1_tf/lib/python3.9/site-packages/keras/engine/training_utils.py?line=76'>77</a>\u001b[0m     w \u001b[39mis\u001b[39;49;00m \u001b[39mNone\u001b[39;49;00m \u001b[39mfor\u001b[39;49;00m w \u001b[39min\u001b[39;49;00m sample_weights)\n\u001b[1;32m     <a href='file:///Users/rchaks/opt/miniforge3/envs/m1_tf/lib/python3.9/site-packages/keras/engine/training_utils.py?line=78'>79</a>\u001b[0m \u001b[39mif\u001b[39;00m \u001b[39mnot\u001b[39;00m any_sample_weight:\n\u001b[1;32m     <a href='file:///Users/rchaks/opt/miniforge3/envs/m1_tf/lib/python3.9/site-packages/keras/engine/training_utils.py?line=79'>80</a>\u001b[0m   \u001b[39mreturn\u001b[39;00m \u001b[39mNone\u001b[39;00m, any_sample_weight, partial_sample_weight\n",
      "File \u001b[0;32m~/opt/miniforge3/envs/m1_tf/lib/python3.9/site-packages/keras/engine/training_utils.py:76\u001b[0m, in \u001b[0;36m<genexpr>\u001b[0;34m(.0)\u001b[0m\n\u001b[1;32m     <a href='file:///Users/rchaks/opt/miniforge3/envs/m1_tf/lib/python3.9/site-packages/keras/engine/training_utils.py?line=60'>61</a>\u001b[0m \u001b[39m\"\"\"Adds 1.0 as sample weights for the outputs for which there is no weight.\u001b[39;00m\n\u001b[1;32m     <a href='file:///Users/rchaks/opt/miniforge3/envs/m1_tf/lib/python3.9/site-packages/keras/engine/training_utils.py?line=61'>62</a>\u001b[0m \n\u001b[1;32m     <a href='file:///Users/rchaks/opt/miniforge3/envs/m1_tf/lib/python3.9/site-packages/keras/engine/training_utils.py?line=62'>63</a>\u001b[0m \u001b[39mArgs:\u001b[39;00m\n\u001b[0;32m   (...)\u001b[0m\n\u001b[1;32m     <a href='file:///Users/rchaks/opt/miniforge3/envs/m1_tf/lib/python3.9/site-packages/keras/engine/training_utils.py?line=71'>72</a>\u001b[0m \u001b[39m  describing the raw sample weights.\u001b[39;00m\n\u001b[1;32m     <a href='file:///Users/rchaks/opt/miniforge3/envs/m1_tf/lib/python3.9/site-packages/keras/engine/training_utils.py?line=72'>73</a>\u001b[0m \u001b[39m\"\"\"\u001b[39;00m\n\u001b[1;32m     <a href='file:///Users/rchaks/opt/miniforge3/envs/m1_tf/lib/python3.9/site-packages/keras/engine/training_utils.py?line=73'>74</a>\u001b[0m any_sample_weight \u001b[39m=\u001b[39m sample_weights \u001b[39mis\u001b[39;00m \u001b[39mnot\u001b[39;00m \u001b[39mNone\u001b[39;00m \u001b[39mand\u001b[39;00m \u001b[39many\u001b[39m(\n\u001b[1;32m     <a href='file:///Users/rchaks/opt/miniforge3/envs/m1_tf/lib/python3.9/site-packages/keras/engine/training_utils.py?line=74'>75</a>\u001b[0m     w \u001b[39mis\u001b[39;00m \u001b[39mnot\u001b[39;00m \u001b[39mNone\u001b[39;00m \u001b[39mfor\u001b[39;00m w \u001b[39min\u001b[39;00m sample_weights)\n\u001b[0;32m---> <a href='file:///Users/rchaks/opt/miniforge3/envs/m1_tf/lib/python3.9/site-packages/keras/engine/training_utils.py?line=75'>76</a>\u001b[0m partial_sample_weight \u001b[39m=\u001b[39m any_sample_weight \u001b[39mand\u001b[39;00m \u001b[39many\u001b[39m(\n\u001b[1;32m     <a href='file:///Users/rchaks/opt/miniforge3/envs/m1_tf/lib/python3.9/site-packages/keras/engine/training_utils.py?line=76'>77</a>\u001b[0m     w \u001b[39mis\u001b[39;00m \u001b[39mNone\u001b[39;00m \u001b[39mfor\u001b[39;00m w \u001b[39min\u001b[39;00m sample_weights)\n\u001b[1;32m     <a href='file:///Users/rchaks/opt/miniforge3/envs/m1_tf/lib/python3.9/site-packages/keras/engine/training_utils.py?line=78'>79</a>\u001b[0m \u001b[39mif\u001b[39;00m \u001b[39mnot\u001b[39;00m any_sample_weight:\n\u001b[1;32m     <a href='file:///Users/rchaks/opt/miniforge3/envs/m1_tf/lib/python3.9/site-packages/keras/engine/training_utils.py?line=79'>80</a>\u001b[0m   \u001b[39mreturn\u001b[39;00m \u001b[39mNone\u001b[39;00m, any_sample_weight, partial_sample_weight\n",
      "File \u001b[0;32m~/opt/miniforge3/envs/m1_tf/lib/python3.9/site-packages/tensorflow/python/framework/ops.py:7298\u001b[0m, in \u001b[0;36m_TensorIterator.__next__\u001b[0;34m(self)\u001b[0m\n\u001b[1;32m   <a href='file:///Users/rchaks/opt/miniforge3/envs/m1_tf/lib/python3.9/site-packages/tensorflow/python/framework/ops.py?line=7295'>7296</a>\u001b[0m \u001b[39mif\u001b[39;00m \u001b[39mself\u001b[39m\u001b[39m.\u001b[39m_index \u001b[39m==\u001b[39m \u001b[39mself\u001b[39m\u001b[39m.\u001b[39m_limit:\n\u001b[1;32m   <a href='file:///Users/rchaks/opt/miniforge3/envs/m1_tf/lib/python3.9/site-packages/tensorflow/python/framework/ops.py?line=7296'>7297</a>\u001b[0m   \u001b[39mraise\u001b[39;00m \u001b[39mStopIteration\u001b[39;00m\n\u001b[0;32m-> <a href='file:///Users/rchaks/opt/miniforge3/envs/m1_tf/lib/python3.9/site-packages/tensorflow/python/framework/ops.py?line=7297'>7298</a>\u001b[0m result \u001b[39m=\u001b[39m \u001b[39mself\u001b[39;49m\u001b[39m.\u001b[39;49m_tensor[\u001b[39mself\u001b[39;49m\u001b[39m.\u001b[39;49m_index]\n\u001b[1;32m   <a href='file:///Users/rchaks/opt/miniforge3/envs/m1_tf/lib/python3.9/site-packages/tensorflow/python/framework/ops.py?line=7298'>7299</a>\u001b[0m \u001b[39mself\u001b[39m\u001b[39m.\u001b[39m_index \u001b[39m+\u001b[39m\u001b[39m=\u001b[39m \u001b[39m1\u001b[39m\n\u001b[1;32m   <a href='file:///Users/rchaks/opt/miniforge3/envs/m1_tf/lib/python3.9/site-packages/tensorflow/python/framework/ops.py?line=7299'>7300</a>\u001b[0m \u001b[39mreturn\u001b[39;00m result\n",
      "File \u001b[0;32m~/opt/miniforge3/envs/m1_tf/lib/python3.9/site-packages/tensorflow/python/util/traceback_utils.py:150\u001b[0m, in \u001b[0;36mfilter_traceback.<locals>.error_handler\u001b[0;34m(*args, **kwargs)\u001b[0m\n\u001b[1;32m    <a href='file:///Users/rchaks/opt/miniforge3/envs/m1_tf/lib/python3.9/site-packages/tensorflow/python/util/traceback_utils.py?line=147'>148</a>\u001b[0m filtered_tb \u001b[39m=\u001b[39m \u001b[39mNone\u001b[39;00m\n\u001b[1;32m    <a href='file:///Users/rchaks/opt/miniforge3/envs/m1_tf/lib/python3.9/site-packages/tensorflow/python/util/traceback_utils.py?line=148'>149</a>\u001b[0m \u001b[39mtry\u001b[39;00m:\n\u001b[0;32m--> <a href='file:///Users/rchaks/opt/miniforge3/envs/m1_tf/lib/python3.9/site-packages/tensorflow/python/util/traceback_utils.py?line=149'>150</a>\u001b[0m   \u001b[39mreturn\u001b[39;00m fn(\u001b[39m*\u001b[39;49margs, \u001b[39m*\u001b[39;49m\u001b[39m*\u001b[39;49mkwargs)\n\u001b[1;32m    <a href='file:///Users/rchaks/opt/miniforge3/envs/m1_tf/lib/python3.9/site-packages/tensorflow/python/util/traceback_utils.py?line=150'>151</a>\u001b[0m \u001b[39mexcept\u001b[39;00m \u001b[39mException\u001b[39;00m \u001b[39mas\u001b[39;00m e:\n\u001b[1;32m    <a href='file:///Users/rchaks/opt/miniforge3/envs/m1_tf/lib/python3.9/site-packages/tensorflow/python/util/traceback_utils.py?line=151'>152</a>\u001b[0m   filtered_tb \u001b[39m=\u001b[39m _process_traceback_frames(e\u001b[39m.\u001b[39m__traceback__)\n",
      "File \u001b[0;32m~/opt/miniforge3/envs/m1_tf/lib/python3.9/site-packages/tensorflow/python/util/dispatch.py:1082\u001b[0m, in \u001b[0;36madd_dispatch_support.<locals>.decorator.<locals>.op_dispatch_handler\u001b[0;34m(*args, **kwargs)\u001b[0m\n\u001b[1;32m   <a href='file:///Users/rchaks/opt/miniforge3/envs/m1_tf/lib/python3.9/site-packages/tensorflow/python/util/dispatch.py?line=1079'>1080</a>\u001b[0m \u001b[39m# Fallback dispatch system (dispatch v1):\u001b[39;00m\n\u001b[1;32m   <a href='file:///Users/rchaks/opt/miniforge3/envs/m1_tf/lib/python3.9/site-packages/tensorflow/python/util/dispatch.py?line=1080'>1081</a>\u001b[0m \u001b[39mtry\u001b[39;00m:\n\u001b[0;32m-> <a href='file:///Users/rchaks/opt/miniforge3/envs/m1_tf/lib/python3.9/site-packages/tensorflow/python/util/dispatch.py?line=1081'>1082</a>\u001b[0m   \u001b[39mreturn\u001b[39;00m dispatch_target(\u001b[39m*\u001b[39;49margs, \u001b[39m*\u001b[39;49m\u001b[39m*\u001b[39;49mkwargs)\n\u001b[1;32m   <a href='file:///Users/rchaks/opt/miniforge3/envs/m1_tf/lib/python3.9/site-packages/tensorflow/python/util/dispatch.py?line=1082'>1083</a>\u001b[0m \u001b[39mexcept\u001b[39;00m (\u001b[39mTypeError\u001b[39;00m, \u001b[39mValueError\u001b[39;00m):\n\u001b[1;32m   <a href='file:///Users/rchaks/opt/miniforge3/envs/m1_tf/lib/python3.9/site-packages/tensorflow/python/util/dispatch.py?line=1083'>1084</a>\u001b[0m   \u001b[39m# Note: convert_to_eager_tensor currently raises a ValueError, not a\u001b[39;00m\n\u001b[1;32m   <a href='file:///Users/rchaks/opt/miniforge3/envs/m1_tf/lib/python3.9/site-packages/tensorflow/python/util/dispatch.py?line=1084'>1085</a>\u001b[0m   \u001b[39m# TypeError, when given unexpected types.  So we need to catch both.\u001b[39;00m\n\u001b[1;32m   <a href='file:///Users/rchaks/opt/miniforge3/envs/m1_tf/lib/python3.9/site-packages/tensorflow/python/util/dispatch.py?line=1085'>1086</a>\u001b[0m   result \u001b[39m=\u001b[39m dispatch(op_dispatch_handler, args, kwargs)\n",
      "File \u001b[0;32m~/opt/miniforge3/envs/m1_tf/lib/python3.9/site-packages/tensorflow/python/ops/array_ops.py:1052\u001b[0m, in \u001b[0;36m_slice_helper\u001b[0;34m(tensor, slice_spec, var)\u001b[0m\n\u001b[1;32m   <a href='file:///Users/rchaks/opt/miniforge3/envs/m1_tf/lib/python3.9/site-packages/tensorflow/python/ops/array_ops.py?line=1049'>1050</a>\u001b[0m   var_empty \u001b[39m=\u001b[39m constant([], dtype\u001b[39m=\u001b[39mdtypes\u001b[39m.\u001b[39mint32)\n\u001b[1;32m   <a href='file:///Users/rchaks/opt/miniforge3/envs/m1_tf/lib/python3.9/site-packages/tensorflow/python/ops/array_ops.py?line=1050'>1051</a>\u001b[0m   packed_begin \u001b[39m=\u001b[39m packed_end \u001b[39m=\u001b[39m packed_strides \u001b[39m=\u001b[39m var_empty\n\u001b[0;32m-> <a href='file:///Users/rchaks/opt/miniforge3/envs/m1_tf/lib/python3.9/site-packages/tensorflow/python/ops/array_ops.py?line=1051'>1052</a>\u001b[0m \u001b[39mreturn\u001b[39;00m strided_slice(\n\u001b[1;32m   <a href='file:///Users/rchaks/opt/miniforge3/envs/m1_tf/lib/python3.9/site-packages/tensorflow/python/ops/array_ops.py?line=1052'>1053</a>\u001b[0m     tensor,\n\u001b[1;32m   <a href='file:///Users/rchaks/opt/miniforge3/envs/m1_tf/lib/python3.9/site-packages/tensorflow/python/ops/array_ops.py?line=1053'>1054</a>\u001b[0m     packed_begin,\n\u001b[1;32m   <a href='file:///Users/rchaks/opt/miniforge3/envs/m1_tf/lib/python3.9/site-packages/tensorflow/python/ops/array_ops.py?line=1054'>1055</a>\u001b[0m     packed_end,\n\u001b[1;32m   <a href='file:///Users/rchaks/opt/miniforge3/envs/m1_tf/lib/python3.9/site-packages/tensorflow/python/ops/array_ops.py?line=1055'>1056</a>\u001b[0m     packed_strides,\n\u001b[1;32m   <a href='file:///Users/rchaks/opt/miniforge3/envs/m1_tf/lib/python3.9/site-packages/tensorflow/python/ops/array_ops.py?line=1056'>1057</a>\u001b[0m     begin_mask\u001b[39m=\u001b[39;49mbegin_mask,\n\u001b[1;32m   <a href='file:///Users/rchaks/opt/miniforge3/envs/m1_tf/lib/python3.9/site-packages/tensorflow/python/ops/array_ops.py?line=1057'>1058</a>\u001b[0m     end_mask\u001b[39m=\u001b[39;49mend_mask,\n\u001b[1;32m   <a href='file:///Users/rchaks/opt/miniforge3/envs/m1_tf/lib/python3.9/site-packages/tensorflow/python/ops/array_ops.py?line=1058'>1059</a>\u001b[0m     shrink_axis_mask\u001b[39m=\u001b[39;49mshrink_axis_mask,\n\u001b[1;32m   <a href='file:///Users/rchaks/opt/miniforge3/envs/m1_tf/lib/python3.9/site-packages/tensorflow/python/ops/array_ops.py?line=1059'>1060</a>\u001b[0m     new_axis_mask\u001b[39m=\u001b[39;49mnew_axis_mask,\n\u001b[1;32m   <a href='file:///Users/rchaks/opt/miniforge3/envs/m1_tf/lib/python3.9/site-packages/tensorflow/python/ops/array_ops.py?line=1060'>1061</a>\u001b[0m     ellipsis_mask\u001b[39m=\u001b[39;49mellipsis_mask,\n\u001b[1;32m   <a href='file:///Users/rchaks/opt/miniforge3/envs/m1_tf/lib/python3.9/site-packages/tensorflow/python/ops/array_ops.py?line=1061'>1062</a>\u001b[0m     var\u001b[39m=\u001b[39;49mvar,\n\u001b[1;32m   <a href='file:///Users/rchaks/opt/miniforge3/envs/m1_tf/lib/python3.9/site-packages/tensorflow/python/ops/array_ops.py?line=1062'>1063</a>\u001b[0m     name\u001b[39m=\u001b[39;49mname)\n",
      "File \u001b[0;32m~/opt/miniforge3/envs/m1_tf/lib/python3.9/site-packages/tensorflow/python/util/traceback_utils.py:150\u001b[0m, in \u001b[0;36mfilter_traceback.<locals>.error_handler\u001b[0;34m(*args, **kwargs)\u001b[0m\n\u001b[1;32m    <a href='file:///Users/rchaks/opt/miniforge3/envs/m1_tf/lib/python3.9/site-packages/tensorflow/python/util/traceback_utils.py?line=147'>148</a>\u001b[0m filtered_tb \u001b[39m=\u001b[39m \u001b[39mNone\u001b[39;00m\n\u001b[1;32m    <a href='file:///Users/rchaks/opt/miniforge3/envs/m1_tf/lib/python3.9/site-packages/tensorflow/python/util/traceback_utils.py?line=148'>149</a>\u001b[0m \u001b[39mtry\u001b[39;00m:\n\u001b[0;32m--> <a href='file:///Users/rchaks/opt/miniforge3/envs/m1_tf/lib/python3.9/site-packages/tensorflow/python/util/traceback_utils.py?line=149'>150</a>\u001b[0m   \u001b[39mreturn\u001b[39;00m fn(\u001b[39m*\u001b[39;49margs, \u001b[39m*\u001b[39;49m\u001b[39m*\u001b[39;49mkwargs)\n\u001b[1;32m    <a href='file:///Users/rchaks/opt/miniforge3/envs/m1_tf/lib/python3.9/site-packages/tensorflow/python/util/traceback_utils.py?line=150'>151</a>\u001b[0m \u001b[39mexcept\u001b[39;00m \u001b[39mException\u001b[39;00m \u001b[39mas\u001b[39;00m e:\n\u001b[1;32m    <a href='file:///Users/rchaks/opt/miniforge3/envs/m1_tf/lib/python3.9/site-packages/tensorflow/python/util/traceback_utils.py?line=151'>152</a>\u001b[0m   filtered_tb \u001b[39m=\u001b[39m _process_traceback_frames(e\u001b[39m.\u001b[39m__traceback__)\n",
      "File \u001b[0;32m~/opt/miniforge3/envs/m1_tf/lib/python3.9/site-packages/tensorflow/python/util/dispatch.py:1082\u001b[0m, in \u001b[0;36madd_dispatch_support.<locals>.decorator.<locals>.op_dispatch_handler\u001b[0;34m(*args, **kwargs)\u001b[0m\n\u001b[1;32m   <a href='file:///Users/rchaks/opt/miniforge3/envs/m1_tf/lib/python3.9/site-packages/tensorflow/python/util/dispatch.py?line=1079'>1080</a>\u001b[0m \u001b[39m# Fallback dispatch system (dispatch v1):\u001b[39;00m\n\u001b[1;32m   <a href='file:///Users/rchaks/opt/miniforge3/envs/m1_tf/lib/python3.9/site-packages/tensorflow/python/util/dispatch.py?line=1080'>1081</a>\u001b[0m \u001b[39mtry\u001b[39;00m:\n\u001b[0;32m-> <a href='file:///Users/rchaks/opt/miniforge3/envs/m1_tf/lib/python3.9/site-packages/tensorflow/python/util/dispatch.py?line=1081'>1082</a>\u001b[0m   \u001b[39mreturn\u001b[39;00m dispatch_target(\u001b[39m*\u001b[39;49margs, \u001b[39m*\u001b[39;49m\u001b[39m*\u001b[39;49mkwargs)\n\u001b[1;32m   <a href='file:///Users/rchaks/opt/miniforge3/envs/m1_tf/lib/python3.9/site-packages/tensorflow/python/util/dispatch.py?line=1082'>1083</a>\u001b[0m \u001b[39mexcept\u001b[39;00m (\u001b[39mTypeError\u001b[39;00m, \u001b[39mValueError\u001b[39;00m):\n\u001b[1;32m   <a href='file:///Users/rchaks/opt/miniforge3/envs/m1_tf/lib/python3.9/site-packages/tensorflow/python/util/dispatch.py?line=1083'>1084</a>\u001b[0m   \u001b[39m# Note: convert_to_eager_tensor currently raises a ValueError, not a\u001b[39;00m\n\u001b[1;32m   <a href='file:///Users/rchaks/opt/miniforge3/envs/m1_tf/lib/python3.9/site-packages/tensorflow/python/util/dispatch.py?line=1084'>1085</a>\u001b[0m   \u001b[39m# TypeError, when given unexpected types.  So we need to catch both.\u001b[39;00m\n\u001b[1;32m   <a href='file:///Users/rchaks/opt/miniforge3/envs/m1_tf/lib/python3.9/site-packages/tensorflow/python/util/dispatch.py?line=1085'>1086</a>\u001b[0m   result \u001b[39m=\u001b[39m dispatch(op_dispatch_handler, args, kwargs)\n",
      "File \u001b[0;32m~/opt/miniforge3/envs/m1_tf/lib/python3.9/site-packages/tensorflow/python/ops/array_ops.py:1225\u001b[0m, in \u001b[0;36mstrided_slice\u001b[0;34m(input_, begin, end, strides, begin_mask, end_mask, ellipsis_mask, new_axis_mask, shrink_axis_mask, var, name)\u001b[0m\n\u001b[1;32m   <a href='file:///Users/rchaks/opt/miniforge3/envs/m1_tf/lib/python3.9/site-packages/tensorflow/python/ops/array_ops.py?line=1221'>1222</a>\u001b[0m \u001b[39mif\u001b[39;00m strides \u001b[39mis\u001b[39;00m \u001b[39mNone\u001b[39;00m:\n\u001b[1;32m   <a href='file:///Users/rchaks/opt/miniforge3/envs/m1_tf/lib/python3.9/site-packages/tensorflow/python/ops/array_ops.py?line=1222'>1223</a>\u001b[0m   strides \u001b[39m=\u001b[39m ones_like(begin)\n\u001b[0;32m-> <a href='file:///Users/rchaks/opt/miniforge3/envs/m1_tf/lib/python3.9/site-packages/tensorflow/python/ops/array_ops.py?line=1224'>1225</a>\u001b[0m op \u001b[39m=\u001b[39m gen_array_ops\u001b[39m.\u001b[39;49mstrided_slice(\n\u001b[1;32m   <a href='file:///Users/rchaks/opt/miniforge3/envs/m1_tf/lib/python3.9/site-packages/tensorflow/python/ops/array_ops.py?line=1225'>1226</a>\u001b[0m     \u001b[39minput\u001b[39;49m\u001b[39m=\u001b[39;49minput_,\n\u001b[1;32m   <a href='file:///Users/rchaks/opt/miniforge3/envs/m1_tf/lib/python3.9/site-packages/tensorflow/python/ops/array_ops.py?line=1226'>1227</a>\u001b[0m     begin\u001b[39m=\u001b[39;49mbegin,\n\u001b[1;32m   <a href='file:///Users/rchaks/opt/miniforge3/envs/m1_tf/lib/python3.9/site-packages/tensorflow/python/ops/array_ops.py?line=1227'>1228</a>\u001b[0m     end\u001b[39m=\u001b[39;49mend,\n\u001b[1;32m   <a href='file:///Users/rchaks/opt/miniforge3/envs/m1_tf/lib/python3.9/site-packages/tensorflow/python/ops/array_ops.py?line=1228'>1229</a>\u001b[0m     strides\u001b[39m=\u001b[39;49mstrides,\n\u001b[1;32m   <a href='file:///Users/rchaks/opt/miniforge3/envs/m1_tf/lib/python3.9/site-packages/tensorflow/python/ops/array_ops.py?line=1229'>1230</a>\u001b[0m     name\u001b[39m=\u001b[39;49mname,\n\u001b[1;32m   <a href='file:///Users/rchaks/opt/miniforge3/envs/m1_tf/lib/python3.9/site-packages/tensorflow/python/ops/array_ops.py?line=1230'>1231</a>\u001b[0m     begin_mask\u001b[39m=\u001b[39;49mbegin_mask,\n\u001b[1;32m   <a href='file:///Users/rchaks/opt/miniforge3/envs/m1_tf/lib/python3.9/site-packages/tensorflow/python/ops/array_ops.py?line=1231'>1232</a>\u001b[0m     end_mask\u001b[39m=\u001b[39;49mend_mask,\n\u001b[1;32m   <a href='file:///Users/rchaks/opt/miniforge3/envs/m1_tf/lib/python3.9/site-packages/tensorflow/python/ops/array_ops.py?line=1232'>1233</a>\u001b[0m     ellipsis_mask\u001b[39m=\u001b[39;49mellipsis_mask,\n\u001b[1;32m   <a href='file:///Users/rchaks/opt/miniforge3/envs/m1_tf/lib/python3.9/site-packages/tensorflow/python/ops/array_ops.py?line=1233'>1234</a>\u001b[0m     new_axis_mask\u001b[39m=\u001b[39;49mnew_axis_mask,\n\u001b[1;32m   <a href='file:///Users/rchaks/opt/miniforge3/envs/m1_tf/lib/python3.9/site-packages/tensorflow/python/ops/array_ops.py?line=1234'>1235</a>\u001b[0m     shrink_axis_mask\u001b[39m=\u001b[39;49mshrink_axis_mask)\n\u001b[1;32m   <a href='file:///Users/rchaks/opt/miniforge3/envs/m1_tf/lib/python3.9/site-packages/tensorflow/python/ops/array_ops.py?line=1236'>1237</a>\u001b[0m parent_name \u001b[39m=\u001b[39m name\n\u001b[1;32m   <a href='file:///Users/rchaks/opt/miniforge3/envs/m1_tf/lib/python3.9/site-packages/tensorflow/python/ops/array_ops.py?line=1238'>1239</a>\u001b[0m \u001b[39mif\u001b[39;00m var \u001b[39mis\u001b[39;00m \u001b[39mnot\u001b[39;00m \u001b[39mNone\u001b[39;00m:\n",
      "File \u001b[0;32m~/opt/miniforge3/envs/m1_tf/lib/python3.9/site-packages/tensorflow/python/ops/gen_array_ops.py:10665\u001b[0m, in \u001b[0;36mstrided_slice\u001b[0;34m(input, begin, end, strides, begin_mask, end_mask, ellipsis_mask, new_axis_mask, shrink_axis_mask, name)\u001b[0m\n\u001b[1;32m  <a href='file:///Users/rchaks/opt/miniforge3/envs/m1_tf/lib/python3.9/site-packages/tensorflow/python/ops/gen_array_ops.py?line=10662'>10663</a>\u001b[0m \u001b[39mif\u001b[39;00m tld\u001b[39m.\u001b[39mis_eager:\n\u001b[1;32m  <a href='file:///Users/rchaks/opt/miniforge3/envs/m1_tf/lib/python3.9/site-packages/tensorflow/python/ops/gen_array_ops.py?line=10663'>10664</a>\u001b[0m   \u001b[39mtry\u001b[39;00m:\n\u001b[0;32m> <a href='file:///Users/rchaks/opt/miniforge3/envs/m1_tf/lib/python3.9/site-packages/tensorflow/python/ops/gen_array_ops.py?line=10664'>10665</a>\u001b[0m     _result \u001b[39m=\u001b[39m pywrap_tfe\u001b[39m.\u001b[39;49mTFE_Py_FastPathExecute(\n\u001b[1;32m  <a href='file:///Users/rchaks/opt/miniforge3/envs/m1_tf/lib/python3.9/site-packages/tensorflow/python/ops/gen_array_ops.py?line=10665'>10666</a>\u001b[0m       _ctx, \u001b[39m\"\u001b[39;49m\u001b[39mStridedSlice\u001b[39;49m\u001b[39m\"\u001b[39;49m, name, \u001b[39minput\u001b[39;49m, begin, end, strides, \u001b[39m\"\u001b[39;49m\u001b[39mbegin_mask\u001b[39;49m\u001b[39m\"\u001b[39;49m,\n\u001b[1;32m  <a href='file:///Users/rchaks/opt/miniforge3/envs/m1_tf/lib/python3.9/site-packages/tensorflow/python/ops/gen_array_ops.py?line=10666'>10667</a>\u001b[0m       begin_mask, \u001b[39m\"\u001b[39;49m\u001b[39mend_mask\u001b[39;49m\u001b[39m\"\u001b[39;49m, end_mask, \u001b[39m\"\u001b[39;49m\u001b[39mellipsis_mask\u001b[39;49m\u001b[39m\"\u001b[39;49m, ellipsis_mask,\n\u001b[1;32m  <a href='file:///Users/rchaks/opt/miniforge3/envs/m1_tf/lib/python3.9/site-packages/tensorflow/python/ops/gen_array_ops.py?line=10667'>10668</a>\u001b[0m       \u001b[39m\"\u001b[39;49m\u001b[39mnew_axis_mask\u001b[39;49m\u001b[39m\"\u001b[39;49m, new_axis_mask, \u001b[39m\"\u001b[39;49m\u001b[39mshrink_axis_mask\u001b[39;49m\u001b[39m\"\u001b[39;49m, shrink_axis_mask)\n\u001b[1;32m  <a href='file:///Users/rchaks/opt/miniforge3/envs/m1_tf/lib/python3.9/site-packages/tensorflow/python/ops/gen_array_ops.py?line=10668'>10669</a>\u001b[0m     \u001b[39mreturn\u001b[39;00m _result\n\u001b[1;32m  <a href='file:///Users/rchaks/opt/miniforge3/envs/m1_tf/lib/python3.9/site-packages/tensorflow/python/ops/gen_array_ops.py?line=10669'>10670</a>\u001b[0m   \u001b[39mexcept\u001b[39;00m _core\u001b[39m.\u001b[39m_NotOkStatusException \u001b[39mas\u001b[39;00m e:\n",
      "\u001b[0;31mKeyboardInterrupt\u001b[0m: "
     ]
    }
   ],
   "source": [
    "game = 0\n",
    "scores = []\n",
    "model_name = 'V3_assault_2'\n",
    "\n",
    "pbar = tqdm(total=tgames)\n",
    "\n",
    "with open(f'scores_{model_name}.csv','w') as out_file:\n",
    "    out_file.write('game,score, train_time, len_buff\\n')\n",
    "\n",
    "    while True:\n",
    "        pbar.update(1)\n",
    "        start = time.time()\n",
    "        g = min(game, tgames-1)\n",
    "        frames, healths, actions, rewards, score = play1game(mod, epsvec[g])\n",
    "\n",
    "        rewards = discount_rewards(rewards.copy())\n",
    "        # memory buffer\n",
    "        buffer['frames'] += frames.copy()\n",
    "        buffer['healths'] += healths.copy()\n",
    "        buffer['actions'] += actions.copy()\n",
    "        buffer['rewards'] += rewards.copy()\n",
    "        len_buff += len(actions)\n",
    "\n",
    "        if len_buff > buffn:\n",
    "            excess = len_buff - buffn\n",
    "            buffer['frames'] = buffer['frames'][excess:].copy()\n",
    "            buffer['healths'] = buffer['healths'][excess:].copy()\n",
    "            buffer['actions'] = buffer['actions'][excess:].copy()\n",
    "            buffer['rewards'] = buffer['rewards'][excess:].copy()\n",
    "            len_buff = len(buffer['actions'])\n",
    "        rewards = np.array(rewards)\n",
    "        actions = np.array(actions)\n",
    "        nframes = len(frames)\n",
    "\n",
    "        current_frames = np.zeros((nframes, board_dimensions[0], board_dimensions[1],frames_to_net))\n",
    "        current_health = np.zeros((nframes, 1, 2, frames_to_net))\n",
    "        \n",
    "        if game >= warmupgames:\n",
    "            prob = np.ones(len_buff)\n",
    "            prob[np.array(buffer['rewards']) > 0] = 5.0\n",
    "            \n",
    "            prob /= np.sum(prob)\n",
    "            which_choose = np.random.choice(len_buff,size=nframes,replace=False,p=prob)\n",
    "        \n",
    "            for grab in range(nframes):\n",
    "                rewards[grab] = buffer['rewards'][which_choose[grab]]\n",
    "                actions[grab] = buffer['actions'][which_choose[grab]]\n",
    "                for f in range(frames_to_net):\n",
    "                    if grab-f > 0:\n",
    "                        current_frames[grab,:,:,f] = buffer['frames'][which_choose[grab]-f].copy()\n",
    "                        current_health[grab,:,:,f] = buffer['healths'][which_choose[grab]-f].copy()\n",
    "            \n",
    "            history = mod.fit([current_frames, current_health],actions,epochs=1,steps_per_epoch=nbatch,verbose=0,sample_weight=rewards,use_multiprocessing=True)\n",
    "        stop = time.time()\n",
    "        \n",
    "        game += 1\n",
    "        # too many games to train on, hard stop\n",
    "        if game >= tgames:\n",
    "            break\n",
    "        # append consecutive positive scores\n",
    "        if score > 0:\n",
    "            scores.append(score)\n",
    "        elif len(scores) > 0:\n",
    "            scores.pop(0)\n",
    "        else:\n",
    "            pass\n",
    "        out_file.write(str(game)+','+str(score)+','+str(round(stop-start, 4))+','+str(len_buff)+'\\n')\n",
    "        out_file.flush()\n",
    "\n",
    "\n",
    "        mod.save(f'{model_name}.tf')\n",
    "        # stop training when NN has won 200 consecutive games\n",
    "        if len(scores) > ngames:\n",
    "            break\n",
    "        # print(game, score, stop-start,len_buff)"
   ]
  },
  {
   "cell_type": "markdown",
   "id": "f14d1900",
   "metadata": {},
   "source": [
    "# Visualise the game after training"
   ]
  },
  {
   "cell_type": "code",
   "execution_count": 11,
   "id": "4b459737",
   "metadata": {},
   "outputs": [
    {
     "name": "stdout",
     "output_type": "stream",
     "text": [
      "Model: \"dual_input_model\"\n",
      "__________________________________________________________________________________________________\n",
      " Layer (type)                   Output Shape         Param #     Connected to                     \n",
      "==================================================================================================\n",
      " board_input (InputLayer)       [(None, 36, 80, 4)]  0           []                               \n",
      "                                                                                                  \n",
      " conv1 (Conv2D)                 (None, 16, 38, 32)   3232        ['board_input[0][0]']            \n",
      "                                                                                                  \n",
      " max_pooling2d_2 (MaxPooling2D)  (None, 8, 19, 32)   0           ['conv1[0][0]']                  \n",
      "                                                                                                  \n",
      " conv2 (Conv2D)                 (None, 2, 4, 16)     8208        ['max_pooling2d_2[0][0]']        \n",
      "                                                                                                  \n",
      " health_input (InputLayer)      [(None, 1, 2, 4)]    0           []                               \n",
      "                                                                                                  \n",
      " max_pooling2d_3 (MaxPooling2D)  (None, 1, 2, 16)    0           ['conv2[0][0]']                  \n",
      "                                                                                                  \n",
      " health_conv1 (Conv2D)          (None, 1, 2, 1)      5           ['health_input[0][0]']           \n",
      "                                                                                                  \n",
      " flatten_2 (Flatten)            (None, 32)           0           ['max_pooling2d_3[0][0]']        \n",
      "                                                                                                  \n",
      " flatten_3 (Flatten)            (None, 2)            0           ['health_conv1[0][0]']           \n",
      "                                                                                                  \n",
      " tf.concat_1 (TFOpLambda)       (None, 34)           0           ['flatten_2[0][0]',              \n",
      "                                                                  'flatten_3[0][0]']              \n",
      "                                                                                                  \n",
      " dense1 (Dense)                 (None, 256)          8960        ['tf.concat_1[0][0]']            \n",
      "                                                                                                  \n",
      " dense2 (Dense)                 (None, 128)          32896       ['dense1[0][0]']                 \n",
      "                                                                                                  \n",
      " output (Dense)                 (None, 5)            645         ['dense2[0][0]']                 \n",
      "                                                                                                  \n",
      "==================================================================================================\n",
      "Total params: 53,946\n",
      "Trainable params: 53,946\n",
      "Non-trainable params: 0\n",
      "__________________________________________________________________________________________________\n"
     ]
    }
   ],
   "source": [
    "# model_name = 'V3_assault_'\n",
    "\n",
    "# mod2 = tf.keras.models.load_model(f'{model_name}.tf')\n",
    "# mod2.call = tf.function(mod2.call,experimental_relax_shapes=True)\n",
    "\n",
    "# mod2.summary()"
   ]
  },
  {
   "cell_type": "code",
   "execution_count": 24,
   "id": "aecb0bda",
   "metadata": {},
   "outputs": [
    {
     "data": {
      "text/plain": [
       "<matplotlib.image.AxesImage at 0x283647160>"
      ]
     },
     "execution_count": 24,
     "metadata": {},
     "output_type": "execute_result"
    },
    {
     "data": {
      "image/png": "[encoded data removed]",
      "text/plain": [
       "<Figure size 432x288 with 1 Axes>"
      ]
     },
     "metadata": {
      "needs_background": "light"
     },
     "output_type": "display_data"
    }
   ],
   "source": [
    "# frame_array, health_array, action_array, reward_array, score = play1game(mod2, 0, render=True, slow= 0.015)\n",
    "\n",
    "# plt.imshow(frame_array[-16])"
   ]
  },
  {
   "cell_type": "code",
   "execution_count": null,
   "id": "943e05a2",
   "metadata": {},
   "outputs": [],
   "source": [
    "# ngames = 100\n",
    "# scores = np.zeros(ngames)\n",
    "# for game in tqdm(range(ngames)):\n",
    "#     frames, health, actions, rewards, score = play1game(mod2, 0)\n",
    "#     scores[game] = score\n",
    "\n",
    "# np.mean(scores)"
   ]
  },
  {
   "cell_type": "code",
   "execution_count": null,
   "id": "e2ff2927",
   "metadata": {},
   "outputs": [],
   "source": []
  }
 ],
 "metadata": {
  "kernelspec": {
   "display_name": "Python 3",
   "language": "python",
   "name": "python3"
  },
  "language_info": {
   "codemirror_mode": {
    "name": "ipython",
    "version": 3
   },
   "file_extension": ".py",
   "mimetype": "text/x-python",
   "name": "python",
   "nbconvert_exporter": "python",
   "pygments_lexer": "ipython3",
   "version": "3.9.12"
  }
 },
 "nbformat": 4,
 "nbformat_minor": 5
}
