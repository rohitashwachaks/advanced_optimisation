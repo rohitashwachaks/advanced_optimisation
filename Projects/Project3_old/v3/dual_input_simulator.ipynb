{
 "cells": [
  {
   "cell_type": "markdown",
   "id": "506c4707",
   "metadata": {},
   "source": [
    "# Optimization II Project 3"
   ]
  },
  {
   "cell_type": "code",
   "execution_count": 1,
   "id": "bcf38d18",
   "metadata": {},
   "outputs": [],
   "source": [
    "import numpy as np\n",
    "import gym\n",
    "import tensorflow as tf\n",
    "import time\n",
    "from tensorflow.keras.models import Model\n",
    "from tensorflow.keras.layers import Dense, Flatten, Dropout, Conv2D, Input, MaxPool2D, MaxPool1D\n",
    "from tensorflow import keras\n",
    "from tqdm import tqdm\n",
    "\n",
    "import matplotlib.pyplot as plt\n",
    "\n",
    "tf.compat.v1.logging.set_verbosity(tf.compat.v1.logging.ERROR) # stop displaying warnings that mean nothing!!!"
   ]
  },
  {
   "cell_type": "code",
   "execution_count": 2,
   "id": "001f080c",
   "metadata": {},
   "outputs": [],
   "source": [
    "# %load_ext tensorboard\n",
    "# %tensorboard --logdir logs/fit\n",
    "# # %tensorboard --logdir=data/ --host localhost --port 8888"
   ]
  },
  {
   "cell_type": "markdown",
   "id": "d0d2e3f2",
   "metadata": {},
   "source": [
    "## I: Pong (Till we win)"
   ]
  },
  {
   "cell_type": "code",
   "execution_count": 3,
   "id": "b8cc65f7",
   "metadata": {},
   "outputs": [],
   "source": [
    "def prepro(I):\n",
    "    # preprocess each frame for learning\n",
    "    # save some memory and computation\n",
    "    # pre-process the image from a 210x160x3 uint8 frame into an (80x80) float array )\n",
    "    # print(I.shape)\n",
    "    I = I[::2,:,0].copy() # downsample by factor of 2\n",
    "    # print(I.shape)\n",
    "    # print(I.shape)\n",
    "    dim = I.shape\n",
    "    I = I.reshape(dim[0], dim[1])   # convert to a 2D array\n",
    "    I = I[10:,::] # remove the top 7 rows of pixels : Score\n",
    "\n",
    "    # I[I == 144] = 0 # erase background (background type 1)\n",
    "    # I[I == 109] = 0 # erase background (background type 2)\n",
    "    I[I != 0] = 1 # everything else (paddles, ball) just set to 1\n",
    "    I = np.any( np.array(np.array_split(I, I.shape[1]//2, axis=1)) == 1, axis = 2).T\n",
    " \n",
    "    return np.array(I)\n",
    "\n",
    "\n",
    "def segment_env(I):\n",
    "    '''\n",
    "        segment the environment into 4 parts\n",
    "        returns a list of 4 images\n",
    "        Mothership, spawns, spaceship, lives, gun_heat\n",
    "    '''\n",
    "    I = I.copy()\n",
    "    I = prepro(I)\n",
    "    row_count, col_count = I.shape\n",
    "    # Mothership\n",
    "    I_mothership = I[:10, :]\n",
    "    I_mothership = np.any(I_mothership == 1, axis=0).reshape(1, col_count)\n",
    "    \n",
    "    # Spawns\n",
    "    I_spawns = I[10:row_count - 16, :]\n",
    "    I_spawns = np.array([np.any(x == 1, axis=0) for x in np.array_split(I_spawns, I_spawns.shape[0]//2, axis=0)])\n",
    "\n",
    "    # Spaceship\n",
    "    I_spaceship = I[row_count-16:row_count-12, :]\n",
    "    I_spaceship = np.any(I_spaceship == 1, axis=0).reshape(1, col_count)\n",
    "    \n",
    "    num_bombs = -1 # at least 1 object in this line...my bot\n",
    "    for i in range(1,I_spaceship.shape[1]):\n",
    "        if I_spaceship[0][i] == 1 and I_spaceship[0][i-1] == 1:\n",
    "            num_bombs += 1\n",
    "    \n",
    "    # Lets not bother about this now\n",
    "    # Lives\n",
    "    I_lives = I[row_count-10:row_count-5, :col_count//2]\n",
    "    I_lives = np.any(I_lives == 1, axis=0).reshape(1, col_count//2)\n",
    "    split = np.array(np.array_split(I_lives[:, 4:], 4, axis = 1))\n",
    "    num_lives = np.any(split == 1, axis = 2).sum() + 1\n",
    "    # print('Num Lives',num_lives)\n",
    "    \n",
    "    # gun_heat\n",
    "    I_gun_heat = I[row_count-10:row_count-5, col_count//2:]\n",
    "    I_gun_heat = np.any(I_gun_heat == 1, axis=0).reshape(1, col_count//2)\n",
    "    \n",
    "    heat_gun_padding = 8\n",
    "    percent_heat = I_gun_heat[:, heat_gun_padding:].sum() / I_gun_heat[:, heat_gun_padding:].shape[1]\n",
    "    # print('Percent Heat', percent_heat)\n",
    "\n",
    "    I_health = np.concatenate((I_lives, I_gun_heat), axis=1)\n",
    "\n",
    "    segment_list = [I_mothership, I_spawns, I_spaceship]#, I_health]\n",
    "    # return segment_list\n",
    "    return np.concatenate(segment_list, axis=0), num_lives, percent_heat"
   ]
  },
  {
   "cell_type": "code",
   "execution_count": 4,
   "id": "dba62112",
   "metadata": {},
   "outputs": [],
   "source": [
    "def plot_environment(I):\n",
    "    fig, ax = plt.subplots(1, 2, figsize=(10, 10), sharex= False, sharey= False)\n",
    "    ax[0].imshow(I)\n",
    "    # segment_list = segment_env(I)\n",
    "    # prep_im = np.concatenate(segment_list, axis=0)\n",
    "    prep_im, _, _ = segment_env(I)\n",
    "    # ax[1].imshow(prep_im, cmap='gray')\n",
    "    plt.show()"
   ]
  },
  {
   "cell_type": "code",
   "execution_count": 5,
   "id": "e4c5adc3",
   "metadata": {},
   "outputs": [
    {
     "data": {
      "image/png": "[encoded data removed]",
      "text/plain": [
       "<Figure size 720x720 with 2 Axes>"
      ]
     },
     "metadata": {
      "needs_background": "light"
     },
     "output_type": "display_data"
    },
    {
     "name": "stdout",
     "output_type": "stream",
     "text": [
      "(36, 80)\n"
     ]
    }
   ],
   "source": [
    "frames_to_net = 1\n",
    "frames_this_game = 0\n",
    "\n",
    "env = gym.make(\"Assault-v0\")\n",
    "\n",
    "pix = env.reset()\n",
    "for i in range(15):\n",
    "    pix, reward, done, info = env.step(env.action_space.sample()) # take a random action\n",
    "plot_environment(pix)\n",
    "board_dimensions = segment_env(pix)[0].shape\n",
    "\n",
    "# pix = prepro(pix)\n",
    "# dimensions = pix.shape\n",
    "\n",
    "\n",
    "env.reset()\n",
    "env.close()\n",
    "\n",
    "print(board_dimensions)"
   ]
  },
  {
   "cell_type": "code",
   "execution_count": 6,
   "id": "03c2a29e",
   "metadata": {},
   "outputs": [
    {
     "data": {
      "text/plain": [
       "['NOOP', 'FIRE', 'UP', 'RIGHT', 'LEFT', 'RIGHTFIRE', 'LEFTFIRE']"
      ]
     },
     "execution_count": 6,
     "metadata": {},
     "output_type": "execute_result"
    }
   ],
   "source": [
    "env.unwrapped.get_action_meanings()"
   ]
  },
  {
   "cell_type": "markdown",
   "id": "3abc1325",
   "metadata": {},
   "source": [
    "### Policy Gradient with linear annealing, memory buffer, and same action for 4 consecutive frames"
   ]
  },
  {
   "cell_type": "code",
   "execution_count": 7,
   "id": "7dcb1d2f",
   "metadata": {},
   "outputs": [],
   "source": [
    "def discount_rewards(r):\n",
    "    # take 1D float array of rewards and compute discounted reward\n",
    "    # gym returns a reward with every single frame.  most of those rewards are 0\n",
    "    # sometimes they're 1 or -1 if we win or lose a point in that specific frame\n",
    "    # we want non-0 rewards for every frame. \n",
    "    # so take each frame, figure out if we eventually won the corresponding point or not\n",
    "    # if so make the reward positive, if not negative\n",
    "    # but more recent actions (relative to the frame where the point is awarded) are more \n",
    "    # impactful to the score that frames a long time ago, so discount rewards...\n",
    "    \n",
    "    delt = 0.99 # discount factor\n",
    "    nr = len(r)\n",
    "    # we want to change all those zeros into discounted values of the next reward (this is the value function!)\n",
    "    discounted_r = [0.0]*nr\n",
    "    \n",
    "    for t in range(nr):\n",
    "        # start at the end\n",
    "        if r[nr-t-1] > 0: # if you won a point in this frame we want a good reward\n",
    "            discounted_r[nr-t-1] = 1\n",
    "        elif r[nr-t-1] < 0: # if we lost the point we want a bad reward\n",
    "            discounted_r[nr-t-1] = -1\n",
    "        elif t==0: # this is just for error catching...at t==0 r[nr-t-1] should have already been + or -...\n",
    "            discounted_r[nr-t-1] = 0\n",
    "        elif discounted_r[nr-t-1] == 0: # otherwise you want to look at the next reward value and discount it\n",
    "            discounted_r[nr-t-1] = delt*discounted_r[nr-t]\n",
    "    return discounted_r"
   ]
  },
  {
   "cell_type": "code",
   "execution_count": 8,
   "id": "5bcc648e",
   "metadata": {},
   "outputs": [],
   "source": [
    "frames_to_net = 4              # how many previous frames will we feed the NN\n",
    "possible_actions = [x for x in range(env.unwrapped.action_space.n)] # the possible actions we can take"
   ]
  },
  {
   "cell_type": "markdown",
   "id": "8948100c",
   "metadata": {},
   "source": [
    "## Play the game"
   ]
  },
  {
   "cell_type": "code",
   "execution_count": 12,
   "id": "0af28be0",
   "metadata": {},
   "outputs": [],
   "source": [
    "def play1game(model, action_space, ep = 0, render=False, slow= 0.01,):\n",
    "    env0 = gym.make(\"Assault-v0\")\n",
    "    pix = env0.reset()\n",
    "    pix, num_lives, percent_heat = segment_env(pix)\n",
    "    \n",
    "    num_bombs = -1 # at least 1 object in this line...my bot\n",
    "    for i in range(1,pix.shape[1],3):\n",
    "        if pix[-1,i] == 1 and pix[-1,i-1] == 1:\n",
    "            num_bombs += 1\n",
    "    \n",
    "    health = np.array([num_lives, percent_heat]).reshape((1,2))\n",
    "    dimensions = pix.shape\n",
    "\n",
    "    action_space = env0.unwrapped.action_space.n -2 # the -2 is because we don't want to fire left or right\n",
    "    possible_actions = np.array([i for i in range(action_space)])\n",
    "    \n",
    "    frames_this_game = 0\n",
    "    feed = np.zeros((1, dimensions[0], dimensions[1],frames_to_net))\n",
    "    feed[0,:,:,0] = pix.copy()\n",
    "    \n",
    "    health_feed = np.zeros((1,1,2, frames_to_net))\n",
    "    health_feed[0,:,:,0] = health.copy()\n",
    "    \n",
    "    \n",
    "    frame_array = []\n",
    "    health_array = []\n",
    "    action_array = []\n",
    "    reward_array = []\n",
    "    \n",
    "    score = 0\n",
    "    action = 0\n",
    "    done = False\n",
    "    try:\n",
    "        while not done:\n",
    "            if render == True: # do you actually want to visualize the playing?\n",
    "                env0.render()\n",
    "                time.sleep(slow)\n",
    "            \n",
    "            # skipping every 4 frames\n",
    "            if frames_this_game%4 == 0:\n",
    "                vf = model([feed, health_feed ],training=False).numpy()[0]\n",
    "                    # epsilon-greedy\n",
    "                if np.random.random() < ep:\n",
    "                    action = np.random.choice(action_space)\n",
    "                else:\n",
    "                    action = np.random.choice(possible_actions,p=vf)\n",
    "            \n",
    "            if num_bombs > 0: # if we have a bomb, we want to fire left/right\n",
    "                action = np.random.choice([0,1], p=[0.5, 0.5]) + action_space\n",
    "\n",
    "            # action0 = possible_actions[action]\n",
    "            pix_new, reward, done, info = env0.step(action)\n",
    "            pix, num_lives, percent_heat = segment_env(pix_new)\n",
    "            health = np.array([num_lives, percent_heat]).reshape((1,2))\n",
    "\n",
    "            frame_array.append(pix)\n",
    "            action_array.append(action)\n",
    "            reward_array.append(reward)\n",
    "            health_array.append(health)\n",
    "            frames_this_game += 1\n",
    "\n",
    "            for f in range(1,frames_to_net):\n",
    "                feed[0,:,:,frames_to_net-f] = feed[0,:,:,frames_to_net-f-1].copy()\n",
    "            feed[0,:,:,0] = pix.copy()\n",
    "            score += reward\n",
    "\n",
    "            if frames_this_game > 5000:#5000000:\n",
    "                print(\"Game is taking too long, breaking\")\n",
    "                done = True\n",
    "\n",
    "    except Exception as e:\n",
    "        print(e)\n",
    "    except KeyboardInterrupt:\n",
    "        print('KeyboardInterrupt')\n",
    "    finally:\n",
    "        env0.reset()\n",
    "        env0.close()\n",
    "    return frame_array, health_array, action_array, reward_array, score"
   ]
  },
  {
   "cell_type": "markdown",
   "id": "f14d1900",
   "metadata": {},
   "source": [
    "# Visualise the game after training"
   ]
  },
  {
   "cell_type": "code",
   "execution_count": 13,
   "id": "4b459737",
   "metadata": {},
   "outputs": [
    {
     "name": "stdout",
     "output_type": "stream",
     "text": [
      "Model: \"dual_input_model\"\n",
      "__________________________________________________________________________________________________\n",
      " Layer (type)                   Output Shape         Param #     Connected to                     \n",
      "==================================================================================================\n",
      " board_input (InputLayer)       [(None, 36, 80, 4)]  0           []                               \n",
      "                                                                                                  \n",
      " conv1 (Conv2D)                 (None, 16, 38, 32)   3232        ['board_input[0][0]']            \n",
      "                                                                                                  \n",
      " max_pooling2d (MaxPooling2D)   (None, 8, 19, 32)    0           ['conv1[0][0]']                  \n",
      "                                                                                                  \n",
      " conv2 (Conv2D)                 (None, 2, 4, 16)     8208        ['max_pooling2d[0][0]']          \n",
      "                                                                                                  \n",
      " health_input (InputLayer)      [(None, 1, 2, 4)]    0           []                               \n",
      "                                                                                                  \n",
      " max_pooling2d_1 (MaxPooling2D)  (None, 1, 2, 16)    0           ['conv2[0][0]']                  \n",
      "                                                                                                  \n",
      " health_conv1 (Conv2D)          (None, 1, 2, 1)      5           ['health_input[0][0]']           \n",
      "                                                                                                  \n",
      " flatten (Flatten)              (None, 32)           0           ['max_pooling2d_1[0][0]']        \n",
      "                                                                                                  \n",
      " flatten_1 (Flatten)            (None, 2)            0           ['health_conv1[0][0]']           \n",
      "                                                                                                  \n",
      " tf.concat (TFOpLambda)         (None, 34)           0           ['flatten[0][0]',                \n",
      "                                                                  'flatten_1[0][0]']              \n",
      "                                                                                                  \n",
      " dense1 (Dense)                 (None, 256)          8960        ['tf.concat[0][0]']              \n",
      "                                                                                                  \n",
      " dense2 (Dense)                 (None, 128)          32896       ['dense1[0][0]']                 \n",
      "                                                                                                  \n",
      " output (Dense)                 (None, 5)            645         ['dense2[0][0]']                 \n",
      "                                                                                                  \n",
      "==================================================================================================\n",
      "Total params: 53,946\n",
      "Trainable params: 53,946\n",
      "Non-trainable params: 0\n",
      "__________________________________________________________________________________________________\n"
     ]
    }
   ],
   "source": [
    "model_name = 'V3_assault_2'\n",
    "# model_name = 'V2_assault_2_full_action_space_'\n",
    "\n",
    "mod2 = tf.keras.models.load_model(f'{model_name}.tf')\n",
    "mod2.call = tf.function(mod2.call,experimental_relax_shapes=True)\n",
    "\n",
    "mod2.summary()"
   ]
  },
  {
   "cell_type": "code",
   "execution_count": 14,
   "id": "aecb0bda",
   "metadata": {},
   "outputs": [],
   "source": [
    "frame_array, health_array, action_array, reward_array, score = play1game(mod2, 7, 0, render=True, slow= 0.015)"
   ]
  },
  {
   "cell_type": "code",
   "execution_count": 24,
   "id": "89d4dd72",
   "metadata": {},
   "outputs": [
    {
     "data": {
      "text/plain": [
       "<matplotlib.image.AxesImage at 0x2844c5ca0>"
      ]
     },
     "execution_count": 24,
     "metadata": {},
     "output_type": "execute_result"
    },
    {
     "data": {
      "image/png": "[encoded data removed]",
      "text/plain": [
       "<Figure size 432x288 with 1 Axes>"
      ]
     },
     "metadata": {
      "needs_background": "light"
     },
     "output_type": "display_data"
    }
   ],
   "source": [
    "plt.imshow(frame_array[-3])"
   ]
  },
  {
   "cell_type": "code",
   "execution_count": 12,
   "id": "975a91fa",
   "metadata": {},
   "outputs": [
    {
     "data": {
      "text/plain": [
       "<AxesSubplot:>"
      ]
     },
     "execution_count": 12,
     "metadata": {},
     "output_type": "execute_result"
    },
    {
     "data": {
      "image/png": "[encoded data removed]",
      "text/plain": [
       "<Figure size 432x288 with 1 Axes>"
      ]
     },
     "metadata": {
      "needs_background": "light"
     },
     "output_type": "display_data"
    }
   ],
   "source": [
    "import pandas as pd\n",
    "model_name = 'V3_assault_2'\n",
    "pd.read_csv(f'scores_{model_name}.csv', index_col=0).drop('game').reset_index(drop= True).score.astype(float).plot()"
   ]
  },
  {
   "cell_type": "code",
   "execution_count": 12,
   "id": "943e05a2",
   "metadata": {},
   "outputs": [
    {
     "name": "stderr",
     "output_type": "stream",
     "text": [
      " 45%|████▌     | 451/1000 [47:38<48:41,  5.32s/it]  "
     ]
    }
   ],
   "source": [
    "# ngames = 1000\n",
    "# scores = np.zeros(ngames)\n",
    "# for game in tqdm(range(ngames)):\n",
    "#     frames, health, actions, rewards, score = play1game(mod2, 7, ep = 0)\n",
    "#     scores[game] = score\n",
    "\n",
    "# np.mean(scores)"
   ]
  },
  {
   "cell_type": "code",
   "execution_count": null,
   "id": "e2ff2927",
   "metadata": {},
   "outputs": [],
   "source": []
  }
 ],
 "metadata": {
  "kernelspec": {
   "display_name": "Python 3",
   "language": "python",
   "name": "python3"
  },
  "language_info": {
   "codemirror_mode": {
    "name": "ipython",
    "version": 3
   },
   "file_extension": ".py",
   "mimetype": "text/x-python",
   "name": "python",
   "nbconvert_exporter": "python",
   "pygments_lexer": "ipython3",
   "version": "3.9.12"
  }
 },
 "nbformat": 4,
 "nbformat_minor": 5
}
