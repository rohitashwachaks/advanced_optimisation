{
 "cells": [
  {
   "cell_type": "code",
   "execution_count": 1,
   "metadata": {},
   "outputs": [],
   "source": [
    "import numpy as np\n",
    "import gurobi as gb\n",
    "import matplotlib.pyplot as plt\n",
    "import pandas as pd\n",
    "import seaborn as sns\n",
    "# from scipy.optimize import minimize\n",
    "from tqdm import tqdm\n",
    "from numpy.random import normal, randint\n",
    "\n",
    "GUROBI_TIMEOUT = 5 # in second\n",
    "\n",
    "%matplotlib inline\n"
   ]
  },
  {
   "cell_type": "code",
   "execution_count": 2,
   "metadata": {},
   "outputs": [],
   "source": [
    "cost = 0.5\n",
    "g = 0.75\n",
    "\n",
    "price = 1.00\n",
    "t = 0.15"
   ]
  },
  {
   "cell_type": "code",
   "execution_count": 3,
   "metadata": {},
   "outputs": [
    {
     "data": {
      "text/html": [
       "<div>\n",
       "<style scoped>\n",
       "    .dataframe tbody tr th:only-of-type {\n",
       "        vertical-align: middle;\n",
       "    }\n",
       "\n",
       "    .dataframe tbody tr th {\n",
       "        vertical-align: top;\n",
       "    }\n",
       "\n",
       "    .dataframe thead th {\n",
       "        text-align: right;\n",
       "    }\n",
       "</style>\n",
       "<table border=\"1\" class=\"dataframe\">\n",
       "  <thead>\n",
       "    <tr style=\"text-align: right;\">\n",
       "      <th></th>\n",
       "      <th>price</th>\n",
       "      <th>demand</th>\n",
       "    </tr>\n",
       "  </thead>\n",
       "  <tbody>\n",
       "    <tr>\n",
       "      <th>0</th>\n",
       "      <td>1.05</td>\n",
       "      <td>283</td>\n",
       "    </tr>\n",
       "    <tr>\n",
       "      <th>1</th>\n",
       "      <td>0.86</td>\n",
       "      <td>771</td>\n",
       "    </tr>\n",
       "    <tr>\n",
       "      <th>2</th>\n",
       "      <td>1.21</td>\n",
       "      <td>185</td>\n",
       "    </tr>\n",
       "    <tr>\n",
       "      <th>3</th>\n",
       "      <td>0.94</td>\n",
       "      <td>531</td>\n",
       "    </tr>\n",
       "    <tr>\n",
       "      <th>4</th>\n",
       "      <td>0.76</td>\n",
       "      <td>1002</td>\n",
       "    </tr>\n",
       "  </tbody>\n",
       "</table>\n",
       "</div>"
      ],
      "text/plain": [
       "   price  demand\n",
       "0   1.05     283\n",
       "1   0.86     771\n",
       "2   1.21     185\n",
       "3   0.94     531\n",
       "4   0.76    1002"
      ]
     },
     "execution_count": 3,
     "metadata": {},
     "output_type": "execute_result"
    }
   ],
   "source": [
    "demand = pd.read_csv('price_demand_data.csv')\n",
    "\n",
    "num_days = demand.shape[0]\n",
    "demand.head()"
   ]
  },
  {
   "cell_type": "markdown",
   "metadata": {},
   "source": [
    "# Helper Functions"
   ]
  },
  {
   "cell_type": "code",
   "execution_count": 4,
   "metadata": {},
   "outputs": [],
   "source": [
    "# Helper Functions\n",
    "\n",
    "class Gurobi_Model():\n",
    "    '''\n",
    "        Class Method I made to help me encapsulate the whole Gurobi model creation, \n",
    "        Finding Slack Variable and perform sensitivity analysis\n",
    "    '''\n",
    "    \n",
    "    def __init__(self, obj_linear, cons, sense, b, variable_types = 'C',\n",
    "                lower_bound = None, upper_bound = None,\n",
    "                optimisation_type = gb.GRB.MAXIMIZE, obj_quadratic = None) -> None:\n",
    "        '''\n",
    "            Initialising the Model\n",
    "        '''\n",
    "        if (obj_quadratic is None) and (obj_linear is None):\n",
    "            raise Exception(\"No objective defined\")\n",
    "\n",
    "        constraints, variables = cons.shape\n",
    "\n",
    "        ## Optimisation Model at work (Maximise)\n",
    "        try:\n",
    "            self.model = gb.Model()\n",
    "            self.model_X = self.model.addMVar(variables,\n",
    "                                        vtype=variable_types,\n",
    "                                        lb= lower_bound, ub= upper_bound)\n",
    "\n",
    "            self.model_constraints = self.model.addMConstr(cons, self.model_X, sense, b)\n",
    "            self.model.setMObjective(obj_quadratic, obj_linear, 0, sense=optimisation_type)\n",
    "            self.model.Params.OutputFlag = 0\n",
    "            self.model.Params.TimeLimit = GUROBI_TIMEOUT\n",
    "\n",
    "            self.model.optimize()\n",
    "\n",
    "        except Exception:\n",
    "            print(\"Error in optimising\")\n",
    "            raise Exception\n",
    "        \n",
    "        ## Assigning stuff for other use cases\n",
    "        try:\n",
    "            self.obj_q = obj_quadratic\n",
    "            self.obj = obj_linear\n",
    "            self.constraint = cons\n",
    "            self.sense = sense\n",
    "            self.b = b\n",
    "        except Exception:\n",
    "            print(\"Error in Storing equations\")\n",
    "            raise Exception\n",
    "        return\n",
    "\n",
    "    @property\n",
    "    def optimal_obj(self): return self.model.objVal\n",
    "\n",
    "    @property\n",
    "    def optimal_x(self): return self.model_X.x\n",
    "\n",
    "    @property\n",
    "    def output(self):\n",
    "        return {'objVal': self.optimal_obj,\n",
    "                'x': self.optimal_x}\n",
    "\n",
    "    def print_equations(self)->None:\n",
    "        '''\n",
    "            Print Objective Functions and Constraint Equations\n",
    "        '''\n",
    "        char = \"a\"\n",
    "        print(\"Optimise System of equations:\")\n",
    "        for item in self.obj:\n",
    "            print(str(item)+char,end=\" + \")\n",
    "            char = chr(ord(char) + 1)\n",
    "        print(\"\\b\\b\")\n",
    "        print(\"Subject to:\")#, end=\" \")\n",
    "        for i in range(self.constraint.shape[0]):\n",
    "            char = \"a\"\n",
    "            print(\"\\t\"+str(i)+\")\",end=\" \")\n",
    "            for j in range(self.constraint.shape[1]):\n",
    "                print(str(self.constraint[i,j])+char,end=\" + \")\n",
    "                char = chr(ord(char) + 1)\n",
    "            print(\"\\b\\b \"+self.sense[i]+\"= \"+str(self.b[i]))\n",
    "        return\n",
    "\n",
    "    def print_slack(self)->None:\n",
    "        '''\n",
    "            Print Slacks for each constraints\n",
    "        '''\n",
    "        print(\"\\nConstraint values at Optimal solution:\\n\",self.constraint@self.optimal_x)\n",
    "        print(\"Binding values:\", self.b)\n",
    "        print(\"Slack: \", abs((self.constraint@self.optimal_x)-self.b))\n",
    "        return\n",
    "\n",
    "    def sensitivity_analysis(self, verbose = False)->None:\n",
    "        '''\n",
    "            Sensitivity Analysis\n",
    "        '''\n",
    "        shadow_cost = {index: con.Pi for index, con in enumerate(self.model_constraints)}\n",
    "        shadow_cost_bound = {index: (con.SARHSLow, con.SARHSUp) for index, con in enumerate(self.model_constraints)}\n",
    "        if verbose:\n",
    "            try:\n",
    "                print(\"\\nShadow Cost:\")\n",
    "                # shadow_cost = [con.Pi for con in self.model_constraints]\n",
    "                print(\"\\t\", shadow_cost)\n",
    "            except:\n",
    "                print(\"\\tCan not fetch value for Shadow Cost\")\n",
    "\n",
    "            try:\n",
    "                print(\"\\nUpper and Lower Bound of Shadow Cost\")\n",
    "                # shadow_cost_bound = [(con.SARHSLow, con.SARHSUp) for con in self.model_constraints]\n",
    "                print(\"\\t\", shadow_cost_bound)\n",
    "            except:\n",
    "                print(\"\\tCan not fetch value for Upper and Lower\")\n",
    "\n",
    "            try:\n",
    "                print(\"\\nRange of Objective where Optimal Corner remains the same\")\n",
    "                print(\"\\tLower Bound:\",self.model_X.SAObjLow)# <- Range of Slope for which optimal Corner remains same\n",
    "                print(\"\\tUpper Bound:\",self.model_X.SAObjUP) # <- Range of Slope for which optimal Corner remains same\n",
    "            except:\n",
    "                print(\"\\tCan not fetch value for Optimal Corner\")        \n",
    "\n",
    "        return {\n",
    "            'shadow_cost': shadow_cost,\n",
    "            'shadow_cost_bound': shadow_cost_bound,\n",
    "            'optimal_corner_range': {\"low\": self.model_X.SAObjLow,\n",
    "                                    'high': self.model_X.SAObjUP}\n",
    "        }"
   ]
  },
  {
   "cell_type": "markdown",
   "metadata": {},
   "source": [
    "# Part - 1"
   ]
  },
  {
   "cell_type": "code",
   "execution_count": 5,
   "metadata": {},
   "outputs": [],
   "source": [
    "from patsy import dmatrices\n",
    "import statsmodels.api as sm"
   ]
  },
  {
   "cell_type": "code",
   "execution_count": 6,
   "metadata": {},
   "outputs": [
    {
     "name": "stdout",
     "output_type": "stream",
     "text": [
      "R2: 0.6175700655080063\n",
      "(99, 2)\n"
     ]
    },
    {
     "data": {
      "text/html": [
       "<table class=\"simpletable\">\n",
       "<caption>OLS Regression Results</caption>\n",
       "<tr>\n",
       "  <th>Dep. Variable:</th>         <td>demand</td>      <th>  R-squared:         </th> <td>   0.621</td>\n",
       "</tr>\n",
       "<tr>\n",
       "  <th>Model:</th>                   <td>OLS</td>       <th>  Adj. R-squared:    </th> <td>   0.618</td>\n",
       "</tr>\n",
       "<tr>\n",
       "  <th>Method:</th>             <td>Least Squares</td>  <th>  F-statistic:       </th> <td>   159.3</td>\n",
       "</tr>\n",
       "<tr>\n",
       "  <th>Date:</th>             <td>Wed, 23 Feb 2022</td> <th>  Prob (F-statistic):</th> <td>3.51e-22</td>\n",
       "</tr>\n",
       "<tr>\n",
       "  <th>Time:</th>                 <td>20:29:20</td>     <th>  Log-Likelihood:    </th> <td> -636.17</td>\n",
       "</tr>\n",
       "<tr>\n",
       "  <th>No. Observations:</th>      <td>    99</td>      <th>  AIC:               </th> <td>   1276.</td>\n",
       "</tr>\n",
       "<tr>\n",
       "  <th>Df Residuals:</th>          <td>    97</td>      <th>  BIC:               </th> <td>   1282.</td>\n",
       "</tr>\n",
       "<tr>\n",
       "  <th>Df Model:</th>              <td>     1</td>      <th>                     </th>     <td> </td>   \n",
       "</tr>\n",
       "<tr>\n",
       "  <th>Covariance Type:</th>      <td>nonrobust</td>    <th>                     </th>     <td> </td>   \n",
       "</tr>\n",
       "</table>\n",
       "<table class=\"simpletable\">\n",
       "<tr>\n",
       "      <td></td>         <th>coef</th>     <th>std err</th>      <th>t</th>      <th>P>|t|</th>  <th>[0.025</th>    <th>0.975]</th>  \n",
       "</tr>\n",
       "<tr>\n",
       "  <th>Intercept</th> <td> 1924.7175</td> <td>  111.334</td> <td>   17.288</td> <td> 0.000</td> <td> 1703.750</td> <td> 2145.685</td>\n",
       "</tr>\n",
       "<tr>\n",
       "  <th>price</th>     <td>-1367.7125</td> <td>  108.379</td> <td>  -12.620</td> <td> 0.000</td> <td>-1582.816</td> <td>-1152.609</td>\n",
       "</tr>\n",
       "</table>\n",
       "<table class=\"simpletable\">\n",
       "<tr>\n",
       "  <th>Omnibus:</th>       <td> 0.906</td> <th>  Durbin-Watson:     </th> <td>   1.827</td>\n",
       "</tr>\n",
       "<tr>\n",
       "  <th>Prob(Omnibus):</th> <td> 0.636</td> <th>  Jarque-Bera (JB):  </th> <td>   0.871</td>\n",
       "</tr>\n",
       "<tr>\n",
       "  <th>Skew:</th>          <td>-0.222</td> <th>  Prob(JB):          </th> <td>   0.647</td>\n",
       "</tr>\n",
       "<tr>\n",
       "  <th>Kurtosis:</th>      <td> 2.881</td> <th>  Cond. No.          </th> <td>    14.6</td>\n",
       "</tr>\n",
       "</table><br/><br/>Notes:<br/>[1] Standard Errors assume that the covariance matrix of the errors is correctly specified."
      ],
      "text/plain": [
       "<class 'statsmodels.iolib.summary.Summary'>\n",
       "\"\"\"\n",
       "                            OLS Regression Results                            \n",
       "==============================================================================\n",
       "Dep. Variable:                 demand   R-squared:                       0.621\n",
       "Model:                            OLS   Adj. R-squared:                  0.618\n",
       "Method:                 Least Squares   F-statistic:                     159.3\n",
       "Date:                Wed, 23 Feb 2022   Prob (F-statistic):           3.51e-22\n",
       "Time:                        20:29:20   Log-Likelihood:                -636.17\n",
       "No. Observations:                  99   AIC:                             1276.\n",
       "Df Residuals:                      97   BIC:                             1282.\n",
       "Df Model:                           1                                         \n",
       "Covariance Type:            nonrobust                                         \n",
       "==============================================================================\n",
       "                 coef    std err          t      P>|t|      [0.025      0.975]\n",
       "------------------------------------------------------------------------------\n",
       "Intercept   1924.7175    111.334     17.288      0.000    1703.750    2145.685\n",
       "price      -1367.7125    108.379    -12.620      0.000   -1582.816   -1152.609\n",
       "==============================================================================\n",
       "Omnibus:                        0.906   Durbin-Watson:                   1.827\n",
       "Prob(Omnibus):                  0.636   Jarque-Bera (JB):                0.871\n",
       "Skew:                          -0.222   Prob(JB):                        0.647\n",
       "Kurtosis:                       2.881   Cond. No.                         14.6\n",
       "==============================================================================\n",
       "\n",
       "Notes:\n",
       "[1] Standard Errors assume that the covariance matrix of the errors is correctly specified.\n",
       "\"\"\""
      ]
     },
     "execution_count": 6,
     "metadata": {},
     "output_type": "execute_result"
    }
   ],
   "source": [
    "y, X = dmatrices('demand ~ price', data=demand)#, return_type='dataframe')\n",
    "ols_model = sm.OLS(y, X)       # Set up the model\n",
    "ols_model = ols_model.fit()       # Fit model (find the intercept and slopes)\n",
    "print(f'R2: {ols_model.rsquared_adj}')\n",
    "print(X.shape)\n",
    "residual = y.flatten() - ols_model.predict(X)\n",
    "residual\n",
    "\n",
    "ols_model.summary()"
   ]
  },
  {
   "cell_type": "markdown",
   "metadata": {},
   "source": [
    "# Part - 2\n",
    "\n",
    "Assume price = 1, c=0.5, g=0.75, and t=0.15\n",
    "\n",
    "Use residuals to generate demand data"
   ]
  },
  {
   "cell_type": "code",
   "execution_count": 7,
   "metadata": {},
   "outputs": [
    {
     "data": {
      "text/plain": [
       "array([351.38562621, 579.52024662, 472.21963007, 448.93724855,\n",
       "       673.7489942 , 453.13462041, 430.10324468, 480.8744971 ,\n",
       "       554.19737186, 720.84312138, 449.58299807, 262.93724855,\n",
       "       617.83400387, 653.19737186, 569.89675532, 623.96862428,\n",
       "       224.26012331, 385.06275145, 544.70850097, 690.89675532,\n",
       "       593.58299807, 634.52024662, 522.22874758, 703.51112911,\n",
       "       471.86537959, 722.42611944, 216.32287476, 299.90587283,\n",
       "       828.35425048, 693.42611944, 290.03137572, 339.22874758,\n",
       "       652.92813104, 631.41700193, 848.32287476, 660.22874758,\n",
       "       643.26012331, 678.81174565, 597.15687862, 409.58299807,\n",
       "       647.89675532, 719.83400387, 547.41700193, 527.13462041,\n",
       "       485.47975338, 588.54250483, 495.29149903, 610.51112911,\n",
       "       583.67712524, 539.44837766, 700.06275145, 557.21963007,\n",
       "       700.26012331, 647.54250483, 445.41700193, 560.70850097,\n",
       "       233.09412717, 467.41700193, 723.57388056, 878.29149903,\n",
       "       593.73987669, 438.70850097, 575.51112911, 422.64574952,\n",
       "       512.16599613, 210.09412717, 701.78036993, 478.57388056,\n",
       "       543.96862428, 614.54250483, 678.81174565, 668.09412717,\n",
       "       552.80262814, 815.77125242, 610.15687862, 762.16599613,\n",
       "       527.06275145, 667.93724855, 898.42611944, 417.8744971 ,\n",
       "       654.21963007, 551.06275145, 529.51112911, 628.54250483,\n",
       "       406.21963007, 675.92813104, 561.70850097, 363.03137572,\n",
       "       359.22874758, 451.78036993, 324.38562621, 367.55162234,\n",
       "       626.44837766, 600.38562621, 498.80262814, 669.10324468,\n",
       "       441.70850097, 858.35425048, 601.44837766])"
      ]
     },
     "execution_count": 7,
     "metadata": {},
     "output_type": "execute_result"
    }
   ],
   "source": [
    "predicted_demand = ols_model.predict(np.ones(X.shape))\n",
    "predicted_demand += residual\n",
    "predicted_demand"
   ]
  },
  {
   "cell_type": "markdown",
   "metadata": {},
   "source": [
    "# Part - 3"
   ]
  },
  {
   "cell_type": "markdown",
   "metadata": {},
   "source": [
    "$$\\max_{q} \\text{ Profit}_i = \\frac{1}{N}\\sum_{i=1}^{N} {(pD_i - qc - g(D_i - q)^+ - t(q - D_i)^+)}$$\n",
    "\n",
    "where:\n",
    "- $(x)^+ = \\max (x,0)$\n",
    "- $D_i$ is the demand on Day _i_\n",
    "- $q$ is the **Quantity** produced initially\n",
    "- $p$ is the **Price** (Sale Price)\n",
    "- $c$ is the **Cost** of production (Cost Price)\n",
    "- $g$ is the **Expedited Cost** of production\n",
    "- $t$ is the **Disposal** Cost\n",
    "\n",
    "Thus the NLP can be reformulated as an LP in the following way:\n",
    "\n",
    "$$\\max_{q,h_1, h_2, ..., h_N} \\text{ Profit}_i = \\frac{1}{N}\\sum_{i=1}^{N} {h_i}$$\n",
    "subject to:\n",
    "$$\n",
    "h < {(pD_i - cq - g(D_i - q))} \\\\\n",
    "h < {(pD_i - cq - t(q - D_i))} \\\\\n",
    "h > -\\infty \\\\\n",
    "q > 0\n",
    "$$\n",
    "\n",
    "upon rewriting, we get:\n",
    "\n",
    "$$\\max_{q,h_1, h_2, ..., h_N} \\text{ Profit}_i = \\frac{1}{N}\\sum_{i=1}^{N} {h_i}$$\n",
    "subject to:\n",
    "$$\n",
    "h + (c-g)q < (p-g)D_i \\\\\n",
    "h + (c+t)q < (p+t)D_i \\\\\n",
    "h > -\\infty \\\\\n",
    "q > 0\n",
    "$$\n",
    "\n",
    "\n",
    "\n",
    "<!--Here Quantity, Cost and sale price are all vectors $\\epsilon\\text{  } \\R^{5x1}$-->"
   ]
  },
  {
   "cell_type": "code",
   "execution_count": 8,
   "metadata": {},
   "outputs": [],
   "source": [
    "# decision variables are (q, h1, h2, ..., h_num_days)\n",
    "obj = np.zeros(num_days+1)\n",
    "obj[1:] = 1.0/num_days\n",
    "\n",
    "lb = np.zeros(num_days+1)\n",
    "lb[1:] = -np.inf # quantity printed needs to be non-negative, but profit on a given day could possibly be negative\n",
    "\n",
    "rhs = np.zeros(2*num_days)\n",
    "\n",
    "direction = np.array(['<']*(2*num_days))\n",
    "\n",
    "var_type = np.array(['I']+['C']*num_days)"
   ]
  },
  {
   "cell_type": "code",
   "execution_count": 9,
   "metadata": {},
   "outputs": [],
   "source": [
    "A = np.zeros((2*num_days,num_days+1))\n",
    "\n",
    "for r in range(num_days):\n",
    "    A[2*r ,[0,r+1]] = [cost - g,1] # location 0 is q, location r+1 is this h\n",
    "    rhs[2*r] = (price - g)*predicted_demand[r]\n",
    "\n",
    "    A[2*r+1 ,[0,r+1]] = [cost + t,1]\n",
    "    rhs[2*r+1] = (price + t)*predicted_demand[r]\n",
    "# A.shape"
   ]
  },
  {
   "cell_type": "code",
   "execution_count": 10,
   "metadata": {},
   "outputs": [
    {
     "name": "stdout",
     "output_type": "stream",
     "text": [
      "Set parameter Username\n",
      "Academic license - for non-commercial use only - expires 2022-08-25\n"
     ]
    },
    {
     "data": {
      "text/plain": [
       "{'objVal': 231.4830547361909,\n",
       " 'x': array([472.        ,  97.29347014, 262.88006165, 236.05490752,\n",
       "        209.47783583, 286.43724855, 214.30481347, 187.81873139,\n",
       "        238.21862428, 256.54934296, 298.21078034, 210.22044778,\n",
       "         -4.42216417, 272.45850097, 281.29934296, 260.47418883,\n",
       "        273.99215607, -48.9008582 , 136.02216417, 254.17712524,\n",
       "        290.72418883, 266.39574952, 276.63006165, 248.5571869 ,\n",
       "        293.87778228, 235.84518653, 298.60652986, -58.02869403,\n",
       "         38.09175375, 325.08856262, 291.35652986,  26.73608208,\n",
       "         83.31305972, 281.23203276, 275.85425048, 330.08071869,\n",
       "        283.0571869 , 278.81503083, 287.70293641, 267.28921966,\n",
       "        164.22044778, 279.97418883, 297.95850097, 254.85425048,\n",
       "        249.7836551 , 239.36993835, 265.13562621, 241.82287476,\n",
       "        270.62778228, 263.91928131, 252.86209441, 293.01568786,\n",
       "        257.30490752, 293.06503083, 279.88562621, 205.42955222,\n",
       "        258.17712524, -38.74175375, 230.72955222, 298.89347014,\n",
       "        337.57287476, 266.43496917, 197.71477611, 261.87778228,\n",
       "        179.24261194, 246.04149903, -65.19175375, 293.44509248,\n",
       "        237.64347014, 253.99215607, 271.63562621, 287.70293641,\n",
       "        285.02353179, 256.20065704, 321.9428131 , 270.53921966,\n",
       "        308.54149903, 249.76568786, 284.98431214, 342.60652986,\n",
       "        173.75567167, 281.55490752, 255.76568786, 250.37778228,\n",
       "        275.13562621, 160.35257459, 286.98203276, 258.42712524,\n",
       "        110.68608208, 106.31305972, 212.74742541,  66.24347014,\n",
       "        115.88436569, 274.61209441, 268.09640655, 242.70065704,\n",
       "        285.27581117, 201.16477611, 332.58856262, 268.36209441])}"
      ]
     },
     "execution_count": 10,
     "metadata": {},
     "output_type": "execute_result"
    }
   ],
   "source": [
    "part1_mod = Gurobi_Model(obj_linear= obj, \n",
    "                        cons= A, \n",
    "                        sense= direction, \n",
    "                        b= rhs,\n",
    "                        lower_bound= lb,\n",
    "                        variable_types= var_type\n",
    "                    )\n",
    "part1_mod.output"
   ]
  },
  {
   "cell_type": "code",
   "execution_count": 11,
   "metadata": {},
   "outputs": [
    {
     "name": "stdout",
     "output_type": "stream",
     "text": [
      "The optimal quantity to order is 472.0 which results in an expected profit of $231.48 per day\n"
     ]
    }
   ],
   "source": [
    "print(f'The optimal quantity to order is {part1_mod.optimal_x[0]} which results in an expected profit of ${np.round(part1_mod.optimal_obj, 2)} per day')\n"
   ]
  },
  {
   "cell_type": "markdown",
   "metadata": {},
   "source": [
    "# Part - 4"
   ]
  },
  {
   "cell_type": "markdown",
   "metadata": {},
   "source": [
    "$$\\max_{q} \\text{ Profit}_i = \\frac{1}{N}\\sum_{i=1}^{N} {(pD_i - qc - g(D_i - q)^+ - t(q - D_i)^+)}$$\n",
    "\n",
    "where:\n",
    "- $(x)^+ = \\max (x,0)$\n",
    "- $D_i$ is the demand on Day _i_\n",
    "- $q$ is the **Quantity** produced initially\n",
    "- $p$ is the **Price** (Sale Price)\n",
    "- $c$ is the **Cost** of production (Cost Price)\n",
    "- $g$ is the **Expedited Cost** of production\n",
    "- $t$ is the **Disposal** Cost\n",
    "\n",
    "Given: $D_i = \\beta_0 +\\beta_1p + \\epsilon_i$\n",
    "\n",
    "Therefore, the Equation $pD_i - qc - g(D_i - q)^+ - t(q - D_i)^+$ can be rewritten as:\n",
    "\n",
    "$$\n",
    "p(\\beta_0 +\\beta_1p + \\epsilon_i) - qc - g((\\beta_0 +\\beta_1p + \\epsilon_i) - q)^+ - t(q - (\\beta_0 +\\beta_1p + \\epsilon_i))^+ \\\\\n",
    "p(\\beta_0 + \\epsilon_i) - [qc + g((\\beta_0 +\\beta_1p + \\epsilon_i) - q)^+ + t(q - (\\beta_0 +\\beta_1p + \\epsilon_i))^+]  + (p\\beta_1p)\\\\\n",
    "p(\\beta_0 + \\epsilon_i) - h_i  + (p\\beta_1p)\\\\\n",
    "$$\n",
    "\n",
    "where \n",
    "$$\n",
    "h_i = qc + g((\\beta_0 +\\beta_1p + \\epsilon_i) - q)^+ + t(q - (\\beta_0 +\\beta_1p + \\epsilon_i))^+\n",
    "$$\n",
    "\n",
    "upon rewriting, we get:\n",
    "\n",
    "\n",
    "$$\\max_{q, p,h_1, h_2, ..., h_N} \\text{ Profit}_i = \\frac{1}{N}\\sum_{i=1}^{N} {p(\\beta_0 + \\epsilon_i) - h_i + (p\\beta_1p)}$$\n",
    "subject to:\n",
    "$$\n",
    "h_i + (g-c)q - p\\beta_1g > g(\\beta_0 + \\epsilon_i)\\\\\n",
    "h_i - (t+c)q + p\\beta_1t > -t(\\beta_0 + \\epsilon_i)\\\\\n",
    "h > -\\infty \\\\\n",
    "q > 0\n",
    "$$\n",
    "\n",
    "\n",
    "\n",
    "<!--Here Quantity, Cost and sale price are all vectors $\\epsilon\\text{  } \\R^{5x1}$-->"
   ]
  },
  {
   "cell_type": "code",
   "execution_count": 12,
   "metadata": {},
   "outputs": [],
   "source": [
    "beta_0, beta_1 = ols_model.params\n",
    "\n",
    "# decision variables are (p, q, h1, h2, ..., h_num_days)\n",
    "# Linear Optimisation\n",
    "obj = np.zeros(num_days+2)\n",
    "obj[0] = beta_0 + residual.mean()\n",
    "obj[2:] = -1.0/num_days\n",
    "\n",
    "# Quadratic Optimisation\n",
    "Q_obj = np.zeros((num_days+2, num_days+2))\n",
    "Q_obj[0, 0] = beta_1\n",
    "\n",
    "lb = np.zeros(num_days+2) # price, quantity can not be -ve\n",
    "lb[2:] = -np.inf # quantity, price needs to be non-negative, but profit on a given day could possibly be negative\n",
    "\n",
    "rhs = np.zeros(2*num_days)\n",
    "\n",
    "direction = np.array(['>']*(2*num_days))\n",
    "\n",
    "var_type = np.array(['C','I']+['C']*num_days)"
   ]
  },
  {
   "cell_type": "code",
   "execution_count": 13,
   "metadata": {},
   "outputs": [],
   "source": [
    "A = np.zeros((2*num_days,num_days+2))\n",
    "\n",
    "for r in range(num_days):\n",
    "    A[2*r ,[0, 1,r+2]] = [-beta_1*g, g-cost, 1] # location 0 is p, loc 1 is q location r+2 is this h\n",
    "    rhs[2*r] = g*(beta_0 + residual[r])\n",
    "\n",
    "    A[2*r+1 ,[0, 1, r+2]] = [beta_1*t, -(cost + t), 1]\n",
    "    rhs[2*r+1] = -t*(beta_0 + residual[r])\n",
    "# A.shape"
   ]
  },
  {
   "cell_type": "code",
   "execution_count": 14,
   "metadata": {},
   "outputs": [
    {
     "data": {
      "text/plain": [
       "{'objVal': 234.42487299858658,\n",
       " 'x': array([  0.95383926, 535.        , 285.57196301, 348.24115027,\n",
       "        267.76568786, 270.93921966, 418.91271096, 270.30961388,\n",
       "        273.76432024, 274.25683813, 329.2489942 , 454.23330634,\n",
       "        270.84235723, 298.83921966, 376.97646821, 403.4989942 ,\n",
       "        341.02353179, 381.57743351, 304.64078844, 280.52039422,\n",
       "        322.13234103, 431.77353179, 358.78821386, 389.49115027,\n",
       "        305.27252599, 441.23431214, 267.5       , 455.42055489,\n",
       "        305.83137572, 293.29392601, 534.86665317, 433.67055489,\n",
       "        294.77510058, 287.3954948 , 403.29706359, 387.16371676,\n",
       "        549.84312138, 408.77252599, 396.04605779, 422.70977454,\n",
       "        361.46862428, 276.84235723, 399.52353179, 453.47646821,\n",
       "        324.16371676, 308.95193061, 277.71078034, 355.00784393,\n",
       "        285.06958958, 371.48431214, 351.35880924, 318.18724855,\n",
       "        438.64802889, 331.51568786, 438.79605779, 399.25784393,\n",
       "        271.46725665, 334.13234103, 303.31568786, 268.16725665,\n",
       "        456.28137572, 572.31958958, 358.90587283, 272.47353179,\n",
       "        345.23431214, 274.88294451, 297.72546241, 306.76568786,\n",
       "        439.93624275, 272.53137572, 321.57743351, 374.50784393,\n",
       "        422.70977454, 414.67156069, 328.20293641, 525.42940462,\n",
       "        371.21862428, 485.22546241, 308.89802889, 414.55390172,\n",
       "        587.42055489, 275.59863237, 404.26568786, 326.89802889,\n",
       "        310.73431214, 385.00784393, 277.34686243, 420.54706359,\n",
       "        334.88234103, 283.82510058, 284.3954948 , 270.51275145,\n",
       "        289.62196301, 283.14706359, 383.43724855, 363.89018496,\n",
       "        287.70293641, 415.42839882, 272.02353179, 557.36665317,\n",
       "        364.68724855])}"
      ]
     },
     "execution_count": 14,
     "metadata": {},
     "output_type": "execute_result"
    }
   ],
   "source": [
    "quad_mod = Gurobi_Model(obj_linear= obj,\n",
    "                        obj_quadratic= Q_obj,\n",
    "                        cons= A, \n",
    "                        sense= direction, \n",
    "                        b= rhs,\n",
    "                        lower_bound= lb,\n",
    "                        variable_types= var_type\n",
    "                    )\n",
    "quad_mod.output"
   ]
  },
  {
   "cell_type": "code",
   "execution_count": 15,
   "metadata": {},
   "outputs": [
    {
     "name": "stdout",
     "output_type": "stream",
     "text": [
      "The optimal quantity to print initially is 535.0, and sell them at a price of $0.95 which results in an expected profit of $234.42 per day\n"
     ]
    }
   ],
   "source": [
    "print(f'The optimal quantity to print initially is {quad_mod.optimal_x[1]}, and sell them at a price of ${np.round(quad_mod.optimal_x[0],2)} which results in an expected profit of ${np.round(quad_mod.optimal_obj, 2)} per day')"
   ]
  },
  {
   "cell_type": "markdown",
   "metadata": {},
   "source": [
    "# Part - 6"
   ]
  },
  {
   "cell_type": "code",
   "execution_count": 16,
   "metadata": {},
   "outputs": [],
   "source": [
    "def simulation(dataset: pd.DataFrame)->dict:\n",
    "\n",
    "    # ----- OLS ----\n",
    "    y, X = dmatrices('demand ~ price', data=dataset)#, return_type='dataframe')\n",
    "    ols_model = sm.OLS(y, X)       # Set up the model\n",
    "    ols_model = ols_model.fit()       # Fit model (find the intercept and slopes)\n",
    "    # print(f'R2: {ols_model.rsquared_adj}')\n",
    "    # print(X.shape)\n",
    "    residual = y.flatten() - ols_model.predict(X)\n",
    "    residual\n",
    "\n",
    "    beta_0, beta_1 = ols_model.params\n",
    "\n",
    "    # ---- QP Optimization ----\n",
    "    # decision variables are (p, q, h1, h2, ..., h_num_days)\n",
    "    # Linear Optimisation\n",
    "    obj = np.zeros(num_days+2)\n",
    "    obj[0] = beta_0 + residual.mean()\n",
    "    obj[2:] = -1.0/num_days\n",
    "\n",
    "    # Quadratic Optimisation\n",
    "    Q_obj = np.zeros((num_days+2, num_days+2))\n",
    "    Q_obj[0, 0] = beta_1\n",
    "\n",
    "    lb = np.zeros(num_days+2) # price, quantity can not be -ve\n",
    "    lb[2:] = -np.inf # quantity, price needs to be non-negative, but profit on a given day could possibly be negative\n",
    "\n",
    "    rhs = np.zeros(2*num_days)\n",
    "\n",
    "    direction = np.array(['>']*(2*num_days))\n",
    "\n",
    "    var_type = np.array(['C','I']+['C']*num_days)\n",
    "\n",
    "    A = np.zeros((2*num_days,num_days+2))\n",
    "\n",
    "    for r in range(num_days):\n",
    "        A[2*r ,[0, 1,r+2]] = [-beta_1*g, g-cost, 1] # location 0 is p, loc 1 is q location r+2 is this h\n",
    "        rhs[2*r] = g*(beta_0 + residual[r])\n",
    "\n",
    "        A[2*r+1 ,[0, 1, r+2]] = [beta_1*t, -(cost + t), 1]\n",
    "        rhs[2*r+1] = -t*(beta_0 + residual[r])\n",
    "    \n",
    "    sim_mod = Gurobi_Model(obj_linear= obj,\n",
    "                        obj_quadratic= Q_obj,\n",
    "                        cons= A, \n",
    "                        sense= direction, \n",
    "                        b= rhs,\n",
    "                        lower_bound= lb,\n",
    "                        variable_types= var_type\n",
    "                    )\n",
    "    return {\n",
    "            'profit': sim_mod.optimal_obj,\n",
    "            'price': sim_mod.optimal_x[0],\n",
    "            'quantity': int(sim_mod.optimal_x[1])\n",
    "        }"
   ]
  },
  {
   "cell_type": "code",
   "execution_count": 17,
   "metadata": {},
   "outputs": [],
   "source": [
    "def bootstrap():\n",
    "    index = np.random.randint(size= demand.shape[0], low= 0, high= demand.shape[0])\n",
    "    bootstraped_sample = demand.iloc[index].reset_index(drop= True)\n",
    "\n",
    "    return simulation(bootstraped_sample)\n"
   ]
  },
  {
   "cell_type": "code",
   "execution_count": 18,
   "metadata": {},
   "outputs": [
    {
     "name": "stdout",
     "output_type": "stream",
     "text": [
      "Stats of the bootstraped sample:\n",
      "        Expected Profits: $232.69\n",
      "        Optimal Price: $0.96\n",
      "        Optimal Quantity: 521\n",
      "        \n"
     ]
    }
   ],
   "source": [
    "bootstrap_response = bootstrap()\n",
    "print(f'''Stats of the bootstraped sample:\n",
    "        Expected Profits: ${np.round(bootstrap_response['profit'], 2)}\n",
    "        Optimal Price: ${np.round(bootstrap_response['price'], 2)}\n",
    "        Optimal Quantity: {bootstrap_response['quantity']}\n",
    "        ''')"
   ]
  },
  {
   "cell_type": "markdown",
   "metadata": {},
   "source": [
    "# Part - 7"
   ]
  },
  {
   "cell_type": "code",
   "execution_count": 19,
   "metadata": {},
   "outputs": [
    {
     "name": "stderr",
     "output_type": "stream",
     "text": [
      "100%|██████████| 10000/10000 [01:20<00:00, 124.24it/s]\n"
     ]
    }
   ],
   "source": [
    "nsim = 10000\n",
    "\n",
    "optimal_price = []\n",
    "optimal_quantity = []\n",
    "expected_profit = []\n",
    "\n",
    "for sim in tqdm(range(nsim)):\n",
    "    bs_result = bootstrap()\n",
    "    optimal_price.append(bs_result['price'])\n",
    "    optimal_quantity.append(bs_result['quantity'])\n",
    "    expected_profit.append(bs_result['profit'])"
   ]
  },
  {
   "cell_type": "markdown",
   "metadata": {},
   "source": [
    "### Price vs Quantity"
   ]
  },
  {
   "cell_type": "code",
   "execution_count": 20,
   "metadata": {},
   "outputs": [
    {
     "data": {
      "image/png": "[encoded data removed]",
      "text/plain": [
       "<Figure size 576x576 with 3 Axes>"
      ]
     },
     "metadata": {
      "needs_background": "light"
     },
     "output_type": "display_data"
    }
   ],
   "source": [
    "out = pd.DataFrame({'Price' : optimal_price, 'Quantity' : optimal_quantity, 'Profit' : expected_profit})\n",
    "\n",
    "sns.jointplot(data = out, x = 'Price', y = 'Quantity', height = 8, ratio = 2, marginal_ticks = True)\n",
    "\n",
    "plt.show()"
   ]
  },
  {
   "cell_type": "markdown",
   "metadata": {},
   "source": [
    "### Profit"
   ]
  },
  {
   "cell_type": "code",
   "execution_count": 21,
   "metadata": {},
   "outputs": [
    {
     "data": {
      "text/plain": [
       "Text(0, 0.5, 'Probability')"
      ]
     },
     "execution_count": 21,
     "metadata": {},
     "output_type": "execute_result"
    },
    {
     "data": {
      "image/png": "[encoded data removed]",
      "text/plain": [
       "<Figure size 432x288 with 1 Axes>"
      ]
     },
     "metadata": {
      "needs_background": "light"
     },
     "output_type": "display_data"
    }
   ],
   "source": [
    "import numpy as np\n",
    "import scipy.stats as stats\n",
    "import math\n",
    "\n",
    "mu, sigma = stats.norm.fit(expected_profit)\n",
    "\n",
    "plt.hist(expected_profit, bins= 50, density= True);\n",
    "\n",
    "x = np.linspace(plt.xlim()[0], plt.xlim()[1], 100)\n",
    "plt.plot(x, stats.norm.pdf(x, mu, sigma))\n",
    "plt.title('Expected Profits')\n",
    "plt.xlabel('Profit')\n",
    "plt.ylabel('Probability')"
   ]
  },
  {
   "cell_type": "markdown",
   "metadata": {},
   "source": [
    "***\n",
    "***"
   ]
  }
 ],
 "metadata": {
  "interpreter": {
   "hash": "8bc5f0ab7253157a95fbe4d5d2614bd1d73b94539cbf0ce31d70a0d97640c06a"
  },
  "kernelspec": {
   "display_name": "Python 3.8.12 ('advanced_optimisation')",
   "language": "python",
   "name": "python3"
  },
  "language_info": {
   "codemirror_mode": {
    "name": "ipython",
    "version": 3
   },
   "file_extension": ".py",
   "mimetype": "text/x-python",
   "name": "python",
   "nbconvert_exporter": "python",
   "pygments_lexer": "ipython3",
   "version": "3.8.12"
  },
  "orig_nbformat": 4
 },
 "nbformat": 4,
 "nbformat_minor": 2
}
