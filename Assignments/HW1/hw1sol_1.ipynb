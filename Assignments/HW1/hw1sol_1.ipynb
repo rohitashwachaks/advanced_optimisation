{
  "nbformat": 4,
  "nbformat_minor": 0,
  "metadata": {
    "colab": {
      "name": "hw1sol.ipynb",
      "provenance": [],
      "collapsed_sections": []
    },
    "kernelspec": {
      "name": "python3",
      "display_name": "Python 3"
    },
    "language_info": {
      "name": "python"
    }
  },
  "cells": [
    {
      "cell_type": "code",
      "execution_count": null,
      "metadata": {
        "id": "ZakW4BUTp6YW"
      },
      "outputs": [],
      "source": [
        "import tensorflow as tf\n",
        "import numpy as np\n",
        "import matplotlib.pyplot as plt"
      ]
    },
    {
      "cell_type": "code",
      "source": [
        "mnist = tf.keras.datasets.mnist\n",
        "\n",
        "(x_train, y_train),(x_test, y_test) = mnist.load_data()\n",
        "x_train, x_test = x_train / 255.0, x_test / 255.0\n",
        "\n",
        "ndata_train = x_train.shape[0]\n",
        "ndata_test = x_test.shape[0]"
      ],
      "metadata": {
        "id": "BpvwJQlUqKjb"
      },
      "execution_count": null,
      "outputs": []
    },
    {
      "cell_type": "code",
      "source": [
        "x_train = x_train.reshape((ndata_train,28,28,1))\n",
        "x_test = x_test.reshape((ndata_test,28,28,1))\n",
        "\n",
        "\n",
        "xshape = x_train.shape[1:4]"
      ],
      "metadata": {
        "id": "QRcsFp3SqK86"
      },
      "execution_count": null,
      "outputs": []
    },
    {
      "cell_type": "code",
      "source": [
        "NNmodel = tf.keras.models.Sequential([\n",
        "        tf.keras.layers.Conv2D(filters=16,kernel_size=(5,5),activation=tf.nn.relu,input_shape=xshape),\n",
        "        tf.keras.layers.MaxPooling2D(pool_size = (2,2),strides=2),\n",
        "        tf.keras.layers.Conv2D(filters=32,kernel_size=(4,4),activation=tf.nn.relu),\n",
        "        tf.keras.layers.Conv2D(filters=64,kernel_size=(3,3),activation=tf.nn.relu),\n",
        "        tf.keras.layers.MaxPooling2D(pool_size = (2,2),strides=2),\n",
        "        tf.keras.layers.Dropout(rate=0.2),\n",
        "        tf.keras.layers.Flatten(),\n",
        "        tf.keras.layers.Dense(128,activation=tf.nn.relu),\n",
        "        tf.keras.layers.Dropout(rate=0.2),\n",
        "        tf.keras.layers.Dense(64,activation=tf.nn.softplus),\n",
        "        tf.keras.layers.Dropout(rate=0.2),\n",
        "        tf.keras.layers.Dense(10,activation=tf.nn.softmax)\n",
        "        ])"
      ],
      "metadata": {
        "id": "Zm1lGUkTqOTI"
      },
      "execution_count": null,
      "outputs": []
    },
    {
      "cell_type": "code",
      "source": [
        "NNmodel.compile(optimizer='adam',\n",
        "              loss='sparse_categorical_crossentropy',\n",
        "              metrics=['accuracy'])\n",
        "\n",
        "NNmodel.summary()"
      ],
      "metadata": {
        "colab": {
          "base_uri": "https://localhost:8080/"
        },
        "id": "UAvy6nDmqWO4",
        "outputId": "acc6809a-069f-4d1a-e063-ca53960120d6"
      },
      "execution_count": null,
      "outputs": [
        {
          "output_type": "stream",
          "name": "stdout",
          "text": [
            "Model: \"sequential_2\"\n",
            "_________________________________________________________________\n",
            " Layer (type)                Output Shape              Param #   \n",
            "=================================================================\n",
            " conv2d_6 (Conv2D)           (None, 24, 24, 16)        416       \n",
            "                                                                 \n",
            " max_pooling2d_6 (MaxPooling  (None, 12, 12, 16)       0         \n",
            " 2D)                                                             \n",
            "                                                                 \n",
            " conv2d_7 (Conv2D)           (None, 9, 9, 32)          8224      \n",
            "                                                                 \n",
            " conv2d_8 (Conv2D)           (None, 7, 7, 64)          18496     \n",
            "                                                                 \n",
            " max_pooling2d_7 (MaxPooling  (None, 3, 3, 64)         0         \n",
            " 2D)                                                             \n",
            "                                                                 \n",
            " dropout_6 (Dropout)         (None, 3, 3, 64)          0         \n",
            "                                                                 \n",
            " flatten_2 (Flatten)         (None, 576)               0         \n",
            "                                                                 \n",
            " dense_6 (Dense)             (None, 128)               73856     \n",
            "                                                                 \n",
            " dropout_7 (Dropout)         (None, 128)               0         \n",
            "                                                                 \n",
            " dense_7 (Dense)             (None, 64)                8256      \n",
            "                                                                 \n",
            " dropout_8 (Dropout)         (None, 64)                0         \n",
            "                                                                 \n",
            " dense_8 (Dense)             (None, 10)                650       \n",
            "                                                                 \n",
            "=================================================================\n",
            "Total params: 109,898\n",
            "Trainable params: 109,898\n",
            "Non-trainable params: 0\n",
            "_________________________________________________________________\n"
          ]
        }
      ]
    },
    {
      "cell_type": "code",
      "source": [
        "NNmodel.fit(x_train,y_train,epochs=20,validation_split=0.2,batch_size=500)"
      ],
      "metadata": {
        "colab": {
          "base_uri": "https://localhost:8080/"
        },
        "id": "lFhb0LK2qaXE",
        "outputId": "dd5d2197-d20b-4c6b-ee0a-48d249b1b23e"
      },
      "execution_count": null,
      "outputs": [
        {
          "output_type": "stream",
          "name": "stdout",
          "text": [
            "Epoch 1/20\n",
            "96/96 [==============================] - 28s 279ms/step - loss: 1.0997 - accuracy: 0.6252 - val_loss: 0.1987 - val_accuracy: 0.9399\n",
            "Epoch 2/20\n",
            "96/96 [==============================] - 26s 273ms/step - loss: 0.2326 - accuracy: 0.9301 - val_loss: 0.1031 - val_accuracy: 0.9682\n",
            "Epoch 3/20\n",
            "96/96 [==============================] - 26s 276ms/step - loss: 0.1475 - accuracy: 0.9565 - val_loss: 0.0697 - val_accuracy: 0.9785\n",
            "Epoch 4/20\n",
            "96/96 [==============================] - 26s 276ms/step - loss: 0.1156 - accuracy: 0.9657 - val_loss: 0.0596 - val_accuracy: 0.9827\n",
            "Epoch 5/20\n",
            "96/96 [==============================] - 26s 276ms/step - loss: 0.0910 - accuracy: 0.9733 - val_loss: 0.0545 - val_accuracy: 0.9834\n",
            "Epoch 6/20\n",
            "96/96 [==============================] - 26s 275ms/step - loss: 0.0820 - accuracy: 0.9757 - val_loss: 0.0488 - val_accuracy: 0.9856\n",
            "Epoch 7/20\n",
            "96/96 [==============================] - 26s 275ms/step - loss: 0.0676 - accuracy: 0.9804 - val_loss: 0.0439 - val_accuracy: 0.9875\n",
            "Epoch 8/20\n",
            "96/96 [==============================] - 26s 275ms/step - loss: 0.0589 - accuracy: 0.9817 - val_loss: 0.0409 - val_accuracy: 0.9882\n",
            "Epoch 9/20\n",
            "96/96 [==============================] - 26s 276ms/step - loss: 0.0529 - accuracy: 0.9842 - val_loss: 0.0422 - val_accuracy: 0.9875\n",
            "Epoch 10/20\n",
            "96/96 [==============================] - 26s 275ms/step - loss: 0.0505 - accuracy: 0.9848 - val_loss: 0.0359 - val_accuracy: 0.9901\n",
            "Epoch 11/20\n",
            "96/96 [==============================] - 27s 279ms/step - loss: 0.0441 - accuracy: 0.9869 - val_loss: 0.0390 - val_accuracy: 0.9890\n",
            "Epoch 12/20\n",
            "96/96 [==============================] - 27s 278ms/step - loss: 0.0422 - accuracy: 0.9873 - val_loss: 0.0403 - val_accuracy: 0.9889\n",
            "Epoch 13/20\n",
            "96/96 [==============================] - 26s 275ms/step - loss: 0.0413 - accuracy: 0.9868 - val_loss: 0.0348 - val_accuracy: 0.9907\n",
            "Epoch 14/20\n",
            "96/96 [==============================] - 26s 276ms/step - loss: 0.0358 - accuracy: 0.9890 - val_loss: 0.0370 - val_accuracy: 0.9901\n",
            "Epoch 15/20\n",
            "96/96 [==============================] - 26s 276ms/step - loss: 0.0336 - accuracy: 0.9902 - val_loss: 0.0377 - val_accuracy: 0.9891\n",
            "Epoch 16/20\n",
            "96/96 [==============================] - 26s 275ms/step - loss: 0.0333 - accuracy: 0.9899 - val_loss: 0.0352 - val_accuracy: 0.9898\n",
            "Epoch 17/20\n",
            "96/96 [==============================] - 27s 276ms/step - loss: 0.0308 - accuracy: 0.9908 - val_loss: 0.0333 - val_accuracy: 0.9908\n",
            "Epoch 18/20\n",
            "96/96 [==============================] - 26s 276ms/step - loss: 0.0294 - accuracy: 0.9911 - val_loss: 0.0337 - val_accuracy: 0.9906\n",
            "Epoch 19/20\n",
            "96/96 [==============================] - 26s 275ms/step - loss: 0.0281 - accuracy: 0.9911 - val_loss: 0.0344 - val_accuracy: 0.9907\n",
            "Epoch 20/20\n",
            "96/96 [==============================] - 26s 275ms/step - loss: 0.0277 - accuracy: 0.9915 - val_loss: 0.0338 - val_accuracy: 0.9905\n"
          ]
        },
        {
          "output_type": "execute_result",
          "data": {
            "text/plain": [
              "<keras.callbacks.History at 0x7f4f31c125d0>"
            ]
          },
          "metadata": {},
          "execution_count": 13
        }
      ]
    },
    {
      "cell_type": "code",
      "source": [
        "NNmodel_full = tf.keras.models.Sequential([\n",
        "        tf.keras.layers.Conv2D(filters=16,kernel_size=(5,5),activation=tf.nn.relu,input_shape=xshape),\n",
        "        tf.keras.layers.MaxPooling2D(pool_size = (2,2),strides=2),\n",
        "        tf.keras.layers.Conv2D(filters=32,kernel_size=(4,4),activation=tf.nn.relu),\n",
        "        tf.keras.layers.Conv2D(filters=64,kernel_size=(3,3),activation=tf.nn.relu),\n",
        "        tf.keras.layers.MaxPooling2D(pool_size = (2,2),strides=2),\n",
        "        tf.keras.layers.Dropout(rate=0.2),\n",
        "        tf.keras.layers.Flatten(),\n",
        "        tf.keras.layers.Dense(128,activation=tf.nn.relu),\n",
        "        tf.keras.layers.Dropout(rate=0.2),\n",
        "        tf.keras.layers.Dense(64,activation=tf.nn.softplus),\n",
        "        tf.keras.layers.Dropout(rate=0.2),\n",
        "        tf.keras.layers.Dense(10,activation=tf.nn.softmax)\n",
        "        ])"
      ],
      "metadata": {
        "id": "7IAvfTaxqjws"
      },
      "execution_count": null,
      "outputs": []
    },
    {
      "cell_type": "code",
      "source": [
        "NNmodel_full.compile(optimizer='adam',\n",
        "              loss='sparse_categorical_crossentropy',\n",
        "              metrics=['accuracy'])"
      ],
      "metadata": {
        "id": "jrQ7r5gpuoC2"
      },
      "execution_count": null,
      "outputs": []
    },
    {
      "cell_type": "code",
      "source": [
        "NNmodel_full.fit(x_train,y_train,epochs=10,batch_size=500)"
      ],
      "metadata": {
        "colab": {
          "base_uri": "https://localhost:8080/"
        },
        "id": "iI1vyATpusZR",
        "outputId": "10235455-f17a-4ca7-a9ca-60e84bd14555"
      },
      "execution_count": null,
      "outputs": [
        {
          "output_type": "stream",
          "name": "stdout",
          "text": [
            "Epoch 1/10\n",
            "120/120 [==============================] - 32s 261ms/step - loss: 0.7435 - accuracy: 0.7511\n",
            "Epoch 2/10\n",
            "120/120 [==============================] - 31s 260ms/step - loss: 0.1723 - accuracy: 0.9480\n",
            "Epoch 3/10\n",
            "120/120 [==============================] - 31s 260ms/step - loss: 0.1163 - accuracy: 0.9649\n",
            "Epoch 4/10\n",
            "120/120 [==============================] - 31s 260ms/step - loss: 0.0919 - accuracy: 0.9726\n",
            "Epoch 5/10\n",
            "120/120 [==============================] - 31s 259ms/step - loss: 0.0786 - accuracy: 0.9767\n",
            "Epoch 6/10\n",
            "120/120 [==============================] - 31s 261ms/step - loss: 0.0668 - accuracy: 0.9807\n",
            "Epoch 7/10\n",
            "120/120 [==============================] - 31s 260ms/step - loss: 0.0596 - accuracy: 0.9824\n",
            "Epoch 8/10\n",
            "120/120 [==============================] - 31s 260ms/step - loss: 0.0523 - accuracy: 0.9843\n",
            "Epoch 9/10\n",
            "120/120 [==============================] - 31s 261ms/step - loss: 0.0492 - accuracy: 0.9850\n",
            "Epoch 10/10\n",
            "120/120 [==============================] - 31s 260ms/step - loss: 0.0437 - accuracy: 0.9869\n"
          ]
        },
        {
          "output_type": "execute_result",
          "data": {
            "text/plain": [
              "<keras.callbacks.History at 0x7f4f31b84610>"
            ]
          },
          "metadata": {},
          "execution_count": 16
        }
      ]
    },
    {
      "cell_type": "code",
      "source": [
        "pred_probs = NNmodel_full.predict(x_test)"
      ],
      "metadata": {
        "id": "6O1P2gseu4ox"
      },
      "execution_count": null,
      "outputs": []
    },
    {
      "cell_type": "code",
      "source": [
        "pred_class = np.argmax(pred_probs, axis=1)\n",
        "np.mean(pred_class==y_test)"
      ],
      "metadata": {
        "colab": {
          "base_uri": "https://localhost:8080/"
        },
        "id": "9rsx0AlrvCiF",
        "outputId": "fdba594c-6a53-4a0c-bb89-0768b6803ca5"
      },
      "execution_count": null,
      "outputs": [
        {
          "output_type": "execute_result",
          "data": {
            "text/plain": [
              "0.9904"
            ]
          },
          "metadata": {},
          "execution_count": 18
        }
      ]
    },
    {
      "cell_type": "code",
      "source": [
        ""
      ],
      "metadata": {
        "id": "TQfP0VuVvGh1"
      },
      "execution_count": null,
      "outputs": []
    }
  ]
}