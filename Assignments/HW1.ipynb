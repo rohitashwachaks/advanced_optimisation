{
  "cells": [
    {
      "cell_type": "markdown",
      "metadata": {
        "id": "view-in-github",
        "colab_type": "text"
      },
      "source": [
        "<a href=\"https://colab.research.google.com/github/rohitashwachaks/advanced_optimisation/blob/main/Assignments/HW1.ipynb\" target=\"_parent\"><img src=\"https://colab.research.google.com/assets/colab-badge.svg\" alt=\"Open In Colab\"/></a>"
      ]
    },
    {
      "cell_type": "markdown",
      "source": [
        "# Homework-1\n",
        "\n",
        "rc47878"
      ],
      "metadata": {
        "id": "H8uGHxWO_ear"
      }
    },
    {
      "cell_type": "code",
      "execution_count": 9,
      "metadata": {
        "id": "WJ0oSikkCagm"
      },
      "outputs": [],
      "source": [
        "import tensorflow as tf\n",
        "import numpy as np\n",
        "\n",
        "import matplotlib.pyplot as plt"
      ]
    },
    {
      "cell_type": "markdown",
      "source": [
        "# Preprocessing\n",
        "\n",
        "All grayscale values are represented using pixel values between 0 to 255.\n",
        "\n",
        "I, however, would like to make an assumption that the _\"light-grey\"_ and the _faded_ pixels don't carry much useful information.\n",
        "\n",
        "Thus, in my opinion, we can convert the grayscale images to 'black-&-white' images instead, reducing model size by a factor of 8 (we need one bit of information for each pixel now)"
      ],
      "metadata": {
        "id": "iZNh4xHF0LJL"
      }
    },
    {
      "cell_type": "code",
      "source": [
        "def gray2bw(arr: np.array, threshold: int = 0.3):\n",
        "  return np.where(arr > threshold, 1, 0)"
      ],
      "metadata": {
        "id": "Ih-6Nxz5mDVU"
      },
      "execution_count": 10,
      "outputs": []
    },
    {
      "cell_type": "markdown",
      "source": [
        "The above function converts a grey-scale numpy array to black&white depending on a given threshold. A lower value of the threshold is chosen to ensure not too much of the digit inormation is lost"
      ],
      "metadata": {
        "id": "wEeMSokn1E9G"
      }
    },
    {
      "cell_type": "code",
      "execution_count": 11,
      "metadata": {
        "id": "cC90Zc1JCag0",
        "outputId": "9e74f46e-c699-4964-b85a-9471e5f20b51",
        "colab": {
          "base_uri": "https://localhost:8080/",
          "height": 513
        }
      },
      "outputs": [
        {
          "output_type": "display_data",
          "data": {
            "image/png": "[encoded data removed]",
            "text/plain": [
              "<Figure size 432x288 with 1 Axes>"
            ]
          },
          "metadata": {
            "needs_background": "light"
          }
        },
        {
          "output_type": "display_data",
          "data": {
            "image/png": "[encoded data removed]",
            "text/plain": [
              "<Figure size 432x288 with 1 Axes>"
            ]
          },
          "metadata": {
            "needs_background": "light"
          }
        }
      ],
      "source": [
        "mnist = tf.keras.datasets.mnist\n",
        "\n",
        "(x_train, y_train),(x_test, y_test) = mnist.load_data()\n",
        "x_train, x_test = x_train / 255.0, x_test / 255.0\n",
        "\n",
        "img = x_train[3]\n",
        "plt.imshow(img)\n",
        "plt.show()\n",
        "plt.imshow(gray2bw(img))\n",
        "\n",
        "ndata_train = x_train.shape[0]\n",
        "ndata_test = x_test.shape[0]\n"
      ]
    },
    {
      "cell_type": "code",
      "execution_count": 12,
      "metadata": {
        "id": "WLk18_VGCag4",
        "outputId": "fcc980c0-2eb4-466f-9b13-7b4c36e1fde8",
        "colab": {
          "base_uri": "https://localhost:8080/",
          "height": 0
        }
      },
      "outputs": [
        {
          "output_type": "stream",
          "name": "stdout",
          "text": [
            "(28, 28, 1)\n"
          ]
        }
      ],
      "source": [
        "x_train = x_train.reshape((ndata_train,28,28,1))\n",
        "x_test = x_test.reshape((ndata_test,28,28,1))\n",
        "xshape = x_train.shape[1:4]\n",
        "print(xshape)"
      ]
    },
    {
      "cell_type": "markdown",
      "source": [
        "## Model"
      ],
      "metadata": {
        "id": "fAgxQbg4MiAa"
      }
    },
    {
      "cell_type": "code",
      "source": [
        "x_train = gray2bw(x_train)\n",
        "x_test = gray2bw(x_test)"
      ],
      "metadata": {
        "id": "-kYFYOgpM58I"
      },
      "execution_count": 13,
      "outputs": []
    },
    {
      "cell_type": "code",
      "source": [
        "class MNIST_Model:\n",
        "  def __init__(self)-> tf.keras.models.Sequential:\n",
        "    self.model =  tf.keras.models.Sequential([\n",
        "          tf.keras.layers.Conv2D(filters=32,kernel_size=6,activation=tf.nn.relu,input_shape=xshape),\n",
        "          tf.keras.layers.Conv2D(filters=64,kernel_size=5,activation=tf.nn.relu,input_shape=xshape),\n",
        "          tf.keras.layers.MaxPooling2D(pool_size = (2,2),strides=2),\n",
        "          tf.keras.layers.Conv2D(filters=64,kernel_size=5,activation=tf.nn.relu,input_shape=xshape),\n",
        "          tf.keras.layers.Conv2D(filters=128,kernel_size=4,activation=tf.nn.relu,input_shape=xshape),\n",
        "          tf.keras.layers.MaxPooling2D(pool_size = (2,2),strides=2),\n",
        "          tf.keras.layers.Flatten(),\n",
        "          tf.keras.layers.Dropout(0.25),\n",
        "          tf.keras.layers.Dense(128,activation=tf.nn.relu,kernel_regularizer = tf.keras.regularizers.l1(0.0002)),\n",
        "          tf.keras.layers.Dense(10,activation=tf.nn.softmax)\n",
        "          ])\n",
        "    print(self.model.summary())\n",
        "    return\n",
        "\n",
        "  def compile(self)->None:\n",
        "    self.model.compile(optimizer='adam',\n",
        "              loss='sparse_categorical_crossentropy',\n",
        "              metrics=['accuracy'])\n",
        "    \n",
        "  def fit(self, x_train, y_train, epochs=50, validation_split=0.2, batch_size = 250):\n",
        "    if validation_split:\n",
        "      self.history = self.model.fit(x_train,y_train,epochs=epochs,validation_split=0.2,batch_size=batch_size)\n",
        "    else:\n",
        "      self.history = self.model.fit(x_train,y_train,epochs=epochs,batch_size=batch_size)\n",
        "    return\n",
        "\n",
        "  def preds(self, x_train):\n",
        "    return self.model.predict(x_test)\n",
        "\n",
        "  def plot(self):\n",
        "    plt.plot(self.history.history['loss'])\n",
        "    if 'val_loss' in self.history.history:\n",
        "      plt.plot(self.history.history['val_loss'])\n",
        "    plt.title('model loss')\n",
        "    plt.ylabel('loss')\n",
        "    plt.xlabel('epoch')\n",
        "    plt.legend(['train', 'val'], loc='upper left')\n",
        "    plt.show()"
      ],
      "metadata": {
        "id": "riFgf6IiRfHC"
      },
      "execution_count": 14,
      "outputs": []
    },
    {
      "cell_type": "code",
      "source": [
        "cnn_model = MNIST_Model()\n",
        "cnn_model.compile()"
      ],
      "metadata": {
        "colab": {
          "base_uri": "https://localhost:8080/",
          "height": 0
        },
        "id": "qA3nIlzCLT8I",
        "outputId": "15764791-e631-4054-a80e-b860f15ad13f"
      },
      "execution_count": 15,
      "outputs": [
        {
          "output_type": "stream",
          "name": "stdout",
          "text": [
            "Model: \"sequential_1\"\n",
            "_________________________________________________________________\n",
            " Layer (type)                Output Shape              Param #   \n",
            "=================================================================\n",
            " conv2d_4 (Conv2D)           (None, 23, 23, 32)        1184      \n",
            "                                                                 \n",
            " conv2d_5 (Conv2D)           (None, 19, 19, 64)        51264     \n",
            "                                                                 \n",
            " max_pooling2d_2 (MaxPooling  (None, 9, 9, 64)         0         \n",
            " 2D)                                                             \n",
            "                                                                 \n",
            " conv2d_6 (Conv2D)           (None, 5, 5, 64)          102464    \n",
            "                                                                 \n",
            " conv2d_7 (Conv2D)           (None, 2, 2, 128)         131200    \n",
            "                                                                 \n",
            " max_pooling2d_3 (MaxPooling  (None, 1, 1, 128)        0         \n",
            " 2D)                                                             \n",
            "                                                                 \n",
            " flatten_1 (Flatten)         (None, 128)               0         \n",
            "                                                                 \n",
            " dropout_1 (Dropout)         (None, 128)               0         \n",
            "                                                                 \n",
            " dense_2 (Dense)             (None, 128)               16512     \n",
            "                                                                 \n",
            " dense_3 (Dense)             (None, 10)                1290      \n",
            "                                                                 \n",
            "=================================================================\n",
            "Total params: 303,914\n",
            "Trainable params: 303,914\n",
            "Non-trainable params: 0\n",
            "_________________________________________________________________\n",
            "None\n"
          ]
        }
      ]
    },
    {
      "cell_type": "code",
      "source": [
        "cnn_model.fit(x_train,y_train)\n",
        "cnn_model.plot()\n"
      ],
      "metadata": {
        "colab": {
          "base_uri": "https://localhost:8080/",
          "height": 2231
        },
        "id": "YWbJi5_vMlO7",
        "outputId": "ab620d7c-82c3-448f-d6a7-58f27dcc08c9"
      },
      "execution_count": 16,
      "outputs": [
        {
          "output_type": "stream",
          "name": "stdout",
          "text": [
            "Epoch 1/50\n",
            "192/192 [==============================] - 7s 31ms/step - loss: 0.5665 - accuracy: 0.8799 - val_loss: 0.2430 - val_accuracy: 0.9735\n",
            "Epoch 2/50\n",
            "192/192 [==============================] - 6s 32ms/step - loss: 0.2375 - accuracy: 0.9727 - val_loss: 0.2000 - val_accuracy: 0.9827\n",
            "Epoch 3/50\n",
            "192/192 [==============================] - 7s 34ms/step - loss: 0.1867 - accuracy: 0.9809 - val_loss: 0.1644 - val_accuracy: 0.9852\n",
            "Epoch 4/50\n",
            "192/192 [==============================] - 6s 33ms/step - loss: 0.1528 - accuracy: 0.9853 - val_loss: 0.1392 - val_accuracy: 0.9865\n",
            "Epoch 5/50\n",
            "192/192 [==============================] - 6s 32ms/step - loss: 0.1274 - accuracy: 0.9871 - val_loss: 0.1185 - val_accuracy: 0.9877\n",
            "Epoch 6/50\n",
            "192/192 [==============================] - 6s 33ms/step - loss: 0.1057 - accuracy: 0.9891 - val_loss: 0.1062 - val_accuracy: 0.9867\n",
            "Epoch 7/50\n",
            "192/192 [==============================] - 6s 31ms/step - loss: 0.0888 - accuracy: 0.9901 - val_loss: 0.0910 - val_accuracy: 0.9889\n",
            "Epoch 8/50\n",
            "192/192 [==============================] - 6s 29ms/step - loss: 0.0772 - accuracy: 0.9910 - val_loss: 0.0806 - val_accuracy: 0.9897\n",
            "Epoch 9/50\n",
            "192/192 [==============================] - 6s 29ms/step - loss: 0.0635 - accuracy: 0.9931 - val_loss: 0.0741 - val_accuracy: 0.9894\n",
            "Epoch 10/50\n",
            "192/192 [==============================] - 6s 32ms/step - loss: 0.0577 - accuracy: 0.9925 - val_loss: 0.0726 - val_accuracy: 0.9882\n",
            "Epoch 11/50\n",
            "192/192 [==============================] - 6s 29ms/step - loss: 0.0508 - accuracy: 0.9937 - val_loss: 0.0651 - val_accuracy: 0.9893\n",
            "Epoch 12/50\n",
            "192/192 [==============================] - 6s 29ms/step - loss: 0.0437 - accuracy: 0.9947 - val_loss: 0.0601 - val_accuracy: 0.9896\n",
            "Epoch 13/50\n",
            "192/192 [==============================] - 6s 30ms/step - loss: 0.0431 - accuracy: 0.9944 - val_loss: 0.0592 - val_accuracy: 0.9910\n",
            "Epoch 14/50\n",
            "192/192 [==============================] - 6s 29ms/step - loss: 0.0372 - accuracy: 0.9949 - val_loss: 0.0699 - val_accuracy: 0.9874\n",
            "Epoch 15/50\n",
            "192/192 [==============================] - 6s 30ms/step - loss: 0.0382 - accuracy: 0.9944 - val_loss: 0.0558 - val_accuracy: 0.9904\n",
            "Epoch 16/50\n",
            "192/192 [==============================] - 6s 30ms/step - loss: 0.0339 - accuracy: 0.9954 - val_loss: 0.0587 - val_accuracy: 0.9890\n",
            "Epoch 17/50\n",
            "192/192 [==============================] - 6s 29ms/step - loss: 0.0341 - accuracy: 0.9952 - val_loss: 0.0536 - val_accuracy: 0.9901\n",
            "Epoch 18/50\n",
            "192/192 [==============================] - 6s 29ms/step - loss: 0.0267 - accuracy: 0.9966 - val_loss: 0.0596 - val_accuracy: 0.9884\n",
            "Epoch 19/50\n",
            "192/192 [==============================] - 6s 29ms/step - loss: 0.0285 - accuracy: 0.9960 - val_loss: 0.0520 - val_accuracy: 0.9902\n",
            "Epoch 20/50\n",
            "192/192 [==============================] - 6s 31ms/step - loss: 0.0256 - accuracy: 0.9961 - val_loss: 0.0632 - val_accuracy: 0.9881\n",
            "Epoch 21/50\n",
            "192/192 [==============================] - 6s 30ms/step - loss: 0.0262 - accuracy: 0.9960 - val_loss: 0.0593 - val_accuracy: 0.9893\n",
            "Epoch 22/50\n",
            "192/192 [==============================] - 6s 31ms/step - loss: 0.0272 - accuracy: 0.9960 - val_loss: 0.0567 - val_accuracy: 0.9896\n",
            "Epoch 23/50\n",
            "192/192 [==============================] - 6s 29ms/step - loss: 0.0227 - accuracy: 0.9973 - val_loss: 0.0651 - val_accuracy: 0.9886\n",
            "Epoch 24/50\n",
            "192/192 [==============================] - 6s 31ms/step - loss: 0.0240 - accuracy: 0.9967 - val_loss: 0.0568 - val_accuracy: 0.9909\n",
            "Epoch 25/50\n",
            "192/192 [==============================] - 6s 31ms/step - loss: 0.0206 - accuracy: 0.9974 - val_loss: 0.0568 - val_accuracy: 0.9900\n",
            "Epoch 26/50\n",
            "192/192 [==============================] - 6s 30ms/step - loss: 0.0204 - accuracy: 0.9976 - val_loss: 0.0521 - val_accuracy: 0.9908\n",
            "Epoch 27/50\n",
            "192/192 [==============================] - 6s 29ms/step - loss: 0.0206 - accuracy: 0.9974 - val_loss: 0.0555 - val_accuracy: 0.9903\n",
            "Epoch 28/50\n",
            "192/192 [==============================] - 6s 29ms/step - loss: 0.0218 - accuracy: 0.9969 - val_loss: 0.0480 - val_accuracy: 0.9917\n",
            "Epoch 29/50\n",
            "192/192 [==============================] - 6s 32ms/step - loss: 0.0176 - accuracy: 0.9982 - val_loss: 0.0538 - val_accuracy: 0.9907\n",
            "Epoch 30/50\n",
            "192/192 [==============================] - 6s 31ms/step - loss: 0.0180 - accuracy: 0.9980 - val_loss: 0.0616 - val_accuracy: 0.9897\n",
            "Epoch 31/50\n",
            "192/192 [==============================] - 6s 29ms/step - loss: 0.0202 - accuracy: 0.9975 - val_loss: 0.0632 - val_accuracy: 0.9898\n",
            "Epoch 32/50\n",
            "192/192 [==============================] - 6s 30ms/step - loss: 0.0194 - accuracy: 0.9975 - val_loss: 0.0576 - val_accuracy: 0.9908\n",
            "Epoch 33/50\n",
            "192/192 [==============================] - 6s 30ms/step - loss: 0.0161 - accuracy: 0.9984 - val_loss: 0.0579 - val_accuracy: 0.9908\n",
            "Epoch 34/50\n",
            "192/192 [==============================] - 6s 29ms/step - loss: 0.0165 - accuracy: 0.9980 - val_loss: 0.0603 - val_accuracy: 0.9898\n",
            "Epoch 35/50\n",
            "192/192 [==============================] - 6s 30ms/step - loss: 0.0175 - accuracy: 0.9980 - val_loss: 0.0578 - val_accuracy: 0.9908\n",
            "Epoch 36/50\n",
            "192/192 [==============================] - 6s 31ms/step - loss: 0.0162 - accuracy: 0.9983 - val_loss: 0.0610 - val_accuracy: 0.9912\n",
            "Epoch 37/50\n",
            "192/192 [==============================] - 6s 29ms/step - loss: 0.0161 - accuracy: 0.9981 - val_loss: 0.0622 - val_accuracy: 0.9899\n",
            "Epoch 38/50\n",
            "192/192 [==============================] - 6s 29ms/step - loss: 0.0175 - accuracy: 0.9977 - val_loss: 0.0568 - val_accuracy: 0.9912\n",
            "Epoch 39/50\n",
            "192/192 [==============================] - 6s 29ms/step - loss: 0.0148 - accuracy: 0.9985 - val_loss: 0.0567 - val_accuracy: 0.9906\n",
            "Epoch 40/50\n",
            "192/192 [==============================] - 6s 29ms/step - loss: 0.0159 - accuracy: 0.9983 - val_loss: 0.0583 - val_accuracy: 0.9898\n",
            "Epoch 41/50\n",
            "192/192 [==============================] - 6s 29ms/step - loss: 0.0148 - accuracy: 0.9983 - val_loss: 0.0593 - val_accuracy: 0.9900\n",
            "Epoch 42/50\n",
            "192/192 [==============================] - 6s 29ms/step - loss: 0.0160 - accuracy: 0.9983 - val_loss: 0.0481 - val_accuracy: 0.9905\n",
            "Epoch 43/50\n",
            "192/192 [==============================] - 6s 30ms/step - loss: 0.0115 - accuracy: 0.9990 - val_loss: 0.0551 - val_accuracy: 0.9902\n",
            "Epoch 44/50\n",
            "192/192 [==============================] - 6s 32ms/step - loss: 0.0119 - accuracy: 0.9989 - val_loss: 0.0650 - val_accuracy: 0.9899\n",
            "Epoch 45/50\n",
            "192/192 [==============================] - 6s 30ms/step - loss: 0.0155 - accuracy: 0.9982 - val_loss: 0.0583 - val_accuracy: 0.9903\n",
            "Epoch 46/50\n",
            "192/192 [==============================] - 6s 31ms/step - loss: 0.0124 - accuracy: 0.9989 - val_loss: 0.0544 - val_accuracy: 0.9909\n",
            "Epoch 47/50\n",
            "192/192 [==============================] - 7s 35ms/step - loss: 0.0118 - accuracy: 0.9987 - val_loss: 0.0545 - val_accuracy: 0.9908\n",
            "Epoch 48/50\n",
            "192/192 [==============================] - 6s 32ms/step - loss: 0.0134 - accuracy: 0.9986 - val_loss: 0.0566 - val_accuracy: 0.9914\n",
            "Epoch 49/50\n",
            "192/192 [==============================] - 6s 31ms/step - loss: 0.0128 - accuracy: 0.9986 - val_loss: 0.0780 - val_accuracy: 0.9874\n",
            "Epoch 50/50\n",
            "192/192 [==============================] - 6s 31ms/step - loss: 0.0151 - accuracy: 0.9983 - val_loss: 0.0559 - val_accuracy: 0.9913\n"
          ]
        },
        {
          "output_type": "display_data",
          "data": {
            "image/png": "[encoded data removed]",
            "text/plain": [
              "<Figure size 432x288 with 1 Axes>"
            ]
          },
          "metadata": {
            "needs_background": "light"
          }
        }
      ]
    },
    {
      "cell_type": "markdown",
      "source": [
        "The above model was trained over 50 epochs and has a 99.13% validation accuracy."
      ],
      "metadata": {
        "id": "vKYb_1EkyyIM"
      }
    },
    {
      "cell_type": "code",
      "source": [
        "# Test set accuracy\n",
        "pred_probs2 = cnn_model.model.predict(x_test)\n",
        "pred2 = np.argmax(pred_probs2, axis=1)\n",
        "print(np.mean(pred2==y_test))"
      ],
      "metadata": {
        "id": "DzQd8RIvoRSj",
        "outputId": "d5c1cc1b-98bb-402d-fbd3-117d45ec6327",
        "colab": {
          "base_uri": "https://localhost:8080/",
          "height": 0
        }
      },
      "execution_count": 17,
      "outputs": [
        {
          "output_type": "stream",
          "name": "stdout",
          "text": [
            "0.9923\n"
          ]
        }
      ]
    },
    {
      "cell_type": "markdown",
      "source": [
        "Furthermore, it has a 99.23% test dataset accuracy"
      ],
      "metadata": {
        "id": "SXN7IjZ6y7Vx"
      }
    },
    {
      "cell_type": "markdown",
      "source": [
        "## Retraining on the whole Data"
      ],
      "metadata": {
        "id": "RJ64NsiPRSGN"
      }
    },
    {
      "cell_type": "markdown",
      "source": [
        "Since the above model does an acceptable job at classifying the images in the MNIST dataset, we choose to go ahead and finalise this model.\n",
        "\n",
        "To do so, the model is once again trained on the entire training dataset; and its accuracy is calculated on the test dataset"
      ],
      "metadata": {
        "id": "8i-uM_9l1f_5"
      }
    },
    {
      "cell_type": "code",
      "execution_count": null,
      "metadata": {
        "id": "MbbMyHut5cZP",
        "colab": {
          "base_uri": "https://localhost:8080/",
          "height": 0
        },
        "outputId": "36b95b5a-c568-4bf4-8828-154b5b7b0373"
      },
      "outputs": [
        {
          "output_type": "stream",
          "name": "stdout",
          "text": [
            "Model: \"sequential_2\"\n",
            "_________________________________________________________________\n",
            " Layer (type)                Output Shape              Param #   \n",
            "=================================================================\n",
            " conv2d_8 (Conv2D)           (None, 23, 23, 32)        1184      \n",
            "                                                                 \n",
            " conv2d_9 (Conv2D)           (None, 19, 19, 64)        51264     \n",
            "                                                                 \n",
            " max_pooling2d_4 (MaxPooling  (None, 9, 9, 64)         0         \n",
            " 2D)                                                             \n",
            "                                                                 \n",
            " conv2d_10 (Conv2D)          (None, 5, 5, 64)          102464    \n",
            "                                                                 \n",
            " conv2d_11 (Conv2D)          (None, 2, 2, 128)         131200    \n",
            "                                                                 \n",
            " max_pooling2d_5 (MaxPooling  (None, 1, 1, 128)        0         \n",
            " 2D)                                                             \n",
            "                                                                 \n",
            " flatten_2 (Flatten)         (None, 128)               0         \n",
            "                                                                 \n",
            " dropout_2 (Dropout)         (None, 128)               0         \n",
            "                                                                 \n",
            " dense_4 (Dense)             (None, 128)               16512     \n",
            "                                                                 \n",
            " dense_5 (Dense)             (None, 10)                1290      \n",
            "                                                                 \n",
            "=================================================================\n",
            "Total params: 303,914\n",
            "Trainable params: 303,914\n",
            "Non-trainable params: 0\n",
            "_________________________________________________________________\n",
            "None\n",
            "Epoch 1/50\n",
            "240/240 [==============================] - 7s 27ms/step - loss: 0.5110 - accuracy: 0.8960\n",
            "Epoch 2/50\n",
            "240/240 [==============================] - 7s 27ms/step - loss: 0.2195 - accuracy: 0.9760\n",
            "Epoch 3/50\n",
            "240/240 [==============================] - 7s 27ms/step - loss: 0.1704 - accuracy: 0.9825\n",
            "Epoch 4/50\n",
            "240/240 [==============================] - 7s 27ms/step - loss: 0.1340 - accuracy: 0.9863\n",
            "Epoch 5/50\n",
            "240/240 [==============================] - 7s 27ms/step - loss: 0.1065 - accuracy: 0.9886\n",
            "Epoch 6/50\n",
            "240/240 [==============================] - 7s 27ms/step - loss: 0.0881 - accuracy: 0.9896\n",
            "Epoch 7/50\n",
            "240/240 [==============================] - 6s 27ms/step - loss: 0.0715 - accuracy: 0.9915\n",
            "Epoch 8/50\n",
            "240/240 [==============================] - 7s 27ms/step - loss: 0.0611 - accuracy: 0.9920\n",
            "Epoch 9/50\n",
            "240/240 [==============================] - 7s 30ms/step - loss: 0.0535 - accuracy: 0.9925\n",
            "Epoch 10/50\n",
            "240/240 [==============================] - 7s 28ms/step - loss: 0.0456 - accuracy: 0.9935\n",
            "Epoch 11/50\n",
            "240/240 [==============================] - 7s 27ms/step - loss: 0.0423 - accuracy: 0.9940\n",
            "Epoch 12/50\n",
            "240/240 [==============================] - 6s 27ms/step - loss: 0.0373 - accuracy: 0.9948\n",
            "Epoch 13/50\n",
            "240/240 [==============================] - 6s 27ms/step - loss: 0.0375 - accuracy: 0.9942\n",
            "Epoch 14/50\n",
            "240/240 [==============================] - 6s 27ms/step - loss: 0.0303 - accuracy: 0.9956\n",
            "Epoch 15/50\n",
            "240/240 [==============================] - 6s 27ms/step - loss: 0.0304 - accuracy: 0.9954\n",
            "Epoch 16/50\n",
            "240/240 [==============================] - 6s 27ms/step - loss: 0.0258 - accuracy: 0.9965\n",
            "Epoch 17/50\n",
            "240/240 [==============================] - 6s 27ms/step - loss: 0.0295 - accuracy: 0.9953\n",
            "Epoch 18/50\n",
            "240/240 [==============================] - 6s 27ms/step - loss: 0.0262 - accuracy: 0.9963\n",
            "Epoch 19/50\n",
            "240/240 [==============================] - 7s 27ms/step - loss: 0.0229 - accuracy: 0.9969\n",
            "Epoch 20/50\n",
            "240/240 [==============================] - 6s 27ms/step - loss: 0.0246 - accuracy: 0.9965\n",
            "Epoch 21/50\n",
            "240/240 [==============================] - 6s 27ms/step - loss: 0.0211 - accuracy: 0.9971\n",
            "Epoch 22/50\n",
            "240/240 [==============================] - 6s 27ms/step - loss: 0.0205 - accuracy: 0.9973\n",
            "Epoch 23/50\n",
            "240/240 [==============================] - 6s 27ms/step - loss: 0.0196 - accuracy: 0.9974\n",
            "Epoch 24/50\n",
            "240/240 [==============================] - 6s 27ms/step - loss: 0.0213 - accuracy: 0.9967\n",
            "Epoch 25/50\n",
            "240/240 [==============================] - 6s 27ms/step - loss: 0.0167 - accuracy: 0.9980\n",
            "Epoch 26/50\n",
            "240/240 [==============================] - 6s 27ms/step - loss: 0.0192 - accuracy: 0.9972\n",
            "Epoch 27/50\n",
            "240/240 [==============================] - 6s 27ms/step - loss: 0.0170 - accuracy: 0.9978\n",
            "Epoch 28/50\n",
            "240/240 [==============================] - 6s 27ms/step - loss: 0.0169 - accuracy: 0.9978\n",
            "Epoch 29/50\n",
            "240/240 [==============================] - 6s 27ms/step - loss: 0.0177 - accuracy: 0.9974\n",
            "Epoch 30/50\n",
            "240/240 [==============================] - 6s 27ms/step - loss: 0.0193 - accuracy: 0.9970\n",
            "Epoch 31/50\n",
            "240/240 [==============================] - 6s 27ms/step - loss: 0.0166 - accuracy: 0.9979\n",
            "Epoch 32/50\n",
            "240/240 [==============================] - 6s 27ms/step - loss: 0.0129 - accuracy: 0.9986\n",
            "Epoch 33/50\n",
            "240/240 [==============================] - 6s 27ms/step - loss: 0.0112 - accuracy: 0.9990\n",
            "Epoch 34/50\n",
            "240/240 [==============================] - 6s 27ms/step - loss: 0.0146 - accuracy: 0.9981\n",
            "Epoch 35/50\n",
            "240/240 [==============================] - 6s 27ms/step - loss: 0.0136 - accuracy: 0.9984\n",
            "Epoch 36/50\n",
            "240/240 [==============================] - 7s 27ms/step - loss: 0.0139 - accuracy: 0.9983\n",
            "Epoch 37/50\n",
            "240/240 [==============================] - 6s 27ms/step - loss: 0.0163 - accuracy: 0.9979\n",
            "Epoch 38/50\n",
            "240/240 [==============================] - 6s 27ms/step - loss: 0.0136 - accuracy: 0.9984\n",
            "Epoch 39/50\n",
            "240/240 [==============================] - 6s 27ms/step - loss: 0.0133 - accuracy: 0.9984\n",
            "Epoch 40/50\n",
            "240/240 [==============================] - 6s 27ms/step - loss: 0.0131 - accuracy: 0.9985\n",
            "Epoch 41/50\n",
            "240/240 [==============================] - 6s 27ms/step - loss: 0.0126 - accuracy: 0.9985\n",
            "Epoch 42/50\n",
            "240/240 [==============================] - 7s 27ms/step - loss: 0.0116 - accuracy: 0.9986\n",
            "Epoch 43/50\n",
            "240/240 [==============================] - 6s 27ms/step - loss: 0.0124 - accuracy: 0.9985\n",
            "Epoch 44/50\n",
            "240/240 [==============================] - 6s 27ms/step - loss: 0.0121 - accuracy: 0.9987\n",
            "Epoch 45/50\n",
            "240/240 [==============================] - 7s 27ms/step - loss: 0.0113 - accuracy: 0.9987\n",
            "Epoch 46/50\n",
            "240/240 [==============================] - 6s 27ms/step - loss: 0.0127 - accuracy: 0.9984\n",
            "Epoch 47/50\n",
            "240/240 [==============================] - 7s 27ms/step - loss: 0.0114 - accuracy: 0.9988\n",
            "Epoch 48/50\n",
            "240/240 [==============================] - 7s 27ms/step - loss: 0.0119 - accuracy: 0.9987\n",
            "Epoch 49/50\n",
            "240/240 [==============================] - 7s 27ms/step - loss: 0.0127 - accuracy: 0.9984\n",
            "Epoch 50/50\n",
            "240/240 [==============================] - 6s 27ms/step - loss: 0.0110 - accuracy: 0.9988\n"
          ]
        }
      ],
      "source": [
        "cnn_model = MNIST_Model()\n",
        "cnn_model.compile()\n",
        "cnn_model.fit(x_train, y_train, validation_split=None)\n",
        "cnn_model.plot()"
      ]
    },
    {
      "cell_type": "markdown",
      "source": [
        "## How does retraining on the whole training set impact on the MNIST test set?"
      ],
      "metadata": {
        "id": "luHvgXN7VnsJ"
      }
    },
    {
      "cell_type": "code",
      "source": [
        "pred_probs2 = cnn_model.model.predict(x_test)\n",
        "pred2 = np.argmax(pred_probs2, axis=1)\n",
        "print(np.mean(pred2==y_test))"
      ],
      "metadata": {
        "id": "zGIM-9T2U4T0"
      },
      "execution_count": null,
      "outputs": []
    },
    {
      "cell_type": "markdown",
      "source": [
        "Test Accuracy has increased. \n",
        "\n",
        "WHY??"
      ],
      "metadata": {
        "id": "I4TA0F06XHm2"
      }
    },
    {
      "cell_type": "markdown",
      "source": [
        "## Missclassification Plots"
      ],
      "metadata": {
        "id": "cVVJbUy_V9rZ"
      }
    },
    {
      "cell_type": "code",
      "source": [
        "missclassified_index = np.where(pred2!= y_test)[0]\n",
        "missclassified = x_test[missclassified_index]\n",
        "print(missclassified.shape)\n",
        "missclassified = np.reshape(missclassified, missclassified.shape[0:3])\n",
        "print(missclassified.shape)"
      ],
      "metadata": {
        "id": "xj-NUBYFV_rf"
      },
      "execution_count": null,
      "outputs": []
    },
    {
      "cell_type": "code",
      "source": [
        "for index, k in enumerate(missclassified_index[:3]):\n",
        "  plt.imshow(missclassified[index])\n",
        "  plt.title(f'Actual: {y_test[k]}; Predicted: {pred2[k]}')\n",
        "  plt.show()"
      ],
      "metadata": {
        "id": "qvl4XejOYe0U"
      },
      "execution_count": null,
      "outputs": []
    },
    {
      "cell_type": "code",
      "source": [
        "import seaborn as sns\n",
        "import pandas as pd\n",
        "\n",
        "confusion_matrix = tf.math.confusion_matrix(labels=y_test, predictions=pred2, num_classes=10)\n",
        "\n",
        "# scaling the confusion matrix to highlight missclassification:\n",
        "# confusion_matrix = np.round(np.log2(confusion_matrix+1))\n",
        "sns.heatmap(np.log2(confusion_matrix+1))\n",
        "plt.show()\n",
        "# print(pd.DataFrame(confusion_matrix, index = [i for i in range(10)], columns = [i for i in range(10)]))\n",
        "pd.DataFrame(confusion_matrix, index = [i for i in range(10)], columns = [i for i in range(10)])\n",
        "# sns.heatmap(np.log2(confusion_matrix+1))"
      ],
      "metadata": {
        "id": "hSoOwiJIZagt"
      },
      "execution_count": null,
      "outputs": []
    },
    {
      "cell_type": "markdown",
      "source": [
        "Most commonly missclassified are:\n",
        "<table>\n",
        "  <thead>\n",
        "    <td>Actual</td>\n",
        "    <td>Predicted</td>\n",
        "  </thead>\n",
        "  <tr>\n",
        "    <td>3</td>\n",
        "    <td>5 , 8</td>\n",
        "  </tr>\n",
        "  <tr>\n",
        "    <td>5</td>\n",
        "    <td>3</td>\n",
        "  </tr>\n",
        "  <tr>\n",
        "    <td>6</td>\n",
        "    <td>0 , 1 , 5 , 8</td>\n",
        "  </tr>\n",
        "  <tr>\n",
        "    <td>7</td>\n",
        "    <td>1</td>\n",
        "  </tr>\n",
        "  <tr>\n",
        "    <td>9</td>\n",
        "    <td>0 , 4 , 7</td>\n",
        "  </tr>\n",
        "</table>"
      ],
      "metadata": {
        "id": "VEVyfapCdyef"
      }
    }
  ],
  "metadata": {
    "colab": {
      "collapsed_sections": [],
      "name": "topic1-NN.ipynb",
      "provenance": [],
      "toc_visible": true,
      "include_colab_link": true
    },
    "kernelspec": {
      "display_name": "Python 3",
      "language": "python",
      "name": "python3"
    },
    "language_info": {
      "codemirror_mode": {
        "name": "ipython",
        "version": 3
      },
      "file_extension": ".py",
      "mimetype": "text/x-python",
      "name": "python",
      "nbconvert_exporter": "python",
      "pygments_lexer": "ipython3",
      "version": "3.8.12"
    },
    "accelerator": "GPU"
  },
  "nbformat": 4,
  "nbformat_minor": 0
}