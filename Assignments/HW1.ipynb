{
  "cells": [
    {
      "cell_type": "markdown",
      "metadata": {
        "id": "view-in-github",
        "colab_type": "text"
      },
      "source": [
        "<a href=\"https://colab.research.google.com/github/rohitashwachaks/advanced_optimisation/blob/main/Assignments/HW1.ipynb\" target=\"_parent\"><img src=\"https://colab.research.google.com/assets/colab-badge.svg\" alt=\"Open In Colab\"/></a>"
      ]
    },
    {
      "cell_type": "markdown",
      "source": [
        "# Homework-1\n",
        "\n",
        "rc47878"
      ],
      "metadata": {
        "id": "H8uGHxWO_ear"
      }
    },
    {
      "cell_type": "code",
      "execution_count": 4,
      "metadata": {
        "id": "WJ0oSikkCagm"
      },
      "outputs": [],
      "source": [
        "import tensorflow as tf\n",
        "import numpy as np\n",
        "\n",
        "import matplotlib.pyplot as plt\n"
      ]
    },
    {
      "cell_type": "code",
      "source": [
        "def gray2bw(arr: np.array, threshold: int = 0.8):\n",
        "  return np.where(arr > threshold, 1, 0)"
      ],
      "metadata": {
        "id": "Ih-6Nxz5mDVU"
      },
      "execution_count": 70,
      "outputs": []
    },
    {
      "cell_type": "code",
      "execution_count": 71,
      "metadata": {
        "id": "cC90Zc1JCag0",
        "outputId": "4a08ac79-adaa-4e7f-afa9-fdf2412ea82d",
        "colab": {
          "base_uri": "https://localhost:8080/",
          "height": 532
        }
      },
      "outputs": [
        {
          "output_type": "display_data",
          "data": {
            "image/png": "[encoded data removed]",
            "text/plain": [
              "<Figure size 432x288 with 1 Axes>"
            ]
          },
          "metadata": {
            "needs_background": "light"
          }
        },
        {
          "output_type": "stream",
          "name": "stdout",
          "text": [
            "(28, 28)\n"
          ]
        },
        {
          "output_type": "display_data",
          "data": {
            "image/png": "[encoded data removed]",
            "text/plain": [
              "<Figure size 432x288 with 1 Axes>"
            ]
          },
          "metadata": {
            "needs_background": "light"
          }
        }
      ],
      "source": [
        "mnist = tf.keras.datasets.mnist\n",
        "\n",
        "(x_train, y_train),(x_test, y_test) = mnist.load_data()\n",
        "x_train, x_test = x_train / 255.0, x_test / 255.0\n",
        "\n",
        "img = x_train[3]\n",
        "plt.imshow(img)\n",
        "plt.show()\n",
        "\n",
        "x_train = gray2bw(x_train)\n",
        "x_test = gray2bw(x_test)\n",
        "\n",
        "print(img.shape)\n",
        "img = x_train[3]\n",
        "plt.imshow(img)\n",
        "\n",
        "ndata_train = x_train.shape[0]\n",
        "ndata_test = x_test.shape[0]\n"
      ]
    },
    {
      "cell_type": "code",
      "execution_count": 35,
      "metadata": {
        "id": "WLk18_VGCag4"
      },
      "outputs": [],
      "source": [
        "x_train = x_train.reshape((ndata_train,28,28,1))\n",
        "x_test = x_test.reshape((ndata_test,28,28,1))\n",
        "xshape = x_train.shape[1:4]"
      ]
    },
    {
      "cell_type": "code",
      "execution_count": 36,
      "metadata": {
        "id": "lmqZqqbMCag8"
      },
      "outputs": [],
      "source": [
        "NNmodel = tf.keras.models.Sequential([\n",
        "        tf.keras.layers.Flatten(input_shape=xshape),\n",
        "        tf.keras.layers.Dense(64,activation=tf.nn.relu,kernel_regularizer = tf.keras.regularizers.l1(0.0002)),\n",
        "        tf.keras.layers.Dropout(0.1),\n",
        "        tf.keras.layers.Dense(64,activation=tf.nn.sigmoid),\n",
        "        tf.keras.layers.Dense(10,activation=tf.nn.softmax)\n",
        "        ])"
      ]
    },
    {
      "cell_type": "code",
      "execution_count": 37,
      "metadata": {
        "colab": {
          "base_uri": "https://localhost:8080/"
        },
        "id": "WpONfujBCag_",
        "outputId": "5305b70a-3082-44fa-dd10-25a7a1b8e43f"
      },
      "outputs": [
        {
          "output_type": "stream",
          "name": "stdout",
          "text": [
            "Model: \"sequential_1\"\n",
            "_________________________________________________________________\n",
            " Layer (type)                Output Shape              Param #   \n",
            "=================================================================\n",
            " flatten_1 (Flatten)         (None, 784)               0         \n",
            "                                                                 \n",
            " dense_3 (Dense)             (None, 64)                50240     \n",
            "                                                                 \n",
            " dropout_1 (Dropout)         (None, 64)                0         \n",
            "                                                                 \n",
            " dense_4 (Dense)             (None, 64)                4160      \n",
            "                                                                 \n",
            " dense_5 (Dense)             (None, 10)                650       \n",
            "                                                                 \n",
            "=================================================================\n",
            "Total params: 55,050\n",
            "Trainable params: 55,050\n",
            "Non-trainable params: 0\n",
            "_________________________________________________________________\n"
          ]
        }
      ],
      "source": [
        "NNmodel.compile(optimizer='adam',\n",
        "              loss='sparse_categorical_crossentropy',\n",
        "              metrics=['accuracy'])\n",
        "\n",
        "NNmodel.summary()"
      ]
    },
    {
      "cell_type": "code",
      "execution_count": 38,
      "metadata": {
        "colab": {
          "base_uri": "https://localhost:8080/"
        },
        "id": "_zEmMpqvCahB",
        "outputId": "c997c31e-b79b-4c97-9139-2a1e3834f0e6"
      },
      "outputs": [
        {
          "output_type": "stream",
          "name": "stdout",
          "text": [
            "Epoch 1/12\n",
            "240/240 [==============================] - 2s 5ms/step - loss: 1.1515 - accuracy: 0.7793 - val_loss: 0.5943 - val_accuracy: 0.8986\n",
            "Epoch 2/12\n",
            "240/240 [==============================] - 1s 5ms/step - loss: 0.5610 - accuracy: 0.8946 - val_loss: 0.4565 - val_accuracy: 0.9196\n",
            "Epoch 3/12\n",
            "240/240 [==============================] - 1s 5ms/step - loss: 0.4587 - accuracy: 0.9136 - val_loss: 0.3955 - val_accuracy: 0.9285\n",
            "Epoch 4/12\n",
            "240/240 [==============================] - 1s 5ms/step - loss: 0.4004 - accuracy: 0.9250 - val_loss: 0.3570 - val_accuracy: 0.9362\n",
            "Epoch 5/12\n",
            "240/240 [==============================] - 1s 4ms/step - loss: 0.3627 - accuracy: 0.9330 - val_loss: 0.3194 - val_accuracy: 0.9458\n",
            "Epoch 6/12\n",
            "240/240 [==============================] - 1s 5ms/step - loss: 0.3322 - accuracy: 0.9403 - val_loss: 0.3028 - val_accuracy: 0.9482\n",
            "Epoch 7/12\n",
            "240/240 [==============================] - 1s 5ms/step - loss: 0.3082 - accuracy: 0.9459 - val_loss: 0.2786 - val_accuracy: 0.9563\n",
            "Epoch 8/12\n",
            "240/240 [==============================] - 1s 4ms/step - loss: 0.2891 - accuracy: 0.9513 - val_loss: 0.2680 - val_accuracy: 0.9563\n",
            "Epoch 9/12\n",
            "240/240 [==============================] - 1s 4ms/step - loss: 0.2752 - accuracy: 0.9538 - val_loss: 0.2545 - val_accuracy: 0.9608\n",
            "Epoch 10/12\n",
            "240/240 [==============================] - 1s 5ms/step - loss: 0.2640 - accuracy: 0.9557 - val_loss: 0.2494 - val_accuracy: 0.9621\n",
            "Epoch 11/12\n",
            "240/240 [==============================] - 1s 5ms/step - loss: 0.2518 - accuracy: 0.9591 - val_loss: 0.2376 - val_accuracy: 0.9631\n",
            "Epoch 12/12\n",
            "240/240 [==============================] - 1s 5ms/step - loss: 0.2409 - accuracy: 0.9624 - val_loss: 0.2335 - val_accuracy: 0.9627\n"
          ]
        },
        {
          "output_type": "execute_result",
          "data": {
            "text/plain": [
              "<keras.callbacks.History at 0x7f2580197410>"
            ]
          },
          "metadata": {},
          "execution_count": 38
        }
      ],
      "source": [
        "NNmodel.fit(x_train,y_train,epochs=12,validation_split=0.2,batch_size=200)"
      ]
    },
    {
      "cell_type": "code",
      "execution_count": 39,
      "metadata": {
        "colab": {
          "base_uri": "https://localhost:8080/"
        },
        "id": "ucsh4BMTCahD",
        "outputId": "20040cd0-91c9-4602-953e-1ea112993d41"
      },
      "outputs": [
        {
          "output_type": "stream",
          "name": "stdout",
          "text": [
            "313/313 [==============================] - 1s 4ms/step - loss: 0.2358 - accuracy: 0.9607\n",
            "This model predicts 96.069997549057% of the test data correctly\n"
          ]
        }
      ],
      "source": [
        "print('This model predicts '+str(NNmodel.evaluate(x_test,y_test)[1]*100) +'% of the test data correctly')"
      ]
    },
    {
      "cell_type": "code",
      "execution_count": 40,
      "metadata": {
        "colab": {
          "base_uri": "https://localhost:8080/"
        },
        "id": "aRrLgOxXCahG",
        "outputId": "b45819c2-d1c8-47cd-84b5-1ab0d4603dc4"
      },
      "outputs": [
        {
          "output_type": "execute_result",
          "data": {
            "text/plain": [
              "(10000, 10)"
            ]
          },
          "metadata": {},
          "execution_count": 40
        }
      ],
      "source": [
        "pred_probs = NNmodel.predict(x_test)\n",
        "pred_probs.shape"
      ]
    },
    {
      "cell_type": "code",
      "execution_count": 43,
      "metadata": {
        "colab": {
          "base_uri": "https://localhost:8080/"
        },
        "id": "dcRSIEUcCahR",
        "outputId": "d1a07274-ce95-4ccc-ca64-f944e026e203"
      },
      "outputs": [
        {
          "output_type": "stream",
          "name": "stdout",
          "text": [
            "0.99999994\n"
          ]
        },
        {
          "output_type": "execute_result",
          "data": {
            "text/plain": [
              "array([4.0419349e-05, 1.6225516e-05, 2.9009272e-04, 3.3876204e-04,\n",
              "       2.4907088e-06, 9.2496939e-06, 5.7418799e-08, 9.9892235e-01,\n",
              "       6.2098206e-06, 3.7410620e-04], dtype=float32)"
            ]
          },
          "metadata": {},
          "execution_count": 43
        }
      ],
      "source": [
        "print(np.sum(pred_probs[0,:]))\n",
        "pred_probs[0,:]"
      ]
    },
    {
      "cell_type": "code",
      "execution_count": 44,
      "metadata": {
        "colab": {
          "base_uri": "https://localhost:8080/"
        },
        "id": "jSiGyR9QEpjR",
        "outputId": "90daae8d-d798-4576-e458-e51d961a5a63"
      },
      "outputs": [
        {
          "output_type": "execute_result",
          "data": {
            "text/plain": [
              "0.9607"
            ]
          },
          "metadata": {},
          "execution_count": 44
        }
      ],
      "source": [
        "pred_class = np.argmax(pred_probs, axis=1)\n",
        "np.mean(pred_class==y_test)"
      ]
    },
    {
      "cell_type": "code",
      "execution_count": 45,
      "metadata": {
        "id": "rdfpHS5QCahV"
      },
      "outputs": [],
      "source": [
        "NNmodel2 = tf.keras.models.Sequential([\n",
        "        tf.keras.layers.Conv2D(filters=10,kernel_size=(5,5),activation=tf.nn.relu,input_shape=xshape),\n",
        "        tf.keras.layers.Conv2D(filters=10,kernel_size=(5,5),activation=tf.nn.relu,input_shape=xshape),\n",
        "        tf.keras.layers.MaxPooling2D(pool_size = (2,2),strides=2),\n",
        "        tf.keras.layers.Flatten(),\n",
        "        tf.keras.layers.Dense(128,activation=tf.nn.relu,kernel_regularizer = tf.keras.regularizers.l1(0.0002)),\n",
        "        tf.keras.layers.Dense(64,activation=tf.nn.softplus,kernel_regularizer = tf.keras.regularizers.l1(0.0005)),\n",
        "        tf.keras.layers.Dense(10,activation=tf.nn.softmax)\n",
        "        ])"
      ]
    },
    {
      "cell_type": "code",
      "source": [
        "NNmodel2.compile(optimizer='adam',\n",
        "              loss='sparse_categorical_crossentropy',\n",
        "              metrics=['accuracy'])\n",
        "\n",
        "NNmodel2.summary()"
      ],
      "metadata": {
        "id": "g71zQQZOr_p0",
        "outputId": "d1c358d2-963d-463e-b4eb-c0e2d09dd802",
        "colab": {
          "base_uri": "https://localhost:8080/"
        }
      },
      "execution_count": 46,
      "outputs": [
        {
          "output_type": "stream",
          "name": "stdout",
          "text": [
            "Model: \"sequential_2\"\n",
            "_________________________________________________________________\n",
            " Layer (type)                Output Shape              Param #   \n",
            "=================================================================\n",
            " conv2d (Conv2D)             (None, 24, 24, 10)        260       \n",
            "                                                                 \n",
            " conv2d_1 (Conv2D)           (None, 20, 20, 10)        2510      \n",
            "                                                                 \n",
            " max_pooling2d (MaxPooling2D  (None, 10, 10, 10)       0         \n",
            " )                                                               \n",
            "                                                                 \n",
            " flatten_2 (Flatten)         (None, 1000)              0         \n",
            "                                                                 \n",
            " dense_6 (Dense)             (None, 128)               128128    \n",
            "                                                                 \n",
            " dense_7 (Dense)             (None, 64)                8256      \n",
            "                                                                 \n",
            " dense_8 (Dense)             (None, 10)                650       \n",
            "                                                                 \n",
            "=================================================================\n",
            "Total params: 139,804\n",
            "Trainable params: 139,804\n",
            "Non-trainable params: 0\n",
            "_________________________________________________________________\n"
          ]
        }
      ]
    },
    {
      "cell_type": "code",
      "source": [
        "NNmodel2.fit(x_train,y_train,epochs=200,validation_split=0.3,batch_size=500)"
      ],
      "metadata": {
        "id": "ey7X5CpOsBj8",
        "outputId": "63fd1616-4c93-45a7-fa7f-d17b4bfdad38",
        "colab": {
          "base_uri": "https://localhost:8080/"
        }
      },
      "execution_count": 48,
      "outputs": [
        {
          "output_type": "stream",
          "name": "stdout",
          "text": [
            "Epoch 1/20\n",
            "84/84 [==============================] - 2s 26ms/step - loss: 1.7164 - accuracy: 0.7715 - val_loss: 1.0226 - val_accuracy: 0.9193\n",
            "Epoch 2/20\n",
            "84/84 [==============================] - 2s 25ms/step - loss: 0.8786 - accuracy: 0.9348 - val_loss: 0.7588 - val_accuracy: 0.9487\n",
            "Epoch 3/20\n",
            "84/84 [==============================] - 2s 22ms/step - loss: 0.6772 - accuracy: 0.9573 - val_loss: 0.6174 - val_accuracy: 0.9610\n",
            "Epoch 4/20\n",
            "84/84 [==============================] - 2s 25ms/step - loss: 0.5666 - accuracy: 0.9639 - val_loss: 0.5313 - val_accuracy: 0.9652\n",
            "Epoch 5/20\n",
            "84/84 [==============================] - 2s 24ms/step - loss: 0.4889 - accuracy: 0.9691 - val_loss: 0.4569 - val_accuracy: 0.9704\n",
            "Epoch 6/20\n",
            "84/84 [==============================] - 2s 21ms/step - loss: 0.4286 - accuracy: 0.9727 - val_loss: 0.4187 - val_accuracy: 0.9690\n",
            "Epoch 7/20\n",
            "84/84 [==============================] - 2s 23ms/step - loss: 0.3883 - accuracy: 0.9730 - val_loss: 0.3873 - val_accuracy: 0.9683\n",
            "Epoch 8/20\n",
            "84/84 [==============================] - 2s 24ms/step - loss: 0.3504 - accuracy: 0.9757 - val_loss: 0.3692 - val_accuracy: 0.9667\n",
            "Epoch 9/20\n",
            "84/84 [==============================] - 3s 38ms/step - loss: 0.3224 - accuracy: 0.9770 - val_loss: 0.3173 - val_accuracy: 0.9761\n",
            "Epoch 10/20\n",
            "84/84 [==============================] - 3s 36ms/step - loss: 0.2961 - accuracy: 0.9789 - val_loss: 0.3082 - val_accuracy: 0.9729\n",
            "Epoch 11/20\n",
            "84/84 [==============================] - 2s 28ms/step - loss: 0.2785 - accuracy: 0.9792 - val_loss: 0.2845 - val_accuracy: 0.9744\n",
            "Epoch 12/20\n",
            "84/84 [==============================] - 3s 34ms/step - loss: 0.2623 - accuracy: 0.9795 - val_loss: 0.2805 - val_accuracy: 0.9732\n",
            "Epoch 13/20\n",
            "84/84 [==============================] - 3s 34ms/step - loss: 0.2464 - accuracy: 0.9805 - val_loss: 0.2594 - val_accuracy: 0.9747\n",
            "Epoch 14/20\n",
            "84/84 [==============================] - 2s 26ms/step - loss: 0.2293 - accuracy: 0.9821 - val_loss: 0.2503 - val_accuracy: 0.9738\n",
            "Epoch 15/20\n",
            "84/84 [==============================] - 2s 28ms/step - loss: 0.2149 - accuracy: 0.9828 - val_loss: 0.2337 - val_accuracy: 0.9778\n",
            "Epoch 16/20\n",
            "84/84 [==============================] - 2s 24ms/step - loss: 0.2105 - accuracy: 0.9822 - val_loss: 0.2355 - val_accuracy: 0.9738\n",
            "Epoch 17/20\n",
            "84/84 [==============================] - 2s 23ms/step - loss: 0.1981 - accuracy: 0.9839 - val_loss: 0.2147 - val_accuracy: 0.9777\n",
            "Epoch 18/20\n",
            "84/84 [==============================] - 2s 22ms/step - loss: 0.1866 - accuracy: 0.9843 - val_loss: 0.2152 - val_accuracy: 0.9741\n",
            "Epoch 19/20\n",
            "84/84 [==============================] - 2s 21ms/step - loss: 0.1787 - accuracy: 0.9847 - val_loss: 0.1968 - val_accuracy: 0.9793\n",
            "Epoch 20/20\n",
            "84/84 [==============================] - 2s 21ms/step - loss: 0.1693 - accuracy: 0.9856 - val_loss: 0.1894 - val_accuracy: 0.9794\n"
          ]
        },
        {
          "output_type": "execute_result",
          "data": {
            "text/plain": [
              "<keras.callbacks.History at 0x7f2509931bd0>"
            ]
          },
          "metadata": {},
          "execution_count": 48
        }
      ]
    },
    {
      "cell_type": "code",
      "execution_count": null,
      "metadata": {
        "colab": {
          "base_uri": "https://localhost:8080/"
        },
        "outputId": "ccff8361-aaa1-410a-c60a-264d30215d1f",
        "id": "5ZZ7hsFysTnJ"
      },
      "outputs": [
        {
          "output_type": "stream",
          "name": "stdout",
          "text": [
            "0.8843\n"
          ]
        }
      ],
      "source": [
        "pred_probs2 = NNmodel2.predict(x_test)\n",
        "pred2 = np.argmax(pred_probs2, axis=1)\n",
        "print(np.mean(pred2==y_test))"
      ]
    },
    {
      "cell_type": "code",
      "execution_count": 74,
      "metadata": {
        "id": "nXQ5A1Yr5cZK"
      },
      "outputs": [],
      "source": [
        "NNmodel2 = tf.keras.models.Sequential()\n",
        "NNmodel2.add(tf.keras.layers.Conv2D(filters=10,kernel_size=(3,3),activation=tf.nn.relu,input_shape=xshape))\n",
        "NNmodel2.add(tf.keras.layers.Conv2D(filters=10,kernel_size=(3,3),activation=tf.nn.relu,input_shape=xshape))\n",
        "# NNmodel2.add(tf.keras.layers.MaxPooling2D(pool_size = (2,2),strides=2))\n",
        "\n",
        "NNmodel2.add(tf.keras.layers.Conv2D(filters=5,kernel_size=(3,3),activation=tf.nn.relu,input_shape=xshape))\n",
        "# NNmodel2.add(tf.keras.layers.Conv2D(filters=10,kernel_size=(3,3),activation=tf.nn.relu,input_shape=xshape))\n",
        "NNmodel2.add(tf.keras.layers.MaxPooling2D(pool_size = (3,3),strides=3))\n",
        "\n",
        "NNmodel2.add(tf.keras.layers.Flatten())\n",
        "# NNmodel2.add(tf.keras.layers.Dense(256,activation=tf.nn.relu,kernel_regularizer = tf.keras.regularizers.l1(0.0002)))\n",
        "NNmodel2.add(tf.keras.layers.Dense(128,activation=tf.nn.relu,kernel_regularizer = tf.keras.regularizers.l1(0.0002)))\n",
        "# NNmodel2.add(tf.keras.layers.Dense(64,activation=tf.nn.softplus,kernel_regularizer = tf.keras.regularizers.l1(0.0005)))\n",
        "NNmodel2.add(tf.keras.layers.Dense(32,activation=tf.nn.softmax))\n",
        "NNmodel2.add(tf.keras.layers.Dense(10,activation=tf.nn.softmax))"
      ]
    },
    {
      "cell_type": "code",
      "execution_count": 75,
      "metadata": {
        "colab": {
          "base_uri": "https://localhost:8080/"
        },
        "id": "caahsRsCCahX",
        "outputId": "9c6cab5e-a7ff-4b21-8570-a56f9e98aafc"
      },
      "outputs": [
        {
          "output_type": "stream",
          "name": "stdout",
          "text": [
            "Model: \"sequential_11\"\n",
            "_________________________________________________________________\n",
            " Layer (type)                Output Shape              Param #   \n",
            "=================================================================\n",
            " conv2d_24 (Conv2D)          (None, 26, 26, 10)        100       \n",
            "                                                                 \n",
            " conv2d_25 (Conv2D)          (None, 24, 24, 10)        910       \n",
            "                                                                 \n",
            " conv2d_26 (Conv2D)          (None, 22, 22, 5)         455       \n",
            "                                                                 \n",
            " max_pooling2d_11 (MaxPoolin  (None, 7, 7, 5)          0         \n",
            " g2D)                                                            \n",
            "                                                                 \n",
            " flatten_11 (Flatten)        (None, 245)               0         \n",
            "                                                                 \n",
            " dense_36 (Dense)            (None, 128)               31488     \n",
            "                                                                 \n",
            " dense_37 (Dense)            (None, 32)                4128      \n",
            "                                                                 \n",
            " dense_38 (Dense)            (None, 10)                330       \n",
            "                                                                 \n",
            "=================================================================\n",
            "Total params: 37,411\n",
            "Trainable params: 37,411\n",
            "Non-trainable params: 0\n",
            "_________________________________________________________________\n"
          ]
        }
      ],
      "source": [
        "NNmodel2.compile(optimizer='adam',\n",
        "              loss='sparse_categorical_crossentropy',\n",
        "              metrics=['accuracy'])\n",
        "\n",
        "NNmodel2.summary()"
      ]
    },
    {
      "cell_type": "code",
      "execution_count": null,
      "metadata": {
        "colab": {
          "base_uri": "https://localhost:8080/"
        },
        "id": "eVhxwOPGCahZ",
        "outputId": "bc59c379-3b5c-44cd-dbe7-4151b768bb5c"
      },
      "outputs": [
        {
          "output_type": "stream",
          "name": "stdout",
          "text": [
            "Epoch 1/75\n",
            "96/96 [==============================] - 3s 28ms/step - loss: 2.3496 - accuracy: 0.3984 - val_loss: 2.0620 - val_accuracy: 0.6422\n",
            "Epoch 2/75\n",
            "96/96 [==============================] - 2s 25ms/step - loss: 1.9533 - accuracy: 0.6551 - val_loss: 1.8516 - val_accuracy: 0.6692\n",
            "Epoch 3/75\n",
            "96/96 [==============================] - 2s 23ms/step - loss: 1.7806 - accuracy: 0.6762 - val_loss: 1.6996 - val_accuracy: 0.6760\n",
            "Epoch 4/75\n",
            "96/96 [==============================] - 2s 25ms/step - loss: 1.6372 - accuracy: 0.6885 - val_loss: 1.5650 - val_accuracy: 0.6878\n",
            "Epoch 5/75\n",
            "96/96 [==============================] - 2s 25ms/step - loss: 1.5102 - accuracy: 0.6917 - val_loss: 1.4527 - val_accuracy: 0.6931\n",
            "Epoch 6/75\n",
            "96/96 [==============================] - 2s 25ms/step - loss: 1.4026 - accuracy: 0.6992 - val_loss: 1.3453 - val_accuracy: 0.7377\n",
            "Epoch 7/75\n",
            "96/96 [==============================] - 2s 24ms/step - loss: 1.2993 - accuracy: 0.7756 - val_loss: 1.2443 - val_accuracy: 0.8305\n",
            "Epoch 8/75\n",
            "96/96 [==============================] - 2s 24ms/step - loss: 1.1903 - accuracy: 0.8200 - val_loss: 1.1340 - val_accuracy: 0.8214\n",
            "Epoch 9/75\n",
            "96/96 [==============================] - 2s 23ms/step - loss: 1.0838 - accuracy: 0.8312 - val_loss: 1.0348 - val_accuracy: 0.8196\n",
            "Epoch 10/75\n",
            "96/96 [==============================] - 2s 25ms/step - loss: 1.0014 - accuracy: 0.8194 - val_loss: 0.9548 - val_accuracy: 0.8446\n",
            "Epoch 11/75\n",
            "96/96 [==============================] - 2s 25ms/step - loss: 0.9243 - accuracy: 0.8307 - val_loss: 0.8867 - val_accuracy: 0.8422\n",
            "Epoch 12/75\n",
            "96/96 [==============================] - 2s 23ms/step - loss: 0.8630 - accuracy: 0.8236 - val_loss: 0.8378 - val_accuracy: 0.8454\n",
            "Epoch 13/75\n",
            "96/96 [==============================] - 2s 25ms/step - loss: 0.8078 - accuracy: 0.8269 - val_loss: 0.7975 - val_accuracy: 0.8394\n",
            "Epoch 14/75\n",
            "96/96 [==============================] - 2s 24ms/step - loss: 0.7612 - accuracy: 0.8287 - val_loss: 0.7457 - val_accuracy: 0.8488\n",
            "Epoch 15/75\n",
            "96/96 [==============================] - 2s 24ms/step - loss: 0.7175 - accuracy: 0.8355 - val_loss: 0.7010 - val_accuracy: 0.8601\n",
            "Epoch 16/75\n",
            "96/96 [==============================] - 2s 25ms/step - loss: 0.6823 - accuracy: 0.8407 - val_loss: 0.6712 - val_accuracy: 0.8450\n",
            "Epoch 17/75\n",
            "96/96 [==============================] - 2s 23ms/step - loss: 0.6488 - accuracy: 0.8541 - val_loss: 0.6453 - val_accuracy: 0.8401\n",
            "Epoch 18/75\n",
            "96/96 [==============================] - 2s 24ms/step - loss: 0.6201 - accuracy: 0.8585 - val_loss: 0.6138 - val_accuracy: 0.8428\n",
            "Epoch 19/75\n",
            "96/96 [==============================] - 2s 23ms/step - loss: 0.5993 - accuracy: 0.8522 - val_loss: 0.5923 - val_accuracy: 0.8864\n",
            "Epoch 20/75\n",
            "96/96 [==============================] - 2s 25ms/step - loss: 0.5732 - accuracy: 0.8764 - val_loss: 0.5688 - val_accuracy: 0.8757\n",
            "Epoch 21/75\n",
            "96/96 [==============================] - 2s 24ms/step - loss: 0.5519 - accuracy: 0.8717 - val_loss: 0.5502 - val_accuracy: 0.8717\n",
            "Epoch 22/75\n",
            "96/96 [==============================] - 2s 24ms/step - loss: 0.5317 - accuracy: 0.8741 - val_loss: 0.5342 - val_accuracy: 0.8798\n",
            "Epoch 23/75\n",
            "96/96 [==============================] - 2s 24ms/step - loss: 0.5110 - accuracy: 0.8822 - val_loss: 0.5152 - val_accuracy: 0.8783\n",
            "Epoch 24/75\n",
            "96/96 [==============================] - 2s 26ms/step - loss: 0.4944 - accuracy: 0.8862 - val_loss: 0.5029 - val_accuracy: 0.8804\n",
            "Epoch 25/75\n",
            "96/96 [==============================] - 2s 25ms/step - loss: 0.4806 - accuracy: 0.8872 - val_loss: 0.4846 - val_accuracy: 0.8864\n",
            "Epoch 26/75\n",
            "96/96 [==============================] - 2s 24ms/step - loss: 0.4651 - accuracy: 0.8906 - val_loss: 0.4724 - val_accuracy: 0.8838\n",
            "Epoch 27/75\n",
            "96/96 [==============================] - 2s 24ms/step - loss: 0.4524 - accuracy: 0.8912 - val_loss: 0.4624 - val_accuracy: 0.8881\n",
            "Epoch 28/75\n",
            "34/96 [=========>....................] - ETA: 1s - loss: 0.4417 - accuracy: 0.8919"
          ]
        }
      ],
      "source": [
        "history = NNmodel2.fit(x_train,y_train,epochs=75,validation_split=0.2,batch_size=500)\n",
        "\n",
        "plt.plot(history.history['loss'])\n",
        "plt.plot(history.history['val_loss'])\n",
        "plt.title('model loss')\n",
        "plt.ylabel('loss')\n",
        "plt.xlabel('epoch')\n",
        "plt.legend(['train', 'val'], loc='upper left')\n",
        "plt.show()"
      ]
    },
    {
      "cell_type": "code",
      "execution_count": 69,
      "metadata": {
        "colab": {
          "base_uri": "https://localhost:8080/"
        },
        "id": "YkdlAs_4CahZ",
        "outputId": "dcc702e5-ef2f-43eb-9df4-2dddf7f2c3d2"
      },
      "outputs": [
        {
          "output_type": "stream",
          "name": "stdout",
          "text": [
            "0.9819\n"
          ]
        }
      ],
      "source": [
        "pred_probs2 = NNmodel2.predict(x_test)\n",
        "pred2 = np.argmax(pred_probs2, axis=1)\n",
        "print(np.mean(pred2==y_test))"
      ]
    },
    {
      "cell_type": "markdown",
      "metadata": {
        "id": "Dae9kuI55cZN"
      },
      "source": [
        "## Functional API\n",
        "we will need this eventually when we do reinforcement learning"
      ]
    },
    {
      "cell_type": "code",
      "execution_count": null,
      "metadata": {
        "id": "ZTlJM07v5cZO"
      },
      "outputs": [],
      "source": [
        "from tensorflow.keras.models import Model\n",
        "from tensorflow.keras.layers import Dense, Flatten, Conv2D, Input"
      ]
    },
    {
      "cell_type": "code",
      "execution_count": null,
      "metadata": {
        "colab": {
          "base_uri": "https://localhost:8080/"
        },
        "id": "B6P1xUGg5cZO",
        "outputId": "059ca259-66a0-4444-803c-2916d4411ebc"
      },
      "outputs": [
        {
          "output_type": "stream",
          "name": "stdout",
          "text": [
            "Model: \"model\"\n",
            "_________________________________________________________________\n",
            " Layer (type)                Output Shape              Param #   \n",
            "=================================================================\n",
            " input_1 (InputLayer)        [(None, 28, 28, 1)]       0         \n",
            "                                                                 \n",
            " conv2d (Conv2D)             (None, 6, 6, 16)          1040      \n",
            "                                                                 \n",
            " conv2d_1 (Conv2D)           (None, 2, 2, 32)          8224      \n",
            "                                                                 \n",
            " flatten_1 (Flatten)         (None, 128)               0         \n",
            "                                                                 \n",
            " dense_3 (Dense)             (None, 256)               33024     \n",
            "                                                                 \n",
            " dense_4 (Dense)             (None, 10)                2570      \n",
            "                                                                 \n",
            "=================================================================\n",
            "Total params: 44,858\n",
            "Trainable params: 44,858\n",
            "Non-trainable params: 0\n",
            "_________________________________________________________________\n"
          ]
        }
      ],
      "source": [
        "imp = Input(shape=xshape)\n",
        "mid = Conv2D(16,(8,8),strides=4,activation='relu')(imp)\n",
        "mid = Conv2D(32,(4,4),strides=2,activation='relu')(mid)\n",
        "mid = Flatten()(mid)\n",
        "mid = Dense(256,activation='relu')(mid)\n",
        "out0 = Dense(10,activation='softmax')(mid)\n",
        "model = Model(imp,out0)\n",
        "model.compile(optimizer='adam',loss='sparse_categorical_crossentropy',metrics=['accuracy'])\n",
        "model.summary()"
      ]
    },
    {
      "cell_type": "code",
      "execution_count": null,
      "metadata": {
        "id": "MbbMyHut5cZP"
      },
      "outputs": [],
      "source": [
        ""
      ]
    }
  ],
  "metadata": {
    "colab": {
      "collapsed_sections": [],
      "name": "topic1-NN.ipynb",
      "provenance": [],
      "toc_visible": true,
      "include_colab_link": true
    },
    "kernelspec": {
      "display_name": "Python 3",
      "language": "python",
      "name": "python3"
    },
    "language_info": {
      "codemirror_mode": {
        "name": "ipython",
        "version": 3
      },
      "file_extension": ".py",
      "mimetype": "text/x-python",
      "name": "python",
      "nbconvert_exporter": "python",
      "pygments_lexer": "ipython3",
      "version": "3.8.12"
    },
    "accelerator": "GPU"
  },
  "nbformat": 4,
  "nbformat_minor": 0
}