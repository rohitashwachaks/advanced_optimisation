{
  "cells": [
    {
      "cell_type": "markdown",
      "metadata": {
        "id": "view-in-github",
        "colab_type": "text"
      },
      "source": [
        "<a href=\"https://colab.research.google.com/github/rohitashwachaks/advanced_optimisation/blob/main/Assignments/HW1.ipynb\" target=\"_parent\"><img src=\"https://colab.research.google.com/assets/colab-badge.svg\" alt=\"Open In Colab\"/></a>"
      ]
    },
    {
      "cell_type": "markdown",
      "source": [
        "# Homework-1\n",
        "\n",
        "rc47878"
      ],
      "metadata": {
        "id": "H8uGHxWO_ear"
      }
    },
    {
      "cell_type": "code",
      "execution_count": 7,
      "metadata": {
        "id": "WJ0oSikkCagm"
      },
      "outputs": [],
      "source": [
        "import tensorflow as tf\n",
        "import numpy as np\n",
        "\n",
        "import matplotlib.pyplot as plt\n"
      ]
    },
    {
      "cell_type": "code",
      "execution_count": 14,
      "metadata": {
        "id": "cC90Zc1JCag0"
      },
      "outputs": [],
      "source": [
        "mnist = tf.keras.datasets.mnist\n",
        "\n",
        "(x_train, y_train),(x_test, y_test) = mnist.load_data()\n",
        "x_train, x_test = x_train / 255.0, x_test / 255.0\n",
        "\n",
        "ndata_train = x_train.shape[0]\n",
        "ndata_test = x_test.shape[0]\n"
      ]
    },
    {
      "cell_type": "code",
      "source": [
        "def gray2bw(arr: np.array, k: int = 0.5):\n",
        "  \n",
        "  pass\n",
        "\n",
        "img = x_train[3]\n",
        "plt.show(img)\n",
        "\n",
        "\n",
        "\n",
        "print(img.shape)\n",
        "plt.show(img)"
      ],
      "metadata": {
        "id": "BFkIxFiyOwoE",
        "outputId": "563a0df4-0aa8-4b82-fce0-87526121e415",
        "colab": {
          "base_uri": "https://localhost:8080/"
        }
      },
      "execution_count": 101,
      "outputs": [
        {
          "output_type": "execute_result",
          "data": {
            "text/plain": [
              "(28, 28, 1)"
            ]
          },
          "metadata": {},
          "execution_count": 101
        }
      ]
    },
    {
      "cell_type": "code",
      "execution_count": 102,
      "metadata": {
        "id": "WLk18_VGCag4"
      },
      "outputs": [],
      "source": [
        "x_train = x_train.reshape((ndata_train,28,28,1))\n",
        "x_test = x_test.reshape((ndata_test,28,28,1))\n",
        "xshape = x_train.shape[1:4]"
      ]
    },
    {
      "cell_type": "code",
      "execution_count": 17,
      "metadata": {
        "id": "lmqZqqbMCag8"
      },
      "outputs": [],
      "source": [
        "NNmodel = tf.keras.models.Sequential([\n",
        "        tf.keras.layers.Flatten(input_shape=xshape),\n",
        "        tf.keras.layers.Dense(64,activation=tf.nn.relu,kernel_regularizer = tf.keras.regularizers.l1(0.0002)),\n",
        "        tf.keras.layers.Dropout(0.1),\n",
        "        tf.keras.layers.Dense(64,activation=tf.nn.sigmoid),\n",
        "        tf.keras.layers.Dense(10,activation=tf.nn.softmax)\n",
        "        ])"
      ]
    },
    {
      "cell_type": "code",
      "execution_count": 18,
      "metadata": {
        "colab": {
          "base_uri": "https://localhost:8080/"
        },
        "id": "WpONfujBCag_",
        "outputId": "0fa45f5d-65fb-4e15-ad5e-1be689cb0a16"
      },
      "outputs": [
        {
          "output_type": "stream",
          "name": "stdout",
          "text": [
            "Model: \"sequential\"\n",
            "_________________________________________________________________\n",
            " Layer (type)                Output Shape              Param #   \n",
            "=================================================================\n",
            " flatten (Flatten)           (None, 784)               0         \n",
            "                                                                 \n",
            " dense (Dense)               (None, 64)                50240     \n",
            "                                                                 \n",
            " dropout (Dropout)           (None, 64)                0         \n",
            "                                                                 \n",
            " dense_1 (Dense)             (None, 64)                4160      \n",
            "                                                                 \n",
            " dense_2 (Dense)             (None, 10)                650       \n",
            "                                                                 \n",
            "=================================================================\n",
            "Total params: 55,050\n",
            "Trainable params: 55,050\n",
            "Non-trainable params: 0\n",
            "_________________________________________________________________\n"
          ]
        }
      ],
      "source": [
        "NNmodel.compile(optimizer='adam',\n",
        "              loss='sparse_categorical_crossentropy',\n",
        "              metrics=['accuracy'])\n",
        "\n",
        "NNmodel.summary()"
      ]
    },
    {
      "cell_type": "code",
      "execution_count": 19,
      "metadata": {
        "colab": {
          "base_uri": "https://localhost:8080/"
        },
        "id": "_zEmMpqvCahB",
        "outputId": "35195467-c9a2-4bfd-88d1-de884d87e90c"
      },
      "outputs": [
        {
          "output_type": "stream",
          "name": "stdout",
          "text": [
            "Epoch 1/12\n",
            "240/240 [==============================] - 3s 5ms/step - loss: 1.1339 - accuracy: 0.7857 - val_loss: 0.5777 - val_accuracy: 0.9019\n",
            "Epoch 2/12\n",
            "240/240 [==============================] - 1s 4ms/step - loss: 0.5376 - accuracy: 0.9018 - val_loss: 0.4368 - val_accuracy: 0.9239\n",
            "Epoch 3/12\n",
            "240/240 [==============================] - 1s 4ms/step - loss: 0.4369 - accuracy: 0.9193 - val_loss: 0.3729 - val_accuracy: 0.9343\n",
            "Epoch 4/12\n",
            "240/240 [==============================] - 1s 4ms/step - loss: 0.3797 - accuracy: 0.9306 - val_loss: 0.3371 - val_accuracy: 0.9389\n",
            "Epoch 5/12\n",
            "240/240 [==============================] - 1s 4ms/step - loss: 0.3410 - accuracy: 0.9390 - val_loss: 0.3024 - val_accuracy: 0.9491\n",
            "Epoch 6/12\n",
            "240/240 [==============================] - 1s 4ms/step - loss: 0.3130 - accuracy: 0.9446 - val_loss: 0.2828 - val_accuracy: 0.9529\n",
            "Epoch 7/12\n",
            "240/240 [==============================] - 1s 4ms/step - loss: 0.2922 - accuracy: 0.9490 - val_loss: 0.2681 - val_accuracy: 0.9556\n",
            "Epoch 8/12\n",
            "240/240 [==============================] - 1s 4ms/step - loss: 0.2755 - accuracy: 0.9528 - val_loss: 0.2594 - val_accuracy: 0.9575\n",
            "Epoch 9/12\n",
            "240/240 [==============================] - 1s 4ms/step - loss: 0.2643 - accuracy: 0.9544 - val_loss: 0.2445 - val_accuracy: 0.9595\n",
            "Epoch 10/12\n",
            "240/240 [==============================] - 1s 4ms/step - loss: 0.2522 - accuracy: 0.9580 - val_loss: 0.2391 - val_accuracy: 0.9610\n",
            "Epoch 11/12\n",
            "240/240 [==============================] - 1s 4ms/step - loss: 0.2417 - accuracy: 0.9605 - val_loss: 0.2348 - val_accuracy: 0.9615\n",
            "Epoch 12/12\n",
            "240/240 [==============================] - 1s 4ms/step - loss: 0.2353 - accuracy: 0.9610 - val_loss: 0.2271 - val_accuracy: 0.9630\n"
          ]
        },
        {
          "output_type": "execute_result",
          "data": {
            "text/plain": [
              "<keras.callbacks.History at 0x7efd50688d50>"
            ]
          },
          "metadata": {},
          "execution_count": 19
        }
      ],
      "source": [
        "NNmodel.fit(x_train,y_train,epochs=12,validation_split=0.2,batch_size=200)\n"
      ]
    },
    {
      "cell_type": "code",
      "execution_count": 20,
      "metadata": {
        "colab": {
          "base_uri": "https://localhost:8080/"
        },
        "id": "ucsh4BMTCahD",
        "outputId": "3a4835e6-2d80-40b6-b180-b6539c540a28"
      },
      "outputs": [
        {
          "output_type": "stream",
          "name": "stdout",
          "text": [
            "313/313 [==============================] - 1s 4ms/step - loss: 0.2179 - accuracy: 0.9663\n",
            "This model predicts 96.63000106811523% of the test data correctly\n"
          ]
        }
      ],
      "source": [
        "print('This model predicts '+str(NNmodel.evaluate(x_test,y_test)[1]*100) +'% of the test data correctly')"
      ]
    },
    {
      "cell_type": "code",
      "execution_count": 21,
      "metadata": {
        "colab": {
          "base_uri": "https://localhost:8080/"
        },
        "id": "aRrLgOxXCahG",
        "outputId": "3edafdb9-656c-43de-f0f6-49b2aba1b0ba"
      },
      "outputs": [
        {
          "output_type": "execute_result",
          "data": {
            "text/plain": [
              "(10000, 10)"
            ]
          },
          "metadata": {},
          "execution_count": 21
        }
      ],
      "source": [
        "pred_probs = NNmodel.predict(x_test)\n",
        "pred_probs.shape"
      ]
    },
    {
      "cell_type": "code",
      "execution_count": 22,
      "metadata": {
        "colab": {
          "base_uri": "https://localhost:8080/"
        },
        "id": "dcRSIEUcCahR",
        "outputId": "8e7eb3ae-e6c6-4769-f697-fac464ccba11"
      },
      "outputs": [
        {
          "output_type": "execute_result",
          "data": {
            "text/plain": [
              "1.0"
            ]
          },
          "metadata": {},
          "execution_count": 22
        }
      ],
      "source": [
        "np.sum(pred_probs[0,:])"
      ]
    },
    {
      "cell_type": "code",
      "execution_count": 23,
      "metadata": {
        "colab": {
          "base_uri": "https://localhost:8080/"
        },
        "id": "jSiGyR9QEpjR",
        "outputId": "6f6c94f9-576c-458e-d274-dec26a75ecc5"
      },
      "outputs": [
        {
          "output_type": "execute_result",
          "data": {
            "text/plain": [
              "0.9663"
            ]
          },
          "metadata": {},
          "execution_count": 23
        }
      ],
      "source": [
        "pred_class = np.argmax(pred_probs, axis=1)\n",
        "np.mean(pred_class==y_test)"
      ]
    },
    {
      "cell_type": "code",
      "execution_count": 71,
      "metadata": {
        "id": "rdfpHS5QCahV"
      },
      "outputs": [],
      "source": [
        "NNmodel2 = tf.keras.models.Sequential([\n",
        "        tf.keras.layers.Conv2D(filters=10,kernel_size=(5,5),activation=tf.nn.relu,input_shape=xshape),\n",
        "        tf.keras.layers.Conv2D(filters=10,kernel_size=(5,5),activation=tf.nn.relu,input_shape=xshape),\n",
        "        tf.keras.layers.MaxPooling2D(pool_size = (2,2),strides=2),\n",
        "        tf.keras.layers.Flatten(),\n",
        "        tf.keras.layers.Dense(128,activation=tf.nn.relu,kernel_regularizer = tf.keras.regularizers.l1(0.0002)),\n",
        "        tf.keras.layers.Dense(64,activation=tf.nn.softplus,kernel_regularizer = tf.keras.regularizers.l1(0.0005)),\n",
        "        tf.keras.layers.Dense(10,activation=tf.nn.softmax)\n",
        "        ])"
      ]
    },
    {
      "cell_type": "code",
      "execution_count": 103,
      "metadata": {
        "id": "nXQ5A1Yr5cZK"
      },
      "outputs": [],
      "source": [
        "NNmodel2 = tf.keras.models.Sequential()\n",
        "NNmodel2.add(tf.keras.layers.Conv2D(filters=20,kernel_size=(3,3),activation=tf.nn.relu,input_shape=xshape))\n",
        "# NNmodel2.add(tf.keras.layers.Conv2D(filters=20,kernel_size=(3,3),activation=tf.nn.relu,input_shape=xshape))\n",
        "NNmodel2.add(tf.keras.layers.MaxPooling2D(pool_size = (2,2),strides=2))\n",
        "\n",
        "NNmodel2.add(tf.keras.layers.Conv2D(filters=15,kernel_size=(3,3),activation=tf.nn.relu,input_shape=xshape))\n",
        "# NNmodel2.add(tf.keras.layers.Conv2D(filters=10,kernel_size=(3,3),activation=tf.nn.relu,input_shape=xshape))\n",
        "NNmodel2.add(tf.keras.layers.MaxPooling2D(pool_size = (2,2),strides=2))\n",
        "\n",
        "NNmodel2.add(tf.keras.layers.Flatten())\n",
        "NNmodel2.add(tf.keras.layers.Dense(256,activation=tf.nn.relu,kernel_regularizer = tf.keras.regularizers.l1(0.0002)))\n",
        "NNmodel2.add(tf.keras.layers.Dense(128,activation=tf.nn.relu,kernel_regularizer = tf.keras.regularizers.l1(0.0002)))\n",
        "# NNmodel2.add(tf.keras.layers.Dense(64,activation=tf.nn.softplus,kernel_regularizer = tf.keras.regularizers.l1(0.0005)))\n",
        "NNmodel2.add(tf.keras.layers.Dense(32,activation=tf.nn.softmax))\n",
        "NNmodel2.add(tf.keras.layers.Dense(10,activation=tf.nn.softmax))"
      ]
    },
    {
      "cell_type": "code",
      "execution_count": 104,
      "metadata": {
        "colab": {
          "base_uri": "https://localhost:8080/"
        },
        "id": "caahsRsCCahX",
        "outputId": "4aee7ff8-6f9a-4afc-ee9b-ebe153652705"
      },
      "outputs": [
        {
          "output_type": "stream",
          "name": "stdout",
          "text": [
            "Model: \"sequential_28\"\n",
            "_________________________________________________________________\n",
            " Layer (type)                Output Shape              Param #   \n",
            "=================================================================\n",
            " conv2d_71 (Conv2D)          (None, 26, 26, 20)        200       \n",
            "                                                                 \n",
            " max_pooling2d_48 (MaxPoolin  (None, 13, 13, 20)       0         \n",
            " g2D)                                                            \n",
            "                                                                 \n",
            " conv2d_72 (Conv2D)          (None, 11, 11, 15)        2715      \n",
            "                                                                 \n",
            " max_pooling2d_49 (MaxPoolin  (None, 5, 5, 15)         0         \n",
            " g2D)                                                            \n",
            "                                                                 \n",
            " flatten_28 (Flatten)        (None, 375)               0         \n",
            "                                                                 \n",
            " dense_102 (Dense)           (None, 256)               96256     \n",
            "                                                                 \n",
            " dense_103 (Dense)           (None, 128)               32896     \n",
            "                                                                 \n",
            " dense_104 (Dense)           (None, 32)                4128      \n",
            "                                                                 \n",
            " dense_105 (Dense)           (None, 10)                330       \n",
            "                                                                 \n",
            "=================================================================\n",
            "Total params: 136,525\n",
            "Trainable params: 136,525\n",
            "Non-trainable params: 0\n",
            "_________________________________________________________________\n"
          ]
        }
      ],
      "source": [
        "NNmodel2.compile(optimizer='adam',\n",
        "              loss='sparse_categorical_crossentropy',\n",
        "              metrics=['accuracy'])\n",
        "\n",
        "NNmodel2.summary()"
      ]
    },
    {
      "cell_type": "code",
      "execution_count": 105,
      "metadata": {
        "colab": {
          "base_uri": "https://localhost:8080/"
        },
        "id": "eVhxwOPGCahZ",
        "outputId": "cb8d7fc1-e59d-4e8e-e38b-9a67e64d45a0"
      },
      "outputs": [
        {
          "output_type": "stream",
          "name": "stdout",
          "text": [
            "Epoch 1/200\n",
            "84/84 [==============================] - 2s 20ms/step - loss: 2.8137 - accuracy: 0.3078 - val_loss: 2.2577 - val_accuracy: 0.4401\n",
            "Epoch 2/200\n",
            "84/84 [==============================] - 1s 15ms/step - loss: 2.1001 - accuracy: 0.5135 - val_loss: 1.9823 - val_accuracy: 0.5672\n",
            "Epoch 3/200\n",
            "84/84 [==============================] - 1s 15ms/step - loss: 1.9070 - accuracy: 0.5695 - val_loss: 1.8290 - val_accuracy: 0.5888\n",
            "Epoch 4/200\n",
            "84/84 [==============================] - 1s 17ms/step - loss: 1.7641 - accuracy: 0.5842 - val_loss: 1.6974 - val_accuracy: 0.5910\n",
            "Epoch 5/200\n",
            "84/84 [==============================] - 1s 15ms/step - loss: 1.6444 - accuracy: 0.5908 - val_loss: 1.5916 - val_accuracy: 0.5967\n",
            "Epoch 6/200\n",
            "84/84 [==============================] - 1s 17ms/step - loss: 1.5416 - accuracy: 0.5960 - val_loss: 1.4934 - val_accuracy: 0.5948\n",
            "Epoch 7/200\n",
            "84/84 [==============================] - 1s 15ms/step - loss: 1.4517 - accuracy: 0.5974 - val_loss: 1.4173 - val_accuracy: 0.5939\n",
            "Epoch 8/200\n",
            "84/84 [==============================] - 1s 15ms/step - loss: 1.3719 - accuracy: 0.5990 - val_loss: 1.3354 - val_accuracy: 0.6047\n",
            "Epoch 9/200\n",
            "84/84 [==============================] - 1s 17ms/step - loss: 1.3048 - accuracy: 0.6002 - val_loss: 1.2793 - val_accuracy: 0.6028\n",
            "Epoch 10/200\n",
            "84/84 [==============================] - 1s 15ms/step - loss: 1.2434 - accuracy: 0.6022 - val_loss: 1.2162 - val_accuracy: 0.6073\n",
            "Epoch 11/200\n",
            "84/84 [==============================] - 1s 15ms/step - loss: 1.1901 - accuracy: 0.6025 - val_loss: 1.1641 - val_accuracy: 0.6061\n",
            "Epoch 12/200\n",
            "84/84 [==============================] - 1s 17ms/step - loss: 1.1401 - accuracy: 0.6034 - val_loss: 1.1234 - val_accuracy: 0.6020\n",
            "Epoch 13/200\n",
            "84/84 [==============================] - 1s 15ms/step - loss: 1.0980 - accuracy: 0.6045 - val_loss: 1.0903 - val_accuracy: 0.6030\n",
            "Epoch 14/200\n",
            "84/84 [==============================] - 1s 17ms/step - loss: 1.0595 - accuracy: 0.6046 - val_loss: 1.0420 - val_accuracy: 0.6064\n",
            "Epoch 15/200\n",
            "84/84 [==============================] - 1s 15ms/step - loss: 1.0224 - accuracy: 0.6068 - val_loss: 1.0135 - val_accuracy: 0.6074\n",
            "Epoch 16/200\n",
            "84/84 [==============================] - 1s 17ms/step - loss: 0.9926 - accuracy: 0.6072 - val_loss: 0.9810 - val_accuracy: 0.6130\n",
            "Epoch 17/200\n",
            "84/84 [==============================] - 1s 17ms/step - loss: 0.9643 - accuracy: 0.6066 - val_loss: 0.9568 - val_accuracy: 0.6085\n",
            "Epoch 18/200\n",
            "84/84 [==============================] - 1s 17ms/step - loss: 0.9407 - accuracy: 0.6076 - val_loss: 0.9382 - val_accuracy: 0.6086\n",
            "Epoch 19/200\n",
            "84/84 [==============================] - 1s 15ms/step - loss: 0.9207 - accuracy: 0.6091 - val_loss: 0.9159 - val_accuracy: 0.6081\n",
            "Epoch 20/200\n",
            "84/84 [==============================] - 1s 15ms/step - loss: 0.8987 - accuracy: 0.6088 - val_loss: 0.9007 - val_accuracy: 0.6084\n",
            "Epoch 21/200\n",
            "84/84 [==============================] - 1s 17ms/step - loss: 0.8804 - accuracy: 0.6106 - val_loss: 0.8812 - val_accuracy: 0.6082\n",
            "Epoch 22/200\n",
            "84/84 [==============================] - 1s 16ms/step - loss: 0.8658 - accuracy: 0.6102 - val_loss: 0.8729 - val_accuracy: 0.6086\n",
            "Epoch 23/200\n",
            "84/84 [==============================] - 1s 15ms/step - loss: 0.8513 - accuracy: 0.6098 - val_loss: 0.8592 - val_accuracy: 0.6083\n",
            "Epoch 24/200\n",
            "84/84 [==============================] - 1s 15ms/step - loss: 0.8366 - accuracy: 0.6093 - val_loss: 0.8393 - val_accuracy: 0.6100\n",
            "Epoch 25/200\n",
            "84/84 [==============================] - 1s 15ms/step - loss: 0.8259 - accuracy: 0.6102 - val_loss: 0.8307 - val_accuracy: 0.6076\n",
            "Epoch 26/200\n",
            "84/84 [==============================] - 1s 15ms/step - loss: 0.8121 - accuracy: 0.6111 - val_loss: 0.8220 - val_accuracy: 0.6089\n",
            "Epoch 27/200\n",
            "84/84 [==============================] - 1s 17ms/step - loss: 0.8059 - accuracy: 0.6111 - val_loss: 0.8125 - val_accuracy: 0.6089\n",
            "Epoch 28/200\n",
            "84/84 [==============================] - 1s 15ms/step - loss: 0.7949 - accuracy: 0.6121 - val_loss: 0.8050 - val_accuracy: 0.6091\n",
            "Epoch 29/200\n",
            "84/84 [==============================] - 1s 17ms/step - loss: 0.7851 - accuracy: 0.6111 - val_loss: 0.7975 - val_accuracy: 0.6082\n",
            "Epoch 30/200\n",
            "84/84 [==============================] - 1s 15ms/step - loss: 0.7816 - accuracy: 0.6114 - val_loss: 0.7928 - val_accuracy: 0.6094\n",
            "Epoch 31/200\n",
            "84/84 [==============================] - 1s 17ms/step - loss: 0.7686 - accuracy: 0.6133 - val_loss: 0.7782 - val_accuracy: 0.6099\n",
            "Epoch 32/200\n",
            "84/84 [==============================] - 1s 15ms/step - loss: 0.7625 - accuracy: 0.6125 - val_loss: 0.7764 - val_accuracy: 0.6124\n",
            "Epoch 33/200\n",
            "84/84 [==============================] - 1s 16ms/step - loss: 0.7560 - accuracy: 0.6116 - val_loss: 0.7673 - val_accuracy: 0.6101\n",
            "Epoch 34/200\n",
            "84/84 [==============================] - 1s 17ms/step - loss: 0.7499 - accuracy: 0.6124 - val_loss: 0.7744 - val_accuracy: 0.6083\n",
            "Epoch 35/200\n",
            "84/84 [==============================] - 1s 16ms/step - loss: 0.7493 - accuracy: 0.6131 - val_loss: 0.7684 - val_accuracy: 0.6107\n",
            "Epoch 36/200\n",
            "84/84 [==============================] - 1s 15ms/step - loss: 0.7434 - accuracy: 0.6139 - val_loss: 0.7635 - val_accuracy: 0.6082\n",
            "Epoch 37/200\n",
            "84/84 [==============================] - 1s 15ms/step - loss: 0.7364 - accuracy: 0.6141 - val_loss: 0.7545 - val_accuracy: 0.6109\n",
            "Epoch 38/200\n",
            "84/84 [==============================] - 1s 17ms/step - loss: 0.7311 - accuracy: 0.6137 - val_loss: 0.7483 - val_accuracy: 0.6142\n",
            "Epoch 39/200\n",
            "84/84 [==============================] - 1s 16ms/step - loss: 0.7301 - accuracy: 0.6135 - val_loss: 0.7445 - val_accuracy: 0.6107\n",
            "Epoch 40/200\n",
            "84/84 [==============================] - 1s 17ms/step - loss: 0.7253 - accuracy: 0.6159 - val_loss: 0.7453 - val_accuracy: 0.6120\n",
            "Epoch 41/200\n",
            "84/84 [==============================] - 1s 15ms/step - loss: 0.7189 - accuracy: 0.6146 - val_loss: 0.7390 - val_accuracy: 0.6093\n",
            "Epoch 42/200\n",
            "84/84 [==============================] - 1s 15ms/step - loss: 0.7156 - accuracy: 0.6151 - val_loss: 0.7386 - val_accuracy: 0.6115\n",
            "Epoch 43/200\n",
            "84/84 [==============================] - 1s 17ms/step - loss: 0.7168 - accuracy: 0.6137 - val_loss: 0.7438 - val_accuracy: 0.6104\n",
            "Epoch 44/200\n",
            "84/84 [==============================] - 1s 15ms/step - loss: 0.7157 - accuracy: 0.6151 - val_loss: 0.7342 - val_accuracy: 0.6113\n",
            "Epoch 45/200\n",
            "84/84 [==============================] - 1s 15ms/step - loss: 0.7113 - accuracy: 0.6149 - val_loss: 0.7341 - val_accuracy: 0.6134\n",
            "Epoch 46/200\n",
            "84/84 [==============================] - 1s 15ms/step - loss: 0.7080 - accuracy: 0.6172 - val_loss: 0.7305 - val_accuracy: 0.6135\n",
            "Epoch 47/200\n",
            "84/84 [==============================] - 1s 17ms/step - loss: 0.7042 - accuracy: 0.6158 - val_loss: 0.7300 - val_accuracy: 0.6111\n",
            "Epoch 48/200\n",
            "84/84 [==============================] - 1s 16ms/step - loss: 0.7053 - accuracy: 0.6158 - val_loss: 0.7244 - val_accuracy: 0.6153\n",
            "Epoch 49/200\n",
            "84/84 [==============================] - 1s 17ms/step - loss: 0.6994 - accuracy: 0.6161 - val_loss: 0.7244 - val_accuracy: 0.6138\n",
            "Epoch 50/200\n",
            "84/84 [==============================] - 1s 15ms/step - loss: 0.6957 - accuracy: 0.6162 - val_loss: 0.7186 - val_accuracy: 0.6125\n",
            "Epoch 51/200\n",
            "84/84 [==============================] - 1s 17ms/step - loss: 0.6955 - accuracy: 0.6188 - val_loss: 0.7197 - val_accuracy: 0.6133\n",
            "Epoch 52/200\n",
            "84/84 [==============================] - 1s 15ms/step - loss: 0.6916 - accuracy: 0.6289 - val_loss: 0.7143 - val_accuracy: 0.6152\n",
            "Epoch 53/200\n",
            "84/84 [==============================] - 1s 17ms/step - loss: 0.6896 - accuracy: 0.6219 - val_loss: 0.7183 - val_accuracy: 0.6106\n",
            "Epoch 54/200\n",
            "84/84 [==============================] - 1s 15ms/step - loss: 0.6890 - accuracy: 0.6183 - val_loss: 0.7118 - val_accuracy: 0.6142\n",
            "Epoch 55/200\n",
            "84/84 [==============================] - 1s 15ms/step - loss: 0.6846 - accuracy: 0.6183 - val_loss: 0.7106 - val_accuracy: 0.6204\n",
            "Epoch 56/200\n",
            "84/84 [==============================] - 1s 17ms/step - loss: 0.6833 - accuracy: 0.6222 - val_loss: 0.7098 - val_accuracy: 0.6144\n",
            "Epoch 57/200\n",
            "84/84 [==============================] - 1s 15ms/step - loss: 0.6829 - accuracy: 0.6198 - val_loss: 0.7097 - val_accuracy: 0.6173\n",
            "Epoch 58/200\n",
            "84/84 [==============================] - 1s 17ms/step - loss: 0.6800 - accuracy: 0.6225 - val_loss: 0.7049 - val_accuracy: 0.6161\n",
            "Epoch 59/200\n",
            "84/84 [==============================] - 1s 17ms/step - loss: 0.6765 - accuracy: 0.6218 - val_loss: 0.7080 - val_accuracy: 0.6212\n",
            "Epoch 60/200\n",
            "84/84 [==============================] - 1s 15ms/step - loss: 0.6771 - accuracy: 0.6323 - val_loss: 0.7055 - val_accuracy: 0.6177\n",
            "Epoch 61/200\n",
            "84/84 [==============================] - 1s 15ms/step - loss: 0.6740 - accuracy: 0.6258 - val_loss: 0.7091 - val_accuracy: 0.6286\n",
            "Epoch 62/200\n",
            "84/84 [==============================] - 1s 16ms/step - loss: 0.6761 - accuracy: 0.6237 - val_loss: 0.7022 - val_accuracy: 0.6159\n",
            "Epoch 63/200\n",
            "84/84 [==============================] - 1s 15ms/step - loss: 0.6756 - accuracy: 0.6290 - val_loss: 0.7029 - val_accuracy: 0.6232\n",
            "Epoch 64/200\n",
            "84/84 [==============================] - 1s 16ms/step - loss: 0.6708 - accuracy: 0.6296 - val_loss: 0.6997 - val_accuracy: 0.6287\n",
            "Epoch 65/200\n",
            "84/84 [==============================] - 1s 17ms/step - loss: 0.6756 - accuracy: 0.6472 - val_loss: 0.7047 - val_accuracy: 0.6295\n",
            "Epoch 66/200\n",
            "84/84 [==============================] - 1s 15ms/step - loss: 0.6763 - accuracy: 0.6372 - val_loss: 0.6991 - val_accuracy: 0.6342\n",
            "Epoch 67/200\n",
            "84/84 [==============================] - 1s 17ms/step - loss: 0.6676 - accuracy: 0.6615 - val_loss: 0.6890 - val_accuracy: 0.6871\n",
            "Epoch 68/200\n",
            "84/84 [==============================] - 1s 16ms/step - loss: 0.6562 - accuracy: 0.7298 - val_loss: 0.6777 - val_accuracy: 0.7543\n",
            "Epoch 69/200\n",
            "84/84 [==============================] - 1s 15ms/step - loss: 0.6399 - accuracy: 0.7718 - val_loss: 0.6647 - val_accuracy: 0.7743\n",
            "Epoch 70/200\n",
            "84/84 [==============================] - 1s 16ms/step - loss: 0.6289 - accuracy: 0.7931 - val_loss: 0.6478 - val_accuracy: 0.7838\n",
            "Epoch 71/200\n",
            "84/84 [==============================] - 1s 17ms/step - loss: 0.6134 - accuracy: 0.8008 - val_loss: 0.6359 - val_accuracy: 0.7914\n",
            "Epoch 72/200\n",
            "84/84 [==============================] - 1s 15ms/step - loss: 0.5989 - accuracy: 0.8051 - val_loss: 0.6220 - val_accuracy: 0.7955\n",
            "Epoch 73/200\n",
            "84/84 [==============================] - 1s 16ms/step - loss: 0.5905 - accuracy: 0.8065 - val_loss: 0.6145 - val_accuracy: 0.7942\n",
            "Epoch 74/200\n",
            "84/84 [==============================] - 1s 16ms/step - loss: 0.5776 - accuracy: 0.8078 - val_loss: 0.6025 - val_accuracy: 0.7968\n",
            "Epoch 75/200\n",
            "84/84 [==============================] - 1s 17ms/step - loss: 0.5684 - accuracy: 0.8091 - val_loss: 0.5954 - val_accuracy: 0.7988\n",
            "Epoch 76/200\n",
            "84/84 [==============================] - 1s 17ms/step - loss: 0.5561 - accuracy: 0.8094 - val_loss: 0.5866 - val_accuracy: 0.7956\n",
            "Epoch 77/200\n",
            "84/84 [==============================] - 1s 17ms/step - loss: 0.5495 - accuracy: 0.8096 - val_loss: 0.5773 - val_accuracy: 0.7968\n",
            "Epoch 78/200\n",
            "84/84 [==============================] - 1s 16ms/step - loss: 0.5431 - accuracy: 0.8100 - val_loss: 0.5707 - val_accuracy: 0.7964\n",
            "Epoch 79/200\n",
            "84/84 [==============================] - 1s 17ms/step - loss: 0.5326 - accuracy: 0.8110 - val_loss: 0.5653 - val_accuracy: 0.7970\n",
            "Epoch 80/200\n",
            "84/84 [==============================] - 1s 17ms/step - loss: 0.5246 - accuracy: 0.8119 - val_loss: 0.5531 - val_accuracy: 0.8018\n",
            "Epoch 81/200\n",
            "84/84 [==============================] - 1s 17ms/step - loss: 0.5162 - accuracy: 0.8154 - val_loss: 0.5483 - val_accuracy: 0.8134\n",
            "Epoch 82/200\n",
            "84/84 [==============================] - 1s 17ms/step - loss: 0.5002 - accuracy: 0.8532 - val_loss: 0.5214 - val_accuracy: 0.8719\n",
            "Epoch 83/200\n",
            "84/84 [==============================] - 1s 16ms/step - loss: 0.4735 - accuracy: 0.8907 - val_loss: 0.4991 - val_accuracy: 0.8837\n",
            "Epoch 84/200\n",
            "84/84 [==============================] - 1s 15ms/step - loss: 0.4536 - accuracy: 0.8987 - val_loss: 0.4831 - val_accuracy: 0.8873\n",
            "Epoch 85/200\n",
            "84/84 [==============================] - 1s 16ms/step - loss: 0.4338 - accuracy: 0.8995 - val_loss: 0.4611 - val_accuracy: 0.8871\n",
            "Epoch 86/200\n",
            "84/84 [==============================] - 1s 17ms/step - loss: 0.4187 - accuracy: 0.9009 - val_loss: 0.4420 - val_accuracy: 0.8917\n",
            "Epoch 87/200\n",
            "84/84 [==============================] - 1s 17ms/step - loss: 0.3985 - accuracy: 0.9015 - val_loss: 0.4337 - val_accuracy: 0.8900\n",
            "Epoch 88/200\n",
            "84/84 [==============================] - 1s 16ms/step - loss: 0.3899 - accuracy: 0.9005 - val_loss: 0.4275 - val_accuracy: 0.8908\n",
            "Epoch 89/200\n",
            "84/84 [==============================] - 1s 17ms/step - loss: 0.3769 - accuracy: 0.9014 - val_loss: 0.4084 - val_accuracy: 0.8917\n",
            "Epoch 90/200\n",
            "84/84 [==============================] - 1s 16ms/step - loss: 0.3666 - accuracy: 0.9027 - val_loss: 0.3994 - val_accuracy: 0.8922\n",
            "Epoch 91/200\n",
            "84/84 [==============================] - 1s 17ms/step - loss: 0.3591 - accuracy: 0.9034 - val_loss: 0.3942 - val_accuracy: 0.8920\n",
            "Epoch 92/200\n",
            "84/84 [==============================] - 1s 17ms/step - loss: 0.3487 - accuracy: 0.9034 - val_loss: 0.3827 - val_accuracy: 0.8922\n",
            "Epoch 93/200\n",
            "84/84 [==============================] - 1s 16ms/step - loss: 0.3407 - accuracy: 0.9039 - val_loss: 0.3847 - val_accuracy: 0.8919\n",
            "Epoch 94/200\n",
            "84/84 [==============================] - 1s 17ms/step - loss: 0.3373 - accuracy: 0.9031 - val_loss: 0.3744 - val_accuracy: 0.8922\n",
            "Epoch 95/200\n",
            "84/84 [==============================] - 1s 17ms/step - loss: 0.3265 - accuracy: 0.9049 - val_loss: 0.3721 - val_accuracy: 0.8922\n",
            "Epoch 96/200\n",
            "84/84 [==============================] - 1s 17ms/step - loss: 0.3286 - accuracy: 0.9028 - val_loss: 0.3680 - val_accuracy: 0.8915\n",
            "Epoch 97/200\n",
            "84/84 [==============================] - 1s 17ms/step - loss: 0.3211 - accuracy: 0.9041 - val_loss: 0.3650 - val_accuracy: 0.8914\n",
            "Epoch 98/200\n",
            "84/84 [==============================] - 1s 17ms/step - loss: 0.3166 - accuracy: 0.9047 - val_loss: 0.3531 - val_accuracy: 0.8943\n",
            "Epoch 99/200\n",
            "84/84 [==============================] - 1s 16ms/step - loss: 0.3127 - accuracy: 0.9048 - val_loss: 0.3512 - val_accuracy: 0.8929\n",
            "Epoch 100/200\n",
            "84/84 [==============================] - 1s 17ms/step - loss: 0.3045 - accuracy: 0.9055 - val_loss: 0.3471 - val_accuracy: 0.8938\n",
            "Epoch 101/200\n",
            "84/84 [==============================] - 1s 17ms/step - loss: 0.2996 - accuracy: 0.9062 - val_loss: 0.3497 - val_accuracy: 0.8918\n",
            "Epoch 102/200\n",
            "84/84 [==============================] - 1s 17ms/step - loss: 0.2943 - accuracy: 0.9073 - val_loss: 0.3303 - val_accuracy: 0.9079\n",
            "Epoch 103/200\n",
            "84/84 [==============================] - 1s 16ms/step - loss: 0.2699 - accuracy: 0.9728 - val_loss: 0.3007 - val_accuracy: 0.9734\n",
            "Epoch 104/200\n",
            "84/84 [==============================] - 1s 16ms/step - loss: 0.2507 - accuracy: 0.9859 - val_loss: 0.2917 - val_accuracy: 0.9722\n",
            "Epoch 105/200\n",
            "84/84 [==============================] - 1s 15ms/step - loss: 0.2369 - accuracy: 0.9874 - val_loss: 0.2756 - val_accuracy: 0.9757\n",
            "Epoch 106/200\n",
            "84/84 [==============================] - 1s 17ms/step - loss: 0.2206 - accuracy: 0.9891 - val_loss: 0.2587 - val_accuracy: 0.9786\n",
            "Epoch 107/200\n",
            "84/84 [==============================] - 1s 17ms/step - loss: 0.2128 - accuracy: 0.9898 - val_loss: 0.2633 - val_accuracy: 0.9777\n",
            "Epoch 108/200\n",
            "84/84 [==============================] - 1s 16ms/step - loss: 0.2019 - accuracy: 0.9907 - val_loss: 0.2431 - val_accuracy: 0.9792\n",
            "Epoch 109/200\n",
            "84/84 [==============================] - 1s 17ms/step - loss: 0.1918 - accuracy: 0.9919 - val_loss: 0.2367 - val_accuracy: 0.9796\n",
            "Epoch 110/200\n",
            "84/84 [==============================] - 1s 17ms/step - loss: 0.1871 - accuracy: 0.9917 - val_loss: 0.2331 - val_accuracy: 0.9795\n",
            "Epoch 111/200\n",
            "84/84 [==============================] - 1s 16ms/step - loss: 0.1802 - accuracy: 0.9921 - val_loss: 0.2397 - val_accuracy: 0.9779\n",
            "Epoch 112/200\n",
            "84/84 [==============================] - 1s 15ms/step - loss: 0.1766 - accuracy: 0.9923 - val_loss: 0.2381 - val_accuracy: 0.9771\n",
            "Epoch 113/200\n",
            "84/84 [==============================] - 1s 17ms/step - loss: 0.1761 - accuracy: 0.9911 - val_loss: 0.2280 - val_accuracy: 0.9776\n",
            "Epoch 114/200\n",
            "84/84 [==============================] - 1s 17ms/step - loss: 0.1690 - accuracy: 0.9920 - val_loss: 0.2361 - val_accuracy: 0.9767\n",
            "Epoch 115/200\n",
            "84/84 [==============================] - 1s 17ms/step - loss: 0.1678 - accuracy: 0.9910 - val_loss: 0.2252 - val_accuracy: 0.9776\n",
            "Epoch 116/200\n",
            "84/84 [==============================] - 1s 16ms/step - loss: 0.1631 - accuracy: 0.9923 - val_loss: 0.2121 - val_accuracy: 0.9793\n",
            "Epoch 117/200\n",
            "84/84 [==============================] - 1s 17ms/step - loss: 0.1552 - accuracy: 0.9932 - val_loss: 0.2133 - val_accuracy: 0.9787\n",
            "Epoch 118/200\n",
            "84/84 [==============================] - 1s 16ms/step - loss: 0.1518 - accuracy: 0.9935 - val_loss: 0.2208 - val_accuracy: 0.9772\n",
            "Epoch 119/200\n",
            "84/84 [==============================] - 1s 16ms/step - loss: 0.1499 - accuracy: 0.9933 - val_loss: 0.2044 - val_accuracy: 0.9800\n",
            "Epoch 120/200\n",
            "84/84 [==============================] - 1s 17ms/step - loss: 0.1471 - accuracy: 0.9930 - val_loss: 0.2262 - val_accuracy: 0.9756\n",
            "Epoch 121/200\n",
            "84/84 [==============================] - 1s 17ms/step - loss: 0.1529 - accuracy: 0.9908 - val_loss: 0.2052 - val_accuracy: 0.9790\n",
            "Epoch 122/200\n",
            "84/84 [==============================] - 1s 17ms/step - loss: 0.1441 - accuracy: 0.9931 - val_loss: 0.1971 - val_accuracy: 0.9810\n",
            "Epoch 123/200\n",
            "84/84 [==============================] - 1s 16ms/step - loss: 0.1346 - accuracy: 0.9948 - val_loss: 0.1930 - val_accuracy: 0.9803\n",
            "Epoch 124/200\n",
            "84/84 [==============================] - 1s 17ms/step - loss: 0.1315 - accuracy: 0.9948 - val_loss: 0.1992 - val_accuracy: 0.9783\n",
            "Epoch 125/200\n",
            "84/84 [==============================] - 1s 16ms/step - loss: 0.1297 - accuracy: 0.9947 - val_loss: 0.1959 - val_accuracy: 0.9792\n",
            "Epoch 126/200\n",
            "84/84 [==============================] - 1s 16ms/step - loss: 0.1285 - accuracy: 0.9943 - val_loss: 0.1959 - val_accuracy: 0.9782\n",
            "Epoch 127/200\n",
            "84/84 [==============================] - 1s 16ms/step - loss: 0.1287 - accuracy: 0.9935 - val_loss: 0.1906 - val_accuracy: 0.9798\n",
            "Epoch 128/200\n",
            "84/84 [==============================] - 1s 17ms/step - loss: 0.1300 - accuracy: 0.9932 - val_loss: 0.1934 - val_accuracy: 0.9787\n",
            "Epoch 129/200\n",
            "84/84 [==============================] - 1s 17ms/step - loss: 0.1286 - accuracy: 0.9932 - val_loss: 0.1833 - val_accuracy: 0.9802\n",
            "Epoch 130/200\n",
            "84/84 [==============================] - 1s 16ms/step - loss: 0.1212 - accuracy: 0.9945 - val_loss: 0.1760 - val_accuracy: 0.9811\n",
            "Epoch 131/200\n",
            "84/84 [==============================] - 1s 17ms/step - loss: 0.1191 - accuracy: 0.9945 - val_loss: 0.1867 - val_accuracy: 0.9790\n",
            "Epoch 132/200\n",
            "84/84 [==============================] - 1s 16ms/step - loss: 0.1157 - accuracy: 0.9952 - val_loss: 0.1778 - val_accuracy: 0.9808\n",
            "Epoch 133/200\n",
            "84/84 [==============================] - 1s 16ms/step - loss: 0.1160 - accuracy: 0.9941 - val_loss: 0.1850 - val_accuracy: 0.9784\n",
            "Epoch 134/200\n",
            "84/84 [==============================] - 1s 16ms/step - loss: 0.1178 - accuracy: 0.9933 - val_loss: 0.1815 - val_accuracy: 0.9787\n",
            "Epoch 135/200\n",
            "84/84 [==============================] - 1s 17ms/step - loss: 0.1135 - accuracy: 0.9939 - val_loss: 0.1878 - val_accuracy: 0.9783\n",
            "Epoch 136/200\n",
            "84/84 [==============================] - 1s 16ms/step - loss: 0.1136 - accuracy: 0.9939 - val_loss: 0.1829 - val_accuracy: 0.9793\n",
            "Epoch 137/200\n",
            "84/84 [==============================] - 1s 16ms/step - loss: 0.1096 - accuracy: 0.9950 - val_loss: 0.1890 - val_accuracy: 0.9772\n",
            "Epoch 138/200\n",
            "84/84 [==============================] - 1s 17ms/step - loss: 0.1163 - accuracy: 0.9923 - val_loss: 0.1913 - val_accuracy: 0.9783\n",
            "Epoch 139/200\n",
            "84/84 [==============================] - 1s 16ms/step - loss: 0.1079 - accuracy: 0.9944 - val_loss: 0.1720 - val_accuracy: 0.9812\n",
            "Epoch 140/200\n",
            "84/84 [==============================] - 2s 19ms/step - loss: 0.1055 - accuracy: 0.9948 - val_loss: 0.1770 - val_accuracy: 0.9786\n",
            "Epoch 141/200\n",
            "84/84 [==============================] - 2s 19ms/step - loss: 0.1073 - accuracy: 0.9936 - val_loss: 0.1694 - val_accuracy: 0.9805\n",
            "Epoch 142/200\n",
            "84/84 [==============================] - 2s 19ms/step - loss: 0.1030 - accuracy: 0.9947 - val_loss: 0.1732 - val_accuracy: 0.9796\n",
            "Epoch 143/200\n",
            "84/84 [==============================] - 2s 24ms/step - loss: 0.1008 - accuracy: 0.9950 - val_loss: 0.1728 - val_accuracy: 0.9796\n",
            "Epoch 144/200\n",
            "84/84 [==============================] - 2s 19ms/step - loss: 0.0984 - accuracy: 0.9953 - val_loss: 0.1697 - val_accuracy: 0.9800\n",
            "Epoch 145/200\n",
            "84/84 [==============================] - 2s 19ms/step - loss: 0.0961 - accuracy: 0.9957 - val_loss: 0.1652 - val_accuracy: 0.9806\n",
            "Epoch 146/200\n",
            "84/84 [==============================] - 2s 19ms/step - loss: 0.0970 - accuracy: 0.9948 - val_loss: 0.1619 - val_accuracy: 0.9808\n",
            "Epoch 147/200\n",
            "84/84 [==============================] - 2s 19ms/step - loss: 0.0939 - accuracy: 0.9955 - val_loss: 0.1652 - val_accuracy: 0.9798\n",
            "Epoch 148/200\n",
            "84/84 [==============================] - 1s 16ms/step - loss: 0.0930 - accuracy: 0.9954 - val_loss: 0.1668 - val_accuracy: 0.9799\n",
            "Epoch 149/200\n",
            "84/84 [==============================] - 1s 17ms/step - loss: 0.0938 - accuracy: 0.9950 - val_loss: 0.1596 - val_accuracy: 0.9808\n",
            "Epoch 150/200\n",
            "84/84 [==============================] - 1s 16ms/step - loss: 0.0945 - accuracy: 0.9950 - val_loss: 0.1669 - val_accuracy: 0.9798\n",
            "Epoch 151/200\n",
            "84/84 [==============================] - 1s 16ms/step - loss: 0.0990 - accuracy: 0.9934 - val_loss: 0.1758 - val_accuracy: 0.9781\n",
            "Epoch 152/200\n",
            "84/84 [==============================] - 1s 16ms/step - loss: 0.0929 - accuracy: 0.9944 - val_loss: 0.1612 - val_accuracy: 0.9801\n",
            "Epoch 153/200\n",
            "84/84 [==============================] - 2s 19ms/step - loss: 0.0856 - accuracy: 0.9962 - val_loss: 0.1581 - val_accuracy: 0.9802\n",
            "Epoch 154/200\n",
            "84/84 [==============================] - 2s 20ms/step - loss: 0.0835 - accuracy: 0.9966 - val_loss: 0.1565 - val_accuracy: 0.9806\n",
            "Epoch 155/200\n",
            "84/84 [==============================] - 2s 19ms/step - loss: 0.0818 - accuracy: 0.9967 - val_loss: 0.1595 - val_accuracy: 0.9797\n",
            "Epoch 156/200\n",
            "84/84 [==============================] - 2s 26ms/step - loss: 0.0783 - accuracy: 0.9972 - val_loss: 0.1594 - val_accuracy: 0.9801\n",
            "Epoch 157/200\n",
            "84/84 [==============================] - 2s 20ms/step - loss: 0.0796 - accuracy: 0.9963 - val_loss: 0.1611 - val_accuracy: 0.9785\n",
            "Epoch 158/200\n",
            "84/84 [==============================] - 2s 20ms/step - loss: 0.0847 - accuracy: 0.9945 - val_loss: 0.1658 - val_accuracy: 0.9784\n",
            "Epoch 159/200\n",
            "84/84 [==============================] - 2s 19ms/step - loss: 0.0931 - accuracy: 0.9933 - val_loss: 0.1677 - val_accuracy: 0.9796\n",
            "Epoch 160/200\n",
            "84/84 [==============================] - 2s 19ms/step - loss: 0.0903 - accuracy: 0.9943 - val_loss: 0.1676 - val_accuracy: 0.9778\n",
            "Epoch 161/200\n",
            "84/84 [==============================] - 1s 17ms/step - loss: 0.0823 - accuracy: 0.9951 - val_loss: 0.1561 - val_accuracy: 0.9804\n",
            "Epoch 162/200\n",
            "84/84 [==============================] - 1s 17ms/step - loss: 0.0777 - accuracy: 0.9962 - val_loss: 0.1510 - val_accuracy: 0.9811\n",
            "Epoch 163/200\n",
            "84/84 [==============================] - 1s 16ms/step - loss: 0.0747 - accuracy: 0.9969 - val_loss: 0.1555 - val_accuracy: 0.9798\n",
            "Epoch 164/200\n",
            "84/84 [==============================] - 1s 16ms/step - loss: 0.0740 - accuracy: 0.9966 - val_loss: 0.1516 - val_accuracy: 0.9812\n",
            "Epoch 165/200\n",
            "84/84 [==============================] - 1s 17ms/step - loss: 0.0784 - accuracy: 0.9955 - val_loss: 0.1529 - val_accuracy: 0.9804\n",
            "Epoch 166/200\n",
            "84/84 [==============================] - 1s 16ms/step - loss: 0.0856 - accuracy: 0.9937 - val_loss: 0.1630 - val_accuracy: 0.9797\n",
            "Epoch 167/200\n",
            "84/84 [==============================] - 1s 17ms/step - loss: 0.0777 - accuracy: 0.9956 - val_loss: 0.1475 - val_accuracy: 0.9812\n",
            "Epoch 168/200\n",
            "84/84 [==============================] - 1s 17ms/step - loss: 0.0744 - accuracy: 0.9961 - val_loss: 0.1541 - val_accuracy: 0.9798\n",
            "Epoch 169/200\n",
            "84/84 [==============================] - 1s 17ms/step - loss: 0.0715 - accuracy: 0.9966 - val_loss: 0.1489 - val_accuracy: 0.9799\n",
            "Epoch 170/200\n",
            "84/84 [==============================] - 2s 19ms/step - loss: 0.0739 - accuracy: 0.9956 - val_loss: 0.1593 - val_accuracy: 0.9791\n",
            "Epoch 171/200\n",
            "84/84 [==============================] - 2s 20ms/step - loss: 0.0751 - accuracy: 0.9953 - val_loss: 0.1561 - val_accuracy: 0.9792\n",
            "Epoch 172/200\n",
            "84/84 [==============================] - 1s 17ms/step - loss: 0.0789 - accuracy: 0.9941 - val_loss: 0.1579 - val_accuracy: 0.9789\n",
            "Epoch 173/200\n",
            "84/84 [==============================] - 1s 17ms/step - loss: 0.0709 - accuracy: 0.9959 - val_loss: 0.1585 - val_accuracy: 0.9802\n",
            "Epoch 174/200\n",
            "84/84 [==============================] - 2s 19ms/step - loss: 0.0744 - accuracy: 0.9949 - val_loss: 0.1457 - val_accuracy: 0.9817\n",
            "Epoch 175/200\n",
            "84/84 [==============================] - 2s 19ms/step - loss: 0.0689 - accuracy: 0.9969 - val_loss: 0.1453 - val_accuracy: 0.9812\n",
            "Epoch 176/200\n",
            "84/84 [==============================] - 2s 22ms/step - loss: 0.0644 - accuracy: 0.9975 - val_loss: 0.1473 - val_accuracy: 0.9806\n",
            "Epoch 177/200\n",
            "84/84 [==============================] - 1s 17ms/step - loss: 0.0625 - accuracy: 0.9976 - val_loss: 0.1447 - val_accuracy: 0.9800\n",
            "Epoch 178/200\n",
            "84/84 [==============================] - 1s 16ms/step - loss: 0.0599 - accuracy: 0.9981 - val_loss: 0.1430 - val_accuracy: 0.9805\n",
            "Epoch 179/200\n",
            "84/84 [==============================] - 1s 16ms/step - loss: 0.0631 - accuracy: 0.9970 - val_loss: 0.1563 - val_accuracy: 0.9784\n",
            "Epoch 180/200\n",
            "84/84 [==============================] - 1s 16ms/step - loss: 0.0817 - accuracy: 0.9926 - val_loss: 0.1613 - val_accuracy: 0.9781\n",
            "Epoch 181/200\n",
            "84/84 [==============================] - 1s 16ms/step - loss: 0.0799 - accuracy: 0.9930 - val_loss: 0.1554 - val_accuracy: 0.9789\n",
            "Epoch 182/200\n",
            "84/84 [==============================] - 1s 17ms/step - loss: 0.0698 - accuracy: 0.9956 - val_loss: 0.1492 - val_accuracy: 0.9801\n",
            "Epoch 183/200\n",
            "84/84 [==============================] - 1s 16ms/step - loss: 0.0651 - accuracy: 0.9963 - val_loss: 0.1486 - val_accuracy: 0.9806\n",
            "Epoch 184/200\n",
            "84/84 [==============================] - 1s 17ms/step - loss: 0.0641 - accuracy: 0.9966 - val_loss: 0.1456 - val_accuracy: 0.9808\n",
            "Epoch 185/200\n",
            "84/84 [==============================] - 1s 17ms/step - loss: 0.0667 - accuracy: 0.9960 - val_loss: 0.1514 - val_accuracy: 0.9804\n",
            "Epoch 186/200\n",
            "84/84 [==============================] - 2s 21ms/step - loss: 0.0657 - accuracy: 0.9962 - val_loss: 0.1432 - val_accuracy: 0.9804\n",
            "Epoch 187/200\n",
            "84/84 [==============================] - 2s 20ms/step - loss: 0.0590 - accuracy: 0.9975 - val_loss: 0.1422 - val_accuracy: 0.9802\n",
            "Epoch 188/200\n",
            "84/84 [==============================] - 2s 18ms/step - loss: 0.0593 - accuracy: 0.9973 - val_loss: 0.1421 - val_accuracy: 0.9802\n",
            "Epoch 189/200\n",
            "84/84 [==============================] - 2s 18ms/step - loss: 0.0635 - accuracy: 0.9961 - val_loss: 0.1390 - val_accuracy: 0.9806\n",
            "Epoch 190/200\n",
            "84/84 [==============================] - 1s 17ms/step - loss: 0.0651 - accuracy: 0.9955 - val_loss: 0.1544 - val_accuracy: 0.9788\n",
            "Epoch 191/200\n",
            "84/84 [==============================] - 2s 20ms/step - loss: 0.0719 - accuracy: 0.9941 - val_loss: 0.1443 - val_accuracy: 0.9812\n",
            "Epoch 192/200\n",
            "84/84 [==============================] - 2s 21ms/step - loss: 0.0643 - accuracy: 0.9961 - val_loss: 0.1453 - val_accuracy: 0.9799\n",
            "Epoch 193/200\n",
            "84/84 [==============================] - 1s 16ms/step - loss: 0.0661 - accuracy: 0.9956 - val_loss: 0.1481 - val_accuracy: 0.9803\n",
            "Epoch 194/200\n",
            "84/84 [==============================] - 1s 17ms/step - loss: 0.0653 - accuracy: 0.9955 - val_loss: 0.1489 - val_accuracy: 0.9806\n",
            "Epoch 195/200\n",
            "84/84 [==============================] - 2s 19ms/step - loss: 0.0578 - accuracy: 0.9973 - val_loss: 0.1462 - val_accuracy: 0.9792\n",
            "Epoch 196/200\n",
            "84/84 [==============================] - 2s 18ms/step - loss: 0.0607 - accuracy: 0.9968 - val_loss: 0.1454 - val_accuracy: 0.9808\n",
            "Epoch 197/200\n",
            "84/84 [==============================] - 2s 21ms/step - loss: 0.0564 - accuracy: 0.9976 - val_loss: 0.1387 - val_accuracy: 0.9814\n",
            "Epoch 198/200\n",
            "84/84 [==============================] - 2s 18ms/step - loss: 0.0571 - accuracy: 0.9970 - val_loss: 0.1512 - val_accuracy: 0.9799\n",
            "Epoch 199/200\n",
            "84/84 [==============================] - 1s 17ms/step - loss: 0.0573 - accuracy: 0.9969 - val_loss: 0.1421 - val_accuracy: 0.9806\n",
            "Epoch 200/200\n",
            "84/84 [==============================] - 1s 17ms/step - loss: 0.0656 - accuracy: 0.9945 - val_loss: 0.1538 - val_accuracy: 0.9785\n"
          ]
        },
        {
          "output_type": "execute_result",
          "data": {
            "text/plain": [
              "<keras.callbacks.History at 0x7efc48f2f610>"
            ]
          },
          "metadata": {},
          "execution_count": 105
        }
      ],
      "source": [
        "NNmodel2.fit(x_train,y_train,epochs=200,validation_split=0.3,batch_size=500)"
      ]
    },
    {
      "cell_type": "code",
      "execution_count": 85,
      "metadata": {
        "colab": {
          "base_uri": "https://localhost:8080/"
        },
        "id": "jHJL_Z56Dfp_",
        "outputId": "841a1981-9784-43fa-bf7c-f7e707282210"
      },
      "outputs": [
        {
          "output_type": "execute_result",
          "data": {
            "text/plain": [
              "array([[1.2353737e-05, 6.3797324e-03, 9.4551966e-04, ..., 9.8001766e-01,\n",
              "        2.8922082e-07, 2.1374638e-03],\n",
              "       [1.8283417e-06, 7.8351703e-03, 9.7410542e-01, ..., 1.3604322e-03,\n",
              "        8.5508814e-03, 1.8718041e-03],\n",
              "       [1.8764270e-08, 9.6818191e-01, 7.6609063e-03, ..., 6.8990816e-03,\n",
              "        3.2696161e-09, 2.7730579e-08],\n",
              "       ...,\n",
              "       [4.9827253e-07, 3.3165746e-09, 8.5556753e-09, ..., 8.8907201e-03,\n",
              "        1.6147546e-09, 9.0791294e-03],\n",
              "       [7.6599717e-03, 2.8185652e-06, 4.5616673e-03, ..., 9.0433878e-06,\n",
              "        2.2139227e-02, 4.1837227e-03],\n",
              "       [4.8788747e-01, 1.6140378e-07, 5.5086781e-07, ..., 4.7509249e-07,\n",
              "        1.5283720e-07, 6.4600675e-07]], dtype=float32)"
            ]
          },
          "metadata": {},
          "execution_count": 85
        }
      ],
      "source": [
        "NNmodel2.predict(x_test)"
      ]
    },
    {
      "cell_type": "code",
      "execution_count": 86,
      "metadata": {
        "colab": {
          "base_uri": "https://localhost:8080/"
        },
        "id": "YkdlAs_4CahZ",
        "outputId": "ccff8361-aaa1-410a-c60a-264d30215d1f"
      },
      "outputs": [
        {
          "output_type": "stream",
          "name": "stdout",
          "text": [
            "0.8843\n"
          ]
        }
      ],
      "source": [
        "pred_probs2 = NNmodel2.predict(x_test)\n",
        "pred2 = np.argmax(pred_probs2, axis=1)\n",
        "print(np.mean(pred2==y_test))"
      ]
    },
    {
      "cell_type": "code",
      "execution_count": null,
      "metadata": {
        "id": "4xdrztooCaha"
      },
      "outputs": [],
      "source": [
        ""
      ]
    },
    {
      "cell_type": "markdown",
      "metadata": {
        "id": "Dae9kuI55cZN"
      },
      "source": [
        "## Functional API\n",
        "we will need this eventually when we do reinforcement learning"
      ]
    },
    {
      "cell_type": "code",
      "execution_count": null,
      "metadata": {
        "id": "ZTlJM07v5cZO"
      },
      "outputs": [],
      "source": [
        "from tensorflow.keras.models import Model\n",
        "from tensorflow.keras.layers import Dense, Flatten, Conv2D, Input"
      ]
    },
    {
      "cell_type": "code",
      "execution_count": null,
      "metadata": {
        "colab": {
          "base_uri": "https://localhost:8080/"
        },
        "id": "B6P1xUGg5cZO",
        "outputId": "059ca259-66a0-4444-803c-2916d4411ebc"
      },
      "outputs": [
        {
          "output_type": "stream",
          "name": "stdout",
          "text": [
            "Model: \"model\"\n",
            "_________________________________________________________________\n",
            " Layer (type)                Output Shape              Param #   \n",
            "=================================================================\n",
            " input_1 (InputLayer)        [(None, 28, 28, 1)]       0         \n",
            "                                                                 \n",
            " conv2d (Conv2D)             (None, 6, 6, 16)          1040      \n",
            "                                                                 \n",
            " conv2d_1 (Conv2D)           (None, 2, 2, 32)          8224      \n",
            "                                                                 \n",
            " flatten_1 (Flatten)         (None, 128)               0         \n",
            "                                                                 \n",
            " dense_3 (Dense)             (None, 256)               33024     \n",
            "                                                                 \n",
            " dense_4 (Dense)             (None, 10)                2570      \n",
            "                                                                 \n",
            "=================================================================\n",
            "Total params: 44,858\n",
            "Trainable params: 44,858\n",
            "Non-trainable params: 0\n",
            "_________________________________________________________________\n"
          ]
        }
      ],
      "source": [
        "imp = Input(shape=xshape)\n",
        "mid = Conv2D(16,(8,8),strides=4,activation='relu')(imp)\n",
        "mid = Conv2D(32,(4,4),strides=2,activation='relu')(mid)\n",
        "mid = Flatten()(mid)\n",
        "mid = Dense(256,activation='relu')(mid)\n",
        "out0 = Dense(10,activation='softmax')(mid)\n",
        "model = Model(imp,out0)\n",
        "model.compile(optimizer='adam',loss='sparse_categorical_crossentropy',metrics=['accuracy'])\n",
        "model.summary()"
      ]
    },
    {
      "cell_type": "code",
      "execution_count": null,
      "metadata": {
        "id": "MbbMyHut5cZP"
      },
      "outputs": [],
      "source": [
        ""
      ]
    }
  ],
  "metadata": {
    "colab": {
      "collapsed_sections": [],
      "name": "topic1-NN.ipynb",
      "provenance": [],
      "toc_visible": true,
      "include_colab_link": true
    },
    "kernelspec": {
      "display_name": "Python 3",
      "language": "python",
      "name": "python3"
    },
    "language_info": {
      "codemirror_mode": {
        "name": "ipython",
        "version": 3
      },
      "file_extension": ".py",
      "mimetype": "text/x-python",
      "name": "python",
      "nbconvert_exporter": "python",
      "pygments_lexer": "ipython3",
      "version": "3.8.12"
    },
    "accelerator": "GPU"
  },
  "nbformat": 4,
  "nbformat_minor": 0
}