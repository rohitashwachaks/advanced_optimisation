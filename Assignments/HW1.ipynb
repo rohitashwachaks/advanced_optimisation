{
  "cells": [
    {
      "cell_type": "markdown",
      "metadata": {
        "id": "view-in-github",
        "colab_type": "text"
      },
      "source": [
        "<a href=\"https://colab.research.google.com/github/rohitashwachaks/advanced_optimisation/blob/main/Assignments/HW1.ipynb\" target=\"_parent\"><img src=\"https://colab.research.google.com/assets/colab-badge.svg\" alt=\"Open In Colab\"/></a>"
      ]
    },
    {
      "cell_type": "markdown",
      "source": [
        "# Homework-1\n",
        "\n",
        "rc47878"
      ],
      "metadata": {
        "id": "H8uGHxWO_ear"
      }
    },
    {
      "cell_type": "code",
      "execution_count": 1,
      "metadata": {
        "id": "WJ0oSikkCagm"
      },
      "outputs": [],
      "source": [
        "import tensorflow as tf\n",
        "import numpy as np\n",
        "\n",
        "import matplotlib.pyplot as plt\n"
      ]
    },
    {
      "cell_type": "code",
      "source": [
        "def gray2bw(arr: np.array, threshold: int = 0.8):\n",
        "  return np.where(arr > threshold, 1, 0)"
      ],
      "metadata": {
        "id": "Ih-6Nxz5mDVU"
      },
      "execution_count": 2,
      "outputs": []
    },
    {
      "cell_type": "code",
      "execution_count": 3,
      "metadata": {
        "id": "cC90Zc1JCag0",
        "outputId": "1fcef064-f116-4d60-eacb-fffd6f14c8ae",
        "colab": {
          "base_uri": "https://localhost:8080/",
          "height": 513
        }
      },
      "outputs": [
        {
          "output_type": "display_data",
          "data": {
            "image/png": "[encoded data removed]",
            "text/plain": [
              "<Figure size 432x288 with 1 Axes>"
            ]
          },
          "metadata": {
            "needs_background": "light"
          }
        },
        {
          "output_type": "display_data",
          "data": {
            "image/png": "[encoded data removed]",
            "text/plain": [
              "<Figure size 432x288 with 1 Axes>"
            ]
          },
          "metadata": {
            "needs_background": "light"
          }
        }
      ],
      "source": [
        "mnist = tf.keras.datasets.mnist\n",
        "\n",
        "(x_train, y_train),(x_test, y_test) = mnist.load_data()\n",
        "x_train, x_test = x_train / 255.0, x_test / 255.0\n",
        "\n",
        "img = x_train[3]\n",
        "plt.imshow(img)\n",
        "plt.show()\n",
        "plt.imshow(gray2bw(img))\n",
        "\n",
        "ndata_train = x_train.shape[0]\n",
        "ndata_test = x_test.shape[0]\n"
      ]
    },
    {
      "cell_type": "code",
      "execution_count": 4,
      "metadata": {
        "id": "WLk18_VGCag4",
        "outputId": "82860952-071e-46d3-e431-042cd04d1a15",
        "colab": {
          "base_uri": "https://localhost:8080/"
        }
      },
      "outputs": [
        {
          "output_type": "stream",
          "name": "stdout",
          "text": [
            "(28, 28, 1)\n"
          ]
        }
      ],
      "source": [
        "x_train = x_train.reshape((ndata_train,28,28,1))\n",
        "x_test = x_test.reshape((ndata_test,28,28,1))\n",
        "xshape = x_train.shape[1:4]\n",
        "print(xshape)"
      ]
    },
    {
      "cell_type": "markdown",
      "source": [
        "## Model"
      ],
      "metadata": {
        "id": "fAgxQbg4MiAa"
      }
    },
    {
      "cell_type": "code",
      "source": [
        "x_train = gray2bw(x_train)\n",
        "x_test = gray2bw(x_test)"
      ],
      "metadata": {
        "id": "-kYFYOgpM58I"
      },
      "execution_count": 5,
      "outputs": []
    },
    {
      "cell_type": "code",
      "source": [
        "class MNIST_Model:\n",
        "  def __init__(self)-> tf.keras.models.Sequential:\n",
        "    self.model =  tf.keras.models.Sequential([\n",
        "          tf.keras.layers.Conv2D(filters=32,kernel_size=6,activation=tf.nn.relu,input_shape=xshape),\n",
        "          tf.keras.layers.Conv2D(filters=64,kernel_size=5,activation=tf.nn.relu,input_shape=xshape),\n",
        "          tf.keras.layers.MaxPooling2D(pool_size = (2,2),strides=2),\n",
        "          tf.keras.layers.Conv2D(filters=64,kernel_size=5,activation=tf.nn.relu,input_shape=xshape),\n",
        "          tf.keras.layers.Conv2D(filters=128,kernel_size=4,activation=tf.nn.relu,input_shape=xshape),\n",
        "          tf.keras.layers.MaxPooling2D(pool_size = (2,2),strides=2),\n",
        "          tf.keras.layers.Flatten(),\n",
        "          tf.keras.layers.Dropout(0.25),\n",
        "          tf.keras.layers.Dense(128,activation=tf.nn.relu,kernel_regularizer = tf.keras.regularizers.l1(0.0002)),\n",
        "          tf.keras.layers.Dense(10,activation=tf.nn.softmax)\n",
        "          ])\n",
        "    print(self.model.summary())\n",
        "    return\n",
        "\n",
        "  def compile(self)->None:\n",
        "    self.model.compile(optimizer='adam',\n",
        "              loss='sparse_categorical_crossentropy',\n",
        "              metrics=['accuracy'])\n",
        "    \n",
        "  def fit(self, x_train, y_train, epochs=50, validation_split=0.2, batch_size = 250):\n",
        "    if validation_split:\n",
        "      self.history = self.model.fit(x_train,y_train,epochs=epochs,validation_split=0.2,batch_size=batch_size)\n",
        "    else:\n",
        "      self.history = self.model.fit(x_train,y_train,epochs=epochs,batch_size=batch_size)\n",
        "    return\n",
        "\n",
        "  def preds(self, x_train):\n",
        "    return self.model.predict(x_test)\n",
        "\n",
        "  def plot(self):\n",
        "    plt.plot(self.history.history['loss'])\n",
        "    if 'val_loss' in self.history.history:\n",
        "      plt.plot(self.history.history['val_loss'])\n",
        "    plt.title('model loss')\n",
        "    plt.ylabel('loss')\n",
        "    plt.xlabel('epoch')\n",
        "    plt.legend(['train', 'val'], loc='upper left')\n",
        "    plt.show()"
      ],
      "metadata": {
        "id": "riFgf6IiRfHC"
      },
      "execution_count": 6,
      "outputs": []
    },
    {
      "cell_type": "code",
      "source": [
        "cnn_model = MNIST_Model()\n",
        "cnn_model.compile()"
      ],
      "metadata": {
        "colab": {
          "base_uri": "https://localhost:8080/"
        },
        "id": "qA3nIlzCLT8I",
        "outputId": "9e0f403c-e044-458c-fad5-3f6510fa1513"
      },
      "execution_count": 7,
      "outputs": [
        {
          "output_type": "stream",
          "name": "stdout",
          "text": [
            "Model: \"sequential\"\n",
            "_________________________________________________________________\n",
            " Layer (type)                Output Shape              Param #   \n",
            "=================================================================\n",
            " conv2d (Conv2D)             (None, 23, 23, 32)        1184      \n",
            "                                                                 \n",
            " conv2d_1 (Conv2D)           (None, 19, 19, 64)        51264     \n",
            "                                                                 \n",
            " max_pooling2d (MaxPooling2D  (None, 9, 9, 64)         0         \n",
            " )                                                               \n",
            "                                                                 \n",
            " conv2d_2 (Conv2D)           (None, 5, 5, 64)          102464    \n",
            "                                                                 \n",
            " conv2d_3 (Conv2D)           (None, 2, 2, 128)         131200    \n",
            "                                                                 \n",
            " max_pooling2d_1 (MaxPooling  (None, 1, 1, 128)        0         \n",
            " 2D)                                                             \n",
            "                                                                 \n",
            " flatten (Flatten)           (None, 128)               0         \n",
            "                                                                 \n",
            " dropout (Dropout)           (None, 128)               0         \n",
            "                                                                 \n",
            " dense (Dense)               (None, 128)               16512     \n",
            "                                                                 \n",
            " dense_1 (Dense)             (None, 10)                1290      \n",
            "                                                                 \n",
            "=================================================================\n",
            "Total params: 303,914\n",
            "Trainable params: 303,914\n",
            "Non-trainable params: 0\n",
            "_________________________________________________________________\n",
            "None\n"
          ]
        }
      ]
    },
    {
      "cell_type": "code",
      "source": [
        "cnn_model.fit(x_train,y_train,epochs=75)\n",
        "cnn_model.plot()\n"
      ],
      "metadata": {
        "colab": {
          "base_uri": "https://localhost:8080/",
          "height": 1000
        },
        "id": "YWbJi5_vMlO7",
        "outputId": "99bd01f5-070b-46d1-9c1d-02a510e82bec"
      },
      "execution_count": 8,
      "outputs": [
        {
          "output_type": "stream",
          "name": "stdout",
          "text": [
            "Epoch 1/75\n",
            "192/192 [==============================] - 10s 26ms/step - loss: 0.6112 - accuracy: 0.8651 - val_loss: 0.2788 - val_accuracy: 0.9617\n",
            "Epoch 2/75\n",
            "192/192 [==============================] - 4s 21ms/step - loss: 0.2508 - accuracy: 0.9674 - val_loss: 0.2028 - val_accuracy: 0.9765\n",
            "Epoch 3/75\n",
            "192/192 [==============================] - 4s 20ms/step - loss: 0.1879 - accuracy: 0.9786 - val_loss: 0.1617 - val_accuracy: 0.9835\n",
            "Epoch 4/75\n",
            "192/192 [==============================] - 3s 17ms/step - loss: 0.1558 - accuracy: 0.9815 - val_loss: 0.1445 - val_accuracy: 0.9836\n",
            "Epoch 5/75\n",
            "192/192 [==============================] - 3s 16ms/step - loss: 0.1276 - accuracy: 0.9852 - val_loss: 0.1227 - val_accuracy: 0.9862\n",
            "Epoch 6/75\n",
            "192/192 [==============================] - 3s 16ms/step - loss: 0.1074 - accuracy: 0.9875 - val_loss: 0.1115 - val_accuracy: 0.9858\n",
            "Epoch 7/75\n",
            "192/192 [==============================] - 3s 16ms/step - loss: 0.0905 - accuracy: 0.9888 - val_loss: 0.0988 - val_accuracy: 0.9868\n",
            "Epoch 8/75\n",
            "192/192 [==============================] - 3s 16ms/step - loss: 0.0773 - accuracy: 0.9903 - val_loss: 0.0899 - val_accuracy: 0.9870\n",
            "Epoch 9/75\n",
            "192/192 [==============================] - 3s 16ms/step - loss: 0.0677 - accuracy: 0.9909 - val_loss: 0.0787 - val_accuracy: 0.9871\n",
            "Epoch 10/75\n",
            "192/192 [==============================] - 3s 16ms/step - loss: 0.0584 - accuracy: 0.9921 - val_loss: 0.0738 - val_accuracy: 0.9872\n",
            "Epoch 11/75\n",
            "192/192 [==============================] - 3s 16ms/step - loss: 0.0535 - accuracy: 0.9923 - val_loss: 0.0725 - val_accuracy: 0.9881\n",
            "Epoch 12/75\n",
            "192/192 [==============================] - 3s 16ms/step - loss: 0.0462 - accuracy: 0.9937 - val_loss: 0.0746 - val_accuracy: 0.9866\n",
            "Epoch 13/75\n",
            "192/192 [==============================] - 3s 16ms/step - loss: 0.0431 - accuracy: 0.9936 - val_loss: 0.0734 - val_accuracy: 0.9874\n",
            "Epoch 14/75\n",
            "192/192 [==============================] - 3s 16ms/step - loss: 0.0377 - accuracy: 0.9946 - val_loss: 0.0730 - val_accuracy: 0.9868\n",
            "Epoch 15/75\n",
            "192/192 [==============================] - 3s 16ms/step - loss: 0.0379 - accuracy: 0.9944 - val_loss: 0.0640 - val_accuracy: 0.9886\n",
            "Epoch 16/75\n",
            "192/192 [==============================] - 3s 16ms/step - loss: 0.0317 - accuracy: 0.9958 - val_loss: 0.0622 - val_accuracy: 0.9887\n",
            "Epoch 17/75\n",
            "192/192 [==============================] - 3s 16ms/step - loss: 0.0332 - accuracy: 0.9949 - val_loss: 0.0725 - val_accuracy: 0.9876\n",
            "Epoch 18/75\n",
            "192/192 [==============================] - 3s 16ms/step - loss: 0.0310 - accuracy: 0.9956 - val_loss: 0.0682 - val_accuracy: 0.9889\n",
            "Epoch 19/75\n",
            "192/192 [==============================] - 3s 16ms/step - loss: 0.0292 - accuracy: 0.9959 - val_loss: 0.0636 - val_accuracy: 0.9892\n",
            "Epoch 20/75\n",
            "192/192 [==============================] - 3s 16ms/step - loss: 0.0249 - accuracy: 0.9965 - val_loss: 0.0677 - val_accuracy: 0.9877\n",
            "Epoch 21/75\n",
            "192/192 [==============================] - 3s 16ms/step - loss: 0.0247 - accuracy: 0.9966 - val_loss: 0.0640 - val_accuracy: 0.9893\n",
            "Epoch 22/75\n",
            "192/192 [==============================] - 3s 16ms/step - loss: 0.0264 - accuracy: 0.9963 - val_loss: 0.0615 - val_accuracy: 0.9893\n",
            "Epoch 23/75\n",
            "192/192 [==============================] - 3s 16ms/step - loss: 0.0242 - accuracy: 0.9967 - val_loss: 0.0662 - val_accuracy: 0.9867\n",
            "Epoch 24/75\n",
            "192/192 [==============================] - 3s 16ms/step - loss: 0.0202 - accuracy: 0.9974 - val_loss: 0.0714 - val_accuracy: 0.9883\n",
            "Epoch 25/75\n",
            "192/192 [==============================] - 3s 16ms/step - loss: 0.0245 - accuracy: 0.9966 - val_loss: 0.0810 - val_accuracy: 0.9860\n",
            "Epoch 26/75\n",
            "192/192 [==============================] - 3s 16ms/step - loss: 0.0232 - accuracy: 0.9969 - val_loss: 0.0630 - val_accuracy: 0.9887\n",
            "Epoch 27/75\n",
            "192/192 [==============================] - 3s 16ms/step - loss: 0.0215 - accuracy: 0.9975 - val_loss: 0.0698 - val_accuracy: 0.9895\n",
            "Epoch 28/75\n",
            "192/192 [==============================] - 4s 22ms/step - loss: 0.0209 - accuracy: 0.9973 - val_loss: 0.0738 - val_accuracy: 0.9871\n",
            "Epoch 29/75\n",
            "192/192 [==============================] - 3s 17ms/step - loss: 0.0206 - accuracy: 0.9973 - val_loss: 0.0754 - val_accuracy: 0.9870\n",
            "Epoch 30/75\n",
            "192/192 [==============================] - 3s 16ms/step - loss: 0.0207 - accuracy: 0.9973 - val_loss: 0.0701 - val_accuracy: 0.9892\n",
            "Epoch 31/75\n",
            "192/192 [==============================] - 3s 16ms/step - loss: 0.0171 - accuracy: 0.9982 - val_loss: 0.0751 - val_accuracy: 0.9877\n",
            "Epoch 32/75\n",
            "192/192 [==============================] - 3s 16ms/step - loss: 0.0189 - accuracy: 0.9974 - val_loss: 0.0611 - val_accuracy: 0.9893\n",
            "Epoch 33/75\n",
            "192/192 [==============================] - 3s 16ms/step - loss: 0.0182 - accuracy: 0.9979 - val_loss: 0.0882 - val_accuracy: 0.9841\n",
            "Epoch 34/75\n",
            "192/192 [==============================] - 3s 16ms/step - loss: 0.0175 - accuracy: 0.9980 - val_loss: 0.0683 - val_accuracy: 0.9888\n",
            "Epoch 35/75\n",
            "192/192 [==============================] - 3s 16ms/step - loss: 0.0174 - accuracy: 0.9983 - val_loss: 0.0628 - val_accuracy: 0.9904\n",
            "Epoch 36/75\n",
            "192/192 [==============================] - 3s 16ms/step - loss: 0.0177 - accuracy: 0.9977 - val_loss: 0.0671 - val_accuracy: 0.9885\n",
            "Epoch 37/75\n",
            "192/192 [==============================] - 3s 16ms/step - loss: 0.0164 - accuracy: 0.9982 - val_loss: 0.0788 - val_accuracy: 0.9876\n",
            "Epoch 38/75\n",
            "192/192 [==============================] - 3s 16ms/step - loss: 0.0157 - accuracy: 0.9984 - val_loss: 0.0829 - val_accuracy: 0.9875\n",
            "Epoch 39/75\n",
            "192/192 [==============================] - 3s 16ms/step - loss: 0.0138 - accuracy: 0.9986 - val_loss: 0.0783 - val_accuracy: 0.9879\n",
            "Epoch 40/75\n",
            "192/192 [==============================] - 3s 16ms/step - loss: 0.0155 - accuracy: 0.9982 - val_loss: 0.0764 - val_accuracy: 0.9883\n",
            "Epoch 41/75\n",
            "192/192 [==============================] - 3s 16ms/step - loss: 0.0164 - accuracy: 0.9980 - val_loss: 0.0637 - val_accuracy: 0.9891\n",
            "Epoch 42/75\n",
            "192/192 [==============================] - 3s 16ms/step - loss: 0.0156 - accuracy: 0.9982 - val_loss: 0.0720 - val_accuracy: 0.9887\n",
            "Epoch 43/75\n",
            "192/192 [==============================] - 3s 16ms/step - loss: 0.0129 - accuracy: 0.9989 - val_loss: 0.0720 - val_accuracy: 0.9891\n",
            "Epoch 44/75\n",
            "192/192 [==============================] - 3s 16ms/step - loss: 0.0106 - accuracy: 0.9991 - val_loss: 0.0771 - val_accuracy: 0.9881\n",
            "Epoch 45/75\n",
            "192/192 [==============================] - 3s 16ms/step - loss: 0.0118 - accuracy: 0.9989 - val_loss: 0.0748 - val_accuracy: 0.9890\n",
            "Epoch 46/75\n",
            "192/192 [==============================] - 3s 16ms/step - loss: 0.0136 - accuracy: 0.9988 - val_loss: 0.0763 - val_accuracy: 0.9882\n",
            "Epoch 47/75\n",
            "192/192 [==============================] - 3s 17ms/step - loss: 0.0139 - accuracy: 0.9984 - val_loss: 0.0729 - val_accuracy: 0.9898\n",
            "Epoch 48/75\n",
            "192/192 [==============================] - 3s 16ms/step - loss: 0.0144 - accuracy: 0.9985 - val_loss: 0.0656 - val_accuracy: 0.9893\n",
            "Epoch 49/75\n",
            "192/192 [==============================] - 3s 16ms/step - loss: 0.0118 - accuracy: 0.9990 - val_loss: 0.0702 - val_accuracy: 0.9904\n",
            "Epoch 50/75\n",
            "192/192 [==============================] - 3s 17ms/step - loss: 0.0089 - accuracy: 0.9994 - val_loss: 0.0727 - val_accuracy: 0.9898\n",
            "Epoch 51/75\n",
            "192/192 [==============================] - 3s 16ms/step - loss: 0.0210 - accuracy: 0.9972 - val_loss: 0.0950 - val_accuracy: 0.9856\n",
            "Epoch 52/75\n",
            "192/192 [==============================] - 3s 16ms/step - loss: 0.0186 - accuracy: 0.9977 - val_loss: 0.0707 - val_accuracy: 0.9894\n",
            "Epoch 53/75\n",
            "192/192 [==============================] - 3s 16ms/step - loss: 0.0101 - accuracy: 0.9993 - val_loss: 0.0702 - val_accuracy: 0.9895\n",
            "Epoch 54/75\n",
            "192/192 [==============================] - 3s 16ms/step - loss: 0.0136 - accuracy: 0.9986 - val_loss: 0.0758 - val_accuracy: 0.9894\n",
            "Epoch 55/75\n",
            "192/192 [==============================] - 3s 16ms/step - loss: 0.0129 - accuracy: 0.9986 - val_loss: 0.0683 - val_accuracy: 0.9895\n",
            "Epoch 56/75\n",
            "192/192 [==============================] - 3s 16ms/step - loss: 0.0094 - accuracy: 0.9994 - val_loss: 0.0726 - val_accuracy: 0.9892\n",
            "Epoch 57/75\n",
            "192/192 [==============================] - 3s 16ms/step - loss: 0.0093 - accuracy: 0.9993 - val_loss: 0.0697 - val_accuracy: 0.9890\n",
            "Epoch 58/75\n",
            "192/192 [==============================] - 3s 16ms/step - loss: 0.0118 - accuracy: 0.9988 - val_loss: 0.0683 - val_accuracy: 0.9889\n",
            "Epoch 59/75\n",
            "192/192 [==============================] - 3s 16ms/step - loss: 0.0138 - accuracy: 0.9986 - val_loss: 0.0910 - val_accuracy: 0.9868\n",
            "Epoch 60/75\n",
            "192/192 [==============================] - 3s 16ms/step - loss: 0.0120 - accuracy: 0.9989 - val_loss: 0.0761 - val_accuracy: 0.9897\n",
            "Epoch 61/75\n",
            "192/192 [==============================] - 3s 16ms/step - loss: 0.0117 - accuracy: 0.9989 - val_loss: 0.0798 - val_accuracy: 0.9883\n",
            "Epoch 62/75\n",
            "192/192 [==============================] - 3s 16ms/step - loss: 0.0110 - accuracy: 0.9990 - val_loss: 0.0706 - val_accuracy: 0.9902\n",
            "Epoch 63/75\n",
            "192/192 [==============================] - 3s 16ms/step - loss: 0.0106 - accuracy: 0.9992 - val_loss: 0.0743 - val_accuracy: 0.9895\n",
            "Epoch 64/75\n",
            "192/192 [==============================] - 3s 16ms/step - loss: 0.0069 - accuracy: 0.9996 - val_loss: 0.0692 - val_accuracy: 0.9899\n",
            "Epoch 65/75\n",
            "192/192 [==============================] - 3s 17ms/step - loss: 0.0059 - accuracy: 0.9998 - val_loss: 0.0683 - val_accuracy: 0.9907\n",
            "Epoch 66/75\n",
            "192/192 [==============================] - 3s 17ms/step - loss: 0.0078 - accuracy: 0.9993 - val_loss: 0.0789 - val_accuracy: 0.9887\n",
            "Epoch 67/75\n",
            "192/192 [==============================] - 3s 16ms/step - loss: 0.0172 - accuracy: 0.9981 - val_loss: 0.0824 - val_accuracy: 0.9889\n",
            "Epoch 68/75\n",
            "192/192 [==============================] - 3s 17ms/step - loss: 0.0167 - accuracy: 0.9980 - val_loss: 0.0877 - val_accuracy: 0.9884\n",
            "Epoch 69/75\n",
            "192/192 [==============================] - 3s 17ms/step - loss: 0.0145 - accuracy: 0.9985 - val_loss: 0.0659 - val_accuracy: 0.9893\n",
            "Epoch 70/75\n",
            "192/192 [==============================] - 3s 17ms/step - loss: 0.0105 - accuracy: 0.9993 - val_loss: 0.0719 - val_accuracy: 0.9888\n",
            "Epoch 71/75\n",
            "192/192 [==============================] - 3s 16ms/step - loss: 0.0082 - accuracy: 0.9995 - val_loss: 0.0740 - val_accuracy: 0.9907\n",
            "Epoch 72/75\n",
            "192/192 [==============================] - 3s 16ms/step - loss: 0.0065 - accuracy: 0.9997 - val_loss: 0.0726 - val_accuracy: 0.9893\n",
            "Epoch 73/75\n",
            "192/192 [==============================] - 3s 16ms/step - loss: 0.0129 - accuracy: 0.9984 - val_loss: 0.0825 - val_accuracy: 0.9888\n",
            "Epoch 74/75\n",
            "192/192 [==============================] - 3s 16ms/step - loss: 0.0104 - accuracy: 0.9992 - val_loss: 0.0646 - val_accuracy: 0.9904\n",
            "Epoch 75/75\n",
            "192/192 [==============================] - 3s 16ms/step - loss: 0.0081 - accuracy: 0.9993 - val_loss: 0.0653 - val_accuracy: 0.9908\n"
          ]
        },
        {
          "output_type": "display_data",
          "data": {
            "image/png": "[encoded data removed]",
            "text/plain": [
              "<Figure size 432x288 with 1 Axes>"
            ]
          },
          "metadata": {
            "needs_background": "light"
          }
        }
      ]
    },
    {
      "cell_type": "code",
      "source": [
        "# Test set accuracy\n",
        "pred_probs2 = cnn_model.model.predict(x_test)\n",
        "pred2 = np.argmax(pred_probs2, axis=1)\n",
        "print(np.mean(pred2==y_test))"
      ],
      "metadata": {
        "id": "DzQd8RIvoRSj",
        "outputId": "810b4982-fbba-4b12-bda9-a9f8264b9408",
        "colab": {
          "base_uri": "https://localhost:8080/"
        }
      },
      "execution_count": 9,
      "outputs": [
        {
          "output_type": "stream",
          "name": "stdout",
          "text": [
            "0.991\n"
          ]
        }
      ]
    },
    {
      "cell_type": "markdown",
      "source": [
        "## Retraining on the whole Data"
      ],
      "metadata": {
        "id": "RJ64NsiPRSGN"
      }
    },
    {
      "cell_type": "code",
      "execution_count": 10,
      "metadata": {
        "id": "MbbMyHut5cZP",
        "colab": {
          "base_uri": "https://localhost:8080/",
          "height": 1000
        },
        "outputId": "81a9698c-98d1-4e63-f854-4da7ba7f27b5"
      },
      "outputs": [
        {
          "output_type": "stream",
          "name": "stdout",
          "text": [
            "Model: \"sequential_1\"\n",
            "_________________________________________________________________\n",
            " Layer (type)                Output Shape              Param #   \n",
            "=================================================================\n",
            " conv2d_4 (Conv2D)           (None, 23, 23, 32)        1184      \n",
            "                                                                 \n",
            " conv2d_5 (Conv2D)           (None, 19, 19, 64)        51264     \n",
            "                                                                 \n",
            " max_pooling2d_2 (MaxPooling  (None, 9, 9, 64)         0         \n",
            " 2D)                                                             \n",
            "                                                                 \n",
            " conv2d_6 (Conv2D)           (None, 5, 5, 64)          102464    \n",
            "                                                                 \n",
            " conv2d_7 (Conv2D)           (None, 2, 2, 128)         131200    \n",
            "                                                                 \n",
            " max_pooling2d_3 (MaxPooling  (None, 1, 1, 128)        0         \n",
            " 2D)                                                             \n",
            "                                                                 \n",
            " flatten_1 (Flatten)         (None, 128)               0         \n",
            "                                                                 \n",
            " dropout_1 (Dropout)         (None, 128)               0         \n",
            "                                                                 \n",
            " dense_2 (Dense)             (None, 128)               16512     \n",
            "                                                                 \n",
            " dense_3 (Dense)             (None, 10)                1290      \n",
            "                                                                 \n",
            "=================================================================\n",
            "Total params: 303,914\n",
            "Trainable params: 303,914\n",
            "Non-trainable params: 0\n",
            "_________________________________________________________________\n",
            "None\n",
            "Epoch 1/50\n",
            "240/240 [==============================] - 4s 15ms/step - loss: 0.5548 - accuracy: 0.8837\n",
            "Epoch 2/50\n",
            "240/240 [==============================] - 4s 15ms/step - loss: 0.2396 - accuracy: 0.9723\n",
            "Epoch 3/50\n",
            "240/240 [==============================] - 3s 15ms/step - loss: 0.1829 - accuracy: 0.9803\n",
            "Epoch 4/50\n",
            "240/240 [==============================] - 4s 15ms/step - loss: 0.1422 - accuracy: 0.9841\n",
            "Epoch 5/50\n",
            "240/240 [==============================] - 4s 15ms/step - loss: 0.1139 - accuracy: 0.9870\n",
            "Epoch 6/50\n",
            "240/240 [==============================] - 4s 15ms/step - loss: 0.0920 - accuracy: 0.9886\n",
            "Epoch 7/50\n",
            "240/240 [==============================] - 4s 15ms/step - loss: 0.0789 - accuracy: 0.9891\n",
            "Epoch 8/50\n",
            "240/240 [==============================] - 4s 15ms/step - loss: 0.0643 - accuracy: 0.9913\n",
            "Epoch 9/50\n",
            "240/240 [==============================] - 4s 15ms/step - loss: 0.0570 - accuracy: 0.9911\n",
            "Epoch 10/50\n",
            "240/240 [==============================] - 4s 15ms/step - loss: 0.0498 - accuracy: 0.9928\n",
            "Epoch 11/50\n",
            "240/240 [==============================] - 4s 15ms/step - loss: 0.0454 - accuracy: 0.9929\n",
            "Epoch 12/50\n",
            "240/240 [==============================] - 4s 15ms/step - loss: 0.0424 - accuracy: 0.9933\n",
            "Epoch 13/50\n",
            "240/240 [==============================] - 4s 15ms/step - loss: 0.0380 - accuracy: 0.9947\n",
            "Epoch 14/50\n",
            "240/240 [==============================] - 4s 15ms/step - loss: 0.0327 - accuracy: 0.9955\n",
            "Epoch 15/50\n",
            "240/240 [==============================] - 4s 15ms/step - loss: 0.0337 - accuracy: 0.9947\n",
            "Epoch 16/50\n",
            "240/240 [==============================] - 4s 15ms/step - loss: 0.0318 - accuracy: 0.9951\n",
            "Epoch 17/50\n",
            "240/240 [==============================] - 4s 15ms/step - loss: 0.0309 - accuracy: 0.9955\n",
            "Epoch 18/50\n",
            "240/240 [==============================] - 4s 15ms/step - loss: 0.0253 - accuracy: 0.9967\n",
            "Epoch 19/50\n",
            "240/240 [==============================] - 4s 15ms/step - loss: 0.0266 - accuracy: 0.9960\n",
            "Epoch 20/50\n",
            "240/240 [==============================] - 4s 15ms/step - loss: 0.0234 - accuracy: 0.9972\n",
            "Epoch 21/50\n",
            "240/240 [==============================] - 4s 15ms/step - loss: 0.0253 - accuracy: 0.9966\n",
            "Epoch 22/50\n",
            "240/240 [==============================] - 4s 15ms/step - loss: 0.0215 - accuracy: 0.9973\n",
            "Epoch 23/50\n",
            "240/240 [==============================] - 4s 15ms/step - loss: 0.0232 - accuracy: 0.9966\n",
            "Epoch 24/50\n",
            "240/240 [==============================] - 4s 15ms/step - loss: 0.0219 - accuracy: 0.9973\n",
            "Epoch 25/50\n",
            "240/240 [==============================] - 4s 15ms/step - loss: 0.0214 - accuracy: 0.9973\n",
            "Epoch 26/50\n",
            "240/240 [==============================] - 4s 15ms/step - loss: 0.0219 - accuracy: 0.9969\n",
            "Epoch 27/50\n",
            "240/240 [==============================] - 4s 15ms/step - loss: 0.0197 - accuracy: 0.9977\n",
            "Epoch 28/50\n",
            "240/240 [==============================] - 4s 15ms/step - loss: 0.0174 - accuracy: 0.9980\n",
            "Epoch 29/50\n",
            "240/240 [==============================] - 4s 15ms/step - loss: 0.0155 - accuracy: 0.9983\n",
            "Epoch 30/50\n",
            "240/240 [==============================] - 4s 15ms/step - loss: 0.0178 - accuracy: 0.9977\n",
            "Epoch 31/50\n",
            "240/240 [==============================] - 4s 15ms/step - loss: 0.0197 - accuracy: 0.9976\n",
            "Epoch 32/50\n",
            "240/240 [==============================] - 4s 15ms/step - loss: 0.0171 - accuracy: 0.9980\n",
            "Epoch 33/50\n",
            "240/240 [==============================] - 4s 15ms/step - loss: 0.0156 - accuracy: 0.9983\n",
            "Epoch 34/50\n",
            "240/240 [==============================] - 4s 15ms/step - loss: 0.0131 - accuracy: 0.9987\n",
            "Epoch 35/50\n",
            "240/240 [==============================] - 4s 15ms/step - loss: 0.0148 - accuracy: 0.9984\n",
            "Epoch 36/50\n",
            "240/240 [==============================] - 4s 15ms/step - loss: 0.0166 - accuracy: 0.9984\n",
            "Epoch 37/50\n",
            "240/240 [==============================] - 4s 15ms/step - loss: 0.0142 - accuracy: 0.9985\n",
            "Epoch 38/50\n",
            "240/240 [==============================] - 4s 15ms/step - loss: 0.0176 - accuracy: 0.9979\n",
            "Epoch 39/50\n",
            "240/240 [==============================] - 4s 15ms/step - loss: 0.0140 - accuracy: 0.9985\n",
            "Epoch 40/50\n",
            "240/240 [==============================] - 4s 15ms/step - loss: 0.0125 - accuracy: 0.9988\n",
            "Epoch 41/50\n",
            "240/240 [==============================] - 4s 15ms/step - loss: 0.0153 - accuracy: 0.9980\n",
            "Epoch 42/50\n",
            "240/240 [==============================] - 4s 15ms/step - loss: 0.0139 - accuracy: 0.9984\n",
            "Epoch 43/50\n",
            "240/240 [==============================] - 4s 15ms/step - loss: 0.0102 - accuracy: 0.9993\n",
            "Epoch 44/50\n",
            "240/240 [==============================] - 4s 15ms/step - loss: 0.0136 - accuracy: 0.9987\n",
            "Epoch 45/50\n",
            "240/240 [==============================] - 4s 15ms/step - loss: 0.0130 - accuracy: 0.9987\n",
            "Epoch 46/50\n",
            "240/240 [==============================] - 4s 15ms/step - loss: 0.0124 - accuracy: 0.9988\n",
            "Epoch 47/50\n",
            "240/240 [==============================] - 4s 15ms/step - loss: 0.0162 - accuracy: 0.9981\n",
            "Epoch 48/50\n",
            "240/240 [==============================] - 4s 15ms/step - loss: 0.0098 - accuracy: 0.9993\n",
            "Epoch 49/50\n",
            "240/240 [==============================] - 4s 15ms/step - loss: 0.0106 - accuracy: 0.9991\n",
            "Epoch 50/50\n",
            "240/240 [==============================] - 4s 15ms/step - loss: 0.0073 - accuracy: 0.9997\n"
          ]
        },
        {
          "output_type": "display_data",
          "data": {
            "image/png": "[encoded data removed]",
            "text/plain": [
              "<Figure size 432x288 with 1 Axes>"
            ]
          },
          "metadata": {
            "needs_background": "light"
          }
        }
      ],
      "source": [
        "cnn_model = MNIST_Model()\n",
        "cnn_model.compile()\n",
        "cnn_model.fit(x_train, y_train, epochs=50, validation_split=None)\n",
        "cnn_model.plot()"
      ]
    },
    {
      "cell_type": "markdown",
      "source": [
        "## How does retraining on the whole training set impact on the MNIST test set?"
      ],
      "metadata": {
        "id": "luHvgXN7VnsJ"
      }
    },
    {
      "cell_type": "code",
      "source": [
        "pred_probs2 = cnn_model.model.predict(x_test)\n",
        "pred2 = np.argmax(pred_probs2, axis=1)\n",
        "print(np.mean(pred2==y_test))"
      ],
      "metadata": {
        "colab": {
          "base_uri": "https://localhost:8080/"
        },
        "id": "zGIM-9T2U4T0",
        "outputId": "523378e6-6c69-48e5-eb7d-8f2c9a451f1f"
      },
      "execution_count": 11,
      "outputs": [
        {
          "output_type": "stream",
          "name": "stdout",
          "text": [
            "0.9908\n"
          ]
        }
      ]
    },
    {
      "cell_type": "markdown",
      "source": [
        "Test Accuracy has increased. \n",
        "\n",
        "WHY??"
      ],
      "metadata": {
        "id": "I4TA0F06XHm2"
      }
    },
    {
      "cell_type": "markdown",
      "source": [
        "## Missclassification Plots"
      ],
      "metadata": {
        "id": "cVVJbUy_V9rZ"
      }
    },
    {
      "cell_type": "code",
      "source": [
        "missclassified_index = np.where(pred2!= y_test)[0]\n",
        "missclassified = x_test[missclassified_index]\n",
        "print(missclassified.shape)\n",
        "missclassified = np.reshape(missclassified, missclassified.shape[0:3])\n",
        "print(missclassified.shape)"
      ],
      "metadata": {
        "colab": {
          "base_uri": "https://localhost:8080/"
        },
        "id": "xj-NUBYFV_rf",
        "outputId": "8cc07be1-9b2b-436d-d261-af98a738bd7f"
      },
      "execution_count": 12,
      "outputs": [
        {
          "output_type": "stream",
          "name": "stdout",
          "text": [
            "(92, 28, 28, 1)\n",
            "(92, 28, 28)\n"
          ]
        }
      ]
    },
    {
      "cell_type": "code",
      "source": [
        "for index, k in enumerate(missclassified_index[:3]):\n",
        "  plt.imshow(missclassified[index])\n",
        "  plt.title(f'Actual: {y_test[k]}; Predicted: {pred2[k]}')\n",
        "  plt.show()"
      ],
      "metadata": {
        "colab": {
          "base_uri": "https://localhost:8080/",
          "height": 809
        },
        "id": "qvl4XejOYe0U",
        "outputId": "c431212e-5825-47cd-b0d6-ebd943630004"
      },
      "execution_count": 13,
      "outputs": [
        {
          "output_type": "display_data",
          "data": {
            "image/png": "[encoded data removed]",
            "text/plain": [
              "<Figure size 432x288 with 1 Axes>"
            ]
          },
          "metadata": {
            "needs_background": "light"
          }
        },
        {
          "output_type": "display_data",
          "data": {
            "image/png": "[encoded data removed]",
            "text/plain": [
              "<Figure size 432x288 with 1 Axes>"
            ]
          },
          "metadata": {
            "needs_background": "light"
          }
        },
        {
          "output_type": "display_data",
          "data": {
            "image/png": "[encoded data removed]",
            "text/plain": [
              "<Figure size 432x288 with 1 Axes>"
            ]
          },
          "metadata": {
            "needs_background": "light"
          }
        }
      ]
    },
    {
      "cell_type": "code",
      "source": [
        "import seaborn as sns\n",
        "import pandas as pd\n",
        "\n",
        "confusion_matrix = tf.math.confusion_matrix(labels=y_test, predictions=pred2, num_classes=10)\n",
        "\n",
        "# scaling the confusion matrix to highlight missclassification:\n",
        "confusion_matrix = np.round(np.log2(confusion_matrix+1))\n",
        "print(pd.DataFrame(confusion_matrix, index = [i for i in range(10)], columns = [i for i in range(10)]))\n",
        "sns.heatmap(np.log2(confusion_matrix+1))"
      ],
      "metadata": {
        "colab": {
          "base_uri": "https://localhost:8080/",
          "height": 497
        },
        "id": "hSoOwiJIZagt",
        "outputId": "ed4f5ab9-7f9c-40ee-d6a5-be1aed3df876"
      },
      "execution_count": 14,
      "outputs": [
        {
          "output_type": "stream",
          "name": "stdout",
          "text": [
            "      0     1     2     3     4     5     6     7     8     9\n",
            "0  10.0   1.0   1.0   0.0   0.0   1.0   2.0   2.0   2.0   0.0\n",
            "1   0.0  10.0   0.0   1.0   0.0   0.0   0.0   2.0   0.0   0.0\n",
            "2   1.0   0.0  10.0   1.0   0.0   0.0   0.0   3.0   0.0   0.0\n",
            "3   0.0   0.0   2.0  10.0   0.0   1.0   0.0   2.0   0.0   0.0\n",
            "4   0.0   0.0   0.0   0.0  10.0   1.0   1.0   2.0   0.0   3.0\n",
            "5   0.0   1.0   0.0   3.0   0.0  10.0   1.0   1.0   0.0   0.0\n",
            "6   2.0   2.0   1.0   0.0   1.0   2.0  10.0   0.0   1.0   0.0\n",
            "7   0.0   2.0   2.0   0.0   0.0   0.0   0.0  10.0   0.0   1.0\n",
            "8   0.0   1.0   2.0   2.0   0.0   3.0   0.0   0.0  10.0   0.0\n",
            "9   1.0   1.0   0.0   0.0   3.0   1.0   0.0   3.0   2.0  10.0\n"
          ]
        },
        {
          "output_type": "execute_result",
          "data": {
            "text/plain": [
              "<matplotlib.axes._subplots.AxesSubplot at 0x7f63285ebfd0>"
            ]
          },
          "metadata": {},
          "execution_count": 14
        },
        {
          "output_type": "display_data",
          "data": {
            "image/png": "[encoded data removed]",
            "text/plain": [
              "<Figure size 432x288 with 2 Axes>"
            ]
          },
          "metadata": {
            "needs_background": "light"
          }
        }
      ]
    },
    {
      "cell_type": "markdown",
      "source": [
        "Most commonly missclassified are:\n",
        "<table>\n",
        "  <thead>\n",
        "    <td>Actual</td>\n",
        "    <td>Predicted</td>\n",
        "  </thead>\n",
        "  <tr>\n",
        "    <td>3</td>\n",
        "    <td>5 , 8</td>\n",
        "  </tr>\n",
        "  <tr>\n",
        "    <td>5</td>\n",
        "    <td>3</td>\n",
        "  </tr>\n",
        "  <tr>\n",
        "    <td>6</td>\n",
        "    <td>0 , 1 , 5 , 8</td>\n",
        "  </tr>\n",
        "  <tr>\n",
        "    <td>7</td>\n",
        "    <td>1</td>\n",
        "  </tr>\n",
        "  <tr>\n",
        "    <td>9</td>\n",
        "    <td>0 , 4 , 7</td>\n",
        "  </tr>\n",
        "</table>"
      ],
      "metadata": {
        "id": "VEVyfapCdyef"
      }
    },
    {
      "cell_type": "code",
      "source": [
        ""
      ],
      "metadata": {
        "id": "JMZ2pua4cNpA"
      },
      "execution_count": 14,
      "outputs": []
    }
  ],
  "metadata": {
    "colab": {
      "collapsed_sections": [],
      "name": "topic1-NN.ipynb",
      "provenance": [],
      "toc_visible": true,
      "include_colab_link": true
    },
    "kernelspec": {
      "display_name": "Python 3",
      "language": "python",
      "name": "python3"
    },
    "language_info": {
      "codemirror_mode": {
        "name": "ipython",
        "version": 3
      },
      "file_extension": ".py",
      "mimetype": "text/x-python",
      "name": "python",
      "nbconvert_exporter": "python",
      "pygments_lexer": "ipython3",
      "version": "3.8.12"
    },
    "accelerator": "GPU"
  },
  "nbformat": 4,
  "nbformat_minor": 0
}