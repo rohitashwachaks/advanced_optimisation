{
  "cells": [
    {
      "cell_type": "markdown",
      "metadata": {
        "id": "view-in-github",
        "colab_type": "text"
      },
      "source": [
        "<a href=\"https://colab.research.google.com/github/rohitashwachaks/advanced_optimisation/blob/main/notebooks/topic1-NN.ipynb\" target=\"_parent\"><img src=\"https://colab.research.google.com/assets/colab-badge.svg\" alt=\"Open In Colab\"/></a>"
      ]
    },
    {
      "cell_type": "markdown",
      "source": [
        "# MNIST"
      ],
      "metadata": {
        "id": "H8uGHxWO_ear"
      }
    },
    {
      "cell_type": "code",
      "execution_count": 3,
      "metadata": {
        "id": "WJ0oSikkCagm"
      },
      "outputs": [],
      "source": [
        "import tensorflow as tf\n",
        "import numpy as np\n"
      ]
    },
    {
      "cell_type": "code",
      "execution_count": 4,
      "metadata": {
        "colab": {
          "base_uri": "https://localhost:8080/"
        },
        "id": "cC90Zc1JCag0",
        "outputId": "0c12b5c4-91fa-4540-c58f-32a9a480b0b8"
      },
      "outputs": [
        {
          "output_type": "stream",
          "name": "stdout",
          "text": [
            "Downloading data from https://storage.googleapis.com/tensorflow/tf-keras-datasets/mnist.npz\n",
            "11493376/11490434 [==============================] - 0s 0us/step\n",
            "11501568/11490434 [==============================] - 0s 0us/step\n"
          ]
        }
      ],
      "source": [
        "mnist = tf.keras.datasets.mnist\n",
        "\n",
        "(x_train, y_train),(x_test, y_test) = mnist.load_data()\n",
        "x_train, x_test = x_train / 255.0, x_test / 255.0\n",
        "\n",
        "ndata_train = x_train.shape[0]\n",
        "ndata_test = x_test.shape[0]\n"
      ]
    },
    {
      "cell_type": "code",
      "execution_count": 5,
      "metadata": {
        "id": "WLk18_VGCag4"
      },
      "outputs": [],
      "source": [
        "x_train = x_train.reshape((ndata_train,28,28,1))\n",
        "x_test = x_test.reshape((ndata_test,28,28,1))\n",
        "\n",
        "\n",
        "xshape = x_train.shape[1:4]\n",
        "\n"
      ]
    },
    {
      "cell_type": "code",
      "execution_count": 6,
      "metadata": {
        "id": "lmqZqqbMCag8"
      },
      "outputs": [],
      "source": [
        "NNmodel = tf.keras.models.Sequential([\n",
        "        tf.keras.layers.Flatten(input_shape=xshape),\n",
        "        tf.keras.layers.Dense(64,activation=tf.nn.relu,kernel_regularizer = tf.keras.regularizers.l1(0.0002)),\n",
        "        tf.keras.layers.Dropout(0.1),\n",
        "        tf.keras.layers.Dense(64,activation=tf.nn.sigmoid),\n",
        "        tf.keras.layers.Dense(10,activation=tf.nn.softmax)\n",
        "        ])"
      ]
    },
    {
      "cell_type": "code",
      "execution_count": 7,
      "metadata": {
        "colab": {
          "base_uri": "https://localhost:8080/"
        },
        "id": "WpONfujBCag_",
        "outputId": "512d132d-aa01-451d-da93-baa3a91aa61f"
      },
      "outputs": [
        {
          "output_type": "stream",
          "name": "stdout",
          "text": [
            "Model: \"sequential\"\n",
            "_________________________________________________________________\n",
            " Layer (type)                Output Shape              Param #   \n",
            "=================================================================\n",
            " flatten (Flatten)           (None, 784)               0         \n",
            "                                                                 \n",
            " dense (Dense)               (None, 64)                50240     \n",
            "                                                                 \n",
            " dropout (Dropout)           (None, 64)                0         \n",
            "                                                                 \n",
            " dense_1 (Dense)             (None, 64)                4160      \n",
            "                                                                 \n",
            " dense_2 (Dense)             (None, 10)                650       \n",
            "                                                                 \n",
            "=================================================================\n",
            "Total params: 55,050\n",
            "Trainable params: 55,050\n",
            "Non-trainable params: 0\n",
            "_________________________________________________________________\n"
          ]
        }
      ],
      "source": [
        "NNmodel.compile(optimizer='adam',\n",
        "              loss='sparse_categorical_crossentropy',\n",
        "              metrics=['accuracy'])\n",
        "\n",
        "NNmodel.summary()"
      ]
    },
    {
      "cell_type": "code",
      "execution_count": 8,
      "metadata": {
        "colab": {
          "base_uri": "https://localhost:8080/"
        },
        "id": "_zEmMpqvCahB",
        "outputId": "582615ad-4d44-4718-dcce-ac0cae1a87bc"
      },
      "outputs": [
        {
          "output_type": "stream",
          "name": "stdout",
          "text": [
            "Epoch 1/12\n",
            "240/240 [==============================] - 3s 4ms/step - loss: 1.1274 - accuracy: 0.7744 - val_loss: 0.5708 - val_accuracy: 0.9030\n",
            "Epoch 2/12\n",
            "240/240 [==============================] - 1s 3ms/step - loss: 0.5391 - accuracy: 0.9013 - val_loss: 0.4317 - val_accuracy: 0.9253\n",
            "Epoch 3/12\n",
            "240/240 [==============================] - 1s 3ms/step - loss: 0.4364 - accuracy: 0.9187 - val_loss: 0.3677 - val_accuracy: 0.9373\n",
            "Epoch 4/12\n",
            "240/240 [==============================] - 1s 3ms/step - loss: 0.3776 - accuracy: 0.9302 - val_loss: 0.3303 - val_accuracy: 0.9440\n",
            "Epoch 5/12\n",
            "240/240 [==============================] - 1s 3ms/step - loss: 0.3362 - accuracy: 0.9391 - val_loss: 0.2914 - val_accuracy: 0.9546\n",
            "Epoch 6/12\n",
            "240/240 [==============================] - 1s 4ms/step - loss: 0.3055 - accuracy: 0.9465 - val_loss: 0.2662 - val_accuracy: 0.9577\n",
            "Epoch 7/12\n",
            "240/240 [==============================] - 1s 3ms/step - loss: 0.2833 - accuracy: 0.9501 - val_loss: 0.2488 - val_accuracy: 0.9602\n",
            "Epoch 8/12\n",
            "240/240 [==============================] - 1s 3ms/step - loss: 0.2682 - accuracy: 0.9545 - val_loss: 0.2373 - val_accuracy: 0.9638\n",
            "Epoch 9/12\n",
            "240/240 [==============================] - 1s 3ms/step - loss: 0.2535 - accuracy: 0.9570 - val_loss: 0.2238 - val_accuracy: 0.9673\n",
            "Epoch 10/12\n",
            "240/240 [==============================] - 1s 3ms/step - loss: 0.2422 - accuracy: 0.9599 - val_loss: 0.2189 - val_accuracy: 0.9680\n",
            "Epoch 11/12\n",
            "240/240 [==============================] - 1s 3ms/step - loss: 0.2308 - accuracy: 0.9626 - val_loss: 0.2111 - val_accuracy: 0.9689\n",
            "Epoch 12/12\n",
            "240/240 [==============================] - 1s 3ms/step - loss: 0.2242 - accuracy: 0.9647 - val_loss: 0.2063 - val_accuracy: 0.9677\n"
          ]
        },
        {
          "output_type": "execute_result",
          "data": {
            "text/plain": [
              "<keras.callbacks.History at 0x7f7ae0071250>"
            ]
          },
          "metadata": {},
          "execution_count": 8
        }
      ],
      "source": [
        "NNmodel.fit(x_train,y_train,epochs=12,validation_split=0.2,batch_size=200)\n"
      ]
    },
    {
      "cell_type": "code",
      "execution_count": null,
      "metadata": {
        "colab": {
          "base_uri": "https://localhost:8080/"
        },
        "id": "ucsh4BMTCahD",
        "outputId": "bdb9d1d6-61dc-42bd-82dd-a0ff1112a0e2"
      },
      "outputs": [
        {
          "name": "stdout",
          "output_type": "stream",
          "text": [
            "10000/10000 [==============================] - 0s 36us/sample - loss: 0.2069 - acc: 0.9674\n",
            "This model predicts 96.74000144004822% of the test data correctly\n"
          ]
        }
      ],
      "source": [
        "print('This model predicts '+str(NNmodel.evaluate(x_test,y_test)[1]*100) +'% of the test data correctly')"
      ]
    },
    {
      "cell_type": "code",
      "execution_count": null,
      "metadata": {
        "colab": {
          "base_uri": "https://localhost:8080/"
        },
        "id": "aRrLgOxXCahG",
        "outputId": "a77b69f2-e965-4783-b8b2-2513b386b41b"
      },
      "outputs": [
        {
          "data": {
            "text/plain": [
              "(10000, 10)"
            ]
          },
          "execution_count": 8,
          "metadata": {},
          "output_type": "execute_result"
        }
      ],
      "source": [
        "pred_probs = NNmodel.predict(x_test)\n",
        "pred_probs.shape"
      ]
    },
    {
      "cell_type": "code",
      "execution_count": null,
      "metadata": {
        "colab": {
          "base_uri": "https://localhost:8080/"
        },
        "id": "dcRSIEUcCahR",
        "outputId": "71180a78-a796-4db5-a482-6df97fb9215a"
      },
      "outputs": [
        {
          "data": {
            "text/plain": [
              "1.0000001"
            ]
          },
          "execution_count": 9,
          "metadata": {},
          "output_type": "execute_result"
        }
      ],
      "source": [
        "np.sum(pred_probs[0,:])"
      ]
    },
    {
      "cell_type": "code",
      "execution_count": null,
      "metadata": {
        "colab": {
          "base_uri": "https://localhost:8080/"
        },
        "id": "jSiGyR9QEpjR",
        "outputId": "11563550-04dd-4404-f043-a400649373c4"
      },
      "outputs": [
        {
          "data": {
            "text/plain": [
              "0.9674"
            ]
          },
          "execution_count": 10,
          "metadata": {},
          "output_type": "execute_result"
        }
      ],
      "source": [
        "pred_class = np.argmax(pred_probs, axis=1)\n",
        "np.mean(pred_class==y_test)"
      ]
    },
    {
      "cell_type": "code",
      "execution_count": null,
      "metadata": {
        "id": "rdfpHS5QCahV"
      },
      "outputs": [],
      "source": [
        "NNmodel2 = tf.keras.models.Sequential([\n",
        "        tf.keras.layers.Conv2D(filters=10,kernel_size=(5,5),activation=tf.nn.relu,input_shape=xshape),\n",
        "        tf.keras.layers.MaxPooling2D(pool_size = (2,2),strides=2),\n",
        "        tf.keras.layers.Flatten(),\n",
        "        tf.keras.layers.Dense(128,activation=tf.nn.relu,kernel_regularizer = tf.keras.regularizers.l1(0.0002)),\n",
        "        tf.keras.layers.Dense(64,activation=tf.nn.softplus,kernel_regularizer = tf.keras.regularizers.l1(0.0005)),\n",
        "        tf.keras.layers.Dense(10,activation=tf.nn.softmax)\n",
        "        ])"
      ]
    },
    {
      "cell_type": "code",
      "execution_count": null,
      "metadata": {
        "id": "nXQ5A1Yr5cZK"
      },
      "outputs": [],
      "source": [
        "NNmodel2 = tf.keras.models.Sequential()\n",
        "NNmodel2.add(tf.keras.layers.Conv2D(filters=10,kernel_size=(5,5),activation=tf.nn.relu,input_shape=xshape))\n",
        "NNmodel2.add(tf.keras.layers.MaxPooling2D(pool_size = (2,2),strides=2))\n",
        "NNmodel2.add(tf.keras.layers.Flatten())\n",
        "NNmodel2.add(tf.keras.layers.Dense(128,activation=tf.nn.relu,kernel_regularizer = tf.keras.regularizers.l1(0.0002)))\n",
        "NNmodel2.add(tf.keras.layers.Dense(64,activation=tf.nn.softplus,kernel_regularizer = tf.keras.regularizers.l1(0.0005)))\n",
        "NNmodel2.add(tf.keras.layers.Dense(10,activation=tf.nn.softmax))"
      ]
    },
    {
      "cell_type": "code",
      "execution_count": null,
      "metadata": {
        "colab": {
          "base_uri": "https://localhost:8080/"
        },
        "id": "caahsRsCCahX",
        "outputId": "f54e3023-5dc7-4508-d58f-e8c4da2b1104"
      },
      "outputs": [
        {
          "name": "stdout",
          "output_type": "stream",
          "text": [
            "Model: \"sequential_1\"\n",
            "_________________________________________________________________\n",
            "Layer (type)                 Output Shape              Param #   \n",
            "=================================================================\n",
            "conv2d (Conv2D)              (None, 24, 24, 10)        260       \n",
            "_________________________________________________________________\n",
            "max_pooling2d (MaxPooling2D) (None, 12, 12, 10)        0         \n",
            "_________________________________________________________________\n",
            "flatten_1 (Flatten)          (None, 1440)              0         \n",
            "_________________________________________________________________\n",
            "dense_3 (Dense)              (None, 128)               184448    \n",
            "_________________________________________________________________\n",
            "dense_4 (Dense)              (None, 64)                8256      \n",
            "_________________________________________________________________\n",
            "dense_5 (Dense)              (None, 10)                650       \n",
            "=================================================================\n",
            "Total params: 193,614\n",
            "Trainable params: 193,614\n",
            "Non-trainable params: 0\n",
            "_________________________________________________________________\n"
          ]
        }
      ],
      "source": [
        "NNmodel2.compile(optimizer='adam',\n",
        "              loss='sparse_categorical_crossentropy',\n",
        "              metrics=['accuracy'])\n",
        "\n",
        "NNmodel2.summary()"
      ]
    },
    {
      "cell_type": "code",
      "execution_count": null,
      "metadata": {
        "colab": {
          "base_uri": "https://localhost:8080/"
        },
        "id": "eVhxwOPGCahZ",
        "outputId": "300703db-d958-4b86-e20b-b617d687d093"
      },
      "outputs": [
        {
          "name": "stdout",
          "output_type": "stream",
          "text": [
            "Epoch 1/5\n",
            "96/96 [==============================] - 15s 152ms/step - loss: 1.6282 - accuracy: 0.7983 - val_loss: 0.8655 - val_accuracy: 0.9240\n",
            "Epoch 2/5\n",
            "96/96 [==============================] - 14s 151ms/step - loss: 0.7232 - accuracy: 0.9425 - val_loss: 0.6165 - val_accuracy: 0.9570\n",
            "Epoch 3/5\n",
            "96/96 [==============================] - 14s 150ms/step - loss: 0.5699 - accuracy: 0.9574 - val_loss: 0.5153 - val_accuracy: 0.9661\n",
            "Epoch 4/5\n",
            "96/96 [==============================] - 14s 151ms/step - loss: 0.4896 - accuracy: 0.9647 - val_loss: 0.4555 - val_accuracy: 0.9690\n",
            "Epoch 5/5\n",
            "96/96 [==============================] - 14s 151ms/step - loss: 0.4381 - accuracy: 0.9686 - val_loss: 0.4180 - val_accuracy: 0.9725\n"
          ]
        },
        {
          "data": {
            "text/plain": [
              "<keras.callbacks.History at 0x7ff7293a3710>"
            ]
          },
          "execution_count": 12,
          "metadata": {},
          "output_type": "execute_result"
        }
      ],
      "source": [
        "NNmodel2.fit(x_train,y_train,epochs=5,validation_split=0.2,batch_size=500)"
      ]
    },
    {
      "cell_type": "code",
      "execution_count": null,
      "metadata": {
        "colab": {
          "base_uri": "https://localhost:8080/"
        },
        "id": "jHJL_Z56Dfp_",
        "outputId": "ce688228-666a-4686-af4c-d1b8408c29d2"
      },
      "outputs": [
        {
          "data": {
            "text/plain": [
              "array([[6.5287873e-05, 7.5331895e-06, 6.3127524e-04, ..., 9.9758267e-01,\n",
              "        3.0019635e-05, 8.2740368e-04],\n",
              "       [2.2000216e-04, 8.0777390e-04, 9.9821234e-01, ..., 2.2396985e-07,\n",
              "        4.5951057e-04, 5.8929968e-09],\n",
              "       [2.1894729e-04, 9.8462325e-01, 1.9825413e-03, ..., 8.7869214e-03,\n",
              "        1.6384514e-03, 1.6235378e-04],\n",
              "       ...,\n",
              "       [1.8284029e-06, 2.5975501e-06, 1.6124095e-06, ..., 3.9705160e-04,\n",
              "        1.5841410e-03, 6.1630188e-03],\n",
              "       [2.3194090e-05, 6.5072172e-06, 4.8997941e-07, ..., 8.5936273e-07,\n",
              "        2.7071964e-02, 5.8631067e-05],\n",
              "       [2.8942926e-03, 5.9954090e-07, 7.9331156e-03, ..., 3.1042458e-07,\n",
              "        1.5429036e-04, 5.3218369e-06]], dtype=float32)"
            ]
          },
          "execution_count": 13,
          "metadata": {},
          "output_type": "execute_result"
        }
      ],
      "source": [
        "NNmodel2.predict(x_test)"
      ]
    },
    {
      "cell_type": "code",
      "execution_count": null,
      "metadata": {
        "colab": {
          "base_uri": "https://localhost:8080/"
        },
        "id": "YkdlAs_4CahZ",
        "outputId": "95e9a30f-2fcd-4778-d44b-c6e224cec393"
      },
      "outputs": [
        {
          "name": "stdout",
          "output_type": "stream",
          "text": [
            "0.9721\n"
          ]
        }
      ],
      "source": [
        "pred_probs2 = NNmodel2.predict(x_test)\n",
        "pred2 = np.argmax(pred_probs2, axis=1)\n",
        "print(np.mean(pred2==y_test))"
      ]
    },
    {
      "cell_type": "code",
      "execution_count": null,
      "metadata": {
        "id": "4xdrztooCaha"
      },
      "outputs": [],
      "source": [
        ""
      ]
    },
    {
      "cell_type": "markdown",
      "metadata": {
        "id": "Dae9kuI55cZN"
      },
      "source": [
        "## Functional API\n",
        "we will need this eventually when we do reinforcement learning"
      ]
    },
    {
      "cell_type": "code",
      "execution_count": 11,
      "metadata": {
        "id": "ZTlJM07v5cZO"
      },
      "outputs": [],
      "source": [
        "from tensorflow.keras.models import Model\n",
        "from tensorflow.keras.layers import Dense, Flatten, Conv2D, Input"
      ]
    },
    {
      "cell_type": "code",
      "execution_count": 12,
      "metadata": {
        "colab": {
          "base_uri": "https://localhost:8080/"
        },
        "id": "B6P1xUGg5cZO",
        "outputId": "059ca259-66a0-4444-803c-2916d4411ebc"
      },
      "outputs": [
        {
          "output_type": "stream",
          "name": "stdout",
          "text": [
            "Model: \"model\"\n",
            "_________________________________________________________________\n",
            " Layer (type)                Output Shape              Param #   \n",
            "=================================================================\n",
            " input_1 (InputLayer)        [(None, 28, 28, 1)]       0         \n",
            "                                                                 \n",
            " conv2d (Conv2D)             (None, 6, 6, 16)          1040      \n",
            "                                                                 \n",
            " conv2d_1 (Conv2D)           (None, 2, 2, 32)          8224      \n",
            "                                                                 \n",
            " flatten_1 (Flatten)         (None, 128)               0         \n",
            "                                                                 \n",
            " dense_3 (Dense)             (None, 256)               33024     \n",
            "                                                                 \n",
            " dense_4 (Dense)             (None, 10)                2570      \n",
            "                                                                 \n",
            "=================================================================\n",
            "Total params: 44,858\n",
            "Trainable params: 44,858\n",
            "Non-trainable params: 0\n",
            "_________________________________________________________________\n"
          ]
        }
      ],
      "source": [
        "imp = Input(shape=xshape)\n",
        "mid = Conv2D(16,(8,8),strides=4,activation='relu')(imp)\n",
        "mid = Conv2D(32,(4,4),strides=2,activation='relu')(mid)\n",
        "mid = Flatten()(mid)\n",
        "mid = Dense(256,activation='relu')(mid)\n",
        "out0 = Dense(10,activation='softmax')(mid)\n",
        "model = Model(imp,out0)\n",
        "model.compile(optimizer='adam',loss='sparse_categorical_crossentropy',metrics=['accuracy'])\n",
        "model.summary()"
      ]
    },
    {
      "cell_type": "code",
      "execution_count": null,
      "metadata": {
        "id": "MbbMyHut5cZP"
      },
      "outputs": [],
      "source": [
        ""
      ]
    }
  ],
  "metadata": {
    "colab": {
      "collapsed_sections": [],
      "name": "topic1-NN.ipynb",
      "provenance": [],
      "toc_visible": true,
      "include_colab_link": true
    },
    "kernelspec": {
      "display_name": "Python 3",
      "language": "python",
      "name": "python3"
    },
    "language_info": {
      "codemirror_mode": {
        "name": "ipython",
        "version": 3
      },
      "file_extension": ".py",
      "mimetype": "text/x-python",
      "name": "python",
      "nbconvert_exporter": "python",
      "pygments_lexer": "ipython3",
      "version": "3.8.12"
    },
    "accelerator": "GPU"
  },
  "nbformat": 4,
  "nbformat_minor": 0
}