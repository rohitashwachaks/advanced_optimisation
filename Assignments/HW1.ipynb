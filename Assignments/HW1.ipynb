{
  "cells": [
    {
      "cell_type": "markdown",
      "metadata": {
        "id": "view-in-github",
        "colab_type": "text"
      },
      "source": [
        "<a href=\"https://colab.research.google.com/github/rohitashwachaks/advanced_optimisation/blob/main/Assignments/HW1.ipynb\" target=\"_parent\"><img src=\"https://colab.research.google.com/assets/colab-badge.svg\" alt=\"Open In Colab\"/></a>"
      ]
    },
    {
      "cell_type": "markdown",
      "source": [
        "# Homework-1\n",
        "\n",
        "rc47878"
      ],
      "metadata": {
        "id": "H8uGHxWO_ear"
      }
    },
    {
      "cell_type": "code",
      "execution_count": 12,
      "metadata": {
        "id": "WJ0oSikkCagm"
      },
      "outputs": [],
      "source": [
        "import tensorflow as tf\n",
        "import numpy as np\n",
        "\n",
        "import matplotlib.pyplot as plt\n"
      ]
    },
    {
      "cell_type": "code",
      "source": [
        "def gray2bw(arr: np.array, threshold: int = 0.8):\n",
        "  return np.where(arr > threshold, 1, 0)"
      ],
      "metadata": {
        "id": "Ih-6Nxz5mDVU"
      },
      "execution_count": 13,
      "outputs": []
    },
    {
      "cell_type": "code",
      "execution_count": 14,
      "metadata": {
        "id": "cC90Zc1JCag0",
        "outputId": "4ccb3c47-ef4a-460b-f90a-d57d3ce25baa",
        "colab": {
          "base_uri": "https://localhost:8080/",
          "height": 513
        }
      },
      "outputs": [
        {
          "output_type": "display_data",
          "data": {
            "image/png": "[encoded data removed]",
            "text/plain": [
              "<Figure size 432x288 with 1 Axes>"
            ]
          },
          "metadata": {
            "needs_background": "light"
          }
        },
        {
          "output_type": "display_data",
          "data": {
            "image/png": "[encoded data removed]",
            "text/plain": [
              "<Figure size 432x288 with 1 Axes>"
            ]
          },
          "metadata": {
            "needs_background": "light"
          }
        }
      ],
      "source": [
        "mnist = tf.keras.datasets.mnist\n",
        "\n",
        "(x_train, y_train),(x_test, y_test) = mnist.load_data()\n",
        "x_train, x_test = x_train / 255.0, x_test / 255.0\n",
        "\n",
        "img = x_train[3]\n",
        "plt.imshow(img)\n",
        "plt.show()\n",
        "plt.imshow(gray2bw(img))\n",
        "\n",
        "ndata_train = x_train.shape[0]\n",
        "ndata_test = x_test.shape[0]\n"
      ]
    },
    {
      "cell_type": "code",
      "execution_count": 15,
      "metadata": {
        "id": "WLk18_VGCag4"
      },
      "outputs": [],
      "source": [
        "x_train = x_train.reshape((ndata_train,28,28,1))\n",
        "x_test = x_test.reshape((ndata_test,28,28,1))\n",
        "xshape = x_train.shape[1:4]\n",
        "print(xshape)"
      ]
    },
    {
      "cell_type": "markdown",
      "source": [
        "## Model"
      ],
      "metadata": {
        "id": "fAgxQbg4MiAa"
      }
    },
    {
      "cell_type": "code",
      "source": [
        "x_train = gray2bw(x_train)\n",
        "x_test = gray2bw(x_test)"
      ],
      "metadata": {
        "id": "-kYFYOgpM58I"
      },
      "execution_count": 8,
      "outputs": []
    },
    {
      "cell_type": "code",
      "source": [
        "class MNIST_Model:\n",
        "  def __init__(self)-> tf.keras.models.Sequential:\n",
        "    self.model =  tf.keras.models.Sequential([\n",
        "          tf.keras.layers.Conv2D(filters=32,kernel_size=6,activation=tf.nn.relu,input_shape=xshape),\n",
        "          tf.keras.layers.Conv2D(filters=64,kernel_size=5,activation=tf.nn.relu,input_shape=xshape),\n",
        "          tf.keras.layers.MaxPooling2D(pool_size = (2,2),strides=2),\n",
        "          tf.keras.layers.Conv2D(filters=64,kernel_size=5,activation=tf.nn.relu,input_shape=xshape),\n",
        "          tf.keras.layers.Conv2D(filters=128,kernel_size=4,activation=tf.nn.relu,input_shape=xshape),\n",
        "          tf.keras.layers.MaxPooling2D(pool_size = (2,2),strides=2),\n",
        "          tf.keras.layers.Flatten(),\n",
        "          tf.keras.layers.Dropout(0.25),\n",
        "          tf.keras.layers.Dense(128,activation=tf.nn.relu,kernel_regularizer = tf.keras.regularizers.l1(0.0002)),\n",
        "          tf.keras.layers.Dense(10,activation=tf.nn.softmax)\n",
        "          ])\n",
        "    print(self.model.summary())\n",
        "    return\n",
        "\n",
        "  def compile(self)->None:\n",
        "    self.model.compile(optimizer='adam',\n",
        "              loss='sparse_categorical_crossentropy',\n",
        "              metrics=['accuracy'])\n",
        "    \n",
        "  def fit(self, x_train, y_train, epochs=50, validation_split=0.2, batch_size = 250):\n",
        "    if validation_split:\n",
        "      self.history = self.model.fit(x_train,y_train,epochs=epochs,validation_split=0.2,batch_size=batch_size)\n",
        "    else:\n",
        "      self.history = self.model.fit(x_train,y_train,epochs=epochs,batch_size=batch_size)\n",
        "    return\n",
        "\n",
        "  def plot(self):\n",
        "    plt.plot(self.history.history['loss'])\n",
        "    plt.plot(self.history.history['val_loss'])\n",
        "    plt.title('model loss')\n",
        "    plt.ylabel('loss')\n",
        "    plt.xlabel('epoch')\n",
        "    plt.legend(['train', 'val'], loc='upper left')\n",
        "    plt.show()"
      ],
      "metadata": {
        "id": "riFgf6IiRfHC"
      },
      "execution_count": 41,
      "outputs": []
    },
    {
      "cell_type": "code",
      "source": [
        "cnn_model = MNIST_Model()\n",
        "cnn_model.compile()"
      ],
      "metadata": {
        "id": "qA3nIlzCLT8I",
        "outputId": "5a905a08-302e-4d33-eaa9-d529249c6a22",
        "colab": {
          "base_uri": "https://localhost:8080/"
        }
      },
      "execution_count": 33,
      "outputs": [
        {
          "output_type": "stream",
          "name": "stdout",
          "text": [
            "Model: \"sequential_10\"\n",
            "_________________________________________________________________\n",
            " Layer (type)                Output Shape              Param #   \n",
            "=================================================================\n",
            " conv2d_40 (Conv2D)          (None, 23, 23, 32)        1184      \n",
            "                                                                 \n",
            " conv2d_41 (Conv2D)          (None, 19, 19, 64)        51264     \n",
            "                                                                 \n",
            " max_pooling2d_20 (MaxPoolin  (None, 9, 9, 64)         0         \n",
            " g2D)                                                            \n",
            "                                                                 \n",
            " conv2d_42 (Conv2D)          (None, 5, 5, 64)          102464    \n",
            "                                                                 \n",
            " conv2d_43 (Conv2D)          (None, 2, 2, 128)         131200    \n",
            "                                                                 \n",
            " max_pooling2d_21 (MaxPoolin  (None, 1, 1, 128)        0         \n",
            " g2D)                                                            \n",
            "                                                                 \n",
            " flatten_10 (Flatten)        (None, 128)               0         \n",
            "                                                                 \n",
            " dropout_10 (Dropout)        (None, 128)               0         \n",
            "                                                                 \n",
            " dense_20 (Dense)            (None, 128)               16512     \n",
            "                                                                 \n",
            " dense_21 (Dense)            (None, 10)                1290      \n",
            "                                                                 \n",
            "=================================================================\n",
            "Total params: 303,914\n",
            "Trainable params: 303,914\n",
            "Non-trainable params: 0\n",
            "_________________________________________________________________\n",
            "None\n"
          ]
        }
      ]
    },
    {
      "cell_type": "code",
      "source": [
        "cnn_model.fit(x_train,y_train,epochs=50)\n",
        "cnn_model.plot()\n"
      ],
      "metadata": {
        "id": "YWbJi5_vMlO7",
        "outputId": "0144c9ed-ad14-4a09-c46b-39949828d8bc",
        "colab": {
          "base_uri": "https://localhost:8080/",
          "height": 1000
        }
      },
      "execution_count": 34,
      "outputs": [
        {
          "output_type": "stream",
          "name": "stdout",
          "text": [
            "Epoch 1/50\n",
            "192/192 [==============================] - 6s 30ms/step - loss: 0.5719 - accuracy: 0.8727 - val_loss: 0.2389 - val_accuracy: 0.9706\n",
            "Epoch 2/50\n",
            "192/192 [==============================] - 5s 28ms/step - loss: 0.2258 - accuracy: 0.9704 - val_loss: 0.1739 - val_accuracy: 0.9835\n",
            "Epoch 3/50\n",
            "192/192 [==============================] - 5s 28ms/step - loss: 0.1727 - accuracy: 0.9797 - val_loss: 0.1454 - val_accuracy: 0.9866\n",
            "Epoch 4/50\n",
            "192/192 [==============================] - 5s 28ms/step - loss: 0.1405 - accuracy: 0.9852 - val_loss: 0.1351 - val_accuracy: 0.9845\n",
            "Epoch 5/50\n",
            "192/192 [==============================] - 5s 28ms/step - loss: 0.1195 - accuracy: 0.9868 - val_loss: 0.1086 - val_accuracy: 0.9889\n",
            "Epoch 6/50\n",
            "192/192 [==============================] - 5s 28ms/step - loss: 0.0993 - accuracy: 0.9890 - val_loss: 0.0932 - val_accuracy: 0.9900\n",
            "Epoch 7/50\n",
            "192/192 [==============================] - 6s 29ms/step - loss: 0.0841 - accuracy: 0.9903 - val_loss: 0.0847 - val_accuracy: 0.9899\n",
            "Epoch 8/50\n",
            "192/192 [==============================] - 6s 29ms/step - loss: 0.0722 - accuracy: 0.9915 - val_loss: 0.0736 - val_accuracy: 0.9894\n",
            "Epoch 9/50\n",
            "192/192 [==============================] - 5s 28ms/step - loss: 0.0634 - accuracy: 0.9919 - val_loss: 0.0760 - val_accuracy: 0.9893\n",
            "Epoch 10/50\n",
            "192/192 [==============================] - 5s 28ms/step - loss: 0.0556 - accuracy: 0.9928 - val_loss: 0.0598 - val_accuracy: 0.9921\n",
            "Epoch 11/50\n",
            "192/192 [==============================] - 6s 31ms/step - loss: 0.0503 - accuracy: 0.9934 - val_loss: 0.0617 - val_accuracy: 0.9904\n",
            "Epoch 12/50\n",
            "192/192 [==============================] - 6s 30ms/step - loss: 0.0445 - accuracy: 0.9938 - val_loss: 0.0650 - val_accuracy: 0.9878\n",
            "Epoch 13/50\n",
            "192/192 [==============================] - 5s 28ms/step - loss: 0.0408 - accuracy: 0.9942 - val_loss: 0.0522 - val_accuracy: 0.9923\n",
            "Epoch 14/50\n",
            "192/192 [==============================] - 6s 29ms/step - loss: 0.0383 - accuracy: 0.9948 - val_loss: 0.0544 - val_accuracy: 0.9909\n",
            "Epoch 15/50\n",
            "192/192 [==============================] - 5s 28ms/step - loss: 0.0350 - accuracy: 0.9951 - val_loss: 0.0543 - val_accuracy: 0.9908\n",
            "Epoch 16/50\n",
            "192/192 [==============================] - 5s 28ms/step - loss: 0.0350 - accuracy: 0.9950 - val_loss: 0.0570 - val_accuracy: 0.9902\n",
            "Epoch 17/50\n",
            "192/192 [==============================] - 5s 28ms/step - loss: 0.0291 - accuracy: 0.9959 - val_loss: 0.0501 - val_accuracy: 0.9909\n",
            "Epoch 18/50\n",
            "192/192 [==============================] - 5s 28ms/step - loss: 0.0271 - accuracy: 0.9966 - val_loss: 0.0588 - val_accuracy: 0.9893\n",
            "Epoch 19/50\n",
            "192/192 [==============================] - 6s 29ms/step - loss: 0.0284 - accuracy: 0.9959 - val_loss: 0.0483 - val_accuracy: 0.9923\n",
            "Epoch 20/50\n",
            "192/192 [==============================] - 5s 28ms/step - loss: 0.0282 - accuracy: 0.9955 - val_loss: 0.0521 - val_accuracy: 0.9907\n",
            "Epoch 21/50\n",
            "192/192 [==============================] - 6s 29ms/step - loss: 0.0235 - accuracy: 0.9968 - val_loss: 0.0502 - val_accuracy: 0.9908\n",
            "Epoch 22/50\n",
            "192/192 [==============================] - 6s 30ms/step - loss: 0.0243 - accuracy: 0.9965 - val_loss: 0.0548 - val_accuracy: 0.9899\n",
            "Epoch 23/50\n",
            "192/192 [==============================] - 6s 29ms/step - loss: 0.0235 - accuracy: 0.9967 - val_loss: 0.0529 - val_accuracy: 0.9913\n",
            "Epoch 24/50\n",
            "192/192 [==============================] - 5s 28ms/step - loss: 0.0205 - accuracy: 0.9970 - val_loss: 0.0501 - val_accuracy: 0.9922\n",
            "Epoch 25/50\n",
            "192/192 [==============================] - 6s 29ms/step - loss: 0.0229 - accuracy: 0.9965 - val_loss: 0.0508 - val_accuracy: 0.9913\n",
            "Epoch 26/50\n",
            "192/192 [==============================] - 5s 28ms/step - loss: 0.0215 - accuracy: 0.9970 - val_loss: 0.0596 - val_accuracy: 0.9899\n",
            "Epoch 27/50\n",
            "192/192 [==============================] - 5s 28ms/step - loss: 0.0230 - accuracy: 0.9966 - val_loss: 0.0470 - val_accuracy: 0.9921\n",
            "Epoch 28/50\n",
            "192/192 [==============================] - 6s 29ms/step - loss: 0.0181 - accuracy: 0.9979 - val_loss: 0.0493 - val_accuracy: 0.9920\n",
            "Epoch 29/50\n",
            "192/192 [==============================] - 6s 31ms/step - loss: 0.0211 - accuracy: 0.9971 - val_loss: 0.0474 - val_accuracy: 0.9921\n",
            "Epoch 30/50\n",
            "192/192 [==============================] - 6s 29ms/step - loss: 0.0195 - accuracy: 0.9975 - val_loss: 0.0493 - val_accuracy: 0.9913\n",
            "Epoch 31/50\n",
            "192/192 [==============================] - 6s 31ms/step - loss: 0.0149 - accuracy: 0.9984 - val_loss: 0.0553 - val_accuracy: 0.9909\n",
            "Epoch 32/50\n",
            "192/192 [==============================] - 6s 31ms/step - loss: 0.0151 - accuracy: 0.9982 - val_loss: 0.0450 - val_accuracy: 0.9934\n",
            "Epoch 33/50\n",
            "192/192 [==============================] - 5s 29ms/step - loss: 0.0135 - accuracy: 0.9987 - val_loss: 0.0518 - val_accuracy: 0.9915\n",
            "Epoch 34/50\n",
            "192/192 [==============================] - 6s 30ms/step - loss: 0.0231 - accuracy: 0.9968 - val_loss: 0.0500 - val_accuracy: 0.9909\n",
            "Epoch 35/50\n",
            "192/192 [==============================] - 5s 28ms/step - loss: 0.0168 - accuracy: 0.9981 - val_loss: 0.0511 - val_accuracy: 0.9917\n",
            "Epoch 36/50\n",
            "192/192 [==============================] - 5s 28ms/step - loss: 0.0158 - accuracy: 0.9981 - val_loss: 0.0485 - val_accuracy: 0.9921\n",
            "Epoch 37/50\n",
            "192/192 [==============================] - 5s 28ms/step - loss: 0.0159 - accuracy: 0.9982 - val_loss: 0.0540 - val_accuracy: 0.9904\n",
            "Epoch 38/50\n",
            "192/192 [==============================] - 6s 30ms/step - loss: 0.0137 - accuracy: 0.9986 - val_loss: 0.0629 - val_accuracy: 0.9890\n",
            "Epoch 39/50\n",
            "192/192 [==============================] - 6s 30ms/step - loss: 0.0149 - accuracy: 0.9982 - val_loss: 0.0443 - val_accuracy: 0.9936\n",
            "Epoch 40/50\n",
            "192/192 [==============================] - 6s 30ms/step - loss: 0.0142 - accuracy: 0.9985 - val_loss: 0.0517 - val_accuracy: 0.9920\n",
            "Epoch 41/50\n",
            "192/192 [==============================] - 6s 29ms/step - loss: 0.0163 - accuracy: 0.9980 - val_loss: 0.0579 - val_accuracy: 0.9912\n",
            "Epoch 42/50\n",
            "192/192 [==============================] - 5s 28ms/step - loss: 0.0172 - accuracy: 0.9978 - val_loss: 0.0466 - val_accuracy: 0.9922\n",
            "Epoch 43/50\n",
            "192/192 [==============================] - 6s 29ms/step - loss: 0.0111 - accuracy: 0.9991 - val_loss: 0.0476 - val_accuracy: 0.9925\n",
            "Epoch 44/50\n",
            "192/192 [==============================] - 6s 30ms/step - loss: 0.0096 - accuracy: 0.9991 - val_loss: 0.0488 - val_accuracy: 0.9924\n",
            "Epoch 45/50\n",
            "192/192 [==============================] - 6s 30ms/step - loss: 0.0121 - accuracy: 0.9986 - val_loss: 0.0601 - val_accuracy: 0.9905\n",
            "Epoch 46/50\n",
            "192/192 [==============================] - 6s 30ms/step - loss: 0.0157 - accuracy: 0.9978 - val_loss: 0.0584 - val_accuracy: 0.9910\n",
            "Epoch 47/50\n",
            "192/192 [==============================] - 6s 30ms/step - loss: 0.0128 - accuracy: 0.9987 - val_loss: 0.0489 - val_accuracy: 0.9937\n",
            "Epoch 48/50\n",
            "192/192 [==============================] - 6s 29ms/step - loss: 0.0149 - accuracy: 0.9979 - val_loss: 0.0494 - val_accuracy: 0.9921\n",
            "Epoch 49/50\n",
            "192/192 [==============================] - 5s 28ms/step - loss: 0.0143 - accuracy: 0.9983 - val_loss: 0.0542 - val_accuracy: 0.9913\n",
            "Epoch 50/50\n",
            "192/192 [==============================] - 5s 28ms/step - loss: 0.0102 - accuracy: 0.9994 - val_loss: 0.0590 - val_accuracy: 0.9909\n"
          ]
        },
        {
          "output_type": "display_data",
          "data": {
            "image/png": "[encoded data removed]",
            "text/plain": [
              "<Figure size 432x288 with 1 Axes>"
            ]
          },
          "metadata": {
            "needs_background": "light"
          }
        }
      ]
    },
    {
      "cell_type": "markdown",
      "source": [
        "## Retraining on the whole Data"
      ],
      "metadata": {
        "id": "RJ64NsiPRSGN"
      }
    },
    {
      "cell_type": "code",
      "execution_count": null,
      "metadata": {
        "id": "MbbMyHut5cZP",
        "outputId": "e9ed0a46-c9c4-4614-db8b-20fb9041d36a",
        "colab": {
          "base_uri": "https://localhost:8080/"
        }
      },
      "outputs": [
        {
          "output_type": "stream",
          "name": "stdout",
          "text": [
            "Model: \"sequential_15\"\n",
            "_________________________________________________________________\n",
            " Layer (type)                Output Shape              Param #   \n",
            "=================================================================\n",
            " conv2d_60 (Conv2D)          (None, 23, 23, 32)        1184      \n",
            "                                                                 \n",
            " conv2d_61 (Conv2D)          (None, 19, 19, 64)        51264     \n",
            "                                                                 \n",
            " max_pooling2d_30 (MaxPoolin  (None, 9, 9, 64)         0         \n",
            " g2D)                                                            \n",
            "                                                                 \n",
            " conv2d_62 (Conv2D)          (None, 5, 5, 64)          102464    \n",
            "                                                                 \n",
            " conv2d_63 (Conv2D)          (None, 2, 2, 128)         131200    \n",
            "                                                                 \n",
            " max_pooling2d_31 (MaxPoolin  (None, 1, 1, 128)        0         \n",
            " g2D)                                                            \n",
            "                                                                 \n",
            " flatten_15 (Flatten)        (None, 128)               0         \n",
            "                                                                 \n",
            " dropout_15 (Dropout)        (None, 128)               0         \n",
            "                                                                 \n",
            " dense_30 (Dense)            (None, 128)               16512     \n",
            "                                                                 \n",
            " dense_31 (Dense)            (None, 10)                1290      \n",
            "                                                                 \n",
            "=================================================================\n",
            "Total params: 303,914\n",
            "Trainable params: 303,914\n",
            "Non-trainable params: 0\n",
            "_________________________________________________________________\n",
            "None\n",
            "Epoch 1/50\n",
            "240/240 [==============================] - 7s 27ms/step - loss: 0.4997 - accuracy: 0.9025\n",
            "Epoch 2/50\n",
            "240/240 [==============================] - 7s 27ms/step - loss: 0.2173 - accuracy: 0.9776\n",
            "Epoch 3/50\n",
            "240/240 [==============================] - 7s 27ms/step - loss: 0.1630 - accuracy: 0.9843\n",
            "Epoch 4/50\n",
            "  5/240 [..............................] - ETA: 6s - loss: 0.1330 - accuracy: 0.9920"
          ]
        }
      ],
      "source": [
        "cnn_model = MNIST_Model()\n",
        "cnn_model.compile()\n",
        "cnn_model.fit(x_train, y_train, epochs=50, validation_split=None)\n",
        "cnn_model.plot()"
      ]
    },
    {
      "cell_type": "markdown",
      "source": [
        "## How does retraining on the whole training set impact on the MNIST test set?"
      ],
      "metadata": {
        "id": "luHvgXN7VnsJ"
      }
    },
    {
      "cell_type": "code",
      "source": [
        ""
      ],
      "metadata": {
        "id": "zGIM-9T2U4T0"
      },
      "execution_count": null,
      "outputs": []
    },
    {
      "cell_type": "markdown",
      "source": [
        "## Missclassification Plots"
      ],
      "metadata": {
        "id": "cVVJbUy_V9rZ"
      }
    },
    {
      "cell_type": "code",
      "source": [
        ""
      ],
      "metadata": {
        "id": "xj-NUBYFV_rf"
      },
      "execution_count": null,
      "outputs": []
    }
  ],
  "metadata": {
    "colab": {
      "collapsed_sections": [],
      "name": "topic1-NN.ipynb",
      "provenance": [],
      "toc_visible": true,
      "include_colab_link": true
    },
    "kernelspec": {
      "display_name": "Python 3",
      "language": "python",
      "name": "python3"
    },
    "language_info": {
      "codemirror_mode": {
        "name": "ipython",
        "version": 3
      },
      "file_extension": ".py",
      "mimetype": "text/x-python",
      "name": "python",
      "nbconvert_exporter": "python",
      "pygments_lexer": "ipython3",
      "version": "3.8.12"
    },
    "accelerator": "GPU"
  },
  "nbformat": 4,
  "nbformat_minor": 0
}