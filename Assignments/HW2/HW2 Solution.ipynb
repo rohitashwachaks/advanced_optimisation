{
 "cells": [
  {
   "cell_type": "markdown",
   "metadata": {},
   "source": [
    "# Optimization II \n",
    "## HW2\n"
   ]
  },
  {
   "cell_type": "code",
   "execution_count": 1,
   "metadata": {},
   "outputs": [],
   "source": [
    "import numpy as np\n",
    "import random\n",
    "import pandas as pd\n",
    "import gurobipy as gp"
   ]
  },
  {
   "cell_type": "markdown",
   "metadata": {},
   "source": [
    "### Problem 1"
   ]
  },
  {
   "cell_type": "code",
   "execution_count": 2,
   "metadata": {},
   "outputs": [],
   "source": [
    "#read csv\n",
    "stocks2019 = pd.read_csv(r'.\\stocks2019.csv')\n",
    "stocks2020 = pd.read_csv(r'.\\stocks2020-1.csv')"
   ]
  },
  {
   "cell_type": "code",
   "execution_count": 3,
   "metadata": {},
   "outputs": [],
   "source": [
    "nstocks = stocks2019.shape[1]-2\n",
    "ndays = stocks2019.shape[0]\n",
    "ret2019 = stocks2019.iloc[1:ndays,2:nstocks+2].values - stocks2019.iloc[0:ndays-1,2:nstocks+2].values\n",
    "ret2019 = np.divide(ret2019,stocks2019.iloc[0:ndays-1,2:nstocks+2].values)\n",
    "ndays = ret2019.shape[0]"
   ]
  },
  {
   "cell_type": "code",
   "execution_count": 4,
   "metadata": {},
   "outputs": [],
   "source": [
    "ndays2020 = stocks2020.shape[0]\n",
    "ret2020 = stocks2020.iloc[1:ndays2020,2:nstocks+2].values - stocks2020.iloc[0:ndays2020-1,2:nstocks+2].values\n",
    "ret2020 = np.divide(ret2020,stocks2020.iloc[0:ndays2020-1,2:nstocks+2].values)\n",
    "ndays2020 = ret2020.shape[0]\n",
    "\n",
    "meanvec = np.mean(ret2019,0)"
   ]
  },
  {
   "cell_type": "code",
   "execution_count": 5,
   "metadata": {},
   "outputs": [],
   "source": [
    "c = np.concatenate((meanvec,[0]*ndays))\n",
    "A = np.zeros((2+ndays,nstocks+ndays))\n",
    "b = np.zeros((2+ndays,1))\n",
    "\n",
    "A[0,0:nstocks] = 1 # all money invested\n",
    "b[0] = 1\n",
    "\n",
    "# no more than 100 days negative\n",
    "A[1,nstocks:nstocks+ndays] = 1\n",
    "b[1] = 100\n",
    "\n",
    "M = 10\n",
    "for day in range(1,ndays+1):\n",
    "    A[1+day,0:nstocks] = ret2019[day-1,0:nstocks]\n",
    "    A[1+day,nstocks+day-1] = M\n",
    "    b[1+day] = 0\n",
    "    \n",
    "\n",
    "sense = np.concatenate((['='],['<'],['>']*ndays))"
   ]
  },
  {
   "cell_type": "code",
   "execution_count": 6,
   "metadata": {},
   "outputs": [
    {
     "name": "stdout",
     "output_type": "stream",
     "text": [
      "Academic license - for non-commercial use only - expires 2022-09-13\n",
      "Using license file C:\\Users\\suyas\\gurobi.lic\n",
      "Parameter OutputFlag unchanged\n",
      "   Value: 1  Min: 0  Max: 1  Default: 1\n",
      "Gurobi Optimizer version 9.1.2 build v9.1.2rc0 (win64)\n",
      "Thread count: 6 physical cores, 12 logical processors, using up to 12 threads\n",
      "Optimize a model with 252 rows, 350 columns and 25504 nonzeros\n",
      "Model fingerprint: 0x10b2ab9f\n",
      "Variable types: 100 continuous, 250 integer (250 binary)\n",
      "Coefficient statistics:\n",
      "  Matrix range     [2e-05, 1e+01]\n",
      "  Objective range  [7e-05, 4e-03]\n",
      "  Bounds range     [1e+00, 1e+00]\n",
      "  RHS range        [1e+00, 1e+02]\n",
      "Presolve removed 1 rows and 1 columns\n",
      "Presolve time: 0.07s\n",
      "Presolved: 251 rows, 349 columns, 25402 nonzeros\n",
      "Variable types: 100 continuous, 249 integer (249 binary)\n",
      "\n",
      "Root relaxation: objective 4.097099e-03, 112 iterations, 0.01 seconds\n",
      "\n",
      "    Nodes    |    Current Node    |     Objective Bounds      |     Work\n",
      " Expl Unexpl |  Obj  Depth IntInf | Incumbent    BestBd   Gap | It/Node Time\n",
      "\n",
      "     0     0    0.00410    0   18          -    0.00410      -     -    0s\n",
      "     0     0    0.00410    0   20          -    0.00410      -     -    0s\n",
      "H    0     0                       0.0026889    0.00410  52.4%     -    0s\n",
      "H    0     0                       0.0035655    0.00410  14.9%     -    0s\n",
      "     0     0    0.00410    0   19    0.00357    0.00410  14.9%     -    0s\n",
      "     0     0    0.00410    0   19    0.00357    0.00410  14.9%     -    0s\n",
      "     0     2    0.00410    0   19    0.00357    0.00410  14.9%     -    0s\n",
      "H  287   161                       0.0035706    0.00409  14.6%   4.6    0s\n",
      "H 1365   667                       0.0036513    0.00409  11.9%   5.9    0s\n",
      "H 1573   664                       0.0036542    0.00409  11.8%   5.5    0s\n",
      "H 1699   670                       0.0036563    0.00409  11.7%   5.4    1s\n",
      "* 2802   879              83       0.0036667    0.00401  9.45%   5.6    1s\n",
      "* 2954   638              67       0.0037323    0.00401  7.53%   5.6    1s\n",
      "* 4556  1045              76       0.0037632    0.00397  5.55%   5.5    1s\n",
      "* 4901  1112              71       0.0037702    0.00397  5.20%   5.4    1s\n",
      "* 6784  1258              78       0.0038059    0.00394  3.60%   5.7    1s\n",
      "* 7552  1066              65       0.0038296    0.00393  2.73%   5.6    1s\n",
      "* 7765  1093              66       0.0038300    0.00393  2.72%   5.6    1s\n",
      "* 7770  1064              69       0.0038333    0.00393  2.63%   5.6    1s\n",
      "* 8058   956              72       0.0038442    0.00393  2.34%   5.6    1s\n",
      "\n",
      "Cutting planes:\n",
      "  MIR: 15\n",
      "\n",
      "Explored 22035 nodes (126228 simplex iterations) in 3.86 seconds\n",
      "Thread count was 12 (of 12 available processors)\n",
      "\n",
      "Solution count 10: 0.00384417 0.00383331 0.00383001 ... 0.00365627\n",
      "No other solutions better than 0.00384417\n",
      "\n",
      "Optimal solution found (tolerance 1.00e-04)\n",
      "Best objective 3.844165469330e-03, best bound 3.844165469330e-03, gap 0.0000%\n"
     ]
    }
   ],
   "source": [
    "m = gp.Model()\n",
    "mX = m.addMVar(len(c),vtype = np.concatenate((['C']*nstocks,['B']*ndays)))\n",
    "m.setMObjective(None, c, 0, sense = gp.GRB.MAXIMIZE)\n",
    "m.addMConstrs(A, mX, sense, b)\n",
    "m.Params.OutputFlag = 1\n",
    "\n",
    "#Solve the IP using gurobi \n",
    "m.optimize()\n",
    "\n",
    "# geez, AMD had a bonkers year in 2019, and an even more bonkers year in 2020"
   ]
  },
  {
   "cell_type": "code",
   "execution_count": 7,
   "metadata": {},
   "outputs": [
    {
     "name": "stdout",
     "output_type": "stream",
     "text": [
      "115\n"
     ]
    }
   ],
   "source": [
    "num_neg = 0\n",
    "for day in range(1,ndays2020+1):\n",
    "    port_ret = sum(np.multiply(mX.x[0:nstocks],ret2020[day-1,0:nstocks]))\n",
    "    if(port_ret < 0):\n",
    "        num_neg = num_neg + 1\n",
    "        \n",
    "print(num_neg)"
   ]
  },
  {
   "cell_type": "code",
   "execution_count": null,
   "metadata": {},
   "outputs": [],
   "source": []
  },
  {
   "cell_type": "markdown",
   "metadata": {},
   "source": [
    "### Problem 2"
   ]
  },
  {
   "cell_type": "code",
   "execution_count": 8,
   "metadata": {},
   "outputs": [],
   "source": [
    "# let hij = profit on day i for newspaper j\n",
    "# decision variables are (q1, q2, q3, q4, q5, h11, h12, ..., h150, h21, ..., h250, ... , h550)\n",
    "\n",
    "demand = pd.read_csv(r'.\\hw2_demand.csv')\n",
    "nnews = demand.shape[1]\n",
    "ndays = demand.shape[0]"
   ]
  },
  {
   "cell_type": "code",
   "execution_count": 9,
   "metadata": {},
   "outputs": [],
   "source": [
    "costs = np.array([0.5,0.5,0.25,0.75,0.25])\n",
    "prices = np.array([1.25,1.2,0.5,1.5,0.6])"
   ]
  },
  {
   "cell_type": "code",
   "execution_count": 10,
   "metadata": {},
   "outputs": [],
   "source": [
    "c = np.concatenate(([0]*nnews,[1/ndays]*ndays*nnews))\n",
    "lbound = np.concatenate(([0]*nnews,[-np.Inf]*ndays*nnews))\n",
    "\n",
    "A = np.zeros((2*ndays*nnews,ndays*nnews+nnews))\n",
    "b = np.zeros((2*ndays*nnews,1))\n",
    "sense = ['<']*2*ndays*nnews"
   ]
  },
  {
   "cell_type": "code",
   "execution_count": 11,
   "metadata": {},
   "outputs": [],
   "source": [
    "for news in range(1,nnews+1):\n",
    "    for day in range(1,ndays+1):\n",
    "        this_nd = day + (news-1)*ndays\n",
    "        A[2*this_nd-1-1,news-1] = costs[news-1]\n",
    "        A[2*this_nd-1-1,this_nd+nnews-1] = 1\n",
    "        b[2*this_nd-1-1] = prices[news-1]*demand.iloc[day-1,news-1]\n",
    "        A[2*this_nd-1,news-1] = costs[news-1]-prices[news-1]\n",
    "        A[2*this_nd-1,this_nd+nnews-1] = 1"
   ]
  },
  {
   "cell_type": "code",
   "execution_count": 12,
   "metadata": {},
   "outputs": [
    {
     "name": "stdout",
     "output_type": "stream",
     "text": [
      "Parameter OutputFlag unchanged\n",
      "   Value: 1  Min: 0  Max: 1  Default: 1\n",
      "Gurobi Optimizer version 9.1.2 build v9.1.2rc0 (win64)\n",
      "Thread count: 6 physical cores, 12 logical processors, using up to 12 threads\n",
      "Optimize a model with 500 rows, 255 columns and 1000 nonzeros\n",
      "Model fingerprint: 0x44ab24b6\n",
      "Coefficient statistics:\n",
      "  Matrix range     [3e-01, 1e+00]\n",
      "  Objective range  [2e-02, 2e-02]\n",
      "  Bounds range     [0e+00, 0e+00]\n",
      "  RHS range        [1e+00, 3e+03]\n",
      "Presolve removed 250 rows and 0 columns\n",
      "Presolve time: 0.02s\n",
      "Presolved: 250 rows, 255 columns, 500 nonzeros\n",
      "\n",
      "Iteration    Objective       Primal Inf.    Dual Inf.      Time\n",
      "       0    1.4081840e+03   7.040920e+04   0.000000e+00      0s\n",
      "     115    3.3698900e+02   0.000000e+00   0.000000e+00      0s\n",
      "\n",
      "Solved in 115 iterations and 0.02 seconds\n",
      "Optimal objective  3.369890000e+02\n"
     ]
    }
   ],
   "source": [
    "m = gp.Model()\n",
    "mX = m.addMVar(len(c),vtype = ['C']*len(c),lb = lbound)\n",
    "m.setMObjective(None, c, 0, sense = gp.GRB.MAXIMIZE)\n",
    "m.addMConstrs(A, mX, sense, b)\n",
    "m.Params.OutputFlag = 1\n",
    "\n",
    "m.optimize()"
   ]
  },
  {
   "cell_type": "code",
   "execution_count": 13,
   "metadata": {},
   "outputs": [
    {
     "name": "stdout",
     "output_type": "stream",
     "text": [
      "[ 76. 462. 205. 123. 422.]\n",
      "336.9890000000003\n"
     ]
    }
   ],
   "source": [
    "print(mX.x[0:nnews]) # how many we should produce\n",
    "print(m.objval) # expectation of profits given that many produced"
   ]
  },
  {
   "cell_type": "code",
   "execution_count": null,
   "metadata": {},
   "outputs": [],
   "source": []
  },
  {
   "cell_type": "markdown",
   "metadata": {},
   "source": [
    "### Problem 3"
   ]
  },
  {
   "cell_type": "code",
   "execution_count": 14,
   "metadata": {},
   "outputs": [
    {
     "data": {
      "text/plain": [
       "0.0505"
      ]
     },
     "execution_count": 14,
     "metadata": {},
     "output_type": "execute_result"
    }
   ],
   "source": [
    "nsim = 10000\n",
    "def_vec = [False]*nsim\n",
    "port_val_vec = [0]*nsim\n",
    "years_working = 3 # how many years are you going to stay employed?\n",
    "# I just ran this for a few different values of years.working, and 3 was the smallest number of years with less than 6% chance of default\n",
    "# it's important that each time you re-run it for different values of years.working, you also reset def.vec and port.val.vec!!!!!!!!\n",
    "\n",
    "for sim in range(1,nsim+1):\n",
    "    value = 2000000\n",
    "    current_salary = 400000 # at the beginning of each sim you current salary is 400k\n",
    "    for year in range(1,36):\n",
    "        port_return = np.random.normal(size = 1, loc = 0.07, scale = 0.1)\n",
    "        value = value*(1+port_return)\n",
    "        value = value - 150000\n",
    "        if(year <= years_working): # are you still working?\n",
    "            value = value + current_salary # add your salary back to your account (you already removed the amount you spend)\n",
    "            current_salary = current_salary*1.025 # increase your salary for next year\n",
    "        if(value <= 0):\n",
    "            value = 0\n",
    "    if(value <= 0):\n",
    "        def_vec[sim-1] = True\n",
    "    port_val_vec[sim-1] = value\n",
    "\n",
    "np.mean(def_vec)"
   ]
  },
  {
   "cell_type": "markdown",
   "metadata": {},
   "source": [
    "### Problem 4"
   ]
  },
  {
   "cell_type": "code",
   "execution_count": 15,
   "metadata": {},
   "outputs": [
    {
     "data": {
      "text/plain": [
       "array([1184., 1296.])"
      ]
     },
     "execution_count": 15,
     "metadata": {},
     "output_type": "execute_result"
    }
   ],
   "source": [
    "nsim = 10000\n",
    "profit_vec = [0]*nsim # vector to hold each simulation's profit\n",
    "for sim in range(1,nsim+1): # loop through the simulations\n",
    "    chipsAperf = np.random.normal(size = 100, loc = 10, scale = 3) # get performance of all chips manufactured using first method\n",
    "    chipsBperf = np.random.normal(size = 200, loc = 5, scale = 2) # get performance of all chips manufactured using second method\n",
    "    profitA = [0]*100 # initialize profits of all first method chips to be zero (we'll fix this in the next few lines)\n",
    "    for i in range(100):\n",
    "        if(chipsAperf[i] >= 7): # set profits of high performance chips\n",
    "            profitA[i] = 15-10\n",
    "        else:\n",
    "            profitA[i] = 8-10 # set profits (or losses) of low performance chips\n",
    "            \n",
    "    profitB = [0]*200 # initialize profits of all second method chips to be zero (we'll fix this in the next few lines)\n",
    "    for i in range(200):\n",
    "        if(chipsBperf[i] >= 7):\n",
    "            profitB[i] = 15-5 # set profits of high performance chips\n",
    "        else:\n",
    "            profitB[i] = 8-5 # set profits of low performance chips\n",
    "            \n",
    "    profit_vec[sim-1] = sum(profitA)+sum(profitB) # the total profit in this simulation is the sum of all profits\n",
    "\n",
    "np.quantile(profit_vec,np.array([0.25,0.975])) # use quantile to get 95% predictive/confidence interval"
   ]
  },
  {
   "cell_type": "code",
   "execution_count": 16,
   "metadata": {},
   "outputs": [
    {
     "data": {
      "text/plain": [
       "43.721068892583126"
      ]
     },
     "execution_count": 16,
     "metadata": {},
     "output_type": "execute_result"
    }
   ],
   "source": [
    "np.std(profit_vec) # use std to get the standard deviation"
   ]
  },
  {
   "cell_type": "code",
   "execution_count": null,
   "metadata": {},
   "outputs": [],
   "source": []
  }
 ],
 "metadata": {
  "kernelspec": {
   "display_name": "Python 3",
   "language": "python",
   "name": "python3"
  },
  "language_info": {
   "codemirror_mode": {
    "name": "ipython",
    "version": 3
   },
   "file_extension": ".py",
   "mimetype": "text/x-python",
   "name": "python",
   "nbconvert_exporter": "python",
   "pygments_lexer": "ipython3",
   "version": "3.7.11"
  }
 },
 "nbformat": 4,
 "nbformat_minor": 4
}
