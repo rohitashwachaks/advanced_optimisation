{
 "cells": [
  {
   "cell_type": "markdown",
   "metadata": {},
   "source": [
    "# HW -2\n",
    "\n",
    "rc47878"
   ]
  },
  {
   "cell_type": "markdown",
   "metadata": {},
   "source": [
    "# Imports and Helper Functions"
   ]
  },
  {
   "cell_type": "code",
   "execution_count": 134,
   "metadata": {},
   "outputs": [],
   "source": [
    "import numpy as np\n",
    "import gurobi as gb\n",
    "import matplotlib.pyplot as plt\n",
    "import pandas as pd\n",
    "# from scipy.optimize import minimize\n",
    "from tqdm import tqdm\n",
    "from numpy.random import normal, randint\n",
    "\n",
    "\n",
    "# import sys\n",
    "# sys.path.append('../../')\n",
    "# from gurobi_helper import Gurobi_Model\n",
    "\n",
    "GUROBI_TIMEOUT = 5 # in second\n",
    "\n",
    "%matplotlib inline"
   ]
  },
  {
   "cell_type": "code",
   "execution_count": 135,
   "metadata": {},
   "outputs": [],
   "source": [
    "# Helper Functions\n",
    "\n",
    "class Gurobi_Model():\n",
    "    '''\n",
    "        Class Method I made to help me encapsulate the whole Gurobi model creation, \n",
    "        Finding Slack Variable and perform sensitivity analysis\n",
    "    '''\n",
    "    \n",
    "    def __init__(self, obj_linear, cons, sense, b, variable_types = 'C',\n",
    "                lower_bound = None, upper_bound = None,\n",
    "                optimisation_type = gb.GRB.MAXIMIZE, obj_quadratic = None) -> None:\n",
    "        '''\n",
    "            Initialising the Model\n",
    "        '''\n",
    "        if (obj_quadratic is None) and (obj_linear is None):\n",
    "            raise Exception(\"No objective defined\")\n",
    "\n",
    "        constraints, variables = cons.shape\n",
    "\n",
    "        ## Optimisation Model at work (Maximise)\n",
    "        try:\n",
    "            self.model = gb.Model()\n",
    "            self.model_X = self.model.addMVar(variables,\n",
    "                                        vtype=variable_types,\n",
    "                                        lb= lower_bound, ub= upper_bound)\n",
    "\n",
    "            self.model_constraints = self.model.addMConstr(cons, self.model_X, sense, b)\n",
    "            self.model.setMObjective(obj_quadratic, obj_linear, 0, sense=optimisation_type)\n",
    "            self.model.Params.OutputFlag = 0\n",
    "            self.model.Params.TimeLimit = GUROBI_TIMEOUT\n",
    "\n",
    "            self.model.optimize()\n",
    "\n",
    "        except Exception:\n",
    "            print(\"Error in optimising\")\n",
    "            raise Exception\n",
    "        \n",
    "        ## Assigning stuff for other use cases\n",
    "        try:\n",
    "            self.obj_q = obj_quadratic\n",
    "            self.obj = obj_linear\n",
    "            self.constraint = cons\n",
    "            self.sense = sense\n",
    "            self.b = b\n",
    "        except Exception:\n",
    "            print(\"Error in Storing equations\")\n",
    "            raise Exception\n",
    "        return\n",
    "\n",
    "    @property\n",
    "    def optimal_obj(self): return self.model.objVal\n",
    "\n",
    "    @property\n",
    "    def optimal_x(self): return self.model_X.x\n",
    "\n",
    "    @property\n",
    "    def output(self):\n",
    "        return {'objVal': self.optimal_obj,\n",
    "                'x': self.optimal_x}\n",
    "\n",
    "    def print_equations(self)->None:\n",
    "        '''\n",
    "            Print Objective Functions and Constraint Equations\n",
    "        '''\n",
    "        char = \"a\"\n",
    "        print(\"Optimise System of equations:\")\n",
    "        for item in self.obj:\n",
    "            print(str(item)+char,end=\" + \")\n",
    "            char = chr(ord(char) + 1)\n",
    "        print(\"\\b\\b\")\n",
    "        print(\"Subject to:\")#, end=\" \")\n",
    "        for i in range(self.constraint.shape[0]):\n",
    "            char = \"a\"\n",
    "            print(\"\\t\"+str(i)+\")\",end=\" \")\n",
    "            for j in range(self.constraint.shape[1]):\n",
    "                print(str(self.constraint[i,j])+char,end=\" + \")\n",
    "                char = chr(ord(char) + 1)\n",
    "            print(\"\\b\\b \"+self.sense[i]+\"= \"+str(self.b[i]))\n",
    "        return\n",
    "\n",
    "    def print_slack(self)->None:\n",
    "        '''\n",
    "            Print Slacks for each constraints\n",
    "        '''\n",
    "        print(\"\\nConstraint values at Optimal solution:\\n\",self.constraint@self.optimal_x)\n",
    "        print(\"Binding values:\", self.b)\n",
    "        print(\"Slack: \", abs((self.constraint@self.optimal_x)-self.b))\n",
    "        return\n",
    "\n",
    "    def sensitivity_analysis(self, verbose = False)->None:\n",
    "        '''\n",
    "            Sensitivity Analysis\n",
    "        '''\n",
    "        shadow_cost = {index: con.Pi for index, con in enumerate(self.model_constraints)}\n",
    "        shadow_cost_bound = {index: (con.SARHSLow, con.SARHSUp) for index, con in enumerate(self.model_constraints)}\n",
    "        if verbose:\n",
    "            try:\n",
    "                print(\"\\nShadow Cost:\")\n",
    "                # shadow_cost = [con.Pi for con in self.model_constraints]\n",
    "                print(\"\\t\", shadow_cost)\n",
    "            except:\n",
    "                print(\"\\tCan not fetch value for Shadow Cost\")\n",
    "\n",
    "            try:\n",
    "                print(\"\\nUpper and Lower Bound of Shadow Cost\")\n",
    "                # shadow_cost_bound = [(con.SARHSLow, con.SARHSUp) for con in self.model_constraints]\n",
    "                print(\"\\t\", shadow_cost_bound)\n",
    "            except:\n",
    "                print(\"\\tCan not fetch value for Upper and Lower\")\n",
    "\n",
    "            try:\n",
    "                print(\"\\nRange of Objective where Optimal Corner remains the same\")\n",
    "                print(\"\\tLower Bound:\",self.model_X.SAObjLow)# <- Range of Slope for which optimal Corner remains same\n",
    "                print(\"\\tUpper Bound:\",self.model_X.SAObjUP) # <- Range of Slope for which optimal Corner remains same\n",
    "            except:\n",
    "                print(\"\\tCan not fetch value for Optimal Corner\")        \n",
    "\n",
    "        return {\n",
    "            'shadow_cost': shadow_cost,\n",
    "            'shadow_cost_bound': shadow_cost_bound,\n",
    "            'optimal_corner_range': {\"low\": self.model_X.SAObjLow,\n",
    "                                    'high': self.model_X.SAObjUP}\n",
    "        }"
   ]
  },
  {
   "cell_type": "markdown",
   "metadata": {},
   "source": [
    "# Question 1\n",
    "\n",
    "Use 2019 stock data _(stocks2019.csv)_ to find a portfolio that maximizes expected return while maintaining that no more than 100 days have a negative return.  Short selling is not allowed.  Apply this portfolio to 2020 data _(stocks2020.csv)_, how many days in 2020 had negative returns?\n",
    "\n",
    " \n",
    "\n",
    "To solve this problem set your objective to be the mean return of your portfolio.  Then define a binary variable for each days' return that takes on the value 1 if that day's return is negative, and 0 if it's positive (enforce this with a big-M constraint) and then add a constraint that the sum of these binary variables must be less than or equal to 100.  This is an integer programming problem."
   ]
  },
  {
   "cell_type": "code",
   "execution_count": 206,
   "metadata": {},
   "outputs": [
    {
     "name": "stdout",
     "output_type": "stream",
     "text": [
      "The Stocks Dataset has 3 days data for 2 stocks following the \"NDX\" index\n"
     ]
    },
    {
     "data": {
      "text/html": [
       "<div>\n",
       "<style scoped>\n",
       "    .dataframe tbody tr th:only-of-type {\n",
       "        vertical-align: middle;\n",
       "    }\n",
       "\n",
       "    .dataframe tbody tr th {\n",
       "        vertical-align: top;\n",
       "    }\n",
       "\n",
       "    .dataframe thead th {\n",
       "        text-align: right;\n",
       "    }\n",
       "</style>\n",
       "<table border=\"1\" class=\"dataframe\">\n",
       "  <thead>\n",
       "    <tr style=\"text-align: right;\">\n",
       "      <th></th>\n",
       "      <th>ATVI</th>\n",
       "      <th>ADBE</th>\n",
       "    </tr>\n",
       "    <tr>\n",
       "      <th>X</th>\n",
       "      <th></th>\n",
       "      <th></th>\n",
       "    </tr>\n",
       "  </thead>\n",
       "  <tbody>\n",
       "    <tr>\n",
       "      <th>2019-01-03</th>\n",
       "      <td>-0.035509</td>\n",
       "      <td>-0.039498</td>\n",
       "    </tr>\n",
       "    <tr>\n",
       "      <th>2019-01-04</th>\n",
       "      <td>0.039903</td>\n",
       "      <td>0.048632</td>\n",
       "    </tr>\n",
       "    <tr>\n",
       "      <th>2019-01-07</th>\n",
       "      <td>0.028196</td>\n",
       "      <td>0.013573</td>\n",
       "    </tr>\n",
       "  </tbody>\n",
       "</table>\n",
       "</div>"
      ],
      "text/plain": [
       "                ATVI      ADBE\n",
       "X                             \n",
       "2019-01-03 -0.035509 -0.039498\n",
       "2019-01-04  0.039903  0.048632\n",
       "2019-01-07  0.028196  0.013573"
      ]
     },
     "execution_count": 206,
     "metadata": {},
     "output_type": "execute_result"
    }
   ],
   "source": [
    "stocks2019 = pd.read_csv('stocks2019.csv')\n",
    "stocks2019.X = pd.to_datetime(stocks2019.X)\n",
    "stocks2019.set_index('X', inplace= True)\n",
    "#Changing price levels to returns and discarding first row\n",
    "stocks2019 = stocks2019.pct_change().iloc[1:]\n",
    "stocks2019 = stocks2019.iloc[:3,:3]\n",
    "print(f'The Stocks Dataset has {stocks2019.shape[0]} days data for {stocks2019.shape[1] - 1} stocks following the \"NDX\" index')\n",
    "stocks2019.drop(['NDX'], axis = 1, inplace = True)\n",
    "stocks2019"
   ]
  },
  {
   "cell_type": "markdown",
   "metadata": {},
   "source": [
    "Objective: Maximise Portfolio Returns s.t. Returns can not be -ve for ≥ 100 days\n",
    "\n",
    "Let portfolio return $P$ be defined as:\n",
    "$$P = w_0x_0 + w_1x_1 + ... + w_{n-1}x_{n-1} + w_nx_n$$\n",
    "$$Or,\\text{  }P = W^T.X$$\n",
    "where $W^T$ are the weights of each stock\n",
    "\n",
    "And, $X$ is a vector of stock returns\n",
    "\n",
    "We know:\n",
    "- $\\sum_{i=0}^n w_i = 1$"
   ]
  },
  {
   "cell_type": "code",
   "execution_count": 207,
   "metadata": {},
   "outputs": [
    {
     "name": "stdout",
     "output_type": "stream",
     "text": [
      "3 2\n"
     ]
    }
   ],
   "source": [
    "num_days, num_stocks = stocks2019.shape\n",
    "print(num_days, num_stocks)\n",
    "M = 10000\n",
    "#obj = 250 binary var.(+ve/-ve return) + 250 continuous var.(avg. profit) + 100 continuous var.(stock return)\n",
    "obj = np.array([0]*num_days + [1/num_days]*num_days + [0]*num_stocks)\n",
    "\n",
    "variables = obj.shape[0]\n",
    "constraints = 2*num_days + 2\n",
    "\n",
    "A = np.zeros((constraints, variables))\n",
    "b = np.zeros(constraints)\n",
    "sense = np.array(['<']*constraints)\n",
    "\n",
    "for day in range(0,num_days):\n",
    "    A[2*day,-num_stocks:] = stocks2019.iloc[day]\n",
    "    A[2*day, num_days+ day] = -1\n",
    "    sense[2*day] = '='\n",
    "    b[2*day] = 0\n",
    "\n",
    "    A[(2*day)+1, [day, num_days+day]] = [M,1]\n",
    "    sense[(2*day)+1] = '>'\n",
    "    b[(2*day)+1] = 0\n",
    "    # break\n",
    "\n",
    "# Weight of portfolio = 1 constraint\n",
    "A[-2,-num_stocks:] = 1\n",
    "sense[-2] = '='\n",
    "b[-2] = 1\n",
    "\n",
    "# -ve Return days Constraint\n",
    "A[-1,:num_days] = 1\n",
    "b[-1] = 100\n",
    "\n",
    "lb = "
   ]
  },
  {
   "cell_type": "code",
   "execution_count": 208,
   "metadata": {},
   "outputs": [
    {
     "name": "stdout",
     "output_type": "stream",
     "text": [
      "Optimise System of equations:\n",
      "0.0a + 0.0b + 0.0c + 0.3333333333333333d + 0.3333333333333333e + 0.3333333333333333f + 0.0g + 0.0h \n",
      "Subject to:\n",
      "\t0) 0.0a + 0.0b + 0.0c + -1.0d + 0.0e + 0.0f + -0.0355092234411023g + -0.0394977500267879h  == 0.0\n",
      "\t1) 10000.0a + 0.0b + 0.0c + 1.0d + 0.0e + 0.0f + 0.0g + 0.0h  >= 0.0\n",
      "\t2) 0.0a + 0.0b + 0.0c + 0.0d + -1.0e + 0.0f + 0.039902995030882016g + 0.04863238361565658h  == 0.0\n",
      "\t3) 0.0a + 10000.0b + 0.0c + 0.0d + 1.0e + 0.0f + 0.0g + 0.0h  >= 0.0\n",
      "\t4) 0.0a + 0.0b + 0.0c + 0.0d + 0.0e + -1.0f + 0.028195941013877013g + 0.013572629085524257h  == 0.0\n",
      "\t5) 0.0a + 0.0b + 10000.0c + 0.0d + 0.0e + 1.0f + 0.0g + 0.0h  >= 0.0\n",
      "\t6) 0.0a + 0.0b + 0.0c + 0.0d + 0.0e + 0.0f + 1.0g + 1.0h  == 1.0\n",
      "\t7) 1.0a + 1.0b + 1.0c + 0.0d + 0.0e + 0.0f + 0.0g + 0.0h  <= 100.0\n"
     ]
    },
    {
     "ename": "AttributeError",
     "evalue": "Unable to retrieve attribute 'objVal'",
     "output_type": "error",
     "traceback": [
      "\u001b[0;31m---------------------------------------------------------------------------\u001b[0m",
      "\u001b[0;31mAttributeError\u001b[0m                            Traceback (most recent call last)",
      "\u001b[1;32m/Users/rchaks/Code/GitHub/advanced_optimisation/Assignments/HW2/HW2.ipynb Cell 9'\u001b[0m in \u001b[0;36m<module>\u001b[0;34m\u001b[0m\n\u001b[1;32m      <a href='vscode-notebook-cell:/Users/rchaks/Code/GitHub/advanced_optimisation/Assignments/HW2/HW2.ipynb#ch0000033?line=0'>1</a>\u001b[0m model_1 \u001b[39m=\u001b[39m Gurobi_Model(obj_linear\u001b[39m=\u001b[39m obj,\n\u001b[1;32m      <a href='vscode-notebook-cell:/Users/rchaks/Code/GitHub/advanced_optimisation/Assignments/HW2/HW2.ipynb#ch0000033?line=1'>2</a>\u001b[0m                         cons\u001b[39m=\u001b[39m A,\n\u001b[1;32m      <a href='vscode-notebook-cell:/Users/rchaks/Code/GitHub/advanced_optimisation/Assignments/HW2/HW2.ipynb#ch0000033?line=2'>3</a>\u001b[0m                         sense\u001b[39m=\u001b[39m sense,\n\u001b[1;32m      <a href='vscode-notebook-cell:/Users/rchaks/Code/GitHub/advanced_optimisation/Assignments/HW2/HW2.ipynb#ch0000033?line=3'>4</a>\u001b[0m                         b \u001b[39m=\u001b[39m b,\n\u001b[1;32m      <a href='vscode-notebook-cell:/Users/rchaks/Code/GitHub/advanced_optimisation/Assignments/HW2/HW2.ipynb#ch0000033?line=4'>5</a>\u001b[0m                         variable_types\u001b[39m=\u001b[39m [\u001b[39m'\u001b[39m\u001b[39mB\u001b[39m\u001b[39m'\u001b[39m]\u001b[39m*\u001b[39mnum_days \u001b[39m+\u001b[39m [\u001b[39m'\u001b[39m\u001b[39mC\u001b[39m\u001b[39m'\u001b[39m]\u001b[39m*\u001b[39m(num_days\u001b[39m+\u001b[39mnum_stocks)\n\u001b[1;32m      <a href='vscode-notebook-cell:/Users/rchaks/Code/GitHub/advanced_optimisation/Assignments/HW2/HW2.ipynb#ch0000033?line=5'>6</a>\u001b[0m                     )\n\u001b[1;32m      <a href='vscode-notebook-cell:/Users/rchaks/Code/GitHub/advanced_optimisation/Assignments/HW2/HW2.ipynb#ch0000033?line=6'>7</a>\u001b[0m model_1\u001b[39m.\u001b[39mprint_equations()\n\u001b[0;32m----> <a href='vscode-notebook-cell:/Users/rchaks/Code/GitHub/advanced_optimisation/Assignments/HW2/HW2.ipynb#ch0000033?line=7'>8</a>\u001b[0m \u001b[39mprint\u001b[39m(\u001b[39mf\u001b[39m\u001b[39m'\u001b[39m\u001b[39mOpimal Profit: \u001b[39m\u001b[39m{\u001b[39;00mmodel_1\u001b[39m.\u001b[39moptimal_obj\u001b[39m}\u001b[39;00m\u001b[39m'\u001b[39m)\n\u001b[1;32m      <a href='vscode-notebook-cell:/Users/rchaks/Code/GitHub/advanced_optimisation/Assignments/HW2/HW2.ipynb#ch0000033?line=8'>9</a>\u001b[0m response \u001b[39m=\u001b[39m model_1\u001b[39m.\u001b[39mmodel_X\u001b[39m.\u001b[39mx\n\u001b[1;32m     <a href='vscode-notebook-cell:/Users/rchaks/Code/GitHub/advanced_optimisation/Assignments/HW2/HW2.ipynb#ch0000033?line=9'>10</a>\u001b[0m response\n",
      "\u001b[1;32m/Users/rchaks/Code/GitHub/advanced_optimisation/Assignments/HW2/HW2.ipynb Cell 4'\u001b[0m in \u001b[0;36mGurobi_Model.optimal_obj\u001b[0;34m(self)\u001b[0m\n\u001b[1;32m     <a href='vscode-notebook-cell:/Users/rchaks/Code/GitHub/advanced_optimisation/Assignments/HW2/HW2.ipynb#ch0000009?line=49'>50</a>\u001b[0m \u001b[39m@property\u001b[39m\n\u001b[0;32m---> <a href='vscode-notebook-cell:/Users/rchaks/Code/GitHub/advanced_optimisation/Assignments/HW2/HW2.ipynb#ch0000009?line=50'>51</a>\u001b[0m \u001b[39mdef\u001b[39;00m \u001b[39moptimal_obj\u001b[39m(\u001b[39mself\u001b[39m): \u001b[39mreturn\u001b[39;00m \u001b[39mself\u001b[39;49m\u001b[39m.\u001b[39;49mmodel\u001b[39m.\u001b[39;49mobjVal\n",
      "File \u001b[0;32msrc/gurobipy/model.pxi:353\u001b[0m, in \u001b[0;36mgurobipy.Model.__getattr__\u001b[0;34m()\u001b[0m\n",
      "File \u001b[0;32msrc/gurobipy/model.pxi:1882\u001b[0m, in \u001b[0;36mgurobipy.Model.getAttr\u001b[0;34m()\u001b[0m\n",
      "File \u001b[0;32msrc/gurobipy/attrutil.pxi:100\u001b[0m, in \u001b[0;36mgurobipy.__getattr\u001b[0;34m()\u001b[0m\n",
      "\u001b[0;31mAttributeError\u001b[0m: Unable to retrieve attribute 'objVal'"
     ]
    }
   ],
   "source": [
    "model_1 = Gurobi_Model(obj_linear= obj,\n",
    "                        cons= A,\n",
    "                        sense= sense,\n",
    "                        b = b,\n",
    "                        variable_types= ['B']*num_days + ['C']*(num_days+num_stocks)\n",
    "                    )\n",
    "model_1.print_equations()\n",
    "print(f'Opimal Profit: {model_1.optimal_obj}')\n",
    "response = model_1.model_X.x\n",
    "response"
   ]
  },
  {
   "cell_type": "markdown",
   "metadata": {},
   "source": [
    "# Question 2\n",
    "\n",
    "You are the publisher for 5 local newspapers.  The previous 50 days worth of demand is included in the following file\n",
    "\n",
    "_hw2_demand.csv_\n",
    "\n",
    "It costs you $0.50, $0.50, $0.25, $0.75, $0.25  to print each copy of each of the 5 newspapers.\n",
    "\n",
    "The newspapers sell for $1.25, $1.20, $0.50, $1.50, $0.60 each.\n",
    "\n",
    " \n",
    "\n",
    "Solve the multi-product newsvendor problem.\n",
    "\n",
    " \n",
    "How much profits do you expect to make tomorrow?  Round to the nearest cent."
   ]
  },
  {
   "cell_type": "code",
   "execution_count": 136,
   "metadata": {},
   "outputs": [
    {
     "data": {
      "text/html": [
       "<div>\n",
       "<style scoped>\n",
       "    .dataframe tbody tr th:only-of-type {\n",
       "        vertical-align: middle;\n",
       "    }\n",
       "\n",
       "    .dataframe tbody tr th {\n",
       "        vertical-align: top;\n",
       "    }\n",
       "\n",
       "    .dataframe thead th {\n",
       "        text-align: right;\n",
       "    }\n",
       "</style>\n",
       "<table border=\"1\" class=\"dataframe\">\n",
       "  <thead>\n",
       "    <tr style=\"text-align: right;\">\n",
       "      <th></th>\n",
       "      <th>X1</th>\n",
       "      <th>X2</th>\n",
       "      <th>X3</th>\n",
       "      <th>X4</th>\n",
       "      <th>X5</th>\n",
       "    </tr>\n",
       "  </thead>\n",
       "  <tbody>\n",
       "    <tr>\n",
       "      <th>0</th>\n",
       "      <td>19</td>\n",
       "      <td>1358</td>\n",
       "      <td>95</td>\n",
       "      <td>65</td>\n",
       "      <td>4994</td>\n",
       "    </tr>\n",
       "    <tr>\n",
       "      <th>1</th>\n",
       "      <td>31</td>\n",
       "      <td>734</td>\n",
       "      <td>153</td>\n",
       "      <td>106</td>\n",
       "      <td>1711</td>\n",
       "    </tr>\n",
       "    <tr>\n",
       "      <th>2</th>\n",
       "      <td>45</td>\n",
       "      <td>732</td>\n",
       "      <td>198</td>\n",
       "      <td>348</td>\n",
       "      <td>205</td>\n",
       "    </tr>\n",
       "    <tr>\n",
       "      <th>3</th>\n",
       "      <td>1</td>\n",
       "      <td>57</td>\n",
       "      <td>64</td>\n",
       "      <td>89</td>\n",
       "      <td>278</td>\n",
       "    </tr>\n",
       "    <tr>\n",
       "      <th>4</th>\n",
       "      <td>180</td>\n",
       "      <td>316</td>\n",
       "      <td>277</td>\n",
       "      <td>176</td>\n",
       "      <td>46</td>\n",
       "    </tr>\n",
       "  </tbody>\n",
       "</table>\n",
       "</div>"
      ],
      "text/plain": [
       "    X1    X2   X3   X4    X5\n",
       "0   19  1358   95   65  4994\n",
       "1   31   734  153  106  1711\n",
       "2   45   732  198  348   205\n",
       "3    1    57   64   89   278\n",
       "4  180   316  277  176    46"
      ]
     },
     "execution_count": 136,
     "metadata": {},
     "output_type": "execute_result"
    }
   ],
   "source": [
    "demand = pd.read_csv('hw2_demand.csv')\n",
    "cost = pd.Series([0.5, 0.5, 0.25, 0.75, 0.25], index= demand.columns)\n",
    "sale = pd.Series([1.25, 1.20, 0.50, 1.50, 0.60], index= demand.columns)\n",
    "demand.head()"
   ]
  },
  {
   "cell_type": "markdown",
   "metadata": {},
   "source": [
    "$$\\max_q \\text{ Profit}_i = {(\\min(quantity,demand_i)*sale - quantity*cost)}$$\n",
    "By Sample Average Approximation,\n",
    "$$\\max_{q} \\text{ Profit}_i = \\frac{1}{N}\\sum_{i=0}^{N} {(\\min(quantity_i,demand_i)*sale - quantity_i*cost)}$$\n",
    "$$\\max_{q} \\text{ Profit}_i = \\frac{1}{N}\\sum_{i=0}^{N} {(\\min(quantity_i,demand_i)*sale - quantity_i*cost)}$$\n",
    "\n",
    "Here Quantity, Cost and sale price are all vectors $\\epsilon\\text{  } \\R^{5x1}$"
   ]
  },
  {
   "cell_type": "code",
   "execution_count": 137,
   "metadata": {},
   "outputs": [],
   "source": [
    "days = demand.shape[0]\n",
    "profit = np.zeros(5 + days)\n",
    "profit[5:] = 1/days # Expected profit is the average of all historic profits\n",
    "variables = profit.shape[0]\n",
    "constraints = 2*days\n",
    "\n",
    "A = np.zeros((constraints, variables))\n",
    "b = np.zeros(constraints)\n",
    "sense = [\"<\"]*constraints\n",
    "\n",
    "for i in range(days):\n",
    "    # h + cq ≤ pDi\n",
    "    A[2*i,[x for x in range(5)]+[5+i]] = cost.to_list()+[1]\n",
    "    b[2*i] = np.dot(demand.iloc[i], sale)\n",
    "\n",
    "    # h - (p-c)q ≤ 0 == h + (c-p)q ≤ 0\n",
    "    A[(2*i)+1,[x for x in range(5)]+[5+i]] = (cost - sale).to_list()+[1]\n",
    "    b[(2*i)+1] = 0\n",
    "\n",
    "sense = np.array(sense)\n",
    "lb = np.zeros(variables)\n",
    "lb[5:] = -np.inf # daily profits can be -ve but quantity can not be\n"
   ]
  },
  {
   "cell_type": "code",
   "execution_count": 139,
   "metadata": {},
   "outputs": [],
   "source": [
    "model_2 = Gurobi_Model(obj_linear= profit,\n",
    "                        cons= A,\n",
    "                        sense= sense,\n",
    "                        b = b,\n",
    "                        lower_bound= lb)"
   ]
  },
  {
   "cell_type": "code",
   "execution_count": 140,
   "metadata": {},
   "outputs": [
    {
     "name": "stdout",
     "output_type": "stream",
     "text": [
      "Expected Profit for tomorrow: 526.72\n"
     ]
    }
   ],
   "source": [
    "print(f'Expected Profit for tomorrow: {np.round(model_2.optimal_obj, 2)}')"
   ]
  },
  {
   "cell_type": "markdown",
   "metadata": {},
   "source": [
    "# Question 3\n",
    "\n",
    "Go back to the saving for retirement problem we did in class.  There's approximately a 55% chance you go bankrupt before you die.  That's not very good.  You should probably keep working for a few more years.  Today you have $2M in your retirement account.  If you keep working, you earn $400k (after taxes) per year, with a 2.5% raise every year.  You still spend $150k per year and when you work, every dollar of salary that you don't spend goes into your retirement account. As in the code from class, each year first grow your portfolio from market returns, then add your salary and give yourself a raise for next year (if you're still working), then subtract your cost of living. You're still going to die 35 years from today.  The market has normal annual returns with mean = 7% and sd = 10%.  What is the smallest number of years you need to work such that your probability of going bankrupt before death is less than 6%?  Use 10000 simulations."
   ]
  },
  {
   "cell_type": "code",
   "execution_count": 155,
   "metadata": {},
   "outputs": [
    {
     "name": "stderr",
     "output_type": "stream",
     "text": [
      "  9%|▊         | 3/35 [00:08<01:28,  2.75s/it]"
     ]
    },
    {
     "name": "stdout",
     "output_type": "stream",
     "text": [
      "minimum number of years to work to avoid bankruptcy is:3\n"
     ]
    },
    {
     "name": "stderr",
     "output_type": "stream",
     "text": [
      "\n"
     ]
    }
   ],
   "source": [
    "nsim = 10000\n",
    "\n",
    "death = 35\n",
    "hike = 0.025\n",
    "bankrupt_probability = []\n",
    "portfolio_average = []\n",
    "\n",
    "for min_years_to_work in tqdm(range(35)):\n",
    "    # print('Years to work:',min_years_to_work, end= \"\\t\")\n",
    "    def_vec_rd = np.array([False]*nsim)\n",
    "    port_val_vec_rd = np.zeros(nsim)\n",
    "    \n",
    "    for sim in range(nsim):\n",
    "        portfolio = 2000000\n",
    "        salary = 400000\n",
    "        isWorking = True\n",
    "\n",
    "        for year in range(death):\n",
    "            # market returns of 7% with 10% std\n",
    "            mrkt_return_pct = (np.random.normal(size = 1, loc = 7, scale = 10)/100)[0]\n",
    "\n",
    "            #grow portfolio\n",
    "            portfolio *= (1+mrkt_return_pct)\n",
    "\n",
    "            # Check if working\n",
    "            if year >= min_years_to_work and isWorking:\n",
    "                isWorking = np.where(randint(0,1) == 1, True, False)\n",
    "            \n",
    "            #Add salary if working\n",
    "            if isWorking:\n",
    "                portfolio += salary\n",
    "\n",
    "                # next year's increment\n",
    "                salary *= (1+ hike)\n",
    "            \n",
    "            #expenses\n",
    "            portfolio = portfolio - 150000\n",
    "\n",
    "            if (portfolio <= 0):\n",
    "                portfolio = 0\n",
    "            \n",
    "        if portfolio <= 0:\n",
    "            def_vec_rd[sim] = True\n",
    "        port_val_vec_rd[sim] = portfolio\n",
    "\n",
    "    bankrupt_probability.append(np.mean(def_vec_rd))\n",
    "    portfolio_average.append(np.mean(port_val_vec_rd))\n",
    "    if np.mean(def_vec_rd) < 0.06:\n",
    "        print(f'minimum number of years to work to avoid bankruptcy is:{min_years_to_work}')\n",
    "        break\n",
    "# bankrupt_probability"
   ]
  },
  {
   "cell_type": "code",
   "execution_count": 156,
   "metadata": {},
   "outputs": [
    {
     "data": {
      "text/plain": [
       "Text(0.5, 1.0, 'P(Bankruptcy before 35)')"
      ]
     },
     "execution_count": 156,
     "metadata": {},
     "output_type": "execute_result"
    },
    {
     "data": {
      "image/png": "[encoded data removed]",
      "text/plain": [
       "<Figure size 432x288 with 1 Axes>"
      ]
     },
     "metadata": {
      "needs_background": "light"
     },
     "output_type": "display_data"
    }
   ],
   "source": [
    "plt.plot(np.array(bankrupt_probability))\n",
    "plt.hlines(0.06,0, len(bankrupt_probability), linestyles= 'dashed', colors='red')\n",
    "plt.title(\"P(Bankruptcy before 35)\")"
   ]
  },
  {
   "cell_type": "code",
   "execution_count": 157,
   "metadata": {},
   "outputs": [
    {
     "data": {
      "text/plain": [
       "Text(0.5, 1.0, 'Average Portfolio Size')"
      ]
     },
     "execution_count": 157,
     "metadata": {},
     "output_type": "execute_result"
    },
    {
     "data": {
      "image/png": "[encoded data removed]",
      "text/plain": [
       "<Figure size 432x288 with 1 Axes>"
      ]
     },
     "metadata": {
      "needs_background": "light"
     },
     "output_type": "display_data"
    }
   ],
   "source": [
    "plt.plot(np.array(portfolio_average))\n",
    "plt.title(\"Average Portfolio Size\")"
   ]
  },
  {
   "cell_type": "markdown",
   "metadata": {},
   "source": [
    "# Question 4\n",
    "\n",
    "You manufacture microprocessors.  There are 2 lines of chips: high performance and low performance.  Your manufacturing processes are not perfect though, there are quality issues in your production. There are 2 manufacturing processes you can perform.  One process produces chips where the performance is a normal random variable with mean = 10 and sd = 3, and it costs $10 to manufacture chips using this process.  The other manufacturing process produces chips where the performance is a normal random variable with mean = 5 and sd = 2, and it costs $5 to manufacture chips using this process.  Any chip that has a performance less than 7 must be sold as a low performance chip, and any chip that has a performance above 7 can be sold as a high performance chip.  Low performance chips sell for $8 and high performance chips sell for $15.  There is currently a global chip shortage, so any chip you manufacture will sell immediately.  If you produce 100 chips using the first process and 200 chips using the second process, what is the standard deviation of your profit?  Use 10000 simulations to answer this question."
   ]
  },
  {
   "cell_type": "code",
   "execution_count": 57,
   "metadata": {},
   "outputs": [
    {
     "name": "stderr",
     "output_type": "stream",
     "text": [
      "100%|██████████| 10000/10000 [00:00<00:00, 26758.86it/s]\n"
     ]
    }
   ],
   "source": [
    "simulation_count = 10000\n",
    "profits = np.array([0]*simulation_count)\n",
    "\n",
    "for i in tqdm(range(simulation_count)):\n",
    "    process1 = normal(10, 3, 100) # Producing 100 chips using process 1 Normal(mean = 10, sd = 3)\n",
    "    process2 = normal(5, 2, 200) # Producing 200 chips using process 2 Normal(mean = 5, sd = 2)\n",
    "    cost_price = np.sum(10*process1.shape[0]) + np.sum(5*process2.shape[0])\n",
    "\n",
    "    products = np.append(process1, process2)\n",
    "    # < 7 is low performance. Low sells for $8; high for $15\n",
    "    sale_price = np.sum(np.where(products < 7, 8, 15))\n",
    "    profits[i] = sale_price - cost_price"
   ]
  },
  {
   "cell_type": "code",
   "execution_count": 58,
   "metadata": {},
   "outputs": [
    {
     "name": "stdout",
     "output_type": "stream",
     "text": [
      "Expected Profit: 1210.5671\n",
      "Standard Deviation: 44.38772688018614\n"
     ]
    },
    {
     "data": {
      "image/png": "[encoded data removed]",
      "text/plain": [
       "<Figure size 432x288 with 1 Axes>"
      ]
     },
     "metadata": {
      "needs_background": "light"
     },
     "output_type": "display_data"
    }
   ],
   "source": [
    "plt.hist(profits)\n",
    "print(f'Expected Profit: {np.mean(profits)}\\nStandard Deviation: {np.std(profits)}')"
   ]
  },
  {
   "cell_type": "markdown",
   "metadata": {},
   "source": [
    "***"
   ]
  }
 ],
 "metadata": {
  "interpreter": {
   "hash": "8bc5f0ab7253157a95fbe4d5d2614bd1d73b94539cbf0ce31d70a0d97640c06a"
  },
  "kernelspec": {
   "display_name": "Python 3.8.12 ('advanced_optimisation')",
   "language": "python",
   "name": "python3"
  },
  "language_info": {
   "codemirror_mode": {
    "name": "ipython",
    "version": 3
   },
   "file_extension": ".py",
   "mimetype": "text/x-python",
   "name": "python",
   "nbconvert_exporter": "python",
   "pygments_lexer": "ipython3",
   "version": "3.8.12"
  },
  "orig_nbformat": 4
 },
 "nbformat": 4,
 "nbformat_minor": 2
}
