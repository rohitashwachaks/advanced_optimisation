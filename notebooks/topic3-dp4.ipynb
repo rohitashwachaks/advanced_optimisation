{
 "cells": [
  {
   "cell_type": "code",
   "execution_count": null,
   "metadata": {},
   "outputs": [],
   "source": [
    "import numpy as np"
   ]
  },
  {
   "cell_type": "code",
   "execution_count": null,
   "metadata": {},
   "outputs": [],
   "source": [
    "def solve_coin_game(coins):\n",
    "    nc = len(coins)\n",
    "    U = np.zeros((nc,nc))*np.nan # 0 means pick the left coin, 1 means pick the right coin\n",
    "    V = np.zeros((nc,nc))\n",
    "    \n",
    "        \n",
    "    # bellman equation for maximizing opponent\n",
    "    for coins_on_table in range(1,nc+1):\n",
    "        for left in range(nc-coins_on_table+1):\n",
    "            if coins_on_table==1:\n",
    "                V[left,left] = coins[left]\n",
    "                U[left,left] = 0\n",
    "            elif coins_on_table == 2:\n",
    "                choices = [coins[left],coins[left+1]]\n",
    "                V[left,left+1] = np.max(choices)\n",
    "                U[left,left+1] = np.argmax(choices)\n",
    "            else:\n",
    "                right = left+coins_on_table-1\n",
    "                choice_L = coins[left] + min(V[left+1,right-1],V[left+2,right])\n",
    "                choice_R = coins[right] + min(V[left+1,right-1],V[left,right-2])\n",
    "                choices = [choice_L,choice_R]\n",
    "                V[left,right] = np.max(choices)\n",
    "                U[left,right] = np.argmax(choices)\n",
    "    return V,U\n",
    "                "
   ]
  },
  {
   "cell_type": "code",
   "execution_count": null,
   "metadata": {},
   "outputs": [],
   "source": [
    "V,U = solve_coin_game([1,1,10,5,25,1,100,100,10,25,20,5])"
   ]
  },
  {
   "cell_type": "code",
   "execution_count": null,
   "metadata": {},
   "outputs": [],
   "source": [
    "V"
   ]
  },
  {
   "cell_type": "code",
   "execution_count": null,
   "metadata": {},
   "outputs": [],
   "source": [
    "U"
   ]
  },
  {
   "cell_type": "code",
   "execution_count": null,
   "metadata": {},
   "outputs": [],
   "source": [
    "# let's play the game\n",
    "\n",
    "nc = 16\n",
    "\n",
    "coins = np.random.choice([1,5,10,25,50,100],nc,replace=True)\n",
    "V,U = solve_coin_game(coins)\n",
    "print('The coins on the table are')\n",
    "print(coins)\n",
    "\n",
    "\n",
    "turn = input('Do you want to go first (input 1) or second (input 2)?')\n",
    "\n",
    "left = 0\n",
    "right = nc-1\n",
    "my_score = 0\n",
    "opp_score = 0\n",
    "\n",
    "if turn == '2':\n",
    "    pickup_opp = U[left,right]\n",
    "    if pickup_opp == 0:\n",
    "        print('The computer picked up the coin on the left')\n",
    "        opp_score += coins[left]\n",
    "        left += 1\n",
    "        nc -= 1\n",
    "    else:\n",
    "        print('The computer picked up the coin on the right')\n",
    "        opp_score += coins[right]\n",
    "        right -= 1\n",
    "        nc -=1\n",
    "\n",
    "while nc > 0:\n",
    "    print('\\n\\n')\n",
    "    print('Your score is '+str(my_score))\n",
    "    print(\"The computer's score is \"+str(opp_score))\n",
    "    print('The coins on the table are')\n",
    "    print(coins[left:right+1])\n",
    "    pickup_me = input('What coin do you want to pickup, L or R?')\n",
    "    if (pickup_me == 'L') | (pickup_me == 'l'):\n",
    "        my_score += coins[left]\n",
    "        left += 1\n",
    "        nc -= 1\n",
    "    else:\n",
    "        my_score += coins[right]\n",
    "        right -= 1\n",
    "        nc -= 1\n",
    "        \n",
    "    if nc > 0:\n",
    "        \n",
    "        pickup_opp = U[left,right]\n",
    "        print('\\n')\n",
    "        if pickup_opp == 0:\n",
    "            print('The computer picked up the coin on the left')\n",
    "            opp_score += coins[left]\n",
    "            left += 1\n",
    "            nc -= 1\n",
    "        else:\n",
    "            print('The computer picked up the coin on the right')\n",
    "            opp_score += coins[right]\n",
    "            right -= 1\n",
    "            nc -=1\n",
    "\n",
    "print('Your score was '+str(my_score))\n",
    "print(\"The computer's score was \"+str(opp_score))\n",
    "if my_score >= opp_score:\n",
    "    print('Congratulations, you won!')\n",
    "else:\n",
    "    print('Too bad, you lose :(')"
   ]
  },
  {
   "cell_type": "code",
   "execution_count": null,
   "metadata": {},
   "outputs": [],
   "source": []
  },
  {
   "cell_type": "code",
   "execution_count": null,
   "metadata": {},
   "outputs": [],
   "source": []
  },
  {
   "cell_type": "code",
   "execution_count": null,
   "metadata": {},
   "outputs": [],
   "source": []
  }
 ],
 "metadata": {
  "kernelspec": {
   "display_name": "Python 3",
   "language": "python",
   "name": "python3"
  },
  "language_info": {
   "codemirror_mode": {
    "name": "ipython",
    "version": 3
   },
   "file_extension": ".py",
   "mimetype": "text/x-python",
   "name": "python",
   "nbconvert_exporter": "python",
   "pygments_lexer": "ipython3",
   "version": "3.7.4"
  }
 },
 "nbformat": 4,
 "nbformat_minor": 2
}
