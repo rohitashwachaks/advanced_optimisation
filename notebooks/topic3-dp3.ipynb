{
  "cells": [
    {
      "cell_type": "code",
      "execution_count": null,
      "metadata": {
        "id": "ERxclLCy99of"
      },
      "outputs": [],
      "source": [
        "import numpy as np\n",
        "import pandas as pd\n",
        "import matplotlib.pyplot as plt\n",
        "%matplotlib inline"
      ]
    },
    {
      "cell_type": "code",
      "execution_count": null,
      "metadata": {
        "id": "z3cNCO4r99oh"
      },
      "outputs": [],
      "source": [
        "priceL = 180\n",
        "priceH = 300\n",
        "pL = [0.3,0.7] # demand probabilities for low price\n",
        "pH = [0.6,0.4] # demand probabilities for high price\n",
        "\n",
        "delta = 0.98 # discount rate\n",
        "\n",
        "M = 100 # number of seats on plane\n",
        "T = 365 # days until takeoff\n",
        "\n",
        "sValues = np.arange(M+1) # all possible number of seats left\n",
        "tValues = np.arange(T+1) # all possible days until takeoff\n",
        "sN = len(sValues) # count possible state values\n",
        "tN = len(tValues)"
      ]
    },
    {
      "cell_type": "code",
      "execution_count": null,
      "metadata": {
        "id": "cbgoU2q899ok"
      },
      "outputs": [],
      "source": [
        "V = np.zeros((sN,tN)) # initialize value function\n",
        "U = np.zeros((sN,tN)) # initialize optimal choice variable\n",
        "\n",
        "# boundary/terminal condition\n",
        "V[:,tN-1] = 0 # when the flight takes off you can't make any more money\n",
        "U[:,tN-1] = 0 # 0 is the value for no tickets for sale\n"
      ]
    },
    {
      "cell_type": "code",
      "execution_count": null,
      "metadata": {
        "id": "BLz0DwfG99ol"
      },
      "outputs": [],
      "source": [
        "for t in reversed(range(tN-1)):\n",
        "    for s in range(sN):\n",
        "        if s==0: # is the flight full (0 seats left)\n",
        "            V[s,t]=0 # if so, you can't make any more money\n",
        "            U[s,t]=3 # no tickets for sale\n",
        "        else:\n",
        "            # value if you set the price low\n",
        "            # expected revenue from low price + discounted expected value function next time\n",
        "            valueL = pL[1]*priceL + delta* (pL[0]*V[s,t+1] + pL[1]*V[s-1,t+1])\n",
        "            # expected revenue from low price\n",
        "            valueH = pH[1]*priceH + delta* (pH[0]*V[s,t+1] + pH[1]*V[s-1,t+1]) \n",
        "\n",
        "            V[s,t]=max(valueL,valueH) # value funciton maximizes expected revenue\n",
        "            U[s,t]=np.argmax([valueL,valueH])+1 # choice of price: 1 means low price, 2 means high price\n",
        "            # I'm adding the +1 here to make life easier later"
      ]
    },
    {
      "cell_type": "code",
      "execution_count": null,
      "metadata": {
        "id": "ktinZcQo99on"
      },
      "outputs": [],
      "source": [
        "plt.pcolor( U , cmap = 'hsv' );"
      ]
    },
    {
      "cell_type": "code",
      "execution_count": null,
      "metadata": {
        "id": "g3Byemye99oo"
      },
      "outputs": [],
      "source": [
        ""
      ]
    },
    {
      "cell_type": "code",
      "execution_count": null,
      "metadata": {
        "id": "GHDaWFc399op"
      },
      "outputs": [],
      "source": [
        ""
      ]
    },
    {
      "cell_type": "code",
      "execution_count": null,
      "metadata": {
        "id": "VjVyI9s399op"
      },
      "outputs": [],
      "source": [
        "s = sN-1 # on the first day all seats are available\n",
        "total_rev = 0 # we haven't made any money yet\n",
        "seats_left_vec = np.zeros(tN-1) # store how many seats\n",
        "revenue_vec = np.zeros(tN-1)\n",
        "price_vec = np.zeros(tN-1)\n",
        "for t in range(tN-1): # loop forward in time...don't need last time period since we can't sell anything then\n",
        "    opt_price = U[s,t] # how much should we charge\n",
        "    price_vec[t] = opt_price\n",
        "    if opt_price == 1: # low price\n",
        "        prob_sale = pL[1] # for each value of U find probability of making a sale\n",
        "        actual_price = priceL # for each value find actual sale price\n",
        "    elif opt_price == 2: # high price\n",
        "        prob_sale = pH[1]\n",
        "        actual_price = priceH\n",
        "    else: # no tickets for sale\n",
        "        prob_sale = 0\n",
        "        actual_price = 0\n",
        "\n",
        "    sale = (np.random.random(1)<prob_sale) # simulate whether a sale was made or not\n",
        "    # when the flight is full the probability of sale is 0, we'll never get a sale\n",
        "    s = int(s - sale) # subtract whether or not a sale was made\n",
        "    total_rev = total_rev + sale*actual_price*delta**(t-1) # add discounted revenue\n",
        "    # save the results\n",
        "    seats_left_vec[t] = s \n",
        "    revenue_vec[t] = total_rev"
      ]
    },
    {
      "cell_type": "code",
      "execution_count": null,
      "metadata": {
        "id": "ZP4acY3R99or"
      },
      "outputs": [],
      "source": [
        "plt.plot(tValues[:-1],seats_left_vec);"
      ]
    },
    {
      "cell_type": "code",
      "execution_count": null,
      "metadata": {
        "id": "ti5huAXp99os"
      },
      "outputs": [],
      "source": [
        "plt.plot(tValues[:-1],revenue_vec);"
      ]
    },
    {
      "cell_type": "code",
      "execution_count": null,
      "metadata": {
        "id": "LfNjcy_R99ot"
      },
      "outputs": [],
      "source": [
        ""
      ]
    },
    {
      "cell_type": "code",
      "execution_count": null,
      "metadata": {
        "id": "UDYHGo1o99ou"
      },
      "outputs": [],
      "source": [
        ""
      ]
    }
  ],
  "metadata": {
    "kernelspec": {
      "display_name": "Python 3",
      "language": "python",
      "name": "python3"
    },
    "language_info": {
      "codemirror_mode": {
        "name": "ipython",
        "version": 3
      },
      "file_extension": ".py",
      "mimetype": "text/x-python",
      "name": "python",
      "nbconvert_exporter": "python",
      "pygments_lexer": "ipython3",
      "version": "3.8.8"
    },
    "colab": {
      "name": "topic3-dp3.ipynb",
      "provenance": [],
      "collapsed_sections": []
    }
  },
  "nbformat": 4,
  "nbformat_minor": 0
}