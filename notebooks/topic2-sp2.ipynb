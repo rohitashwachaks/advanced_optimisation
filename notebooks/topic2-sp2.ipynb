{
 "cells": [
  {
   "cell_type": "code",
   "execution_count": 1,
   "metadata": {},
   "outputs": [],
   "source": [
    "import numpy as np\n",
    "import gurobi as gp\n",
    "import pandas as pd"
   ]
  },
  {
   "cell_type": "code",
   "execution_count": 2,
   "metadata": {},
   "outputs": [],
   "source": [
    "demand_df = pd.read_csv('demand_data.csv')"
   ]
  },
  {
   "cell_type": "code",
   "execution_count": 3,
   "metadata": {},
   "outputs": [
    {
     "data": {
      "text/plain": [
       "25"
      ]
     },
     "execution_count": 3,
     "metadata": {},
     "output_type": "execute_result"
    }
   ],
   "source": [
    "nd = demand_df.shape[0] # number of days of demand data\n",
    "nd"
   ]
  },
  {
   "cell_type": "code",
   "execution_count": 4,
   "metadata": {},
   "outputs": [],
   "source": [
    "cost = 0.5\n",
    "price = 1.25"
   ]
  },
  {
   "cell_type": "code",
   "execution_count": 6,
   "metadata": {},
   "outputs": [],
   "source": [
    "# decision variables are (q, h1, h2, ..., h25)\n",
    "obj = np.zeros(nd+1)\n",
    "obj[1:] = 1.0/nd\n",
    "lb = np.zeros(nd+1)\n",
    "lb[1:] = -np.inf # quantity printed needs to be non-negative, but profit on a given day could possibly be negative\n",
    "rhs = np.zeros(2*nd)\n",
    "direction = np.array(['<']*(2*nd))"
   ]
  },
  {
   "cell_type": "code",
   "execution_count": 7,
   "metadata": {},
   "outputs": [
    {
     "data": {
      "text/plain": [
       "array([0.  , 0.04, 0.04, 0.04, 0.04, 0.04, 0.04, 0.04, 0.04, 0.04, 0.04,\n",
       "       0.04, 0.04, 0.04, 0.04, 0.04, 0.04, 0.04, 0.04, 0.04, 0.04, 0.04,\n",
       "       0.04, 0.04, 0.04, 0.04])"
      ]
     },
     "execution_count": 7,
     "metadata": {},
     "output_type": "execute_result"
    }
   ],
   "source": [
    "obj"
   ]
  },
  {
   "cell_type": "code",
   "execution_count": 8,
   "metadata": {},
   "outputs": [
    {
     "data": {
      "text/plain": [
       "array([[ 0.5 ,  1.  ,  0.  , ...,  0.  ,  0.  ,  0.  ],\n",
       "       [-0.75,  1.  ,  0.  , ...,  0.  ,  0.  ,  0.  ],\n",
       "       [ 0.5 ,  0.  ,  1.  , ...,  0.  ,  0.  ,  0.  ],\n",
       "       ...,\n",
       "       [-0.75,  0.  ,  0.  , ...,  0.  ,  1.  ,  0.  ],\n",
       "       [ 0.5 ,  0.  ,  0.  , ...,  0.  ,  0.  ,  1.  ],\n",
       "       [-0.75,  0.  ,  0.  , ...,  0.  ,  0.  ,  1.  ]])"
      ]
     },
     "execution_count": 8,
     "metadata": {},
     "output_type": "execute_result"
    }
   ],
   "source": [
    "A = np.zeros((2*nd,nd+1))\n",
    "for r in range(nd):\n",
    "    A[2*r,[0,r+1]] = [cost,1] # location 1 is q, location r+1 is this h\n",
    "    rhs[2*r] = price*demand_df.demand[r]\n",
    "    A[2*r+1,[0,r+1]] = [cost-price,1]\n",
    "    rhs[2*r+1] = 0\n",
    "A"
   ]
  },
  {
   "cell_type": "code",
   "execution_count": 9,
   "metadata": {},
   "outputs": [
    {
     "name": "stdout",
     "output_type": "stream",
     "text": [
      "Set parameter Username\n",
      "Academic license - for non-commercial use only - expires 2022-08-25\n"
     ]
    }
   ],
   "source": [
    "spMod = gp.Model()\n",
    "spMod_x = spMod.addMVar(len(obj),lb=lb) # tell the model how many variables there are\n",
    "# must define the variables before adding constraints because variables go into the constraints\n",
    "spMod_con = spMod.addMConstrs(A, spMod_x, direction, rhs) # NAME THE CONSTRAINTS!!! so we can get information about them later!\n",
    "spMod.setMObjective(None,obj,0,sense=gp.GRB.MAXIMIZE) # add the objective to the model...we'll talk about the None and the 0\n",
    "\n",
    "spMod.Params.OutputFlag = 0 # tell gurobi to shut up!!\n",
    "spMod.optimize()\n"
   ]
  },
  {
   "cell_type": "code",
   "execution_count": 10,
   "metadata": {},
   "outputs": [
    {
     "data": {
      "text/plain": [
       "2678.0"
      ]
     },
     "execution_count": 10,
     "metadata": {},
     "output_type": "execute_result"
    }
   ],
   "source": [
    "spMod_x.x[0]"
   ]
  },
  {
   "cell_type": "code",
   "execution_count": 16,
   "metadata": {},
   "outputs": [
    {
     "data": {
      "text/plain": [
       "858.6500000000002"
      ]
     },
     "execution_count": 16,
     "metadata": {},
     "output_type": "execute_result"
    }
   ],
   "source": [
    "spMod.objval"
   ]
  },
  {
   "cell_type": "code",
   "execution_count": 17,
   "metadata": {},
   "outputs": [
    {
     "data": {
      "text/plain": [
       "858.65"
      ]
     },
     "execution_count": 17,
     "metadata": {},
     "output_type": "execute_result"
    }
   ],
   "source": [
    "numsold = np.minimum(spMod_x.x[0],demand_df.demand) # on each day, how many did we actually sell\n",
    "np.mean(price*numsold - cost*spMod_x.x[0]) # what was the average profit? exactly equal to the objective value!"
   ]
  },
  {
   "cell_type": "code",
   "execution_count": null,
   "metadata": {},
   "outputs": [],
   "source": []
  }
 ],
 "metadata": {
  "kernelspec": {
   "display_name": "Python 3",
   "language": "python",
   "name": "python3"
  },
  "language_info": {
   "codemirror_mode": {
    "name": "ipython",
    "version": 3
   },
   "file_extension": ".py",
   "mimetype": "text/x-python",
   "name": "python",
   "nbconvert_exporter": "python",
   "pygments_lexer": "ipython3",
   "version": "3.8.12"
  }
 },
 "nbformat": 4,
 "nbformat_minor": 2
}
