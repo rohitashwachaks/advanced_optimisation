{
  "cells": [
    {
      "cell_type": "code",
      "execution_count": null,
      "metadata": {
        "id": "0gduH3oF6FW3"
      },
      "outputs": [],
      "source": [
        "import numpy as np"
      ]
    },
    {
      "cell_type": "code",
      "execution_count": null,
      "metadata": {
        "id": "9FSdG5wv6FW4"
      },
      "outputs": [],
      "source": [
        "delta = 0.8 # discount rate\n",
        "T = 3 # time till lease expires"
      ]
    },
    {
      "cell_type": "code",
      "execution_count": null,
      "metadata": {
        "id": "vNjyY6gW6FW5"
      },
      "outputs": [],
      "source": [
        "sValues=10*(2**np.arange(T+1)) # all possible tons of fish\n",
        "tValues = np.arange(T+1) # all possible times\n",
        "\n",
        "sN=len(sValues) # count of possible values\n",
        "tN=len(tValues)"
      ]
    },
    {
      "cell_type": "code",
      "execution_count": null,
      "metadata": {
        "id": "XLUvblJN6FW7"
      },
      "outputs": [],
      "source": [
        "tValues"
      ]
    },
    {
      "cell_type": "code",
      "execution_count": null,
      "metadata": {
        "id": "61QGQlqj6FW9"
      },
      "outputs": [],
      "source": [
        "sValues"
      ]
    },
    {
      "cell_type": "code",
      "execution_count": null,
      "metadata": {
        "id": "xNpGG7_Y6FW-"
      },
      "outputs": [],
      "source": [
        "V = np.zeros((sN,tN)) # value function\n",
        "U = np.zeros((sN,tN)) # place to store optimal decision"
      ]
    },
    {
      "cell_type": "code",
      "execution_count": null,
      "metadata": {
        "id": "hyN3knGm6FW_"
      },
      "outputs": [],
      "source": [
        "# Boundary conditions\n",
        "V[:,tN-1] = 0 # we already have this since V was initialized with zeros...but in other problems this won't be 0..."
      ]
    },
    {
      "cell_type": "code",
      "execution_count": null,
      "metadata": {
        "id": "0ws4I79b6FXA"
      },
      "outputs": [],
      "source": [
        ""
      ]
    },
    {
      "cell_type": "code",
      "execution_count": null,
      "metadata": {
        "id": "PuLmbslI6FXB"
      },
      "outputs": [],
      "source": [
        "for ti in reversed(range(tN-1)): # loop backwards in time\n",
        "    for si in range(ti+1): # at time ti there are only ti+1 possible value of s!!! remember...we index on 0\n",
        "        t = tValues[ti] # grab the actual values of s and t\n",
        "        s = sValues[si]\n",
        "\n",
        "        # value function if we choose not to fish or fish\n",
        "        possible_values = [delta * V[si+1, ti+1],0.7*s + delta * V[si, ti+1]]\n",
        "        V[si, ti] = np.max(possible_values) # optimal value function\n",
        "        U[si, ti] = np.argmax(possible_values) # optimal choice...1 is don't fish, 2 is fish\n",
        "\n",
        "\n",
        "print(V)"
      ]
    },
    {
      "cell_type": "code",
      "execution_count": null,
      "metadata": {
        "id": "PX1oSOpj6FXD"
      },
      "outputs": [],
      "source": [
        "print(U)"
      ]
    },
    {
      "cell_type": "code",
      "source": [
        ""
      ],
      "metadata": {
        "id": "TNlxXXq86Wjf"
      },
      "execution_count": null,
      "outputs": []
    }
  ],
  "metadata": {
    "kernelspec": {
      "display_name": "Python 3",
      "language": "python",
      "name": "python3"
    },
    "language_info": {
      "codemirror_mode": {
        "name": "ipython",
        "version": 3
      },
      "file_extension": ".py",
      "mimetype": "text/x-python",
      "name": "python",
      "nbconvert_exporter": "python",
      "pygments_lexer": "ipython3",
      "version": "3.7.4"
    },
    "colab": {
      "name": "topic3-dp1.ipynb",
      "provenance": [],
      "collapsed_sections": []
    }
  },
  "nbformat": 4,
  "nbformat_minor": 0
}