{
  "cells": [
    {
      "cell_type": "code",
      "execution_count": null,
      "metadata": {
        "id": "7wjscZuVA4IS"
      },
      "outputs": [],
      "source": [
        "import numpy as np"
      ]
    },
    {
      "cell_type": "code",
      "execution_count": null,
      "metadata": {
        "id": "yENH0q37A4IU"
      },
      "outputs": [],
      "source": [
        "price = 1 # price per ton sold\n",
        "M=100 # current tons in mine\n",
        "delta = 0.9 # discount rate\n",
        "T=15 # years with a lease\n",
        "\n",
        "sValues = np.arange(M+1) # all possible levels of ore in mine\n",
        "tValues = np.arange(T+1) # get to mine in years 0-14, in year 15 mine shuts down\n",
        "\n",
        "sN=len(sValues) # how many s and t values are there?\n",
        "tN=len(tValues)\n"
      ]
    },
    {
      "cell_type": "code",
      "execution_count": null,
      "metadata": {
        "id": "CyuP4rB0A4IV"
      },
      "outputs": [],
      "source": [
        "sN"
      ]
    },
    {
      "cell_type": "code",
      "execution_count": null,
      "metadata": {
        "id": "ZAb8ItR3A4IW"
      },
      "outputs": [],
      "source": [
        "tN"
      ]
    },
    {
      "cell_type": "code",
      "execution_count": null,
      "metadata": {
        "id": "zlZEXRuAA4IX"
      },
      "outputs": [],
      "source": [
        "V=np.zeros((sN,tN)) # value function\n",
        "U=np.zeros((sN,tN)) # place to store optimal number of tons to mine"
      ]
    },
    {
      "cell_type": "code",
      "execution_count": null,
      "metadata": {
        "id": "GMRXVQmZA4IY"
      },
      "outputs": [],
      "source": [
        "V[:,tN-1] = 0 # terminal condition value function.. this is a bit redundant because of lines above, but it's worth repeating!\n",
        "U[:,tN-1] = 0 # terminal tons of ore to mine"
      ]
    },
    {
      "cell_type": "code",
      "execution_count": null,
      "metadata": {
        "id": "Z8gTog3HA4IZ"
      },
      "outputs": [],
      "source": [
        "for ti in reversed(range(tN-1)): # loop backwards in time\n",
        "    for si in range(sN): # loop over all possible tons of ore in mine\n",
        "        t=tValues[ti] # what is the actual time and tons in the mine\n",
        "        s=sValues[si] \n",
        "        X = np.arange(s+1) # all possible tons of ore I could mine given this level of ore in the mine\n",
        "        valueChoices = price*X - (X**2)/(1+s) + delta*V[si-X,ti+1] # for each possible decision, what would the value function be?\n",
        "        V[si,ti] = np.max(valueChoices) # pick the one that maximizes that value\n",
        "        U[si,ti] = np.argmax(valueChoices) "
      ]
    },
    {
      "cell_type": "code",
      "execution_count": null,
      "metadata": {
        "id": "D1TyBHp5A4Ia"
      },
      "outputs": [],
      "source": [
        "s=M # at the initial time there are 100 tons of ore\n",
        "for t in range(T):\n",
        "    si=s\n",
        "    print(\"Year: \", t , \", Init Ore: \",s, \", Mine: \", U[si,t],sep='')\n",
        "    s=int(s-U[si,t]) # remove this amount from the mine\n"
      ]
    },
    {
      "cell_type": "code",
      "execution_count": null,
      "metadata": {
        "id": "VAUCLFw9A4Ib"
      },
      "outputs": [],
      "source": [
        ""
      ]
    }
  ],
  "metadata": {
    "kernelspec": {
      "display_name": "Python 3",
      "language": "python",
      "name": "python3"
    },
    "language_info": {
      "codemirror_mode": {
        "name": "ipython",
        "version": 3
      },
      "file_extension": ".py",
      "mimetype": "text/x-python",
      "name": "python",
      "nbconvert_exporter": "python",
      "pygments_lexer": "ipython3",
      "version": "3.7.4"
    },
    "colab": {
      "name": "topic3-dp2.ipynb",
      "provenance": [],
      "collapsed_sections": []
    }
  },
  "nbformat": 4,
  "nbformat_minor": 0
}