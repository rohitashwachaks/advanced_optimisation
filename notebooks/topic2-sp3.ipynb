{
  "cells": [
    {
      "cell_type": "markdown",
      "metadata": {
        "id": "qJ2EULrh6zUF"
      },
      "source": [
        "# Bandit Problems"
      ]
    },
    {
      "cell_type": "code",
      "execution_count": 14,
      "metadata": {
        "id": "nAjbwlQU6zUI"
      },
      "outputs": [],
      "source": [
        "import numpy as np\n",
        "import matplotlib.pyplot as plt\n",
        "from tqdm import tqdm\n",
        "%matplotlib inline"
      ]
    },
    {
      "cell_type": "code",
      "execution_count": 2,
      "metadata": {
        "id": "LRWfhGFg6zUM"
      },
      "outputs": [],
      "source": [
        "# there are 4 slot machines, the means and standard deviations of their payoffs are listed below\n",
        "\n",
        "means = np.array([1,2,3,4])\n",
        "stds = np.array([1,2,3,4])\n",
        "narms = len(means)\n",
        "npull = 500\n",
        "\n"
      ]
    },
    {
      "cell_type": "code",
      "execution_count": 3,
      "metadata": {
        "id": "X7OUH5-q6zUP"
      },
      "outputs": [],
      "source": [
        "# we know what's best: pulling arm 4 repeatedly...let's see what happens if we do this?"
      ]
    },
    {
      "cell_type": "code",
      "execution_count": 6,
      "metadata": {
        "colab": {
          "base_uri": "https://localhost:8080/"
        },
        "id": "vYNSRvgM9Ot9",
        "outputId": "50de4af3-c61c-41a9-8257-1e6046097154"
      },
      "outputs": [
        {
          "data": {
            "image/png": "[encoded data removed]",
            "text/plain": [
              "<Figure size 432x288 with 1 Axes>"
            ]
          },
          "metadata": {
            "needs_background": "light"
          },
          "output_type": "display_data"
        }
      ],
      "source": [
        "nsim = 1000\n",
        "simvec = np.zeros(1000)\n",
        "for sim in range(nsim):\n",
        "    payoffs = np.random.normal(size=npull,loc=4,scale=4)\n",
        "    simvec[sim] = np.sum(payoffs)\n",
        "\n",
        "np.mean(simvec)\n",
        "plt.hist(simvec);"
      ]
    },
    {
      "cell_type": "code",
      "execution_count": null,
      "metadata": {
        "id": "P_l27inG-DH7"
      },
      "outputs": [],
      "source": [
        "# when we don't know the payoff distributions we don't know to pull 4 repeatedly\n",
        "# we must learn which arm is bets\n",
        "# but we shouldn't expect to do better than when we do know the distribution!"
      ]
    },
    {
      "cell_type": "code",
      "execution_count": 8,
      "metadata": {
        "id": "ZeI1r5RE6zUQ"
      },
      "outputs": [],
      "source": [
        "def tot_return_fun_eps_greedy(epsilon,npulls):\n",
        "    avg_so_far = np.zeros(narms)\n",
        "    pulls_per_arm = np.zeros(narms)\n",
        "    tot_return = 0\n",
        "    for pull in range(npulls):\n",
        "        if np.random.random() < epsilon:\n",
        "            this_choice = np.random.choice(narms)\n",
        "        else:\n",
        "            this_choice = np.argmax(avg_so_far)\n",
        "\n",
        "        payout = np.random.normal(loc=means[this_choice],scale = stds[this_choice])\n",
        "        avg_so_far[this_choice] *= pulls_per_arm[this_choice]\n",
        "        avg_so_far[this_choice] += payout\n",
        "        pulls_per_arm[this_choice] += 1\n",
        "        avg_so_far[this_choice] /= pulls_per_arm[this_choice]\n",
        "        tot_return += payout\n",
        "    return tot_return"
      ]
    },
    {
      "cell_type": "code",
      "execution_count": 9,
      "metadata": {
        "colab": {
          "base_uri": "https://localhost:8080/"
        },
        "id": "XPTAuCo96zUS",
        "outputId": "5ac45290-7ffe-4960-f5ec-2621e394e989"
      },
      "outputs": [
        {
          "data": {
            "text/plain": [
              "1734.4824161660624"
            ]
          },
          "execution_count": 9,
          "metadata": {},
          "output_type": "execute_result"
        }
      ],
      "source": [
        "tot_return_fun_eps_greedy(0.1,npull)"
      ]
    },
    {
      "cell_type": "code",
      "execution_count": 10,
      "metadata": {
        "id": "a6bXTccv6zUU"
      },
      "outputs": [],
      "source": [
        "eps_vec = np.array([0.01,0.02,0.05,0.075,0.1,0.15,0.25,0.5])\n",
        "ne = len(eps_vec)\n",
        "nsim = 1000"
      ]
    },
    {
      "cell_type": "code",
      "execution_count": 15,
      "metadata": {
        "id": "zJH1Ks5Y6zUV"
      },
      "outputs": [
        {
          "name": "stderr",
          "output_type": "stream",
          "text": [
            "8it [00:29,  3.71s/it]\n"
          ]
        }
      ],
      "source": [
        "payout_vec = np.zeros(ne)\n",
        "for i,e in enumerate(tqdm(eps_vec)):\n",
        "    # print(i)\n",
        "    simvec = np.zeros(nsim)\n",
        "    for s in range(nsim):\n",
        "        simvec[s] = tot_return_fun_eps_greedy(e,npull)\n",
        "    payout_vec[i] = np.mean(simvec)\n",
        "    \n"
      ]
    },
    {
      "cell_type": "code",
      "execution_count": 12,
      "metadata": {
        "id": "YiB32NDG6zUX"
      },
      "outputs": [
        {
          "data": {
            "image/png": "[encoded data removed]",
            "text/plain": [
              "<Figure size 432x288 with 1 Axes>"
            ]
          },
          "metadata": {
            "needs_background": "light"
          },
          "output_type": "display_data"
        }
      ],
      "source": [
        "plt.plot(eps_vec,payout_vec);"
      ]
    },
    {
      "cell_type": "code",
      "execution_count": 13,
      "metadata": {
        "id": "yl04bAEW6zUY"
      },
      "outputs": [
        {
          "data": {
            "text/plain": [
              "0.15"
            ]
          },
          "execution_count": 13,
          "metadata": {},
          "output_type": "execute_result"
        }
      ],
      "source": [
        "eps_vec[np.argmax(payout_vec)]"
      ]
    },
    {
      "cell_type": "code",
      "execution_count": null,
      "metadata": {
        "id": "vK0leKsN6zUZ"
      },
      "outputs": [],
      "source": []
    },
    {
      "cell_type": "code",
      "execution_count": null,
      "metadata": {
        "id": "TVOVZzmh6zUa"
      },
      "outputs": [],
      "source": []
    },
    {
      "cell_type": "code",
      "execution_count": null,
      "metadata": {
        "id": "9GxuEYC36zUb"
      },
      "outputs": [],
      "source": []
    },
    {
      "cell_type": "code",
      "execution_count": 16,
      "metadata": {
        "id": "S8dk5OAD6zUb"
      },
      "outputs": [],
      "source": [
        "# optimistic\n",
        "def tot_return_fun_optimistic(start,npulls):\n",
        "    avg_so_far = np.ones(narms)*start\n",
        "    pulls_per_arm = np.ones(narms)\n",
        "    tot_return = 0\n",
        "    for pull in range(npulls):\n",
        "        this_choice = np.argmax(avg_so_far)\n",
        "        payout = np.random.normal(loc=means[this_choice],scale = stds[this_choice])\n",
        "        avg_so_far[this_choice] *= pulls_per_arm[this_choice]\n",
        "        avg_so_far[this_choice] += payout\n",
        "        pulls_per_arm[this_choice] += 1\n",
        "        avg_so_far[this_choice] /= pulls_per_arm[this_choice]\n",
        "        tot_return += payout\n",
        "    return tot_return"
      ]
    },
    {
      "cell_type": "code",
      "execution_count": 17,
      "metadata": {
        "id": "hnYWfHpd6zUe"
      },
      "outputs": [
        {
          "data": {
            "text/plain": [
              "1702.8668349441862"
            ]
          },
          "execution_count": 17,
          "metadata": {},
          "output_type": "execute_result"
        }
      ],
      "source": [
        "tot_return_fun_optimistic(40,npull)"
      ]
    },
    {
      "cell_type": "code",
      "execution_count": null,
      "metadata": {
        "id": "chbung9m6zUg"
      },
      "outputs": [],
      "source": []
    },
    {
      "cell_type": "code",
      "execution_count": 38,
      "metadata": {
        "id": "RZrNJLgc6zUh"
      },
      "outputs": [],
      "source": [
        "start_vec = [10,15,20,25,50,100]\n",
        "start_vec = [i for i in range(5,100,5)]\n",
        "ns = len(start_vec)"
      ]
    },
    {
      "cell_type": "code",
      "execution_count": 39,
      "metadata": {
        "id": "Kb1bzPob6zUi"
      },
      "outputs": [
        {
          "name": "stderr",
          "output_type": "stream",
          "text": [
            "100%|██████████| 19/19 [00:55<00:00,  2.91s/it]\n"
          ]
        }
      ],
      "source": [
        "payout_vec_optimistic = np.zeros(ns)\n",
        "for i,e in enumerate(tqdm(start_vec)):\n",
        "    # print(i)\n",
        "    simvec = np.zeros(nsim)\n",
        "    for s in range(nsim):\n",
        "        simvec[s] = tot_return_fun_optimistic(e,npull)\n",
        "    payout_vec_optimistic[i] = np.mean(simvec)"
      ]
    },
    {
      "cell_type": "code",
      "execution_count": 40,
      "metadata": {
        "id": "rT9NoHTo6zUj"
      },
      "outputs": [
        {
          "data": {
            "image/png": "[encoded data removed]",
            "text/plain": [
              "<Figure size 432x288 with 1 Axes>"
            ]
          },
          "metadata": {
            "needs_background": "light"
          },
          "output_type": "display_data"
        }
      ],
      "source": [
        "plt.plot(start_vec,payout_vec_optimistic);"
      ]
    },
    {
      "cell_type": "code",
      "execution_count": 41,
      "metadata": {
        "id": "kWnbVJuW6zUj"
      },
      "outputs": [
        {
          "data": {
            "text/plain": [
              "20"
            ]
          },
          "execution_count": 41,
          "metadata": {},
          "output_type": "execute_result"
        }
      ],
      "source": [
        "start_vec[np.argmax(payout_vec_optimistic)]"
      ]
    },
    {
      "cell_type": "code",
      "execution_count": null,
      "metadata": {
        "id": "T6AHJKZd6zUk"
      },
      "outputs": [],
      "source": []
    },
    {
      "cell_type": "code",
      "execution_count": null,
      "metadata": {
        "id": "aU13vGEEcDt5"
      },
      "outputs": [],
      "source": []
    },
    {
      "cell_type": "markdown",
      "metadata": {
        "id": "LZesPJlPc3LT"
      },
      "source": [
        "## There was a suggestion in class on Tuesday to let the high/low averages determine a probability of choosing which arm to pull; this is called policy gradients.  the book discusses policy gradients in some detail in chapter 2 with some complicated math.  A common and simple variation of this is to just use the softmax function on the running average vector to determine the probabilities of pulling arms!\n",
        "\n",
        "## We'll do something similar when we get to RL"
      ]
    },
    {
      "cell_type": "code",
      "execution_count": 29,
      "metadata": {
        "id": "VVXoFhmmcDiZ"
      },
      "outputs": [],
      "source": [
        "def dans_softmax(vec):\n",
        "    vec -= np.max(vec) # this step is not strictly required but solves some numerical issues when there are large entries\n",
        "    vec = np.exp(vec)\n",
        "    vec /= np.sum(vec)\n",
        "    return vec"
      ]
    },
    {
      "cell_type": "code",
      "execution_count": 30,
      "metadata": {
        "id": "ROb-jQ0GcVcJ"
      },
      "outputs": [],
      "source": [
        "# kinda policy gradients\n",
        "def tot_return_fun_pg(npulls):\n",
        "    avg_so_far = np.zeros(narms)\n",
        "    pulls_per_arm = np.ones(narms)\n",
        "    tot_return = 0\n",
        "    for pull in range(npulls):\n",
        "        this_choice = np.random.choice(narms,p=dans_softmax(avg_so_far))\n",
        "        payout = np.random.normal(loc=means[this_choice],scale = stds[this_choice])\n",
        "        avg_so_far[this_choice] *= pulls_per_arm[this_choice]\n",
        "        avg_so_far[this_choice] += payout\n",
        "        pulls_per_arm[this_choice] += 1\n",
        "        avg_so_far[this_choice] /= pulls_per_arm[this_choice]\n",
        "        tot_return += payout\n",
        "    return tot_return"
      ]
    },
    {
      "cell_type": "code",
      "execution_count": 31,
      "metadata": {
        "colab": {
          "base_uri": "https://localhost:8080/"
        },
        "id": "o9ggwhWHcumM",
        "outputId": "3533704e-8c00-449d-c3be-868cc4ca7914"
      },
      "outputs": [
        {
          "data": {
            "text/plain": [
              "2088.650590747777"
            ]
          },
          "execution_count": 31,
          "metadata": {},
          "output_type": "execute_result"
        }
      ],
      "source": [
        "tot_return_fun_pg(500)"
      ]
    },
    {
      "cell_type": "code",
      "execution_count": 32,
      "metadata": {
        "colab": {
          "base_uri": "https://localhost:8080/"
        },
        "id": "7xYOD8n4dzba",
        "outputId": "7575c94e-d8cb-4315-c099-0d24f85843cc"
      },
      "outputs": [
        {
          "name": "stderr",
          "output_type": "stream",
          "text": [
            "100%|██████████| 1000/1000 [00:18<00:00, 53.89it/s]\n"
          ]
        },
        {
          "data": {
            "text/plain": [
              "1625.811455721774"
            ]
          },
          "execution_count": 32,
          "metadata": {},
          "output_type": "execute_result"
        }
      ],
      "source": [
        "simvec = np.zeros(nsim)\n",
        "for s in tqdm(range(nsim)):\n",
        "    simvec[s] = tot_return_fun_pg(npull)\n",
        "np.mean(simvec)"
      ]
    },
    {
      "cell_type": "code",
      "execution_count": 37,
      "metadata": {
        "id": "R6JliXjHeE2k"
      },
      "outputs": [
        {
          "data": {
            "image/png": "[encoded data removed]",
            "text/plain": [
              "<Figure size 432x288 with 1 Axes>"
            ]
          },
          "metadata": {
            "needs_background": "light"
          },
          "output_type": "display_data"
        }
      ],
      "source": [
        "plt.hist(simvec);"
      ]
    },
    {
      "cell_type": "code",
      "execution_count": null,
      "metadata": {},
      "outputs": [],
      "source": []
    }
  ],
  "metadata": {
    "colab": {
      "collapsed_sections": [],
      "name": "topic2-sp3.ipynb",
      "provenance": []
    },
    "kernelspec": {
      "display_name": "Python 3",
      "language": "python",
      "name": "python3"
    },
    "language_info": {
      "codemirror_mode": {
        "name": "ipython",
        "version": 3
      },
      "file_extension": ".py",
      "mimetype": "text/x-python",
      "name": "python",
      "nbconvert_exporter": "python",
      "pygments_lexer": "ipython3",
      "version": "3.8.12"
    }
  },
  "nbformat": 4,
  "nbformat_minor": 0
}
